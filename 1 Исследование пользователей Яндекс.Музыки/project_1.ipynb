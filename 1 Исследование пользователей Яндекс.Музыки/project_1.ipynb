{
 "cells": [
  {
   "cell_type": "markdown",
   "metadata": {},
   "source": [
    "# **Проект №1. Исследование пользователей Яндекс.Музыки** <a class=\"tocSkip\">"
   ]
  },
  {
   "cell_type": "markdown",
   "metadata": {
    "toc": true
   },
   "source": [
    "<h1>Содержание<span class=\"tocSkip\"></span></h1>\n",
    "<div class=\"toc\"><ul class=\"toc-item\"><li><span><a href=\"#Описание-проекта\" data-toc-modified-id=\"Описание-проекта-1\">Описание проекта</a></span></li><li><span><a href=\"#Импорт-библиотек\" data-toc-modified-id=\"Импорт-библиотек-2\">Импорт библиотек</a></span></li><li><span><a href=\"#Обзор-данных\" data-toc-modified-id=\"Обзор-данных-3\">Обзор данных</a></span><ul class=\"toc-item\"><li><span><a href=\"#Вывод\" data-toc-modified-id=\"Вывод-3.1\">Вывод</a></span></li></ul></li><li><span><a href=\"#Предобработка-данных\" data-toc-modified-id=\"Предобработка-данных-4\">Предобработка данных</a></span><ul class=\"toc-item\"><li><span><a href=\"#Стиль-заголовков\" data-toc-modified-id=\"Стиль-заголовков-4.1\">Стиль заголовков</a></span></li><li><span><a href=\"#Пропуски-значений\" data-toc-modified-id=\"Пропуски-значений-4.2\">Пропуски значений</a></span></li><li><span><a href=\"#Дубликаты\" data-toc-modified-id=\"Дубликаты-4.3\">Дубликаты</a></span></li></ul></li><li><span><a href=\"#Проверка-гипотез\" data-toc-modified-id=\"Проверка-гипотез-5\">Проверка гипотез</a></span><ul class=\"toc-item\"><li><span><a href=\"#Сравнение-поведения-пользователей-двух-столиц\" data-toc-modified-id=\"Сравнение-поведения-пользователей-двух-столиц-5.1\">Сравнение поведения пользователей двух столиц</a></span></li><li><span><a href=\"#Музыка-в-начале-и-в-конце-недели\" data-toc-modified-id=\"Музыка-в-начале-и-в-конце-недели-5.2\">Музыка в начале и в конце недели</a></span></li><li><span><a href=\"#Жанровые-предпочтения-в-Москве-и-Петербурге\" data-toc-modified-id=\"Жанровые-предпочтения-в-Москве-и-Петербурге-5.3\">Жанровые предпочтения в Москве и Петербурге</a></span></li></ul></li><li><span><a href=\"#Итоги-исследования\" data-toc-modified-id=\"Итоги-исследования-6\">Итоги исследования</a></span></li></ul></div>"
   ]
  },
  {
   "cell_type": "markdown",
   "metadata": {},
   "source": [
    "## Описание проекта"
   ]
  },
  {
   "cell_type": "markdown",
   "metadata": {
    "id": "VUC88oWjTJw2"
   },
   "source": [
    "Сравнение Москвы и Петербурга окружено мифами. Например:\n",
    " * Москва — мегаполис, подчинённый жёсткому ритму рабочей недели;\n",
    " * Петербург — культурная столица, со своими вкусами.\n",
    "\n",
    "На данных Яндекс.Музыки мы сравним поведение пользователей двух столиц.\n",
    "\n",
    "**Цель исследования** — проверить три гипотезы:\n",
    "1. Активность пользователей зависит от дня недели. Причём в Москве и Петербурге это проявляется по-разному.\n",
    "2. В понедельник утром в Москве преобладают одни жанры, а в Петербурге — другие. Так же и вечером пятницы преобладают разные жанры — в зависимости от города. \n",
    "3. Москва и Петербург предпочитают разные жанры музыки. В Москве чаще слушают поп-музыку, в Петербурге — русский рэп.\n",
    "\n",
    "**Ход исследования**\n",
    "\n",
    "Данные о поведении пользователей мы получим из файла `yandex_music_project.csv`. О качестве данных ничего не известно. Поэтому перед проверкой гипотез понадобится обзор данных. \n",
    "\n",
    "Мы проверим данные на ошибки и оценим их влияние на исследование. Затем, на этапе предобработки мы поищем возможность исправить самые критичные ошибки данных."
   ]
  },
  {
   "cell_type": "markdown",
   "metadata": {},
   "source": [
    "##  Импорт библиотек"
   ]
  },
  {
   "cell_type": "code",
   "execution_count": 1,
   "metadata": {
    "id": "AXN7PHPN_Zcs"
   },
   "outputs": [],
   "source": [
    "import pandas as pd\n",
    "import matplotlib.pyplot as plt\n",
    "\n",
    "%matplotlib inline\n",
    "%config InlineBackend.figure_format = 'svg' \n",
    "\n",
    "pd.set_option('display.float_format', '{:.2f}'.format)\n",
    "plt.style.use('seaborn-whitegrid')"
   ]
  },
  {
   "cell_type": "markdown",
   "metadata": {
    "id": "Ml1hmfXC_Zcs"
   },
   "source": [
    "## Обзор данных"
   ]
  },
  {
   "cell_type": "code",
   "execution_count": 2,
   "metadata": {},
   "outputs": [],
   "source": [
    "try:\n",
    "    df = pd.read_csv('yandex_music_project.csv')\n",
    "except:\n",
    "    df = pd.read_csv('https://code.s3.yandex.net/datasets/yandex_music_project.csv')"
   ]
  },
  {
   "cell_type": "markdown",
   "metadata": {
    "id": "rDoOMd3uTqnZ"
   },
   "source": [
    "Посмотрим на  первые десять строк таблицы:"
   ]
  },
  {
   "cell_type": "code",
   "execution_count": 3,
   "metadata": {
    "id": "oWTVX3gW_Zct"
   },
   "outputs": [
    {
     "data": {
      "text/html": [
       "<div>\n",
       "<style scoped>\n",
       "    .dataframe tbody tr th:only-of-type {\n",
       "        vertical-align: middle;\n",
       "    }\n",
       "\n",
       "    .dataframe tbody tr th {\n",
       "        vertical-align: top;\n",
       "    }\n",
       "\n",
       "    .dataframe thead th {\n",
       "        text-align: right;\n",
       "    }\n",
       "</style>\n",
       "<table border=\"1\" class=\"dataframe\">\n",
       "  <thead>\n",
       "    <tr style=\"text-align: right;\">\n",
       "      <th></th>\n",
       "      <th>userID</th>\n",
       "      <th>Track</th>\n",
       "      <th>artist</th>\n",
       "      <th>genre</th>\n",
       "      <th>City</th>\n",
       "      <th>time</th>\n",
       "      <th>Day</th>\n",
       "    </tr>\n",
       "  </thead>\n",
       "  <tbody>\n",
       "    <tr>\n",
       "      <th>0</th>\n",
       "      <td>FFB692EC</td>\n",
       "      <td>Kamigata To Boots</td>\n",
       "      <td>The Mass Missile</td>\n",
       "      <td>rock</td>\n",
       "      <td>Saint-Petersburg</td>\n",
       "      <td>20:28:33</td>\n",
       "      <td>Wednesday</td>\n",
       "    </tr>\n",
       "    <tr>\n",
       "      <th>1</th>\n",
       "      <td>55204538</td>\n",
       "      <td>Delayed Because of Accident</td>\n",
       "      <td>Andreas Rönnberg</td>\n",
       "      <td>rock</td>\n",
       "      <td>Moscow</td>\n",
       "      <td>14:07:09</td>\n",
       "      <td>Friday</td>\n",
       "    </tr>\n",
       "    <tr>\n",
       "      <th>2</th>\n",
       "      <td>20EC38</td>\n",
       "      <td>Funiculì funiculà</td>\n",
       "      <td>Mario Lanza</td>\n",
       "      <td>pop</td>\n",
       "      <td>Saint-Petersburg</td>\n",
       "      <td>20:58:07</td>\n",
       "      <td>Wednesday</td>\n",
       "    </tr>\n",
       "    <tr>\n",
       "      <th>3</th>\n",
       "      <td>A3DD03C9</td>\n",
       "      <td>Dragons in the Sunset</td>\n",
       "      <td>Fire + Ice</td>\n",
       "      <td>folk</td>\n",
       "      <td>Saint-Petersburg</td>\n",
       "      <td>08:37:09</td>\n",
       "      <td>Monday</td>\n",
       "    </tr>\n",
       "    <tr>\n",
       "      <th>4</th>\n",
       "      <td>E2DC1FAE</td>\n",
       "      <td>Soul People</td>\n",
       "      <td>Space Echo</td>\n",
       "      <td>dance</td>\n",
       "      <td>Moscow</td>\n",
       "      <td>08:34:34</td>\n",
       "      <td>Monday</td>\n",
       "    </tr>\n",
       "  </tbody>\n",
       "</table>\n",
       "</div>"
      ],
      "text/plain": [
       "     userID                        Track            artist  genre  \\\n",
       "0  FFB692EC            Kamigata To Boots  The Mass Missile   rock   \n",
       "1  55204538  Delayed Because of Accident  Andreas Rönnberg   rock   \n",
       "2    20EC38            Funiculì funiculà       Mario Lanza    pop   \n",
       "3  A3DD03C9        Dragons in the Sunset        Fire + Ice   folk   \n",
       "4  E2DC1FAE                  Soul People        Space Echo  dance   \n",
       "\n",
       "             City        time        Day  \n",
       "0  Saint-Petersburg  20:28:33  Wednesday  \n",
       "1            Moscow  14:07:09     Friday  \n",
       "2  Saint-Petersburg  20:58:07  Wednesday  \n",
       "3  Saint-Petersburg  08:37:09     Monday  \n",
       "4            Moscow  08:34:34     Monday  "
      ]
     },
     "execution_count": 3,
     "metadata": {},
     "output_type": "execute_result"
    }
   ],
   "source": [
    "df.head()"
   ]
  },
  {
   "cell_type": "markdown",
   "metadata": {
    "id": "EO73Kwic_Zct"
   },
   "source": [
    "Получим общую информацию о таблице:"
   ]
  },
  {
   "cell_type": "code",
   "execution_count": 4,
   "metadata": {
    "id": "DSf2kIb-_Zct"
   },
   "outputs": [
    {
     "name": "stdout",
     "output_type": "stream",
     "text": [
      "<class 'pandas.core.frame.DataFrame'>\n",
      "RangeIndex: 65079 entries, 0 to 65078\n",
      "Data columns (total 7 columns):\n",
      " #   Column    Non-Null Count  Dtype \n",
      "---  ------    --------------  ----- \n",
      " 0     userID  65079 non-null  object\n",
      " 1   Track     63848 non-null  object\n",
      " 2   artist    57876 non-null  object\n",
      " 3   genre     63881 non-null  object\n",
      " 4     City    65079 non-null  object\n",
      " 5   time      65079 non-null  object\n",
      " 6   Day       65079 non-null  object\n",
      "dtypes: object(7)\n",
      "memory usage: 3.5+ MB\n"
     ]
    }
   ],
   "source": [
    "df.info()"
   ]
  },
  {
   "cell_type": "markdown",
   "metadata": {
    "id": "TaQ2Iwbr_Zct"
   },
   "source": [
    "Итак, в таблице семь столбцов. Тип данных во всех столбцах — `object`.\n",
    "\n",
    "Согласно документации к данным:\n",
    "* `userID` — идентификатор пользователя;\n",
    "* `Track` — название трека;  \n",
    "* `artist` — имя исполнителя;\n",
    "* `genre` — название жанра;\n",
    "* `City` — город пользователя;\n",
    "* `time` — время начала прослушивания;\n",
    "* `Day` — день недели.\n",
    "\n",
    "В названиях колонок видны три нарушения стиля:\n",
    "1. Строчные буквы сочетаются с прописными.\n",
    "2. Встречаются пробелы.\n",
    "3. Слова не разделены пробелом.\n",
    "\n",
    "Количество значений в столбцах различается. Значит, в данных есть пропущенные значения."
   ]
  },
  {
   "cell_type": "markdown",
   "metadata": {
    "id": "MCB6-dXG_Zct"
   },
   "source": [
    "### Вывод\n",
    "\n",
    "В каждой строке таблицы — данные о прослушанном треке. Часть колонок описывает саму композицию: название, исполнителя и жанр. Остальные данные рассказывают о пользователе: из какого он города, когда он слушал музыку. \n",
    "\n",
    "Предварительно можно утверждать, что, данных достаточно для проверки гипотез. Но встречаются пропуски в данных, а в названиях колонок — расхождения с хорошим стилем."
   ]
  },
  {
   "cell_type": "markdown",
   "metadata": {
    "id": "SjYF6Ub9_Zct"
   },
   "source": [
    "## Предобработка данных"
   ]
  },
  {
   "cell_type": "markdown",
   "metadata": {},
   "source": [
    "Начнем предобработку с заголовков таблицы"
   ]
  },
  {
   "cell_type": "markdown",
   "metadata": {
    "id": "dIaKXr29_Zct"
   },
   "source": [
    "### Стиль заголовков\n",
    "Выведем на экран названия столбцов:"
   ]
  },
  {
   "cell_type": "code",
   "execution_count": 5,
   "metadata": {
    "id": "oKOTdF_Q_Zct"
   },
   "outputs": [
    {
     "data": {
      "text/plain": [
       "Index(['  userID', 'Track', 'artist', 'genre', '  City  ', 'time', 'Day'], dtype='object')"
      ]
     },
     "execution_count": 5,
     "metadata": {},
     "output_type": "execute_result"
    }
   ],
   "source": [
    "df.columns"
   ]
  },
  {
   "cell_type": "markdown",
   "metadata": {
    "id": "zj5534cv_Zct"
   },
   "source": [
    "Переведем названия в стандартный змеиный регистр"
   ]
  },
  {
   "cell_type": "code",
   "execution_count": 6,
   "metadata": {
    "id": "ISlFqs5y_Zct"
   },
   "outputs": [],
   "source": [
    "df = df.rename(columns={'  userID':'user_id', \n",
    "                           'Track':'track', \n",
    "                        '  City  ':'city', \n",
    "                             'Day':'day'})"
   ]
  },
  {
   "cell_type": "markdown",
   "metadata": {
    "id": "1dqbh00J_Zct"
   },
   "source": [
    "Проверим результат. Для этого ещё раз выведите на экран названия столбцов:"
   ]
  },
  {
   "cell_type": "code",
   "execution_count": 7,
   "metadata": {
    "id": "d4NOAmTW_Zct"
   },
   "outputs": [
    {
     "data": {
      "text/plain": [
       "Index(['user_id', 'track', 'artist', 'genre', 'city', 'time', 'day'], dtype='object')"
      ]
     },
     "execution_count": 7,
     "metadata": {},
     "output_type": "execute_result"
    }
   ],
   "source": [
    "df.columns"
   ]
  },
  {
   "cell_type": "markdown",
   "metadata": {
    "id": "5ISfbcfY_Zct"
   },
   "source": [
    "### Пропуски значений\n",
    "Сначала посчитаем, сколько в таблице пропущенных значений:"
   ]
  },
  {
   "cell_type": "code",
   "execution_count": 8,
   "metadata": {
    "id": "RskX29qr_Zct"
   },
   "outputs": [
    {
     "data": {
      "text/plain": [
       "artist     7203\n",
       "track      1231\n",
       "genre      1198\n",
       "user_id       0\n",
       "city          0\n",
       "time          0\n",
       "day           0\n",
       "dtype: int64"
      ]
     },
     "execution_count": 8,
     "metadata": {},
     "output_type": "execute_result"
    }
   ],
   "source": [
    "df.isna().sum().sort_values(ascending=False)"
   ]
  },
  {
   "cell_type": "markdown",
   "metadata": {
    "id": "qubhgnlO_Zct"
   },
   "source": [
    "Не все пропущенные значения влияют на исследование. Так в `track` и `artist` пропуски не важны для вашей работы. Достаточно заменить их явными обозначениями.\n",
    "\n",
    "Но пропуски в `genre` могут помешать сравнению музыкальных вкусов в Москве и Санкт-Петербурге. На практике было бы правильно установить причину пропусков и восстановить данные. Такой возможности нет в учебном проекте. Придётся:\n",
    "* заполнить и эти пропуски явными обозначениями,\n",
    "* оценить, насколько они повредят расчётам. "
   ]
  },
  {
   "cell_type": "markdown",
   "metadata": {
    "id": "fSv2laPA_Zct"
   },
   "source": [
    "Заменим пропущенные значения в столбцах `track`, `artist` и `genre` на строку `'unknown'`. Для этого создадим список `columns_to_replace`, переберем его элементы циклом `for` и для каждого столбца выполните замену пропущенных значений:"
   ]
  },
  {
   "cell_type": "code",
   "execution_count": 9,
   "metadata": {
    "id": "KplB5qWs_Zct"
   },
   "outputs": [],
   "source": [
    "# перебор названий столбцов в цикле и замена пропущенных значений на 'unknown'\n",
    "columns_to_replace = ['track', 'artist', 'genre']\n",
    "for name in columns_to_replace:\n",
    "    df[name] = df[name].fillna('unknown')"
   ]
  },
  {
   "cell_type": "markdown",
   "metadata": {
    "id": "Ilsm-MZo_Zct"
   },
   "source": [
    "Убедимся, что в таблице не осталось пропусков. Для этого ещё раз посчитаем пропущенные значения."
   ]
  },
  {
   "cell_type": "code",
   "execution_count": 10,
   "metadata": {
    "id": "Tq4nYRX4_Zct"
   },
   "outputs": [
    {
     "data": {
      "text/plain": [
       "user_id    0\n",
       "track      0\n",
       "artist     0\n",
       "genre      0\n",
       "city       0\n",
       "time       0\n",
       "day        0\n",
       "dtype: int64"
      ]
     },
     "execution_count": 10,
     "metadata": {},
     "output_type": "execute_result"
    }
   ],
   "source": [
    "df.isna().sum()"
   ]
  },
  {
   "cell_type": "markdown",
   "metadata": {
    "id": "BWKRtBJ3_Zct"
   },
   "source": [
    "### Дубликаты\n",
    "Посчитаем явные дубликаты в таблице одной командой:"
   ]
  },
  {
   "cell_type": "code",
   "execution_count": 11,
   "metadata": {
    "id": "36eES_S0_Zct"
   },
   "outputs": [
    {
     "data": {
      "text/plain": [
       "3826"
      ]
     },
     "execution_count": 11,
     "metadata": {},
     "output_type": "execute_result"
    }
   ],
   "source": [
    "df.duplicated().sum()"
   ]
  },
  {
   "cell_type": "markdown",
   "metadata": {
    "id": "Ot25h6XR_Zct"
   },
   "source": [
    "Вызовем специальный метод `pandas`, чтобы удалить явные дубликаты:"
   ]
  },
  {
   "cell_type": "code",
   "execution_count": 12,
   "metadata": {
    "id": "exFHq6tt_Zct"
   },
   "outputs": [],
   "source": [
    "df = df.drop_duplicates().reset_index(drop=True)"
   ]
  },
  {
   "cell_type": "markdown",
   "metadata": {
    "id": "Im2YwBEG_Zct"
   },
   "source": [
    "Ещё раз посчитаем явные дубликаты в таблице:"
   ]
  },
  {
   "cell_type": "code",
   "execution_count": 13,
   "metadata": {
    "id": "-8PuNWQ0_Zct"
   },
   "outputs": [
    {
     "data": {
      "text/plain": [
       "0"
      ]
     },
     "execution_count": 13,
     "metadata": {},
     "output_type": "execute_result"
    }
   ],
   "source": [
    "# проверка на отсутствие дубликатов\n",
    "df.duplicated().sum()"
   ]
  },
  {
   "cell_type": "markdown",
   "metadata": {
    "id": "QlFBsxAr_Zct"
   },
   "source": [
    "Теперь избавимся от неявных дубликатов в колонке `genre`. Например, название одного и того же жанра может быть записано немного по-разному. Такие ошибки тоже повлияют на результат исследования."
   ]
  },
  {
   "cell_type": "markdown",
   "metadata": {
    "id": "eSjWwsOh_Zct"
   },
   "source": [
    "Выведите на экран список уникальных названий жанров, отсортированный в алфавитном порядке."
   ]
  },
  {
   "cell_type": "code",
   "execution_count": 14,
   "metadata": {
    "id": "JIUcqzZN_Zct"
   },
   "outputs": [
    {
     "data": {
      "text/plain": [
       "array(['acid', 'acoustic', 'action', 'adult', 'africa', 'afrikaans',\n",
       "       'alternative', 'alternativepunk', 'ambient', 'americana',\n",
       "       'animated', 'anime', 'arabesk', 'arabic', 'arena',\n",
       "       'argentinetango', 'art', 'audiobook', 'author', 'avantgarde',\n",
       "       'axé', 'baile', 'balkan', 'beats', 'bigroom', 'black', 'bluegrass',\n",
       "       'blues', 'bollywood', 'bossa', 'brazilian', 'breakbeat', 'breaks',\n",
       "       'broadway', 'cantautori', 'cantopop', 'canzone', 'caribbean',\n",
       "       'caucasian', 'celtic', 'chamber', 'chanson', 'children', 'chill',\n",
       "       'chinese', 'choral', 'christian', 'christmas', 'classical',\n",
       "       'classicmetal', 'club', 'colombian', 'comedy', 'conjazz',\n",
       "       'contemporary', 'country', 'cuban', 'dance', 'dancehall',\n",
       "       'dancepop', 'dark', 'death', 'deep', 'deutschrock', 'deutschspr',\n",
       "       'dirty', 'disco', 'dnb', 'documentary', 'downbeat', 'downtempo',\n",
       "       'drum', 'dub', 'dubstep', 'eastern', 'easy', 'electronic',\n",
       "       'electropop', 'emo', 'entehno', 'epicmetal', 'estrada', 'ethnic',\n",
       "       'eurofolk', 'european', 'experimental', 'extrememetal', 'fado',\n",
       "       'fairytail', 'film', 'fitness', 'flamenco', 'folk', 'folklore',\n",
       "       'folkmetal', 'folkrock', 'folktronica', 'forró', 'frankreich',\n",
       "       'französisch', 'french', 'funk', 'future', 'gangsta', 'garage',\n",
       "       'german', 'ghazal', 'gitarre', 'glitch', 'gospel', 'gothic',\n",
       "       'grime', 'grunge', 'gypsy', 'handsup', \"hard'n'heavy\", 'hardcore',\n",
       "       'hardstyle', 'hardtechno', 'hip', 'hip-hop', 'hiphop',\n",
       "       'historisch', 'holiday', 'hop', 'horror', 'house', 'hymn', 'idm',\n",
       "       'independent', 'indian', 'indie', 'indipop', 'industrial',\n",
       "       'inspirational', 'instrumental', 'international', 'irish', 'jam',\n",
       "       'japanese', 'jazz', 'jewish', 'jpop', 'jungle', 'k-pop',\n",
       "       'karadeniz', 'karaoke', 'kayokyoku', 'korean', 'laiko', 'latin',\n",
       "       'latino', 'leftfield', 'local', 'lounge', 'loungeelectronic',\n",
       "       'lovers', 'malaysian', 'mandopop', 'marschmusik', 'meditative',\n",
       "       'mediterranean', 'melodic', 'metal', 'metalcore', 'mexican',\n",
       "       'middle', 'minimal', 'miscellaneous', 'modern', 'mood', 'mpb',\n",
       "       'muslim', 'native', 'neoklassik', 'neue', 'new', 'newage',\n",
       "       'newwave', 'nu', 'nujazz', 'numetal', 'oceania', 'old', 'opera',\n",
       "       'orchestral', 'other', 'piano', 'podcasts', 'pop', 'popdance',\n",
       "       'popelectronic', 'popeurodance', 'poprussian', 'post',\n",
       "       'posthardcore', 'postrock', 'power', 'progmetal', 'progressive',\n",
       "       'psychedelic', 'punjabi', 'punk', 'quebecois', 'ragga', 'ram',\n",
       "       'rancheras', 'rap', 'rave', 'reggae', 'reggaeton', 'regional',\n",
       "       'relax', 'religious', 'retro', 'rhythm', 'rnb', 'rnr', 'rock',\n",
       "       'rockabilly', 'rockalternative', 'rockindie', 'rockother',\n",
       "       'romance', 'roots', 'ruspop', 'rusrap', 'rusrock', 'russian',\n",
       "       'salsa', 'samba', 'scenic', 'schlager', 'self', 'sertanejo',\n",
       "       'shanson', 'shoegazing', 'showtunes', 'singer', 'ska', 'skarock',\n",
       "       'slow', 'smooth', 'soft', 'soul', 'soulful', 'sound', 'soundtrack',\n",
       "       'southern', 'specialty', 'speech', 'spiritual', 'sport',\n",
       "       'stonerrock', 'surf', 'swing', 'synthpop', 'synthrock',\n",
       "       'sängerportrait', 'tango', 'tanzorchester', 'taraftar', 'tatar',\n",
       "       'tech', 'techno', 'teen', 'thrash', 'top', 'traditional',\n",
       "       'tradjazz', 'trance', 'tribal', 'trip', 'triphop', 'tropical',\n",
       "       'türk', 'türkçe', 'ukrrock', 'unknown', 'urban', 'uzbek',\n",
       "       'variété', 'vi', 'videogame', 'vocal', 'western', 'world',\n",
       "       'worldbeat', 'ïîï', 'электроника'], dtype=object)"
      ]
     },
     "execution_count": 14,
     "metadata": {},
     "output_type": "execute_result"
    }
   ],
   "source": [
    "df['genre'].sort_values().unique()"
   ]
  },
  {
   "cell_type": "markdown",
   "metadata": {
    "id": "qej-Qmuo_Zct"
   },
   "source": [
    "Просмотрим список и найдем неявные дубликаты названия `hiphop`. Это могут быть названия с ошибками или альтернативные названия того же жанра.\n",
    "\n",
    "Мы можем увидеть следующие неявные дубликаты:\n",
    "* *hip*,\n",
    "* *hop*,\n",
    "* *hip-hop*.\n",
    "\n",
    "Чтобы очистить от них таблицу, напишем функцию `replace_wrong_genres()` с двумя параметрами: \n",
    "* `wrong_genres` — список дубликатов,\n",
    "* `correct_genre` — строка с правильным значением.\n",
    "\n",
    "Функция должна исправить колонку `genre` в таблице `df`: заменить каждое значение из списка `wrong_genres` на значение из `correct_genre`."
   ]
  },
  {
   "cell_type": "code",
   "execution_count": 15,
   "metadata": {
    "id": "ErNDkmns_Zct"
   },
   "outputs": [],
   "source": [
    "# Функция для замены неявных дубликатов\n",
    "def replace_wrong_genres(wrong_genres, correct_genre):\n",
    "    for elem in wrong_genres:\n",
    "        wrong_name_count = df[df['genre']==elem]['genre'].count() \n",
    "        print(f'Начальное число {elem} в таблице {wrong_name_count}') \n",
    "        df['genre'] = df['genre'].replace(elem, correct_genre)                  \n",
    "        wrong_name_count = df[df['genre']==elem]['genre'].count()\n",
    "        print(f'Число {elem} в таблице после обработки: {wrong_name_count}', end='\\n\\n')"
   ]
  },
  {
   "cell_type": "markdown",
   "metadata": {
    "id": "aDoBJxbA_Zct"
   },
   "source": [
    "Вызовем `replace_wrong_genres()` и передадим ей такие аргументы, чтобы она устранила неявные дубликаты: вместо `hip`, `hop` и `hip-hop` в таблице должно быть значение `hiphop`:"
   ]
  },
  {
   "cell_type": "code",
   "execution_count": 16,
   "metadata": {
    "id": "YN5i2hpmSo09"
   },
   "outputs": [
    {
     "name": "stdout",
     "output_type": "stream",
     "text": [
      "Начальное число hip в таблице 2975\n",
      "Число hip в таблице после обработки: 0\n",
      "\n",
      "Начальное число hop в таблице 1\n",
      "Число hop в таблице после обработки: 0\n",
      "\n",
      "Начальное число hip-hop в таблице 1\n",
      "Число hip-hop в таблице после обработки: 0\n",
      "\n"
     ]
    }
   ],
   "source": [
    "wrong_genres_list = ['hip', 'hop', 'hip-hop']\n",
    "replace_wrong_genres (wrong_genres_list, 'hiphop') "
   ]
  },
  {
   "cell_type": "markdown",
   "metadata": {
    "id": "zQKF16_RG15m"
   },
   "source": [
    "Проверим, что заменили неправильные названия:\n",
    "\n",
    "*   hip\n",
    "*   hop\n",
    "*   hip-hop\n",
    "\n",
    "Выведем отсортированный список уникальных значений столбца `genre`:"
   ]
  },
  {
   "cell_type": "code",
   "execution_count": 17,
   "metadata": {
    "id": "wvixALnFG15m"
   },
   "outputs": [
    {
     "data": {
      "text/plain": [
       "array(['acid', 'acoustic', 'action', 'adult', 'africa', 'afrikaans',\n",
       "       'alternative', 'alternativepunk', 'ambient', 'americana',\n",
       "       'animated', 'anime', 'arabesk', 'arabic', 'arena',\n",
       "       'argentinetango', 'art', 'audiobook', 'author', 'avantgarde',\n",
       "       'axé', 'baile', 'balkan', 'beats', 'bigroom', 'black', 'bluegrass',\n",
       "       'blues', 'bollywood', 'bossa', 'brazilian', 'breakbeat', 'breaks',\n",
       "       'broadway', 'cantautori', 'cantopop', 'canzone', 'caribbean',\n",
       "       'caucasian', 'celtic', 'chamber', 'chanson', 'children', 'chill',\n",
       "       'chinese', 'choral', 'christian', 'christmas', 'classical',\n",
       "       'classicmetal', 'club', 'colombian', 'comedy', 'conjazz',\n",
       "       'contemporary', 'country', 'cuban', 'dance', 'dancehall',\n",
       "       'dancepop', 'dark', 'death', 'deep', 'deutschrock', 'deutschspr',\n",
       "       'dirty', 'disco', 'dnb', 'documentary', 'downbeat', 'downtempo',\n",
       "       'drum', 'dub', 'dubstep', 'eastern', 'easy', 'electronic',\n",
       "       'electropop', 'emo', 'entehno', 'epicmetal', 'estrada', 'ethnic',\n",
       "       'eurofolk', 'european', 'experimental', 'extrememetal', 'fado',\n",
       "       'fairytail', 'film', 'fitness', 'flamenco', 'folk', 'folklore',\n",
       "       'folkmetal', 'folkrock', 'folktronica', 'forró', 'frankreich',\n",
       "       'französisch', 'french', 'funk', 'future', 'gangsta', 'garage',\n",
       "       'german', 'ghazal', 'gitarre', 'glitch', 'gospel', 'gothic',\n",
       "       'grime', 'grunge', 'gypsy', 'handsup', \"hard'n'heavy\", 'hardcore',\n",
       "       'hardstyle', 'hardtechno', 'hiphop', 'historisch', 'holiday',\n",
       "       'horror', 'house', 'hymn', 'idm', 'independent', 'indian', 'indie',\n",
       "       'indipop', 'industrial', 'inspirational', 'instrumental',\n",
       "       'international', 'irish', 'jam', 'japanese', 'jazz', 'jewish',\n",
       "       'jpop', 'jungle', 'k-pop', 'karadeniz', 'karaoke', 'kayokyoku',\n",
       "       'korean', 'laiko', 'latin', 'latino', 'leftfield', 'local',\n",
       "       'lounge', 'loungeelectronic', 'lovers', 'malaysian', 'mandopop',\n",
       "       'marschmusik', 'meditative', 'mediterranean', 'melodic', 'metal',\n",
       "       'metalcore', 'mexican', 'middle', 'minimal', 'miscellaneous',\n",
       "       'modern', 'mood', 'mpb', 'muslim', 'native', 'neoklassik', 'neue',\n",
       "       'new', 'newage', 'newwave', 'nu', 'nujazz', 'numetal', 'oceania',\n",
       "       'old', 'opera', 'orchestral', 'other', 'piano', 'podcasts', 'pop',\n",
       "       'popdance', 'popelectronic', 'popeurodance', 'poprussian', 'post',\n",
       "       'posthardcore', 'postrock', 'power', 'progmetal', 'progressive',\n",
       "       'psychedelic', 'punjabi', 'punk', 'quebecois', 'ragga', 'ram',\n",
       "       'rancheras', 'rap', 'rave', 'reggae', 'reggaeton', 'regional',\n",
       "       'relax', 'religious', 'retro', 'rhythm', 'rnb', 'rnr', 'rock',\n",
       "       'rockabilly', 'rockalternative', 'rockindie', 'rockother',\n",
       "       'romance', 'roots', 'ruspop', 'rusrap', 'rusrock', 'russian',\n",
       "       'salsa', 'samba', 'scenic', 'schlager', 'self', 'sertanejo',\n",
       "       'shanson', 'shoegazing', 'showtunes', 'singer', 'ska', 'skarock',\n",
       "       'slow', 'smooth', 'soft', 'soul', 'soulful', 'sound', 'soundtrack',\n",
       "       'southern', 'specialty', 'speech', 'spiritual', 'sport',\n",
       "       'stonerrock', 'surf', 'swing', 'synthpop', 'synthrock',\n",
       "       'sängerportrait', 'tango', 'tanzorchester', 'taraftar', 'tatar',\n",
       "       'tech', 'techno', 'teen', 'thrash', 'top', 'traditional',\n",
       "       'tradjazz', 'trance', 'tribal', 'trip', 'triphop', 'tropical',\n",
       "       'türk', 'türkçe', 'ukrrock', 'unknown', 'urban', 'uzbek',\n",
       "       'variété', 'vi', 'videogame', 'vocal', 'western', 'world',\n",
       "       'worldbeat', 'ïîï', 'электроника'], dtype=object)"
      ]
     },
     "execution_count": 17,
     "metadata": {},
     "output_type": "execute_result"
    }
   ],
   "source": [
    "# Проверка на неявные дубликаты\n",
    "df['genre'].sort_values().unique()"
   ]
  },
  {
   "cell_type": "markdown",
   "metadata": {
    "id": "jz6a9-7HQUDd"
   },
   "source": [
    "**Выводы**\n",
    "\n",
    "Предобработка обнаружила три проблемы в данных:\n",
    "\n",
    "- нарушения в стиле заголовков,\n",
    "- пропущенные значения,\n",
    "- дубликаты — явные и неявные.\n",
    "\n",
    "Мы исправили заголовки, чтобы упростить работу с таблицей. Без дубликатов исследование станет более точным.\n",
    "\n",
    "Пропущенные значения мы заменили на `'unknown'`. Ещё предстоит увидеть, не повредят ли исследованию пропуски в колонке `genre`.\n",
    "\n",
    "Теперь можно перейти к проверке гипотез. "
   ]
  },
  {
   "cell_type": "markdown",
   "metadata": {
    "id": "WttZHXH0SqKk"
   },
   "source": [
    "## Проверка гипотез"
   ]
  },
  {
   "cell_type": "markdown",
   "metadata": {
    "id": "Im936VVi_Zcu"
   },
   "source": [
    "### Сравнение поведения пользователей двух столиц"
   ]
  },
  {
   "cell_type": "markdown",
   "metadata": {
    "id": "nwt_MuaL_Zcu"
   },
   "source": [
    "Первая гипотеза утверждает, что пользователи по-разному слушают музыку в Москве и Санкт-Петербурге. Проверим это предположение по данным о трёх днях недели — понедельнике, среде и пятнице. Для этого:\n",
    "\n",
    "* Разделим пользователей Москвы и Санкт-Петербурга\n",
    "* Сравним, сколько треков послушала каждая группа пользователей в понедельник, среду и пятницу.\n"
   ]
  },
  {
   "cell_type": "markdown",
   "metadata": {
    "id": "8Dw_YMmT_Zcu"
   },
   "source": [
    "Для тренировки сначала выполним каждый из расчётов по отдельности. \n",
    "\n",
    "Оценим активность пользователей в каждом городе. Сгруппируем данные по городу и посчитаем прослушивания в каждой группе."
   ]
  },
  {
   "cell_type": "code",
   "execution_count": 18,
   "metadata": {
    "id": "0_Qs96oh_Zcu"
   },
   "outputs": [
    {
     "data": {
      "text/plain": [
       "city\n",
       "Moscow              42741\n",
       "Saint-Petersburg    18512\n",
       "Name: track, dtype: int64"
      ]
     },
     "execution_count": 18,
     "metadata": {},
     "output_type": "execute_result"
    }
   ],
   "source": [
    "# Подсчёт прослушиваний в каждом городе\n",
    "df.groupby('city')['track'].count()"
   ]
  },
  {
   "cell_type": "markdown",
   "metadata": {
    "id": "dzli3w8o_Zcu"
   },
   "source": [
    "В Москве прослушиваний больше, чем в Петербурге. Из этого не следует, что московские пользователи чаще слушают музыку. Просто самих пользователей в Москве больше."
   ]
  },
  {
   "cell_type": "code",
   "execution_count": 19,
   "metadata": {},
   "outputs": [
    {
     "data": {
      "text/plain": [
       "city\n",
       "Moscow              29358\n",
       "Saint-Petersburg    12423\n",
       "Name: user_id, dtype: int64"
      ]
     },
     "execution_count": 19,
     "metadata": {},
     "output_type": "execute_result"
    }
   ],
   "source": [
    "# Проверка числа пользователей\n",
    "df.groupby('city')['user_id'].nunique()"
   ]
  },
  {
   "cell_type": "markdown",
   "metadata": {},
   "source": [
    "Для лучшего представления о пользователях лучше вычислить среднее число прослушанных треков на 1 человека"
   ]
  },
  {
   "cell_type": "code",
   "execution_count": 20,
   "metadata": {},
   "outputs": [
    {
     "data": {
      "text/plain": [
       "city\n",
       "Moscow             1.46\n",
       "Saint-Petersburg   1.49\n",
       "dtype: float64"
      ]
     },
     "execution_count": 20,
     "metadata": {},
     "output_type": "execute_result"
    }
   ],
   "source": [
    "df.groupby('city')['track'].count() / df.groupby('city')['user_id'].nunique()"
   ]
  },
  {
   "cell_type": "markdown",
   "metadata": {},
   "source": [
    "Дополнительные 2 ячейки кода более наглядно показывают отношение числа пользователей, что дает лучшее понимание данных, а так же можно сделать вывод, что пользователи из разных городов в среднем одинаково активны при прослушивании музыки через сервис Яндекс.Музыка."
   ]
  },
  {
   "cell_type": "markdown",
   "metadata": {
    "id": "dzli3w8o_Zcu"
   },
   "source": [
    "Теперь сгруппируем данные по дню недели и подсчитайте прослушивания в понедельник, среду и пятницу. При этом учитывая, что в данных есть информация только о прослушиваниях только за эти дни."
   ]
  },
  {
   "cell_type": "code",
   "execution_count": 21,
   "metadata": {},
   "outputs": [
    {
     "name": "stdout",
     "output_type": "stream",
     "text": [
      "<class 'pandas.core.frame.DataFrame'>\n",
      "RangeIndex: 61253 entries, 0 to 61252\n",
      "Data columns (total 7 columns):\n",
      " #   Column   Non-Null Count  Dtype \n",
      "---  ------   --------------  ----- \n",
      " 0   user_id  61253 non-null  object\n",
      " 1   track    61253 non-null  object\n",
      " 2   artist   61253 non-null  object\n",
      " 3   genre    61253 non-null  object\n",
      " 4   city     61253 non-null  object\n",
      " 5   time     61253 non-null  object\n",
      " 6   day      61253 non-null  object\n",
      "dtypes: object(7)\n",
      "memory usage: 3.3+ MB\n"
     ]
    }
   ],
   "source": [
    "df.info()"
   ]
  },
  {
   "cell_type": "code",
   "execution_count": 22,
   "metadata": {
    "id": "uZMKjiJz_Zcu"
   },
   "outputs": [
    {
     "name": "stdout",
     "output_type": "stream",
     "text": [
      "city              day      \n",
      "Moscow            Friday       15945\n",
      "                  Monday       15740\n",
      "                  Wednesday    11056\n",
      "Saint-Petersburg  Friday        5895\n",
      "                  Monday        5614\n",
      "                  Wednesday     7003\n",
      "Name: user_id, dtype: int64\n"
     ]
    },
    {
     "data": {
      "image/svg+xml": [
       "<?xml version=\"1.0\" encoding=\"utf-8\" standalone=\"no\"?>\n",
       "<!DOCTYPE svg PUBLIC \"-//W3C//DTD SVG 1.1//EN\"\n",
       "  \"http://www.w3.org/Graphics/SVG/1.1/DTD/svg11.dtd\">\n",
       "<svg xmlns:xlink=\"http://www.w3.org/1999/xlink\" width=\"405.329687pt\" height=\"272.36625pt\" viewBox=\"0 0 405.329687 272.36625\" xmlns=\"http://www.w3.org/2000/svg\" version=\"1.1\">\n",
       " <metadata>\n",
       "  <rdf:RDF xmlns:dc=\"http://purl.org/dc/elements/1.1/\" xmlns:cc=\"http://creativecommons.org/ns#\" xmlns:rdf=\"http://www.w3.org/1999/02/22-rdf-syntax-ns#\">\n",
       "   <cc:Work>\n",
       "    <dc:type rdf:resource=\"http://purl.org/dc/dcmitype/StillImage\"/>\n",
       "    <dc:date>2022-04-21T16:33:28.328983</dc:date>\n",
       "    <dc:format>image/svg+xml</dc:format>\n",
       "    <dc:creator>\n",
       "     <cc:Agent>\n",
       "      <dc:title>Matplotlib v3.5.1, https://matplotlib.org/</dc:title>\n",
       "     </cc:Agent>\n",
       "    </dc:creator>\n",
       "   </cc:Work>\n",
       "  </rdf:RDF>\n",
       " </metadata>\n",
       " <defs>\n",
       "  <style type=\"text/css\">*{stroke-linejoin: round; stroke-linecap: butt}</style>\n",
       " </defs>\n",
       " <g id=\"figure_1\">\n",
       "  <g id=\"patch_1\">\n",
       "   <path d=\"M 0 272.36625 \n",
       "L 405.329687 272.36625 \n",
       "L 405.329687 0 \n",
       "L 0 0 \n",
       "z\n",
       "\" style=\"fill: #ffffff\"/>\n",
       "  </g>\n",
       "  <g id=\"axes_1\">\n",
       "   <g id=\"patch_2\">\n",
       "    <path d=\"M 63.329688 239.375625 \n",
       "L 398.129687 239.375625 \n",
       "L 398.129687 21.935625 \n",
       "L 63.329688 21.935625 \n",
       "z\n",
       "\" style=\"fill: #ffffff\"/>\n",
       "   </g>\n",
       "   <g id=\"matplotlib.axis_1\">\n",
       "    <g id=\"xtick_1\">\n",
       "     <g id=\"line2d_1\">\n",
       "      <path d=\"M 63.329688 239.375625 \n",
       "L 63.329688 21.935625 \n",
       "\" clip-path=\"url(#p4f3087f11f)\" style=\"fill: none; stroke: #cccccc; stroke-width: 0.8; stroke-linecap: round\"/>\n",
       "     </g>\n",
       "     <g id=\"line2d_2\"/>\n",
       "     <g id=\"text_1\">\n",
       "      <!-- 0 -->\n",
       "      <g style=\"fill: #262626\" transform=\"translate(60.549219 250.033438)scale(0.1 -0.1)\">\n",
       "       <defs>\n",
       "        <path id=\"ArialMT-30\" d=\"M 266 2259 \n",
       "Q 266 3072 433 3567 \n",
       "Q 600 4063 929 4331 \n",
       "Q 1259 4600 1759 4600 \n",
       "Q 2128 4600 2406 4451 \n",
       "Q 2684 4303 2865 4023 \n",
       "Q 3047 3744 3150 3342 \n",
       "Q 3253 2941 3253 2259 \n",
       "Q 3253 1453 3087 958 \n",
       "Q 2922 463 2592 192 \n",
       "Q 2263 -78 1759 -78 \n",
       "Q 1097 -78 719 397 \n",
       "Q 266 969 266 2259 \n",
       "z\n",
       "M 844 2259 \n",
       "Q 844 1131 1108 757 \n",
       "Q 1372 384 1759 384 \n",
       "Q 2147 384 2411 759 \n",
       "Q 2675 1134 2675 2259 \n",
       "Q 2675 3391 2411 3762 \n",
       "Q 2147 4134 1753 4134 \n",
       "Q 1366 4134 1134 3806 \n",
       "Q 844 3388 844 2259 \n",
       "z\n",
       "\" transform=\"scale(0.015625)\"/>\n",
       "       </defs>\n",
       "       <use xlink:href=\"#ArialMT-30\"/>\n",
       "      </g>\n",
       "     </g>\n",
       "    </g>\n",
       "    <g id=\"xtick_2\">\n",
       "     <g id=\"line2d_3\">\n",
       "      <path d=\"M 108.861194 239.375625 \n",
       "L 108.861194 21.935625 \n",
       "\" clip-path=\"url(#p4f3087f11f)\" style=\"fill: none; stroke: #cccccc; stroke-width: 0.8; stroke-linecap: round\"/>\n",
       "     </g>\n",
       "     <g id=\"line2d_4\"/>\n",
       "     <g id=\"text_2\">\n",
       "      <!-- 1000 -->\n",
       "      <g style=\"fill: #262626\" transform=\"translate(97.739319 250.033438)scale(0.1 -0.1)\">\n",
       "       <defs>\n",
       "        <path id=\"ArialMT-31\" d=\"M 2384 0 \n",
       "L 1822 0 \n",
       "L 1822 3584 \n",
       "Q 1619 3391 1289 3197 \n",
       "Q 959 3003 697 2906 \n",
       "L 697 3450 \n",
       "Q 1169 3672 1522 3987 \n",
       "Q 1875 4303 2022 4600 \n",
       "L 2384 4600 \n",
       "L 2384 0 \n",
       "z\n",
       "\" transform=\"scale(0.015625)\"/>\n",
       "       </defs>\n",
       "       <use xlink:href=\"#ArialMT-31\"/>\n",
       "       <use xlink:href=\"#ArialMT-30\" x=\"55.615234\"/>\n",
       "       <use xlink:href=\"#ArialMT-30\" x=\"111.230469\"/>\n",
       "       <use xlink:href=\"#ArialMT-30\" x=\"166.845703\"/>\n",
       "      </g>\n",
       "     </g>\n",
       "    </g>\n",
       "    <g id=\"xtick_3\">\n",
       "     <g id=\"line2d_5\">\n",
       "      <path d=\"M 154.392701 239.375625 \n",
       "L 154.392701 21.935625 \n",
       "\" clip-path=\"url(#p4f3087f11f)\" style=\"fill: none; stroke: #cccccc; stroke-width: 0.8; stroke-linecap: round\"/>\n",
       "     </g>\n",
       "     <g id=\"line2d_6\"/>\n",
       "     <g id=\"text_3\">\n",
       "      <!-- 2000 -->\n",
       "      <g style=\"fill: #262626\" transform=\"translate(143.270826 250.033438)scale(0.1 -0.1)\">\n",
       "       <defs>\n",
       "        <path id=\"ArialMT-32\" d=\"M 3222 541 \n",
       "L 3222 0 \n",
       "L 194 0 \n",
       "Q 188 203 259 391 \n",
       "Q 375 700 629 1000 \n",
       "Q 884 1300 1366 1694 \n",
       "Q 2113 2306 2375 2664 \n",
       "Q 2638 3022 2638 3341 \n",
       "Q 2638 3675 2398 3904 \n",
       "Q 2159 4134 1775 4134 \n",
       "Q 1369 4134 1125 3890 \n",
       "Q 881 3647 878 3216 \n",
       "L 300 3275 \n",
       "Q 359 3922 746 4261 \n",
       "Q 1134 4600 1788 4600 \n",
       "Q 2447 4600 2831 4234 \n",
       "Q 3216 3869 3216 3328 \n",
       "Q 3216 3053 3103 2787 \n",
       "Q 2991 2522 2730 2228 \n",
       "Q 2469 1934 1863 1422 \n",
       "Q 1356 997 1212 845 \n",
       "Q 1069 694 975 541 \n",
       "L 3222 541 \n",
       "z\n",
       "\" transform=\"scale(0.015625)\"/>\n",
       "       </defs>\n",
       "       <use xlink:href=\"#ArialMT-32\"/>\n",
       "       <use xlink:href=\"#ArialMT-30\" x=\"55.615234\"/>\n",
       "       <use xlink:href=\"#ArialMT-30\" x=\"111.230469\"/>\n",
       "       <use xlink:href=\"#ArialMT-30\" x=\"166.845703\"/>\n",
       "      </g>\n",
       "     </g>\n",
       "    </g>\n",
       "    <g id=\"xtick_4\">\n",
       "     <g id=\"line2d_7\">\n",
       "      <path d=\"M 199.924208 239.375625 \n",
       "L 199.924208 21.935625 \n",
       "\" clip-path=\"url(#p4f3087f11f)\" style=\"fill: none; stroke: #cccccc; stroke-width: 0.8; stroke-linecap: round\"/>\n",
       "     </g>\n",
       "     <g id=\"line2d_8\"/>\n",
       "     <g id=\"text_4\">\n",
       "      <!-- 3000 -->\n",
       "      <g style=\"fill: #262626\" transform=\"translate(188.802333 250.033438)scale(0.1 -0.1)\">\n",
       "       <defs>\n",
       "        <path id=\"ArialMT-33\" d=\"M 269 1209 \n",
       "L 831 1284 \n",
       "Q 928 806 1161 595 \n",
       "Q 1394 384 1728 384 \n",
       "Q 2125 384 2398 659 \n",
       "Q 2672 934 2672 1341 \n",
       "Q 2672 1728 2419 1979 \n",
       "Q 2166 2231 1775 2231 \n",
       "Q 1616 2231 1378 2169 \n",
       "L 1441 2663 \n",
       "Q 1497 2656 1531 2656 \n",
       "Q 1891 2656 2178 2843 \n",
       "Q 2466 3031 2466 3422 \n",
       "Q 2466 3731 2256 3934 \n",
       "Q 2047 4138 1716 4138 \n",
       "Q 1388 4138 1169 3931 \n",
       "Q 950 3725 888 3313 \n",
       "L 325 3413 \n",
       "Q 428 3978 793 4289 \n",
       "Q 1159 4600 1703 4600 \n",
       "Q 2078 4600 2393 4439 \n",
       "Q 2709 4278 2876 4000 \n",
       "Q 3044 3722 3044 3409 \n",
       "Q 3044 3113 2884 2869 \n",
       "Q 2725 2625 2413 2481 \n",
       "Q 2819 2388 3044 2092 \n",
       "Q 3269 1797 3269 1353 \n",
       "Q 3269 753 2831 336 \n",
       "Q 2394 -81 1725 -81 \n",
       "Q 1122 -81 723 278 \n",
       "Q 325 638 269 1209 \n",
       "z\n",
       "\" transform=\"scale(0.015625)\"/>\n",
       "       </defs>\n",
       "       <use xlink:href=\"#ArialMT-33\"/>\n",
       "       <use xlink:href=\"#ArialMT-30\" x=\"55.615234\"/>\n",
       "       <use xlink:href=\"#ArialMT-30\" x=\"111.230469\"/>\n",
       "       <use xlink:href=\"#ArialMT-30\" x=\"166.845703\"/>\n",
       "      </g>\n",
       "     </g>\n",
       "    </g>\n",
       "    <g id=\"xtick_5\">\n",
       "     <g id=\"line2d_9\">\n",
       "      <path d=\"M 245.455715 239.375625 \n",
       "L 245.455715 21.935625 \n",
       "\" clip-path=\"url(#p4f3087f11f)\" style=\"fill: none; stroke: #cccccc; stroke-width: 0.8; stroke-linecap: round\"/>\n",
       "     </g>\n",
       "     <g id=\"line2d_10\"/>\n",
       "     <g id=\"text_5\">\n",
       "      <!-- 4000 -->\n",
       "      <g style=\"fill: #262626\" transform=\"translate(234.33384 250.033438)scale(0.1 -0.1)\">\n",
       "       <defs>\n",
       "        <path id=\"ArialMT-34\" d=\"M 2069 0 \n",
       "L 2069 1097 \n",
       "L 81 1097 \n",
       "L 81 1613 \n",
       "L 2172 4581 \n",
       "L 2631 4581 \n",
       "L 2631 1613 \n",
       "L 3250 1613 \n",
       "L 3250 1097 \n",
       "L 2631 1097 \n",
       "L 2631 0 \n",
       "L 2069 0 \n",
       "z\n",
       "M 2069 1613 \n",
       "L 2069 3678 \n",
       "L 634 1613 \n",
       "L 2069 1613 \n",
       "z\n",
       "\" transform=\"scale(0.015625)\"/>\n",
       "       </defs>\n",
       "       <use xlink:href=\"#ArialMT-34\"/>\n",
       "       <use xlink:href=\"#ArialMT-30\" x=\"55.615234\"/>\n",
       "       <use xlink:href=\"#ArialMT-30\" x=\"111.230469\"/>\n",
       "       <use xlink:href=\"#ArialMT-30\" x=\"166.845703\"/>\n",
       "      </g>\n",
       "     </g>\n",
       "    </g>\n",
       "    <g id=\"xtick_6\">\n",
       "     <g id=\"line2d_11\">\n",
       "      <path d=\"M 290.987222 239.375625 \n",
       "L 290.987222 21.935625 \n",
       "\" clip-path=\"url(#p4f3087f11f)\" style=\"fill: none; stroke: #cccccc; stroke-width: 0.8; stroke-linecap: round\"/>\n",
       "     </g>\n",
       "     <g id=\"line2d_12\"/>\n",
       "     <g id=\"text_6\">\n",
       "      <!-- 5000 -->\n",
       "      <g style=\"fill: #262626\" transform=\"translate(279.865347 250.033438)scale(0.1 -0.1)\">\n",
       "       <defs>\n",
       "        <path id=\"ArialMT-35\" d=\"M 266 1200 \n",
       "L 856 1250 \n",
       "Q 922 819 1161 601 \n",
       "Q 1400 384 1738 384 \n",
       "Q 2144 384 2425 690 \n",
       "Q 2706 997 2706 1503 \n",
       "Q 2706 1984 2436 2262 \n",
       "Q 2166 2541 1728 2541 \n",
       "Q 1456 2541 1237 2417 \n",
       "Q 1019 2294 894 2097 \n",
       "L 366 2166 \n",
       "L 809 4519 \n",
       "L 3088 4519 \n",
       "L 3088 3981 \n",
       "L 1259 3981 \n",
       "L 1013 2750 \n",
       "Q 1425 3038 1878 3038 \n",
       "Q 2478 3038 2890 2622 \n",
       "Q 3303 2206 3303 1553 \n",
       "Q 3303 931 2941 478 \n",
       "Q 2500 -78 1738 -78 \n",
       "Q 1113 -78 717 272 \n",
       "Q 322 622 266 1200 \n",
       "z\n",
       "\" transform=\"scale(0.015625)\"/>\n",
       "       </defs>\n",
       "       <use xlink:href=\"#ArialMT-35\"/>\n",
       "       <use xlink:href=\"#ArialMT-30\" x=\"55.615234\"/>\n",
       "       <use xlink:href=\"#ArialMT-30\" x=\"111.230469\"/>\n",
       "       <use xlink:href=\"#ArialMT-30\" x=\"166.845703\"/>\n",
       "      </g>\n",
       "     </g>\n",
       "    </g>\n",
       "    <g id=\"xtick_7\">\n",
       "     <g id=\"line2d_13\">\n",
       "      <path d=\"M 336.518729 239.375625 \n",
       "L 336.518729 21.935625 \n",
       "\" clip-path=\"url(#p4f3087f11f)\" style=\"fill: none; stroke: #cccccc; stroke-width: 0.8; stroke-linecap: round\"/>\n",
       "     </g>\n",
       "     <g id=\"line2d_14\"/>\n",
       "     <g id=\"text_7\">\n",
       "      <!-- 6000 -->\n",
       "      <g style=\"fill: #262626\" transform=\"translate(325.396854 250.033438)scale(0.1 -0.1)\">\n",
       "       <defs>\n",
       "        <path id=\"ArialMT-36\" d=\"M 3184 3459 \n",
       "L 2625 3416 \n",
       "Q 2550 3747 2413 3897 \n",
       "Q 2184 4138 1850 4138 \n",
       "Q 1581 4138 1378 3988 \n",
       "Q 1113 3794 959 3422 \n",
       "Q 806 3050 800 2363 \n",
       "Q 1003 2672 1297 2822 \n",
       "Q 1591 2972 1913 2972 \n",
       "Q 2475 2972 2870 2558 \n",
       "Q 3266 2144 3266 1488 \n",
       "Q 3266 1056 3080 686 \n",
       "Q 2894 316 2569 119 \n",
       "Q 2244 -78 1831 -78 \n",
       "Q 1128 -78 684 439 \n",
       "Q 241 956 241 2144 \n",
       "Q 241 3472 731 4075 \n",
       "Q 1159 4600 1884 4600 \n",
       "Q 2425 4600 2770 4297 \n",
       "Q 3116 3994 3184 3459 \n",
       "z\n",
       "M 888 1484 \n",
       "Q 888 1194 1011 928 \n",
       "Q 1134 663 1356 523 \n",
       "Q 1578 384 1822 384 \n",
       "Q 2178 384 2434 671 \n",
       "Q 2691 959 2691 1453 \n",
       "Q 2691 1928 2437 2201 \n",
       "Q 2184 2475 1800 2475 \n",
       "Q 1419 2475 1153 2201 \n",
       "Q 888 1928 888 1484 \n",
       "z\n",
       "\" transform=\"scale(0.015625)\"/>\n",
       "       </defs>\n",
       "       <use xlink:href=\"#ArialMT-36\"/>\n",
       "       <use xlink:href=\"#ArialMT-30\" x=\"55.615234\"/>\n",
       "       <use xlink:href=\"#ArialMT-30\" x=\"111.230469\"/>\n",
       "       <use xlink:href=\"#ArialMT-30\" x=\"166.845703\"/>\n",
       "      </g>\n",
       "     </g>\n",
       "    </g>\n",
       "    <g id=\"xtick_8\">\n",
       "     <g id=\"line2d_15\">\n",
       "      <path d=\"M 382.050236 239.375625 \n",
       "L 382.050236 21.935625 \n",
       "\" clip-path=\"url(#p4f3087f11f)\" style=\"fill: none; stroke: #cccccc; stroke-width: 0.8; stroke-linecap: round\"/>\n",
       "     </g>\n",
       "     <g id=\"line2d_16\"/>\n",
       "     <g id=\"text_8\">\n",
       "      <!-- 7000 -->\n",
       "      <g style=\"fill: #262626\" transform=\"translate(370.928361 250.033438)scale(0.1 -0.1)\">\n",
       "       <defs>\n",
       "        <path id=\"ArialMT-37\" d=\"M 303 3981 \n",
       "L 303 4522 \n",
       "L 3269 4522 \n",
       "L 3269 4084 \n",
       "Q 2831 3619 2401 2847 \n",
       "Q 1972 2075 1738 1259 \n",
       "Q 1569 684 1522 0 \n",
       "L 944 0 \n",
       "Q 953 541 1156 1306 \n",
       "Q 1359 2072 1739 2783 \n",
       "Q 2119 3494 2547 3981 \n",
       "L 303 3981 \n",
       "z\n",
       "\" transform=\"scale(0.015625)\"/>\n",
       "       </defs>\n",
       "       <use xlink:href=\"#ArialMT-37\"/>\n",
       "       <use xlink:href=\"#ArialMT-30\" x=\"55.615234\"/>\n",
       "       <use xlink:href=\"#ArialMT-30\" x=\"111.230469\"/>\n",
       "       <use xlink:href=\"#ArialMT-30\" x=\"166.845703\"/>\n",
       "      </g>\n",
       "     </g>\n",
       "    </g>\n",
       "    <g id=\"text_9\">\n",
       "     <!-- Number of tracks -->\n",
       "     <g style=\"fill: #262626\" transform=\"translate(192.665625 263.17875)scale(0.1 -0.1)\">\n",
       "      <defs>\n",
       "       <path id=\"ArialMT-4e\" d=\"M 488 0 \n",
       "L 488 4581 \n",
       "L 1109 4581 \n",
       "L 3516 984 \n",
       "L 3516 4581 \n",
       "L 4097 4581 \n",
       "L 4097 0 \n",
       "L 3475 0 \n",
       "L 1069 3600 \n",
       "L 1069 0 \n",
       "L 488 0 \n",
       "z\n",
       "\" transform=\"scale(0.015625)\"/>\n",
       "       <path id=\"ArialMT-75\" d=\"M 2597 0 \n",
       "L 2597 488 \n",
       "Q 2209 -75 1544 -75 \n",
       "Q 1250 -75 995 37 \n",
       "Q 741 150 617 320 \n",
       "Q 494 491 444 738 \n",
       "Q 409 903 409 1263 \n",
       "L 409 3319 \n",
       "L 972 3319 \n",
       "L 972 1478 \n",
       "Q 972 1038 1006 884 \n",
       "Q 1059 663 1231 536 \n",
       "Q 1403 409 1656 409 \n",
       "Q 1909 409 2131 539 \n",
       "Q 2353 669 2445 892 \n",
       "Q 2538 1116 2538 1541 \n",
       "L 2538 3319 \n",
       "L 3100 3319 \n",
       "L 3100 0 \n",
       "L 2597 0 \n",
       "z\n",
       "\" transform=\"scale(0.015625)\"/>\n",
       "       <path id=\"ArialMT-6d\" d=\"M 422 0 \n",
       "L 422 3319 \n",
       "L 925 3319 \n",
       "L 925 2853 \n",
       "Q 1081 3097 1340 3245 \n",
       "Q 1600 3394 1931 3394 \n",
       "Q 2300 3394 2536 3241 \n",
       "Q 2772 3088 2869 2813 \n",
       "Q 3263 3394 3894 3394 \n",
       "Q 4388 3394 4653 3120 \n",
       "Q 4919 2847 4919 2278 \n",
       "L 4919 0 \n",
       "L 4359 0 \n",
       "L 4359 2091 \n",
       "Q 4359 2428 4304 2576 \n",
       "Q 4250 2725 4106 2815 \n",
       "Q 3963 2906 3769 2906 \n",
       "Q 3419 2906 3187 2673 \n",
       "Q 2956 2441 2956 1928 \n",
       "L 2956 0 \n",
       "L 2394 0 \n",
       "L 2394 2156 \n",
       "Q 2394 2531 2256 2718 \n",
       "Q 2119 2906 1806 2906 \n",
       "Q 1569 2906 1367 2781 \n",
       "Q 1166 2656 1075 2415 \n",
       "Q 984 2175 984 1722 \n",
       "L 984 0 \n",
       "L 422 0 \n",
       "z\n",
       "\" transform=\"scale(0.015625)\"/>\n",
       "       <path id=\"ArialMT-62\" d=\"M 941 0 \n",
       "L 419 0 \n",
       "L 419 4581 \n",
       "L 981 4581 \n",
       "L 981 2947 \n",
       "Q 1338 3394 1891 3394 \n",
       "Q 2197 3394 2470 3270 \n",
       "Q 2744 3147 2920 2923 \n",
       "Q 3097 2700 3197 2384 \n",
       "Q 3297 2069 3297 1709 \n",
       "Q 3297 856 2875 390 \n",
       "Q 2453 -75 1863 -75 \n",
       "Q 1275 -75 941 416 \n",
       "L 941 0 \n",
       "z\n",
       "M 934 1684 \n",
       "Q 934 1088 1097 822 \n",
       "Q 1363 388 1816 388 \n",
       "Q 2184 388 2453 708 \n",
       "Q 2722 1028 2722 1663 \n",
       "Q 2722 2313 2464 2622 \n",
       "Q 2206 2931 1841 2931 \n",
       "Q 1472 2931 1203 2611 \n",
       "Q 934 2291 934 1684 \n",
       "z\n",
       "\" transform=\"scale(0.015625)\"/>\n",
       "       <path id=\"ArialMT-65\" d=\"M 2694 1069 \n",
       "L 3275 997 \n",
       "Q 3138 488 2766 206 \n",
       "Q 2394 -75 1816 -75 \n",
       "Q 1088 -75 661 373 \n",
       "Q 234 822 234 1631 \n",
       "Q 234 2469 665 2931 \n",
       "Q 1097 3394 1784 3394 \n",
       "Q 2450 3394 2872 2941 \n",
       "Q 3294 2488 3294 1666 \n",
       "Q 3294 1616 3291 1516 \n",
       "L 816 1516 \n",
       "Q 847 969 1125 678 \n",
       "Q 1403 388 1819 388 \n",
       "Q 2128 388 2347 550 \n",
       "Q 2566 713 2694 1069 \n",
       "z\n",
       "M 847 1978 \n",
       "L 2700 1978 \n",
       "Q 2663 2397 2488 2606 \n",
       "Q 2219 2931 1791 2931 \n",
       "Q 1403 2931 1139 2672 \n",
       "Q 875 2413 847 1978 \n",
       "z\n",
       "\" transform=\"scale(0.015625)\"/>\n",
       "       <path id=\"ArialMT-72\" d=\"M 416 0 \n",
       "L 416 3319 \n",
       "L 922 3319 \n",
       "L 922 2816 \n",
       "Q 1116 3169 1280 3281 \n",
       "Q 1444 3394 1641 3394 \n",
       "Q 1925 3394 2219 3213 \n",
       "L 2025 2691 \n",
       "Q 1819 2813 1613 2813 \n",
       "Q 1428 2813 1281 2702 \n",
       "Q 1134 2591 1072 2394 \n",
       "Q 978 2094 978 1738 \n",
       "L 978 0 \n",
       "L 416 0 \n",
       "z\n",
       "\" transform=\"scale(0.015625)\"/>\n",
       "       <path id=\"ArialMT-20\" transform=\"scale(0.015625)\"/>\n",
       "       <path id=\"ArialMT-6f\" d=\"M 213 1659 \n",
       "Q 213 2581 725 3025 \n",
       "Q 1153 3394 1769 3394 \n",
       "Q 2453 3394 2887 2945 \n",
       "Q 3322 2497 3322 1706 \n",
       "Q 3322 1066 3130 698 \n",
       "Q 2938 331 2570 128 \n",
       "Q 2203 -75 1769 -75 \n",
       "Q 1072 -75 642 372 \n",
       "Q 213 819 213 1659 \n",
       "z\n",
       "M 791 1659 \n",
       "Q 791 1022 1069 705 \n",
       "Q 1347 388 1769 388 \n",
       "Q 2188 388 2466 706 \n",
       "Q 2744 1025 2744 1678 \n",
       "Q 2744 2294 2464 2611 \n",
       "Q 2184 2928 1769 2928 \n",
       "Q 1347 2928 1069 2612 \n",
       "Q 791 2297 791 1659 \n",
       "z\n",
       "\" transform=\"scale(0.015625)\"/>\n",
       "       <path id=\"ArialMT-66\" d=\"M 556 0 \n",
       "L 556 2881 \n",
       "L 59 2881 \n",
       "L 59 3319 \n",
       "L 556 3319 \n",
       "L 556 3672 \n",
       "Q 556 4006 616 4169 \n",
       "Q 697 4388 901 4523 \n",
       "Q 1106 4659 1475 4659 \n",
       "Q 1713 4659 2000 4603 \n",
       "L 1916 4113 \n",
       "Q 1741 4144 1584 4144 \n",
       "Q 1328 4144 1222 4034 \n",
       "Q 1116 3925 1116 3625 \n",
       "L 1116 3319 \n",
       "L 1763 3319 \n",
       "L 1763 2881 \n",
       "L 1116 2881 \n",
       "L 1116 0 \n",
       "L 556 0 \n",
       "z\n",
       "\" transform=\"scale(0.015625)\"/>\n",
       "       <path id=\"ArialMT-74\" d=\"M 1650 503 \n",
       "L 1731 6 \n",
       "Q 1494 -44 1306 -44 \n",
       "Q 1000 -44 831 53 \n",
       "Q 663 150 594 308 \n",
       "Q 525 466 525 972 \n",
       "L 525 2881 \n",
       "L 113 2881 \n",
       "L 113 3319 \n",
       "L 525 3319 \n",
       "L 525 4141 \n",
       "L 1084 4478 \n",
       "L 1084 3319 \n",
       "L 1650 3319 \n",
       "L 1650 2881 \n",
       "L 1084 2881 \n",
       "L 1084 941 \n",
       "Q 1084 700 1114 631 \n",
       "Q 1144 563 1211 522 \n",
       "Q 1278 481 1403 481 \n",
       "Q 1497 481 1650 503 \n",
       "z\n",
       "\" transform=\"scale(0.015625)\"/>\n",
       "       <path id=\"ArialMT-61\" d=\"M 2588 409 \n",
       "Q 2275 144 1986 34 \n",
       "Q 1697 -75 1366 -75 \n",
       "Q 819 -75 525 192 \n",
       "Q 231 459 231 875 \n",
       "Q 231 1119 342 1320 \n",
       "Q 453 1522 633 1644 \n",
       "Q 813 1766 1038 1828 \n",
       "Q 1203 1872 1538 1913 \n",
       "Q 2219 1994 2541 2106 \n",
       "Q 2544 2222 2544 2253 \n",
       "Q 2544 2597 2384 2738 \n",
       "Q 2169 2928 1744 2928 \n",
       "Q 1347 2928 1158 2789 \n",
       "Q 969 2650 878 2297 \n",
       "L 328 2372 \n",
       "Q 403 2725 575 2942 \n",
       "Q 747 3159 1072 3276 \n",
       "Q 1397 3394 1825 3394 \n",
       "Q 2250 3394 2515 3294 \n",
       "Q 2781 3194 2906 3042 \n",
       "Q 3031 2891 3081 2659 \n",
       "Q 3109 2516 3109 2141 \n",
       "L 3109 1391 \n",
       "Q 3109 606 3145 398 \n",
       "Q 3181 191 3288 0 \n",
       "L 2700 0 \n",
       "Q 2613 175 2588 409 \n",
       "z\n",
       "M 2541 1666 \n",
       "Q 2234 1541 1622 1453 \n",
       "Q 1275 1403 1131 1340 \n",
       "Q 988 1278 909 1158 \n",
       "Q 831 1038 831 891 \n",
       "Q 831 666 1001 516 \n",
       "Q 1172 366 1500 366 \n",
       "Q 1825 366 2078 508 \n",
       "Q 2331 650 2450 897 \n",
       "Q 2541 1088 2541 1459 \n",
       "L 2541 1666 \n",
       "z\n",
       "\" transform=\"scale(0.015625)\"/>\n",
       "       <path id=\"ArialMT-63\" d=\"M 2588 1216 \n",
       "L 3141 1144 \n",
       "Q 3050 572 2676 248 \n",
       "Q 2303 -75 1759 -75 \n",
       "Q 1078 -75 664 370 \n",
       "Q 250 816 250 1647 \n",
       "Q 250 2184 428 2587 \n",
       "Q 606 2991 970 3192 \n",
       "Q 1334 3394 1763 3394 \n",
       "Q 2303 3394 2647 3120 \n",
       "Q 2991 2847 3088 2344 \n",
       "L 2541 2259 \n",
       "Q 2463 2594 2264 2762 \n",
       "Q 2066 2931 1784 2931 \n",
       "Q 1359 2931 1093 2626 \n",
       "Q 828 2322 828 1663 \n",
       "Q 828 994 1084 691 \n",
       "Q 1341 388 1753 388 \n",
       "Q 2084 388 2306 591 \n",
       "Q 2528 794 2588 1216 \n",
       "z\n",
       "\" transform=\"scale(0.015625)\"/>\n",
       "       <path id=\"ArialMT-6b\" d=\"M 425 0 \n",
       "L 425 4581 \n",
       "L 988 4581 \n",
       "L 988 1969 \n",
       "L 2319 3319 \n",
       "L 3047 3319 \n",
       "L 1778 2088 \n",
       "L 3175 0 \n",
       "L 2481 0 \n",
       "L 1384 1697 \n",
       "L 988 1316 \n",
       "L 988 0 \n",
       "L 425 0 \n",
       "z\n",
       "\" transform=\"scale(0.015625)\"/>\n",
       "       <path id=\"ArialMT-73\" d=\"M 197 991 \n",
       "L 753 1078 \n",
       "Q 800 744 1014 566 \n",
       "Q 1228 388 1613 388 \n",
       "Q 2000 388 2187 545 \n",
       "Q 2375 703 2375 916 \n",
       "Q 2375 1106 2209 1216 \n",
       "Q 2094 1291 1634 1406 \n",
       "Q 1016 1563 777 1677 \n",
       "Q 538 1791 414 1992 \n",
       "Q 291 2194 291 2438 \n",
       "Q 291 2659 392 2848 \n",
       "Q 494 3038 669 3163 \n",
       "Q 800 3259 1026 3326 \n",
       "Q 1253 3394 1513 3394 \n",
       "Q 1903 3394 2198 3281 \n",
       "Q 2494 3169 2634 2976 \n",
       "Q 2775 2784 2828 2463 \n",
       "L 2278 2388 \n",
       "Q 2241 2644 2061 2787 \n",
       "Q 1881 2931 1553 2931 \n",
       "Q 1166 2931 1000 2803 \n",
       "Q 834 2675 834 2503 \n",
       "Q 834 2394 903 2306 \n",
       "Q 972 2216 1119 2156 \n",
       "Q 1203 2125 1616 2013 \n",
       "Q 2213 1853 2448 1751 \n",
       "Q 2684 1650 2818 1456 \n",
       "Q 2953 1263 2953 975 \n",
       "Q 2953 694 2789 445 \n",
       "Q 2625 197 2315 61 \n",
       "Q 2006 -75 1616 -75 \n",
       "Q 969 -75 630 194 \n",
       "Q 291 463 197 991 \n",
       "z\n",
       "\" transform=\"scale(0.015625)\"/>\n",
       "      </defs>\n",
       "      <use xlink:href=\"#ArialMT-4e\"/>\n",
       "      <use xlink:href=\"#ArialMT-75\" x=\"72.216797\"/>\n",
       "      <use xlink:href=\"#ArialMT-6d\" x=\"127.832031\"/>\n",
       "      <use xlink:href=\"#ArialMT-62\" x=\"211.132812\"/>\n",
       "      <use xlink:href=\"#ArialMT-65\" x=\"266.748047\"/>\n",
       "      <use xlink:href=\"#ArialMT-72\" x=\"322.363281\"/>\n",
       "      <use xlink:href=\"#ArialMT-20\" x=\"355.664062\"/>\n",
       "      <use xlink:href=\"#ArialMT-6f\" x=\"383.447266\"/>\n",
       "      <use xlink:href=\"#ArialMT-66\" x=\"439.0625\"/>\n",
       "      <use xlink:href=\"#ArialMT-20\" x=\"466.845703\"/>\n",
       "      <use xlink:href=\"#ArialMT-74\" x=\"494.628906\"/>\n",
       "      <use xlink:href=\"#ArialMT-72\" x=\"522.412109\"/>\n",
       "      <use xlink:href=\"#ArialMT-61\" x=\"555.712891\"/>\n",
       "      <use xlink:href=\"#ArialMT-63\" x=\"611.328125\"/>\n",
       "      <use xlink:href=\"#ArialMT-6b\" x=\"661.328125\"/>\n",
       "      <use xlink:href=\"#ArialMT-73\" x=\"711.328125\"/>\n",
       "     </g>\n",
       "    </g>\n",
       "   </g>\n",
       "   <g id=\"matplotlib.axis_2\">\n",
       "    <g id=\"ytick_1\">\n",
       "     <g id=\"line2d_17\">\n",
       "      <path d=\"M 63.329688 201.253028 \n",
       "L 398.129687 201.253028 \n",
       "\" clip-path=\"url(#p4f3087f11f)\" style=\"fill: none; stroke: #cccccc; stroke-width: 0.8; stroke-linecap: round\"/>\n",
       "     </g>\n",
       "     <g id=\"line2d_18\"/>\n",
       "     <g id=\"text_10\">\n",
       "      <!-- Friday -->\n",
       "      <g style=\"fill: #262626\" transform=\"translate(32.048438 204.831934)scale(0.1 -0.1)\">\n",
       "       <defs>\n",
       "        <path id=\"ArialMT-46\" d=\"M 525 0 \n",
       "L 525 4581 \n",
       "L 3616 4581 \n",
       "L 3616 4041 \n",
       "L 1131 4041 \n",
       "L 1131 2622 \n",
       "L 3281 2622 \n",
       "L 3281 2081 \n",
       "L 1131 2081 \n",
       "L 1131 0 \n",
       "L 525 0 \n",
       "z\n",
       "\" transform=\"scale(0.015625)\"/>\n",
       "        <path id=\"ArialMT-69\" d=\"M 425 3934 \n",
       "L 425 4581 \n",
       "L 988 4581 \n",
       "L 988 3934 \n",
       "L 425 3934 \n",
       "z\n",
       "M 425 0 \n",
       "L 425 3319 \n",
       "L 988 3319 \n",
       "L 988 0 \n",
       "L 425 0 \n",
       "z\n",
       "\" transform=\"scale(0.015625)\"/>\n",
       "        <path id=\"ArialMT-64\" d=\"M 2575 0 \n",
       "L 2575 419 \n",
       "Q 2259 -75 1647 -75 \n",
       "Q 1250 -75 917 144 \n",
       "Q 584 363 401 755 \n",
       "Q 219 1147 219 1656 \n",
       "Q 219 2153 384 2558 \n",
       "Q 550 2963 881 3178 \n",
       "Q 1213 3394 1622 3394 \n",
       "Q 1922 3394 2156 3267 \n",
       "Q 2391 3141 2538 2938 \n",
       "L 2538 4581 \n",
       "L 3097 4581 \n",
       "L 3097 0 \n",
       "L 2575 0 \n",
       "z\n",
       "M 797 1656 \n",
       "Q 797 1019 1065 703 \n",
       "Q 1334 388 1700 388 \n",
       "Q 2069 388 2326 689 \n",
       "Q 2584 991 2584 1609 \n",
       "Q 2584 2291 2321 2609 \n",
       "Q 2059 2928 1675 2928 \n",
       "Q 1300 2928 1048 2622 \n",
       "Q 797 2316 797 1656 \n",
       "z\n",
       "\" transform=\"scale(0.015625)\"/>\n",
       "        <path id=\"ArialMT-79\" d=\"M 397 -1278 \n",
       "L 334 -750 \n",
       "Q 519 -800 656 -800 \n",
       "Q 844 -800 956 -737 \n",
       "Q 1069 -675 1141 -563 \n",
       "Q 1194 -478 1313 -144 \n",
       "Q 1328 -97 1363 -6 \n",
       "L 103 3319 \n",
       "L 709 3319 \n",
       "L 1400 1397 \n",
       "Q 1534 1031 1641 628 \n",
       "Q 1738 1016 1872 1384 \n",
       "L 2581 3319 \n",
       "L 3144 3319 \n",
       "L 1881 -56 \n",
       "Q 1678 -603 1566 -809 \n",
       "Q 1416 -1088 1222 -1217 \n",
       "Q 1028 -1347 759 -1347 \n",
       "Q 597 -1347 397 -1278 \n",
       "z\n",
       "\" transform=\"scale(0.015625)\"/>\n",
       "       </defs>\n",
       "       <use xlink:href=\"#ArialMT-46\"/>\n",
       "       <use xlink:href=\"#ArialMT-72\" x=\"61.083984\"/>\n",
       "       <use xlink:href=\"#ArialMT-69\" x=\"94.384766\"/>\n",
       "       <use xlink:href=\"#ArialMT-64\" x=\"116.601562\"/>\n",
       "       <use xlink:href=\"#ArialMT-61\" x=\"172.216797\"/>\n",
       "       <use xlink:href=\"#ArialMT-79\" x=\"227.832031\"/>\n",
       "      </g>\n",
       "     </g>\n",
       "    </g>\n",
       "    <g id=\"ytick_2\">\n",
       "     <g id=\"line2d_19\">\n",
       "      <path d=\"M 63.329688 130.655625 \n",
       "L 398.129687 130.655625 \n",
       "\" clip-path=\"url(#p4f3087f11f)\" style=\"fill: none; stroke: #cccccc; stroke-width: 0.8; stroke-linecap: round\"/>\n",
       "     </g>\n",
       "     <g id=\"line2d_20\"/>\n",
       "     <g id=\"text_11\">\n",
       "      <!-- Monday -->\n",
       "      <g style=\"fill: #262626\" transform=\"translate(24.25625 134.234531)scale(0.1 -0.1)\">\n",
       "       <defs>\n",
       "        <path id=\"ArialMT-4d\" d=\"M 475 0 \n",
       "L 475 4581 \n",
       "L 1388 4581 \n",
       "L 2472 1338 \n",
       "Q 2622 884 2691 659 \n",
       "Q 2769 909 2934 1394 \n",
       "L 4031 4581 \n",
       "L 4847 4581 \n",
       "L 4847 0 \n",
       "L 4263 0 \n",
       "L 4263 3834 \n",
       "L 2931 0 \n",
       "L 2384 0 \n",
       "L 1059 3900 \n",
       "L 1059 0 \n",
       "L 475 0 \n",
       "z\n",
       "\" transform=\"scale(0.015625)\"/>\n",
       "        <path id=\"ArialMT-6e\" d=\"M 422 0 \n",
       "L 422 3319 \n",
       "L 928 3319 \n",
       "L 928 2847 \n",
       "Q 1294 3394 1984 3394 \n",
       "Q 2284 3394 2536 3286 \n",
       "Q 2788 3178 2913 3003 \n",
       "Q 3038 2828 3088 2588 \n",
       "Q 3119 2431 3119 2041 \n",
       "L 3119 0 \n",
       "L 2556 0 \n",
       "L 2556 2019 \n",
       "Q 2556 2363 2490 2533 \n",
       "Q 2425 2703 2258 2804 \n",
       "Q 2091 2906 1866 2906 \n",
       "Q 1506 2906 1245 2678 \n",
       "Q 984 2450 984 1813 \n",
       "L 984 0 \n",
       "L 422 0 \n",
       "z\n",
       "\" transform=\"scale(0.015625)\"/>\n",
       "       </defs>\n",
       "       <use xlink:href=\"#ArialMT-4d\"/>\n",
       "       <use xlink:href=\"#ArialMT-6f\" x=\"83.300781\"/>\n",
       "       <use xlink:href=\"#ArialMT-6e\" x=\"138.916016\"/>\n",
       "       <use xlink:href=\"#ArialMT-64\" x=\"194.53125\"/>\n",
       "       <use xlink:href=\"#ArialMT-61\" x=\"250.146484\"/>\n",
       "       <use xlink:href=\"#ArialMT-79\" x=\"305.761719\"/>\n",
       "      </g>\n",
       "     </g>\n",
       "    </g>\n",
       "    <g id=\"ytick_3\">\n",
       "     <g id=\"line2d_21\">\n",
       "      <path d=\"M 63.329688 60.058222 \n",
       "L 398.129687 60.058222 \n",
       "\" clip-path=\"url(#p4f3087f11f)\" style=\"fill: none; stroke: #cccccc; stroke-width: 0.8; stroke-linecap: round\"/>\n",
       "     </g>\n",
       "     <g id=\"line2d_22\"/>\n",
       "     <g id=\"text_12\">\n",
       "      <!-- Wednesday -->\n",
       "      <g style=\"fill: #262626\" transform=\"translate(7.2 63.637129)scale(0.1 -0.1)\">\n",
       "       <defs>\n",
       "        <path id=\"ArialMT-57\" d=\"M 1294 0 \n",
       "L 78 4581 \n",
       "L 700 4581 \n",
       "L 1397 1578 \n",
       "Q 1509 1106 1591 641 \n",
       "Q 1766 1375 1797 1488 \n",
       "L 2669 4581 \n",
       "L 3400 4581 \n",
       "L 4056 2263 \n",
       "Q 4303 1400 4413 641 \n",
       "Q 4500 1075 4641 1638 \n",
       "L 5359 4581 \n",
       "L 5969 4581 \n",
       "L 4713 0 \n",
       "L 4128 0 \n",
       "L 3163 3491 \n",
       "Q 3041 3928 3019 4028 \n",
       "Q 2947 3713 2884 3491 \n",
       "L 1913 0 \n",
       "L 1294 0 \n",
       "z\n",
       "\" transform=\"scale(0.015625)\"/>\n",
       "       </defs>\n",
       "       <use xlink:href=\"#ArialMT-57\"/>\n",
       "       <use xlink:href=\"#ArialMT-65\" x=\"92.634766\"/>\n",
       "       <use xlink:href=\"#ArialMT-64\" x=\"148.25\"/>\n",
       "       <use xlink:href=\"#ArialMT-6e\" x=\"203.865234\"/>\n",
       "       <use xlink:href=\"#ArialMT-65\" x=\"259.480469\"/>\n",
       "       <use xlink:href=\"#ArialMT-73\" x=\"315.095703\"/>\n",
       "       <use xlink:href=\"#ArialMT-64\" x=\"365.095703\"/>\n",
       "       <use xlink:href=\"#ArialMT-61\" x=\"420.710938\"/>\n",
       "       <use xlink:href=\"#ArialMT-79\" x=\"476.326172\"/>\n",
       "      </g>\n",
       "     </g>\n",
       "    </g>\n",
       "   </g>\n",
       "   <g id=\"patch_3\">\n",
       "    <path d=\"M 63.329688 229.491989 \n",
       "L 331.737921 229.491989 \n",
       "L 331.737921 173.014067 \n",
       "L 63.329688 173.014067 \n",
       "z\n",
       "\" clip-path=\"url(#p4f3087f11f)\" style=\"fill: #1f77b4\"/>\n",
       "   </g>\n",
       "   <g id=\"patch_4\">\n",
       "    <path d=\"M 63.329688 158.894586 \n",
       "L 318.943567 158.894586 \n",
       "L 318.943567 102.416664 \n",
       "L 63.329688 102.416664 \n",
       "z\n",
       "\" clip-path=\"url(#p4f3087f11f)\" style=\"fill: #1f77b4\"/>\n",
       "   </g>\n",
       "   <g id=\"patch_5\">\n",
       "    <path d=\"M 63.329688 88.297183 \n",
       "L 382.18683 88.297183 \n",
       "L 382.18683 31.819261 \n",
       "L 63.329688 31.819261 \n",
       "z\n",
       "\" clip-path=\"url(#p4f3087f11f)\" style=\"fill: #1f77b4\"/>\n",
       "   </g>\n",
       "   <g id=\"patch_6\">\n",
       "    <path d=\"M 63.329688 239.375625 \n",
       "L 63.329688 21.935625 \n",
       "\" style=\"fill: none; stroke: #cccccc; stroke-linejoin: miter; stroke-linecap: square\"/>\n",
       "   </g>\n",
       "   <g id=\"patch_7\">\n",
       "    <path d=\"M 398.129687 239.375625 \n",
       "L 398.129687 21.935625 \n",
       "\" style=\"fill: none; stroke: #cccccc; stroke-linejoin: miter; stroke-linecap: square\"/>\n",
       "   </g>\n",
       "   <g id=\"patch_8\">\n",
       "    <path d=\"M 63.329688 239.375625 \n",
       "L 398.129687 239.375625 \n",
       "\" style=\"fill: none; stroke: #cccccc; stroke-linejoin: miter; stroke-linecap: square\"/>\n",
       "   </g>\n",
       "   <g id=\"patch_9\">\n",
       "    <path d=\"M 63.329688 21.935625 \n",
       "L 398.129687 21.935625 \n",
       "\" style=\"fill: none; stroke: #cccccc; stroke-linejoin: miter; stroke-linecap: square\"/>\n",
       "   </g>\n",
       "   <g id=\"text_13\">\n",
       "    <!-- Saint-Petersburg -->\n",
       "    <g style=\"fill: #262626\" transform=\"translate(185.709062 15.935625)scale(0.12 -0.12)\">\n",
       "     <defs>\n",
       "      <path id=\"ArialMT-53\" d=\"M 288 1472 \n",
       "L 859 1522 \n",
       "Q 900 1178 1048 958 \n",
       "Q 1197 738 1509 602 \n",
       "Q 1822 466 2213 466 \n",
       "Q 2559 466 2825 569 \n",
       "Q 3091 672 3220 851 \n",
       "Q 3350 1031 3350 1244 \n",
       "Q 3350 1459 3225 1620 \n",
       "Q 3100 1781 2813 1891 \n",
       "Q 2628 1963 1997 2114 \n",
       "Q 1366 2266 1113 2400 \n",
       "Q 784 2572 623 2826 \n",
       "Q 463 3081 463 3397 \n",
       "Q 463 3744 659 4045 \n",
       "Q 856 4347 1234 4503 \n",
       "Q 1613 4659 2075 4659 \n",
       "Q 2584 4659 2973 4495 \n",
       "Q 3363 4331 3572 4012 \n",
       "Q 3781 3694 3797 3291 \n",
       "L 3216 3247 \n",
       "Q 3169 3681 2898 3903 \n",
       "Q 2628 4125 2100 4125 \n",
       "Q 1550 4125 1298 3923 \n",
       "Q 1047 3722 1047 3438 \n",
       "Q 1047 3191 1225 3031 \n",
       "Q 1400 2872 2139 2705 \n",
       "Q 2878 2538 3153 2413 \n",
       "Q 3553 2228 3743 1945 \n",
       "Q 3934 1663 3934 1294 \n",
       "Q 3934 928 3725 604 \n",
       "Q 3516 281 3123 101 \n",
       "Q 2731 -78 2241 -78 \n",
       "Q 1619 -78 1198 103 \n",
       "Q 778 284 539 648 \n",
       "Q 300 1013 288 1472 \n",
       "z\n",
       "\" transform=\"scale(0.015625)\"/>\n",
       "      <path id=\"ArialMT-2d\" d=\"M 203 1375 \n",
       "L 203 1941 \n",
       "L 1931 1941 \n",
       "L 1931 1375 \n",
       "L 203 1375 \n",
       "z\n",
       "\" transform=\"scale(0.015625)\"/>\n",
       "      <path id=\"ArialMT-50\" d=\"M 494 0 \n",
       "L 494 4581 \n",
       "L 2222 4581 \n",
       "Q 2678 4581 2919 4538 \n",
       "Q 3256 4481 3484 4323 \n",
       "Q 3713 4166 3852 3881 \n",
       "Q 3991 3597 3991 3256 \n",
       "Q 3991 2672 3619 2267 \n",
       "Q 3247 1863 2275 1863 \n",
       "L 1100 1863 \n",
       "L 1100 0 \n",
       "L 494 0 \n",
       "z\n",
       "M 1100 2403 \n",
       "L 2284 2403 \n",
       "Q 2872 2403 3119 2622 \n",
       "Q 3366 2841 3366 3238 \n",
       "Q 3366 3525 3220 3729 \n",
       "Q 3075 3934 2838 4000 \n",
       "Q 2684 4041 2272 4041 \n",
       "L 1100 4041 \n",
       "L 1100 2403 \n",
       "z\n",
       "\" transform=\"scale(0.015625)\"/>\n",
       "      <path id=\"ArialMT-67\" d=\"M 319 -275 \n",
       "L 866 -356 \n",
       "Q 900 -609 1056 -725 \n",
       "Q 1266 -881 1628 -881 \n",
       "Q 2019 -881 2231 -725 \n",
       "Q 2444 -569 2519 -288 \n",
       "Q 2563 -116 2559 434 \n",
       "Q 2191 0 1641 0 \n",
       "Q 956 0 581 494 \n",
       "Q 206 988 206 1678 \n",
       "Q 206 2153 378 2554 \n",
       "Q 550 2956 876 3175 \n",
       "Q 1203 3394 1644 3394 \n",
       "Q 2231 3394 2613 2919 \n",
       "L 2613 3319 \n",
       "L 3131 3319 \n",
       "L 3131 450 \n",
       "Q 3131 -325 2973 -648 \n",
       "Q 2816 -972 2473 -1159 \n",
       "Q 2131 -1347 1631 -1347 \n",
       "Q 1038 -1347 672 -1080 \n",
       "Q 306 -813 319 -275 \n",
       "z\n",
       "M 784 1719 \n",
       "Q 784 1066 1043 766 \n",
       "Q 1303 466 1694 466 \n",
       "Q 2081 466 2343 764 \n",
       "Q 2606 1063 2606 1700 \n",
       "Q 2606 2309 2336 2618 \n",
       "Q 2066 2928 1684 2928 \n",
       "Q 1309 2928 1046 2623 \n",
       "Q 784 2319 784 1719 \n",
       "z\n",
       "\" transform=\"scale(0.015625)\"/>\n",
       "     </defs>\n",
       "     <use xlink:href=\"#ArialMT-53\"/>\n",
       "     <use xlink:href=\"#ArialMT-61\" x=\"66.699219\"/>\n",
       "     <use xlink:href=\"#ArialMT-69\" x=\"122.314453\"/>\n",
       "     <use xlink:href=\"#ArialMT-6e\" x=\"144.53125\"/>\n",
       "     <use xlink:href=\"#ArialMT-74\" x=\"200.146484\"/>\n",
       "     <use xlink:href=\"#ArialMT-2d\" x=\"227.929688\"/>\n",
       "     <use xlink:href=\"#ArialMT-50\" x=\"261.230469\"/>\n",
       "     <use xlink:href=\"#ArialMT-65\" x=\"327.929688\"/>\n",
       "     <use xlink:href=\"#ArialMT-74\" x=\"383.544922\"/>\n",
       "     <use xlink:href=\"#ArialMT-65\" x=\"411.328125\"/>\n",
       "     <use xlink:href=\"#ArialMT-72\" x=\"466.943359\"/>\n",
       "     <use xlink:href=\"#ArialMT-73\" x=\"500.244141\"/>\n",
       "     <use xlink:href=\"#ArialMT-62\" x=\"550.244141\"/>\n",
       "     <use xlink:href=\"#ArialMT-75\" x=\"605.859375\"/>\n",
       "     <use xlink:href=\"#ArialMT-72\" x=\"661.474609\"/>\n",
       "     <use xlink:href=\"#ArialMT-67\" x=\"694.775391\"/>\n",
       "    </g>\n",
       "   </g>\n",
       "  </g>\n",
       " </g>\n",
       " <defs>\n",
       "  <clipPath id=\"p4f3087f11f\">\n",
       "   <rect x=\"63.329688\" y=\"21.935625\" width=\"334.8\" height=\"217.44\"/>\n",
       "  </clipPath>\n",
       " </defs>\n",
       "</svg>\n"
      ],
      "text/plain": [
       "<Figure size 432x288 with 1 Axes>"
      ]
     },
     "metadata": {},
     "output_type": "display_data"
    },
    {
     "data": {
      "image/svg+xml": [
       "<?xml version=\"1.0\" encoding=\"utf-8\" standalone=\"no\"?>\n",
       "<!DOCTYPE svg PUBLIC \"-//W3C//DTD SVG 1.1//EN\"\n",
       "  \"http://www.w3.org/Graphics/SVG/1.1/DTD/svg11.dtd\">\n",
       "<svg xmlns:xlink=\"http://www.w3.org/1999/xlink\" width=\"405.329687pt\" height=\"272.22pt\" viewBox=\"0 0 405.329687 272.22\" xmlns=\"http://www.w3.org/2000/svg\" version=\"1.1\">\n",
       " <metadata>\n",
       "  <rdf:RDF xmlns:dc=\"http://purl.org/dc/elements/1.1/\" xmlns:cc=\"http://creativecommons.org/ns#\" xmlns:rdf=\"http://www.w3.org/1999/02/22-rdf-syntax-ns#\">\n",
       "   <cc:Work>\n",
       "    <dc:type rdf:resource=\"http://purl.org/dc/dcmitype/StillImage\"/>\n",
       "    <dc:date>2022-04-21T16:33:28.463974</dc:date>\n",
       "    <dc:format>image/svg+xml</dc:format>\n",
       "    <dc:creator>\n",
       "     <cc:Agent>\n",
       "      <dc:title>Matplotlib v3.5.1, https://matplotlib.org/</dc:title>\n",
       "     </cc:Agent>\n",
       "    </dc:creator>\n",
       "   </cc:Work>\n",
       "  </rdf:RDF>\n",
       " </metadata>\n",
       " <defs>\n",
       "  <style type=\"text/css\">*{stroke-linejoin: round; stroke-linecap: butt}</style>\n",
       " </defs>\n",
       " <g id=\"figure_1\">\n",
       "  <g id=\"patch_1\">\n",
       "   <path d=\"M 0 272.22 \n",
       "L 405.329687 272.22 \n",
       "L 405.329687 0 \n",
       "L 0 0 \n",
       "z\n",
       "\" style=\"fill: #ffffff\"/>\n",
       "  </g>\n",
       "  <g id=\"axes_1\">\n",
       "   <g id=\"patch_2\">\n",
       "    <path d=\"M 63.329688 239.229375 \n",
       "L 398.129687 239.229375 \n",
       "L 398.129687 21.789375 \n",
       "L 63.329688 21.789375 \n",
       "z\n",
       "\" style=\"fill: #ffffff\"/>\n",
       "   </g>\n",
       "   <g id=\"matplotlib.axis_1\">\n",
       "    <g id=\"xtick_1\">\n",
       "     <g id=\"line2d_1\">\n",
       "      <path d=\"M 63.329688 239.229375 \n",
       "L 63.329688 21.789375 \n",
       "\" clip-path=\"url(#p7181826f18)\" style=\"fill: none; stroke: #cccccc; stroke-width: 0.8; stroke-linecap: round\"/>\n",
       "     </g>\n",
       "     <g id=\"line2d_2\"/>\n",
       "     <g id=\"text_1\">\n",
       "      <!-- 0 -->\n",
       "      <g style=\"fill: #262626\" transform=\"translate(60.549219 249.887188)scale(0.1 -0.1)\">\n",
       "       <defs>\n",
       "        <path id=\"ArialMT-30\" d=\"M 266 2259 \n",
       "Q 266 3072 433 3567 \n",
       "Q 600 4063 929 4331 \n",
       "Q 1259 4600 1759 4600 \n",
       "Q 2128 4600 2406 4451 \n",
       "Q 2684 4303 2865 4023 \n",
       "Q 3047 3744 3150 3342 \n",
       "Q 3253 2941 3253 2259 \n",
       "Q 3253 1453 3087 958 \n",
       "Q 2922 463 2592 192 \n",
       "Q 2263 -78 1759 -78 \n",
       "Q 1097 -78 719 397 \n",
       "Q 266 969 266 2259 \n",
       "z\n",
       "M 844 2259 \n",
       "Q 844 1131 1108 757 \n",
       "Q 1372 384 1759 384 \n",
       "Q 2147 384 2411 759 \n",
       "Q 2675 1134 2675 2259 \n",
       "Q 2675 3391 2411 3762 \n",
       "Q 2147 4134 1753 4134 \n",
       "Q 1366 4134 1134 3806 \n",
       "Q 844 3388 844 2259 \n",
       "z\n",
       "\" transform=\"scale(0.015625)\"/>\n",
       "       </defs>\n",
       "       <use xlink:href=\"#ArialMT-30\"/>\n",
       "      </g>\n",
       "     </g>\n",
       "    </g>\n",
       "    <g id=\"xtick_2\">\n",
       "     <g id=\"line2d_3\">\n",
       "      <path d=\"M 103.324312 239.229375 \n",
       "L 103.324312 21.789375 \n",
       "\" clip-path=\"url(#p7181826f18)\" style=\"fill: none; stroke: #cccccc; stroke-width: 0.8; stroke-linecap: round\"/>\n",
       "     </g>\n",
       "     <g id=\"line2d_4\"/>\n",
       "     <g id=\"text_2\">\n",
       "      <!-- 2000 -->\n",
       "      <g style=\"fill: #262626\" transform=\"translate(92.202437 249.887188)scale(0.1 -0.1)\">\n",
       "       <defs>\n",
       "        <path id=\"ArialMT-32\" d=\"M 3222 541 \n",
       "L 3222 0 \n",
       "L 194 0 \n",
       "Q 188 203 259 391 \n",
       "Q 375 700 629 1000 \n",
       "Q 884 1300 1366 1694 \n",
       "Q 2113 2306 2375 2664 \n",
       "Q 2638 3022 2638 3341 \n",
       "Q 2638 3675 2398 3904 \n",
       "Q 2159 4134 1775 4134 \n",
       "Q 1369 4134 1125 3890 \n",
       "Q 881 3647 878 3216 \n",
       "L 300 3275 \n",
       "Q 359 3922 746 4261 \n",
       "Q 1134 4600 1788 4600 \n",
       "Q 2447 4600 2831 4234 \n",
       "Q 3216 3869 3216 3328 \n",
       "Q 3216 3053 3103 2787 \n",
       "Q 2991 2522 2730 2228 \n",
       "Q 2469 1934 1863 1422 \n",
       "Q 1356 997 1212 845 \n",
       "Q 1069 694 975 541 \n",
       "L 3222 541 \n",
       "z\n",
       "\" transform=\"scale(0.015625)\"/>\n",
       "       </defs>\n",
       "       <use xlink:href=\"#ArialMT-32\"/>\n",
       "       <use xlink:href=\"#ArialMT-30\" x=\"55.615234\"/>\n",
       "       <use xlink:href=\"#ArialMT-30\" x=\"111.230469\"/>\n",
       "       <use xlink:href=\"#ArialMT-30\" x=\"166.845703\"/>\n",
       "      </g>\n",
       "     </g>\n",
       "    </g>\n",
       "    <g id=\"xtick_3\">\n",
       "     <g id=\"line2d_5\">\n",
       "      <path d=\"M 143.318936 239.229375 \n",
       "L 143.318936 21.789375 \n",
       "\" clip-path=\"url(#p7181826f18)\" style=\"fill: none; stroke: #cccccc; stroke-width: 0.8; stroke-linecap: round\"/>\n",
       "     </g>\n",
       "     <g id=\"line2d_6\"/>\n",
       "     <g id=\"text_3\">\n",
       "      <!-- 4000 -->\n",
       "      <g style=\"fill: #262626\" transform=\"translate(132.197061 249.887188)scale(0.1 -0.1)\">\n",
       "       <defs>\n",
       "        <path id=\"ArialMT-34\" d=\"M 2069 0 \n",
       "L 2069 1097 \n",
       "L 81 1097 \n",
       "L 81 1613 \n",
       "L 2172 4581 \n",
       "L 2631 4581 \n",
       "L 2631 1613 \n",
       "L 3250 1613 \n",
       "L 3250 1097 \n",
       "L 2631 1097 \n",
       "L 2631 0 \n",
       "L 2069 0 \n",
       "z\n",
       "M 2069 1613 \n",
       "L 2069 3678 \n",
       "L 634 1613 \n",
       "L 2069 1613 \n",
       "z\n",
       "\" transform=\"scale(0.015625)\"/>\n",
       "       </defs>\n",
       "       <use xlink:href=\"#ArialMT-34\"/>\n",
       "       <use xlink:href=\"#ArialMT-30\" x=\"55.615234\"/>\n",
       "       <use xlink:href=\"#ArialMT-30\" x=\"111.230469\"/>\n",
       "       <use xlink:href=\"#ArialMT-30\" x=\"166.845703\"/>\n",
       "      </g>\n",
       "     </g>\n",
       "    </g>\n",
       "    <g id=\"xtick_4\">\n",
       "     <g id=\"line2d_7\">\n",
       "      <path d=\"M 183.313561 239.229375 \n",
       "L 183.313561 21.789375 \n",
       "\" clip-path=\"url(#p7181826f18)\" style=\"fill: none; stroke: #cccccc; stroke-width: 0.8; stroke-linecap: round\"/>\n",
       "     </g>\n",
       "     <g id=\"line2d_8\"/>\n",
       "     <g id=\"text_4\">\n",
       "      <!-- 6000 -->\n",
       "      <g style=\"fill: #262626\" transform=\"translate(172.191686 249.887188)scale(0.1 -0.1)\">\n",
       "       <defs>\n",
       "        <path id=\"ArialMT-36\" d=\"M 3184 3459 \n",
       "L 2625 3416 \n",
       "Q 2550 3747 2413 3897 \n",
       "Q 2184 4138 1850 4138 \n",
       "Q 1581 4138 1378 3988 \n",
       "Q 1113 3794 959 3422 \n",
       "Q 806 3050 800 2363 \n",
       "Q 1003 2672 1297 2822 \n",
       "Q 1591 2972 1913 2972 \n",
       "Q 2475 2972 2870 2558 \n",
       "Q 3266 2144 3266 1488 \n",
       "Q 3266 1056 3080 686 \n",
       "Q 2894 316 2569 119 \n",
       "Q 2244 -78 1831 -78 \n",
       "Q 1128 -78 684 439 \n",
       "Q 241 956 241 2144 \n",
       "Q 241 3472 731 4075 \n",
       "Q 1159 4600 1884 4600 \n",
       "Q 2425 4600 2770 4297 \n",
       "Q 3116 3994 3184 3459 \n",
       "z\n",
       "M 888 1484 \n",
       "Q 888 1194 1011 928 \n",
       "Q 1134 663 1356 523 \n",
       "Q 1578 384 1822 384 \n",
       "Q 2178 384 2434 671 \n",
       "Q 2691 959 2691 1453 \n",
       "Q 2691 1928 2437 2201 \n",
       "Q 2184 2475 1800 2475 \n",
       "Q 1419 2475 1153 2201 \n",
       "Q 888 1928 888 1484 \n",
       "z\n",
       "\" transform=\"scale(0.015625)\"/>\n",
       "       </defs>\n",
       "       <use xlink:href=\"#ArialMT-36\"/>\n",
       "       <use xlink:href=\"#ArialMT-30\" x=\"55.615234\"/>\n",
       "       <use xlink:href=\"#ArialMT-30\" x=\"111.230469\"/>\n",
       "       <use xlink:href=\"#ArialMT-30\" x=\"166.845703\"/>\n",
       "      </g>\n",
       "     </g>\n",
       "    </g>\n",
       "    <g id=\"xtick_5\">\n",
       "     <g id=\"line2d_9\">\n",
       "      <path d=\"M 223.308185 239.229375 \n",
       "L 223.308185 21.789375 \n",
       "\" clip-path=\"url(#p7181826f18)\" style=\"fill: none; stroke: #cccccc; stroke-width: 0.8; stroke-linecap: round\"/>\n",
       "     </g>\n",
       "     <g id=\"line2d_10\"/>\n",
       "     <g id=\"text_5\">\n",
       "      <!-- 8000 -->\n",
       "      <g style=\"fill: #262626\" transform=\"translate(212.18631 249.887188)scale(0.1 -0.1)\">\n",
       "       <defs>\n",
       "        <path id=\"ArialMT-38\" d=\"M 1131 2484 \n",
       "Q 781 2613 612 2850 \n",
       "Q 444 3088 444 3419 \n",
       "Q 444 3919 803 4259 \n",
       "Q 1163 4600 1759 4600 \n",
       "Q 2359 4600 2725 4251 \n",
       "Q 3091 3903 3091 3403 \n",
       "Q 3091 3084 2923 2848 \n",
       "Q 2756 2613 2416 2484 \n",
       "Q 2838 2347 3058 2040 \n",
       "Q 3278 1734 3278 1309 \n",
       "Q 3278 722 2862 322 \n",
       "Q 2447 -78 1769 -78 \n",
       "Q 1091 -78 675 323 \n",
       "Q 259 725 259 1325 \n",
       "Q 259 1772 486 2073 \n",
       "Q 713 2375 1131 2484 \n",
       "z\n",
       "M 1019 3438 \n",
       "Q 1019 3113 1228 2906 \n",
       "Q 1438 2700 1772 2700 \n",
       "Q 2097 2700 2305 2904 \n",
       "Q 2513 3109 2513 3406 \n",
       "Q 2513 3716 2298 3927 \n",
       "Q 2084 4138 1766 4138 \n",
       "Q 1444 4138 1231 3931 \n",
       "Q 1019 3725 1019 3438 \n",
       "z\n",
       "M 838 1322 \n",
       "Q 838 1081 952 856 \n",
       "Q 1066 631 1291 507 \n",
       "Q 1516 384 1775 384 \n",
       "Q 2178 384 2440 643 \n",
       "Q 2703 903 2703 1303 \n",
       "Q 2703 1709 2433 1975 \n",
       "Q 2163 2241 1756 2241 \n",
       "Q 1359 2241 1098 1978 \n",
       "Q 838 1716 838 1322 \n",
       "z\n",
       "\" transform=\"scale(0.015625)\"/>\n",
       "       </defs>\n",
       "       <use xlink:href=\"#ArialMT-38\"/>\n",
       "       <use xlink:href=\"#ArialMT-30\" x=\"55.615234\"/>\n",
       "       <use xlink:href=\"#ArialMT-30\" x=\"111.230469\"/>\n",
       "       <use xlink:href=\"#ArialMT-30\" x=\"166.845703\"/>\n",
       "      </g>\n",
       "     </g>\n",
       "    </g>\n",
       "    <g id=\"xtick_6\">\n",
       "     <g id=\"line2d_11\">\n",
       "      <path d=\"M 263.302809 239.229375 \n",
       "L 263.302809 21.789375 \n",
       "\" clip-path=\"url(#p7181826f18)\" style=\"fill: none; stroke: #cccccc; stroke-width: 0.8; stroke-linecap: round\"/>\n",
       "     </g>\n",
       "     <g id=\"line2d_12\"/>\n",
       "     <g id=\"text_6\">\n",
       "      <!-- 10000 -->\n",
       "      <g style=\"fill: #262626\" transform=\"translate(249.400466 249.887188)scale(0.1 -0.1)\">\n",
       "       <defs>\n",
       "        <path id=\"ArialMT-31\" d=\"M 2384 0 \n",
       "L 1822 0 \n",
       "L 1822 3584 \n",
       "Q 1619 3391 1289 3197 \n",
       "Q 959 3003 697 2906 \n",
       "L 697 3450 \n",
       "Q 1169 3672 1522 3987 \n",
       "Q 1875 4303 2022 4600 \n",
       "L 2384 4600 \n",
       "L 2384 0 \n",
       "z\n",
       "\" transform=\"scale(0.015625)\"/>\n",
       "       </defs>\n",
       "       <use xlink:href=\"#ArialMT-31\"/>\n",
       "       <use xlink:href=\"#ArialMT-30\" x=\"55.615234\"/>\n",
       "       <use xlink:href=\"#ArialMT-30\" x=\"111.230469\"/>\n",
       "       <use xlink:href=\"#ArialMT-30\" x=\"166.845703\"/>\n",
       "       <use xlink:href=\"#ArialMT-30\" x=\"222.460938\"/>\n",
       "      </g>\n",
       "     </g>\n",
       "    </g>\n",
       "    <g id=\"xtick_7\">\n",
       "     <g id=\"line2d_13\">\n",
       "      <path d=\"M 303.297434 239.229375 \n",
       "L 303.297434 21.789375 \n",
       "\" clip-path=\"url(#p7181826f18)\" style=\"fill: none; stroke: #cccccc; stroke-width: 0.8; stroke-linecap: round\"/>\n",
       "     </g>\n",
       "     <g id=\"line2d_14\"/>\n",
       "     <g id=\"text_7\">\n",
       "      <!-- 12000 -->\n",
       "      <g style=\"fill: #262626\" transform=\"translate(289.39509 249.887188)scale(0.1 -0.1)\">\n",
       "       <use xlink:href=\"#ArialMT-31\"/>\n",
       "       <use xlink:href=\"#ArialMT-32\" x=\"55.615234\"/>\n",
       "       <use xlink:href=\"#ArialMT-30\" x=\"111.230469\"/>\n",
       "       <use xlink:href=\"#ArialMT-30\" x=\"166.845703\"/>\n",
       "       <use xlink:href=\"#ArialMT-30\" x=\"222.460938\"/>\n",
       "      </g>\n",
       "     </g>\n",
       "    </g>\n",
       "    <g id=\"xtick_8\">\n",
       "     <g id=\"line2d_15\">\n",
       "      <path d=\"M 343.292058 239.229375 \n",
       "L 343.292058 21.789375 \n",
       "\" clip-path=\"url(#p7181826f18)\" style=\"fill: none; stroke: #cccccc; stroke-width: 0.8; stroke-linecap: round\"/>\n",
       "     </g>\n",
       "     <g id=\"line2d_16\"/>\n",
       "     <g id=\"text_8\">\n",
       "      <!-- 14000 -->\n",
       "      <g style=\"fill: #262626\" transform=\"translate(329.389714 249.887188)scale(0.1 -0.1)\">\n",
       "       <use xlink:href=\"#ArialMT-31\"/>\n",
       "       <use xlink:href=\"#ArialMT-34\" x=\"55.615234\"/>\n",
       "       <use xlink:href=\"#ArialMT-30\" x=\"111.230469\"/>\n",
       "       <use xlink:href=\"#ArialMT-30\" x=\"166.845703\"/>\n",
       "       <use xlink:href=\"#ArialMT-30\" x=\"222.460938\"/>\n",
       "      </g>\n",
       "     </g>\n",
       "    </g>\n",
       "    <g id=\"xtick_9\">\n",
       "     <g id=\"line2d_17\">\n",
       "      <path d=\"M 383.286683 239.229375 \n",
       "L 383.286683 21.789375 \n",
       "\" clip-path=\"url(#p7181826f18)\" style=\"fill: none; stroke: #cccccc; stroke-width: 0.8; stroke-linecap: round\"/>\n",
       "     </g>\n",
       "     <g id=\"line2d_18\"/>\n",
       "     <g id=\"text_9\">\n",
       "      <!-- 16000 -->\n",
       "      <g style=\"fill: #262626\" transform=\"translate(369.384339 249.887188)scale(0.1 -0.1)\">\n",
       "       <use xlink:href=\"#ArialMT-31\"/>\n",
       "       <use xlink:href=\"#ArialMT-36\" x=\"55.615234\"/>\n",
       "       <use xlink:href=\"#ArialMT-30\" x=\"111.230469\"/>\n",
       "       <use xlink:href=\"#ArialMT-30\" x=\"166.845703\"/>\n",
       "       <use xlink:href=\"#ArialMT-30\" x=\"222.460938\"/>\n",
       "      </g>\n",
       "     </g>\n",
       "    </g>\n",
       "    <g id=\"text_10\">\n",
       "     <!-- Number of tracks -->\n",
       "     <g style=\"fill: #262626\" transform=\"translate(192.665625 263.0325)scale(0.1 -0.1)\">\n",
       "      <defs>\n",
       "       <path id=\"ArialMT-4e\" d=\"M 488 0 \n",
       "L 488 4581 \n",
       "L 1109 4581 \n",
       "L 3516 984 \n",
       "L 3516 4581 \n",
       "L 4097 4581 \n",
       "L 4097 0 \n",
       "L 3475 0 \n",
       "L 1069 3600 \n",
       "L 1069 0 \n",
       "L 488 0 \n",
       "z\n",
       "\" transform=\"scale(0.015625)\"/>\n",
       "       <path id=\"ArialMT-75\" d=\"M 2597 0 \n",
       "L 2597 488 \n",
       "Q 2209 -75 1544 -75 \n",
       "Q 1250 -75 995 37 \n",
       "Q 741 150 617 320 \n",
       "Q 494 491 444 738 \n",
       "Q 409 903 409 1263 \n",
       "L 409 3319 \n",
       "L 972 3319 \n",
       "L 972 1478 \n",
       "Q 972 1038 1006 884 \n",
       "Q 1059 663 1231 536 \n",
       "Q 1403 409 1656 409 \n",
       "Q 1909 409 2131 539 \n",
       "Q 2353 669 2445 892 \n",
       "Q 2538 1116 2538 1541 \n",
       "L 2538 3319 \n",
       "L 3100 3319 \n",
       "L 3100 0 \n",
       "L 2597 0 \n",
       "z\n",
       "\" transform=\"scale(0.015625)\"/>\n",
       "       <path id=\"ArialMT-6d\" d=\"M 422 0 \n",
       "L 422 3319 \n",
       "L 925 3319 \n",
       "L 925 2853 \n",
       "Q 1081 3097 1340 3245 \n",
       "Q 1600 3394 1931 3394 \n",
       "Q 2300 3394 2536 3241 \n",
       "Q 2772 3088 2869 2813 \n",
       "Q 3263 3394 3894 3394 \n",
       "Q 4388 3394 4653 3120 \n",
       "Q 4919 2847 4919 2278 \n",
       "L 4919 0 \n",
       "L 4359 0 \n",
       "L 4359 2091 \n",
       "Q 4359 2428 4304 2576 \n",
       "Q 4250 2725 4106 2815 \n",
       "Q 3963 2906 3769 2906 \n",
       "Q 3419 2906 3187 2673 \n",
       "Q 2956 2441 2956 1928 \n",
       "L 2956 0 \n",
       "L 2394 0 \n",
       "L 2394 2156 \n",
       "Q 2394 2531 2256 2718 \n",
       "Q 2119 2906 1806 2906 \n",
       "Q 1569 2906 1367 2781 \n",
       "Q 1166 2656 1075 2415 \n",
       "Q 984 2175 984 1722 \n",
       "L 984 0 \n",
       "L 422 0 \n",
       "z\n",
       "\" transform=\"scale(0.015625)\"/>\n",
       "       <path id=\"ArialMT-62\" d=\"M 941 0 \n",
       "L 419 0 \n",
       "L 419 4581 \n",
       "L 981 4581 \n",
       "L 981 2947 \n",
       "Q 1338 3394 1891 3394 \n",
       "Q 2197 3394 2470 3270 \n",
       "Q 2744 3147 2920 2923 \n",
       "Q 3097 2700 3197 2384 \n",
       "Q 3297 2069 3297 1709 \n",
       "Q 3297 856 2875 390 \n",
       "Q 2453 -75 1863 -75 \n",
       "Q 1275 -75 941 416 \n",
       "L 941 0 \n",
       "z\n",
       "M 934 1684 \n",
       "Q 934 1088 1097 822 \n",
       "Q 1363 388 1816 388 \n",
       "Q 2184 388 2453 708 \n",
       "Q 2722 1028 2722 1663 \n",
       "Q 2722 2313 2464 2622 \n",
       "Q 2206 2931 1841 2931 \n",
       "Q 1472 2931 1203 2611 \n",
       "Q 934 2291 934 1684 \n",
       "z\n",
       "\" transform=\"scale(0.015625)\"/>\n",
       "       <path id=\"ArialMT-65\" d=\"M 2694 1069 \n",
       "L 3275 997 \n",
       "Q 3138 488 2766 206 \n",
       "Q 2394 -75 1816 -75 \n",
       "Q 1088 -75 661 373 \n",
       "Q 234 822 234 1631 \n",
       "Q 234 2469 665 2931 \n",
       "Q 1097 3394 1784 3394 \n",
       "Q 2450 3394 2872 2941 \n",
       "Q 3294 2488 3294 1666 \n",
       "Q 3294 1616 3291 1516 \n",
       "L 816 1516 \n",
       "Q 847 969 1125 678 \n",
       "Q 1403 388 1819 388 \n",
       "Q 2128 388 2347 550 \n",
       "Q 2566 713 2694 1069 \n",
       "z\n",
       "M 847 1978 \n",
       "L 2700 1978 \n",
       "Q 2663 2397 2488 2606 \n",
       "Q 2219 2931 1791 2931 \n",
       "Q 1403 2931 1139 2672 \n",
       "Q 875 2413 847 1978 \n",
       "z\n",
       "\" transform=\"scale(0.015625)\"/>\n",
       "       <path id=\"ArialMT-72\" d=\"M 416 0 \n",
       "L 416 3319 \n",
       "L 922 3319 \n",
       "L 922 2816 \n",
       "Q 1116 3169 1280 3281 \n",
       "Q 1444 3394 1641 3394 \n",
       "Q 1925 3394 2219 3213 \n",
       "L 2025 2691 \n",
       "Q 1819 2813 1613 2813 \n",
       "Q 1428 2813 1281 2702 \n",
       "Q 1134 2591 1072 2394 \n",
       "Q 978 2094 978 1738 \n",
       "L 978 0 \n",
       "L 416 0 \n",
       "z\n",
       "\" transform=\"scale(0.015625)\"/>\n",
       "       <path id=\"ArialMT-20\" transform=\"scale(0.015625)\"/>\n",
       "       <path id=\"ArialMT-6f\" d=\"M 213 1659 \n",
       "Q 213 2581 725 3025 \n",
       "Q 1153 3394 1769 3394 \n",
       "Q 2453 3394 2887 2945 \n",
       "Q 3322 2497 3322 1706 \n",
       "Q 3322 1066 3130 698 \n",
       "Q 2938 331 2570 128 \n",
       "Q 2203 -75 1769 -75 \n",
       "Q 1072 -75 642 372 \n",
       "Q 213 819 213 1659 \n",
       "z\n",
       "M 791 1659 \n",
       "Q 791 1022 1069 705 \n",
       "Q 1347 388 1769 388 \n",
       "Q 2188 388 2466 706 \n",
       "Q 2744 1025 2744 1678 \n",
       "Q 2744 2294 2464 2611 \n",
       "Q 2184 2928 1769 2928 \n",
       "Q 1347 2928 1069 2612 \n",
       "Q 791 2297 791 1659 \n",
       "z\n",
       "\" transform=\"scale(0.015625)\"/>\n",
       "       <path id=\"ArialMT-66\" d=\"M 556 0 \n",
       "L 556 2881 \n",
       "L 59 2881 \n",
       "L 59 3319 \n",
       "L 556 3319 \n",
       "L 556 3672 \n",
       "Q 556 4006 616 4169 \n",
       "Q 697 4388 901 4523 \n",
       "Q 1106 4659 1475 4659 \n",
       "Q 1713 4659 2000 4603 \n",
       "L 1916 4113 \n",
       "Q 1741 4144 1584 4144 \n",
       "Q 1328 4144 1222 4034 \n",
       "Q 1116 3925 1116 3625 \n",
       "L 1116 3319 \n",
       "L 1763 3319 \n",
       "L 1763 2881 \n",
       "L 1116 2881 \n",
       "L 1116 0 \n",
       "L 556 0 \n",
       "z\n",
       "\" transform=\"scale(0.015625)\"/>\n",
       "       <path id=\"ArialMT-74\" d=\"M 1650 503 \n",
       "L 1731 6 \n",
       "Q 1494 -44 1306 -44 \n",
       "Q 1000 -44 831 53 \n",
       "Q 663 150 594 308 \n",
       "Q 525 466 525 972 \n",
       "L 525 2881 \n",
       "L 113 2881 \n",
       "L 113 3319 \n",
       "L 525 3319 \n",
       "L 525 4141 \n",
       "L 1084 4478 \n",
       "L 1084 3319 \n",
       "L 1650 3319 \n",
       "L 1650 2881 \n",
       "L 1084 2881 \n",
       "L 1084 941 \n",
       "Q 1084 700 1114 631 \n",
       "Q 1144 563 1211 522 \n",
       "Q 1278 481 1403 481 \n",
       "Q 1497 481 1650 503 \n",
       "z\n",
       "\" transform=\"scale(0.015625)\"/>\n",
       "       <path id=\"ArialMT-61\" d=\"M 2588 409 \n",
       "Q 2275 144 1986 34 \n",
       "Q 1697 -75 1366 -75 \n",
       "Q 819 -75 525 192 \n",
       "Q 231 459 231 875 \n",
       "Q 231 1119 342 1320 \n",
       "Q 453 1522 633 1644 \n",
       "Q 813 1766 1038 1828 \n",
       "Q 1203 1872 1538 1913 \n",
       "Q 2219 1994 2541 2106 \n",
       "Q 2544 2222 2544 2253 \n",
       "Q 2544 2597 2384 2738 \n",
       "Q 2169 2928 1744 2928 \n",
       "Q 1347 2928 1158 2789 \n",
       "Q 969 2650 878 2297 \n",
       "L 328 2372 \n",
       "Q 403 2725 575 2942 \n",
       "Q 747 3159 1072 3276 \n",
       "Q 1397 3394 1825 3394 \n",
       "Q 2250 3394 2515 3294 \n",
       "Q 2781 3194 2906 3042 \n",
       "Q 3031 2891 3081 2659 \n",
       "Q 3109 2516 3109 2141 \n",
       "L 3109 1391 \n",
       "Q 3109 606 3145 398 \n",
       "Q 3181 191 3288 0 \n",
       "L 2700 0 \n",
       "Q 2613 175 2588 409 \n",
       "z\n",
       "M 2541 1666 \n",
       "Q 2234 1541 1622 1453 \n",
       "Q 1275 1403 1131 1340 \n",
       "Q 988 1278 909 1158 \n",
       "Q 831 1038 831 891 \n",
       "Q 831 666 1001 516 \n",
       "Q 1172 366 1500 366 \n",
       "Q 1825 366 2078 508 \n",
       "Q 2331 650 2450 897 \n",
       "Q 2541 1088 2541 1459 \n",
       "L 2541 1666 \n",
       "z\n",
       "\" transform=\"scale(0.015625)\"/>\n",
       "       <path id=\"ArialMT-63\" d=\"M 2588 1216 \n",
       "L 3141 1144 \n",
       "Q 3050 572 2676 248 \n",
       "Q 2303 -75 1759 -75 \n",
       "Q 1078 -75 664 370 \n",
       "Q 250 816 250 1647 \n",
       "Q 250 2184 428 2587 \n",
       "Q 606 2991 970 3192 \n",
       "Q 1334 3394 1763 3394 \n",
       "Q 2303 3394 2647 3120 \n",
       "Q 2991 2847 3088 2344 \n",
       "L 2541 2259 \n",
       "Q 2463 2594 2264 2762 \n",
       "Q 2066 2931 1784 2931 \n",
       "Q 1359 2931 1093 2626 \n",
       "Q 828 2322 828 1663 \n",
       "Q 828 994 1084 691 \n",
       "Q 1341 388 1753 388 \n",
       "Q 2084 388 2306 591 \n",
       "Q 2528 794 2588 1216 \n",
       "z\n",
       "\" transform=\"scale(0.015625)\"/>\n",
       "       <path id=\"ArialMT-6b\" d=\"M 425 0 \n",
       "L 425 4581 \n",
       "L 988 4581 \n",
       "L 988 1969 \n",
       "L 2319 3319 \n",
       "L 3047 3319 \n",
       "L 1778 2088 \n",
       "L 3175 0 \n",
       "L 2481 0 \n",
       "L 1384 1697 \n",
       "L 988 1316 \n",
       "L 988 0 \n",
       "L 425 0 \n",
       "z\n",
       "\" transform=\"scale(0.015625)\"/>\n",
       "       <path id=\"ArialMT-73\" d=\"M 197 991 \n",
       "L 753 1078 \n",
       "Q 800 744 1014 566 \n",
       "Q 1228 388 1613 388 \n",
       "Q 2000 388 2187 545 \n",
       "Q 2375 703 2375 916 \n",
       "Q 2375 1106 2209 1216 \n",
       "Q 2094 1291 1634 1406 \n",
       "Q 1016 1563 777 1677 \n",
       "Q 538 1791 414 1992 \n",
       "Q 291 2194 291 2438 \n",
       "Q 291 2659 392 2848 \n",
       "Q 494 3038 669 3163 \n",
       "Q 800 3259 1026 3326 \n",
       "Q 1253 3394 1513 3394 \n",
       "Q 1903 3394 2198 3281 \n",
       "Q 2494 3169 2634 2976 \n",
       "Q 2775 2784 2828 2463 \n",
       "L 2278 2388 \n",
       "Q 2241 2644 2061 2787 \n",
       "Q 1881 2931 1553 2931 \n",
       "Q 1166 2931 1000 2803 \n",
       "Q 834 2675 834 2503 \n",
       "Q 834 2394 903 2306 \n",
       "Q 972 2216 1119 2156 \n",
       "Q 1203 2125 1616 2013 \n",
       "Q 2213 1853 2448 1751 \n",
       "Q 2684 1650 2818 1456 \n",
       "Q 2953 1263 2953 975 \n",
       "Q 2953 694 2789 445 \n",
       "Q 2625 197 2315 61 \n",
       "Q 2006 -75 1616 -75 \n",
       "Q 969 -75 630 194 \n",
       "Q 291 463 197 991 \n",
       "z\n",
       "\" transform=\"scale(0.015625)\"/>\n",
       "      </defs>\n",
       "      <use xlink:href=\"#ArialMT-4e\"/>\n",
       "      <use xlink:href=\"#ArialMT-75\" x=\"72.216797\"/>\n",
       "      <use xlink:href=\"#ArialMT-6d\" x=\"127.832031\"/>\n",
       "      <use xlink:href=\"#ArialMT-62\" x=\"211.132812\"/>\n",
       "      <use xlink:href=\"#ArialMT-65\" x=\"266.748047\"/>\n",
       "      <use xlink:href=\"#ArialMT-72\" x=\"322.363281\"/>\n",
       "      <use xlink:href=\"#ArialMT-20\" x=\"355.664062\"/>\n",
       "      <use xlink:href=\"#ArialMT-6f\" x=\"383.447266\"/>\n",
       "      <use xlink:href=\"#ArialMT-66\" x=\"439.0625\"/>\n",
       "      <use xlink:href=\"#ArialMT-20\" x=\"466.845703\"/>\n",
       "      <use xlink:href=\"#ArialMT-74\" x=\"494.628906\"/>\n",
       "      <use xlink:href=\"#ArialMT-72\" x=\"522.412109\"/>\n",
       "      <use xlink:href=\"#ArialMT-61\" x=\"555.712891\"/>\n",
       "      <use xlink:href=\"#ArialMT-63\" x=\"611.328125\"/>\n",
       "      <use xlink:href=\"#ArialMT-6b\" x=\"661.328125\"/>\n",
       "      <use xlink:href=\"#ArialMT-73\" x=\"711.328125\"/>\n",
       "     </g>\n",
       "    </g>\n",
       "   </g>\n",
       "   <g id=\"matplotlib.axis_2\">\n",
       "    <g id=\"ytick_1\">\n",
       "     <g id=\"line2d_19\">\n",
       "      <path d=\"M 63.329688 201.106778 \n",
       "L 398.129687 201.106778 \n",
       "\" clip-path=\"url(#p7181826f18)\" style=\"fill: none; stroke: #cccccc; stroke-width: 0.8; stroke-linecap: round\"/>\n",
       "     </g>\n",
       "     <g id=\"line2d_20\"/>\n",
       "     <g id=\"text_11\">\n",
       "      <!-- Friday -->\n",
       "      <g style=\"fill: #262626\" transform=\"translate(32.048438 204.685684)scale(0.1 -0.1)\">\n",
       "       <defs>\n",
       "        <path id=\"ArialMT-46\" d=\"M 525 0 \n",
       "L 525 4581 \n",
       "L 3616 4581 \n",
       "L 3616 4041 \n",
       "L 1131 4041 \n",
       "L 1131 2622 \n",
       "L 3281 2622 \n",
       "L 3281 2081 \n",
       "L 1131 2081 \n",
       "L 1131 0 \n",
       "L 525 0 \n",
       "z\n",
       "\" transform=\"scale(0.015625)\"/>\n",
       "        <path id=\"ArialMT-69\" d=\"M 425 3934 \n",
       "L 425 4581 \n",
       "L 988 4581 \n",
       "L 988 3934 \n",
       "L 425 3934 \n",
       "z\n",
       "M 425 0 \n",
       "L 425 3319 \n",
       "L 988 3319 \n",
       "L 988 0 \n",
       "L 425 0 \n",
       "z\n",
       "\" transform=\"scale(0.015625)\"/>\n",
       "        <path id=\"ArialMT-64\" d=\"M 2575 0 \n",
       "L 2575 419 \n",
       "Q 2259 -75 1647 -75 \n",
       "Q 1250 -75 917 144 \n",
       "Q 584 363 401 755 \n",
       "Q 219 1147 219 1656 \n",
       "Q 219 2153 384 2558 \n",
       "Q 550 2963 881 3178 \n",
       "Q 1213 3394 1622 3394 \n",
       "Q 1922 3394 2156 3267 \n",
       "Q 2391 3141 2538 2938 \n",
       "L 2538 4581 \n",
       "L 3097 4581 \n",
       "L 3097 0 \n",
       "L 2575 0 \n",
       "z\n",
       "M 797 1656 \n",
       "Q 797 1019 1065 703 \n",
       "Q 1334 388 1700 388 \n",
       "Q 2069 388 2326 689 \n",
       "Q 2584 991 2584 1609 \n",
       "Q 2584 2291 2321 2609 \n",
       "Q 2059 2928 1675 2928 \n",
       "Q 1300 2928 1048 2622 \n",
       "Q 797 2316 797 1656 \n",
       "z\n",
       "\" transform=\"scale(0.015625)\"/>\n",
       "        <path id=\"ArialMT-79\" d=\"M 397 -1278 \n",
       "L 334 -750 \n",
       "Q 519 -800 656 -800 \n",
       "Q 844 -800 956 -737 \n",
       "Q 1069 -675 1141 -563 \n",
       "Q 1194 -478 1313 -144 \n",
       "Q 1328 -97 1363 -6 \n",
       "L 103 3319 \n",
       "L 709 3319 \n",
       "L 1400 1397 \n",
       "Q 1534 1031 1641 628 \n",
       "Q 1738 1016 1872 1384 \n",
       "L 2581 3319 \n",
       "L 3144 3319 \n",
       "L 1881 -56 \n",
       "Q 1678 -603 1566 -809 \n",
       "Q 1416 -1088 1222 -1217 \n",
       "Q 1028 -1347 759 -1347 \n",
       "Q 597 -1347 397 -1278 \n",
       "z\n",
       "\" transform=\"scale(0.015625)\"/>\n",
       "       </defs>\n",
       "       <use xlink:href=\"#ArialMT-46\"/>\n",
       "       <use xlink:href=\"#ArialMT-72\" x=\"61.083984\"/>\n",
       "       <use xlink:href=\"#ArialMT-69\" x=\"94.384766\"/>\n",
       "       <use xlink:href=\"#ArialMT-64\" x=\"116.601562\"/>\n",
       "       <use xlink:href=\"#ArialMT-61\" x=\"172.216797\"/>\n",
       "       <use xlink:href=\"#ArialMT-79\" x=\"227.832031\"/>\n",
       "      </g>\n",
       "     </g>\n",
       "    </g>\n",
       "    <g id=\"ytick_2\">\n",
       "     <g id=\"line2d_21\">\n",
       "      <path d=\"M 63.329688 130.509375 \n",
       "L 398.129687 130.509375 \n",
       "\" clip-path=\"url(#p7181826f18)\" style=\"fill: none; stroke: #cccccc; stroke-width: 0.8; stroke-linecap: round\"/>\n",
       "     </g>\n",
       "     <g id=\"line2d_22\"/>\n",
       "     <g id=\"text_12\">\n",
       "      <!-- Monday -->\n",
       "      <g style=\"fill: #262626\" transform=\"translate(24.25625 134.088281)scale(0.1 -0.1)\">\n",
       "       <defs>\n",
       "        <path id=\"ArialMT-4d\" d=\"M 475 0 \n",
       "L 475 4581 \n",
       "L 1388 4581 \n",
       "L 2472 1338 \n",
       "Q 2622 884 2691 659 \n",
       "Q 2769 909 2934 1394 \n",
       "L 4031 4581 \n",
       "L 4847 4581 \n",
       "L 4847 0 \n",
       "L 4263 0 \n",
       "L 4263 3834 \n",
       "L 2931 0 \n",
       "L 2384 0 \n",
       "L 1059 3900 \n",
       "L 1059 0 \n",
       "L 475 0 \n",
       "z\n",
       "\" transform=\"scale(0.015625)\"/>\n",
       "        <path id=\"ArialMT-6e\" d=\"M 422 0 \n",
       "L 422 3319 \n",
       "L 928 3319 \n",
       "L 928 2847 \n",
       "Q 1294 3394 1984 3394 \n",
       "Q 2284 3394 2536 3286 \n",
       "Q 2788 3178 2913 3003 \n",
       "Q 3038 2828 3088 2588 \n",
       "Q 3119 2431 3119 2041 \n",
       "L 3119 0 \n",
       "L 2556 0 \n",
       "L 2556 2019 \n",
       "Q 2556 2363 2490 2533 \n",
       "Q 2425 2703 2258 2804 \n",
       "Q 2091 2906 1866 2906 \n",
       "Q 1506 2906 1245 2678 \n",
       "Q 984 2450 984 1813 \n",
       "L 984 0 \n",
       "L 422 0 \n",
       "z\n",
       "\" transform=\"scale(0.015625)\"/>\n",
       "       </defs>\n",
       "       <use xlink:href=\"#ArialMT-4d\"/>\n",
       "       <use xlink:href=\"#ArialMT-6f\" x=\"83.300781\"/>\n",
       "       <use xlink:href=\"#ArialMT-6e\" x=\"138.916016\"/>\n",
       "       <use xlink:href=\"#ArialMT-64\" x=\"194.53125\"/>\n",
       "       <use xlink:href=\"#ArialMT-61\" x=\"250.146484\"/>\n",
       "       <use xlink:href=\"#ArialMT-79\" x=\"305.761719\"/>\n",
       "      </g>\n",
       "     </g>\n",
       "    </g>\n",
       "    <g id=\"ytick_3\">\n",
       "     <g id=\"line2d_23\">\n",
       "      <path d=\"M 63.329688 59.911972 \n",
       "L 398.129687 59.911972 \n",
       "\" clip-path=\"url(#p7181826f18)\" style=\"fill: none; stroke: #cccccc; stroke-width: 0.8; stroke-linecap: round\"/>\n",
       "     </g>\n",
       "     <g id=\"line2d_24\"/>\n",
       "     <g id=\"text_13\">\n",
       "      <!-- Wednesday -->\n",
       "      <g style=\"fill: #262626\" transform=\"translate(7.2 63.490879)scale(0.1 -0.1)\">\n",
       "       <defs>\n",
       "        <path id=\"ArialMT-57\" d=\"M 1294 0 \n",
       "L 78 4581 \n",
       "L 700 4581 \n",
       "L 1397 1578 \n",
       "Q 1509 1106 1591 641 \n",
       "Q 1766 1375 1797 1488 \n",
       "L 2669 4581 \n",
       "L 3400 4581 \n",
       "L 4056 2263 \n",
       "Q 4303 1400 4413 641 \n",
       "Q 4500 1075 4641 1638 \n",
       "L 5359 4581 \n",
       "L 5969 4581 \n",
       "L 4713 0 \n",
       "L 4128 0 \n",
       "L 3163 3491 \n",
       "Q 3041 3928 3019 4028 \n",
       "Q 2947 3713 2884 3491 \n",
       "L 1913 0 \n",
       "L 1294 0 \n",
       "z\n",
       "\" transform=\"scale(0.015625)\"/>\n",
       "       </defs>\n",
       "       <use xlink:href=\"#ArialMT-57\"/>\n",
       "       <use xlink:href=\"#ArialMT-65\" x=\"92.634766\"/>\n",
       "       <use xlink:href=\"#ArialMT-64\" x=\"148.25\"/>\n",
       "       <use xlink:href=\"#ArialMT-6e\" x=\"203.865234\"/>\n",
       "       <use xlink:href=\"#ArialMT-65\" x=\"259.480469\"/>\n",
       "       <use xlink:href=\"#ArialMT-73\" x=\"315.095703\"/>\n",
       "       <use xlink:href=\"#ArialMT-64\" x=\"365.095703\"/>\n",
       "       <use xlink:href=\"#ArialMT-61\" x=\"420.710938\"/>\n",
       "       <use xlink:href=\"#ArialMT-79\" x=\"476.326172\"/>\n",
       "      </g>\n",
       "     </g>\n",
       "    </g>\n",
       "   </g>\n",
       "   <g id=\"patch_3\">\n",
       "    <path d=\"M 63.329688 229.345739 \n",
       "L 382.18683 229.345739 \n",
       "L 382.18683 172.867817 \n",
       "L 63.329688 172.867817 \n",
       "z\n",
       "\" clip-path=\"url(#p7181826f18)\" style=\"fill: #1f77b4\"/>\n",
       "   </g>\n",
       "   <g id=\"patch_4\">\n",
       "    <path d=\"M 63.329688 158.748336 \n",
       "L 378.087381 158.748336 \n",
       "L 378.087381 102.270414 \n",
       "L 63.329688 102.270414 \n",
       "z\n",
       "\" clip-path=\"url(#p7181826f18)\" style=\"fill: #1f77b4\"/>\n",
       "   </g>\n",
       "   <g id=\"patch_5\">\n",
       "    <path d=\"M 63.329688 88.150933 \n",
       "L 284.419971 88.150933 \n",
       "L 284.419971 31.673011 \n",
       "L 63.329688 31.673011 \n",
       "z\n",
       "\" clip-path=\"url(#p7181826f18)\" style=\"fill: #1f77b4\"/>\n",
       "   </g>\n",
       "   <g id=\"patch_6\">\n",
       "    <path d=\"M 63.329688 239.229375 \n",
       "L 63.329688 21.789375 \n",
       "\" style=\"fill: none; stroke: #cccccc; stroke-linejoin: miter; stroke-linecap: square\"/>\n",
       "   </g>\n",
       "   <g id=\"patch_7\">\n",
       "    <path d=\"M 398.129687 239.229375 \n",
       "L 398.129687 21.789375 \n",
       "\" style=\"fill: none; stroke: #cccccc; stroke-linejoin: miter; stroke-linecap: square\"/>\n",
       "   </g>\n",
       "   <g id=\"patch_8\">\n",
       "    <path d=\"M 63.329688 239.229375 \n",
       "L 398.129687 239.229375 \n",
       "\" style=\"fill: none; stroke: #cccccc; stroke-linejoin: miter; stroke-linecap: square\"/>\n",
       "   </g>\n",
       "   <g id=\"patch_9\">\n",
       "    <path d=\"M 63.329688 21.789375 \n",
       "L 398.129687 21.789375 \n",
       "\" style=\"fill: none; stroke: #cccccc; stroke-linejoin: miter; stroke-linecap: square\"/>\n",
       "   </g>\n",
       "   <g id=\"text_14\">\n",
       "    <!-- Moscow -->\n",
       "    <g style=\"fill: #262626\" transform=\"translate(208.725625 15.789375)scale(0.12 -0.12)\">\n",
       "     <defs>\n",
       "      <path id=\"ArialMT-77\" d=\"M 1034 0 \n",
       "L 19 3319 \n",
       "L 600 3319 \n",
       "L 1128 1403 \n",
       "L 1325 691 \n",
       "Q 1338 744 1497 1375 \n",
       "L 2025 3319 \n",
       "L 2603 3319 \n",
       "L 3100 1394 \n",
       "L 3266 759 \n",
       "L 3456 1400 \n",
       "L 4025 3319 \n",
       "L 4572 3319 \n",
       "L 3534 0 \n",
       "L 2950 0 \n",
       "L 2422 1988 \n",
       "L 2294 2553 \n",
       "L 1622 0 \n",
       "L 1034 0 \n",
       "z\n",
       "\" transform=\"scale(0.015625)\"/>\n",
       "     </defs>\n",
       "     <use xlink:href=\"#ArialMT-4d\"/>\n",
       "     <use xlink:href=\"#ArialMT-6f\" x=\"83.300781\"/>\n",
       "     <use xlink:href=\"#ArialMT-73\" x=\"138.916016\"/>\n",
       "     <use xlink:href=\"#ArialMT-63\" x=\"188.916016\"/>\n",
       "     <use xlink:href=\"#ArialMT-6f\" x=\"238.916016\"/>\n",
       "     <use xlink:href=\"#ArialMT-77\" x=\"294.53125\"/>\n",
       "    </g>\n",
       "   </g>\n",
       "  </g>\n",
       " </g>\n",
       " <defs>\n",
       "  <clipPath id=\"p7181826f18\">\n",
       "   <rect x=\"63.329688\" y=\"21.789375\" width=\"334.8\" height=\"217.44\"/>\n",
       "  </clipPath>\n",
       " </defs>\n",
       "</svg>\n"
      ],
      "text/plain": [
       "<Figure size 432x288 with 1 Axes>"
      ]
     },
     "metadata": {},
     "output_type": "display_data"
    }
   ],
   "source": [
    "group_city_day = df.groupby(['city', 'day']).apply(lambda x: x.sort_values(['day'],ascending=False).count())['user_id']\n",
    "print(group_city_day)            \n",
    "city_name = df['city'].unique() # Отображение общей таблицы\n",
    "\n",
    "for elem in city_name:               \n",
    "    filter_city = group_city_day[elem]                          \n",
    "    fig, ax = plt.subplots()                                    \n",
    "    ax.barh(filter_city.index, filter_city.values)\n",
    "    ax.set(xlabel='Number of tracks', title=elem)"
   ]
  },
  {
   "cell_type": "code",
   "execution_count": 23,
   "metadata": {},
   "outputs": [
    {
     "data": {
      "text/plain": [
       "day\n",
       "Friday       21840\n",
       "Monday       21354\n",
       "Wednesday    18059\n",
       "Name: track, dtype: int64"
      ]
     },
     "execution_count": 23,
     "metadata": {},
     "output_type": "execute_result"
    }
   ],
   "source": [
    "df.groupby('day')['track'].count()"
   ]
  },
  {
   "cell_type": "markdown",
   "metadata": {
    "id": "cC2tNrlL_Zcu"
   },
   "source": [
    "В среднем пользователи из двух городов менее активны по средам. Но картина может измениться, если рассмотреть каждый город в отдельности."
   ]
  },
  {
   "cell_type": "markdown",
   "metadata": {
    "id": "POzs8bGa_Zcu"
   },
   "source": [
    "Теперь напишем функцию, которая объединит два эти расчёта.\n",
    "\n",
    "Создадим функцию `number_tracks()`, которая посчитает прослушивания для заданного дня и города. Ей понадобятся два параметра:\n",
    "* день недели,\n",
    "* название города.\n",
    "\n",
    "В функции сохраним в переменную строки исходной таблицы, у которых значение:\n",
    "  * в колонке `day` равно параметру `day`,\n",
    "  * в колонке `city` равно параметру `city`.\n",
    "\n",
    "Для этого применим последовательную фильтрацию с логической индексацией.\n",
    "\n",
    "Затем посчитаем значения в столбце `user_id` получившейся таблицы. Результат сохраним в новую переменную. Вернем эту переменную из функции."
   ]
  },
  {
   "cell_type": "code",
   "execution_count": 24,
   "metadata": {
    "id": "Nz3GdQB1_Zcu"
   },
   "outputs": [],
   "source": [
    "def number_tracks(day, city):\n",
    "    \n",
    "    track_list = df[(df['day']==day) & (df['city']==city)]\n",
    "    track_list_count = track_list['user_id'].count()\n",
    "    return track_list_count"
   ]
  },
  {
   "cell_type": "markdown",
   "metadata": {
    "id": "ytf7xFrFJQ2r"
   },
   "source": [
    "Вызовем `number_tracks()` шесть раз, меняя значение параметров — так, чтобы получить данные для каждого города в каждый из трёх дней."
   ]
  },
  {
   "cell_type": "code",
   "execution_count": 25,
   "metadata": {
    "id": "rJcRATNQ_Zcu"
   },
   "outputs": [
    {
     "data": {
      "text/plain": [
       "15740"
      ]
     },
     "execution_count": 25,
     "metadata": {},
     "output_type": "execute_result"
    }
   ],
   "source": [
    "# количество прослушиваний в Москве по понедельникам\n",
    "number_tracks('Monday', 'Moscow')"
   ]
  },
  {
   "cell_type": "code",
   "execution_count": 26,
   "metadata": {
    "id": "hq_ncZ5T_Zcu"
   },
   "outputs": [
    {
     "data": {
      "text/plain": [
       "5614"
      ]
     },
     "execution_count": 26,
     "metadata": {},
     "output_type": "execute_result"
    }
   ],
   "source": [
    "# количество прослушиваний в Санкт-Петербурге по понедельникам\n",
    "number_tracks('Monday', 'Saint-Petersburg')"
   ]
  },
  {
   "cell_type": "code",
   "execution_count": 27,
   "metadata": {
    "id": "_NTy2VPU_Zcu"
   },
   "outputs": [
    {
     "data": {
      "text/plain": [
       "11056"
      ]
     },
     "execution_count": 27,
     "metadata": {},
     "output_type": "execute_result"
    }
   ],
   "source": [
    "# количество прослушиваний в Москве по средам\n",
    "number_tracks('Wednesday', 'Moscow')"
   ]
  },
  {
   "cell_type": "code",
   "execution_count": 28,
   "metadata": {
    "id": "j2y3TAwo_Zcu"
   },
   "outputs": [
    {
     "data": {
      "text/plain": [
       "7003"
      ]
     },
     "execution_count": 28,
     "metadata": {},
     "output_type": "execute_result"
    }
   ],
   "source": [
    "# количество прослушиваний в Санкт-Петербурге по средам\n",
    "number_tracks('Wednesday', 'Saint-Petersburg')"
   ]
  },
  {
   "cell_type": "code",
   "execution_count": 29,
   "metadata": {
    "id": "vYDw5u_K_Zcu"
   },
   "outputs": [
    {
     "data": {
      "text/plain": [
       "15945"
      ]
     },
     "execution_count": 29,
     "metadata": {},
     "output_type": "execute_result"
    }
   ],
   "source": [
    "# количество прослушиваний в Москве по пятницам\n",
    "number_tracks('Friday', 'Moscow')"
   ]
  },
  {
   "cell_type": "code",
   "execution_count": 30,
   "metadata": {
    "id": "8_yzFtW3_Zcu"
   },
   "outputs": [
    {
     "data": {
      "text/plain": [
       "5895"
      ]
     },
     "execution_count": 30,
     "metadata": {},
     "output_type": "execute_result"
    }
   ],
   "source": [
    "# количество прослушиваний в Санкт-Петербурге по пятницам\n",
    "number_tracks('Friday', 'Saint-Petersburg')"
   ]
  },
  {
   "cell_type": "markdown",
   "metadata": {
    "id": "7QXffbO-_Zcu"
   },
   "source": [
    "Создайдим c помощью конструктора `pd.DataFrame` таблицу, где:\n",
    "* названия колонок — `['city', 'monday', 'wednesday', 'friday']`;\n",
    "* данные — результаты, которые вы получили с помощью `number_tracks`."
   ]
  },
  {
   "cell_type": "code",
   "execution_count": 31,
   "metadata": {
    "id": "APAcLpOr_Zcu"
   },
   "outputs": [
    {
     "data": {
      "text/html": [
       "<div>\n",
       "<style scoped>\n",
       "    .dataframe tbody tr th:only-of-type {\n",
       "        vertical-align: middle;\n",
       "    }\n",
       "\n",
       "    .dataframe tbody tr th {\n",
       "        vertical-align: top;\n",
       "    }\n",
       "\n",
       "    .dataframe thead th {\n",
       "        text-align: right;\n",
       "    }\n",
       "</style>\n",
       "<table border=\"1\" class=\"dataframe\">\n",
       "  <thead>\n",
       "    <tr style=\"text-align: right;\">\n",
       "      <th>day</th>\n",
       "      <th>Monday</th>\n",
       "      <th>Wednesday</th>\n",
       "      <th>Friday</th>\n",
       "    </tr>\n",
       "    <tr>\n",
       "      <th>city</th>\n",
       "      <th></th>\n",
       "      <th></th>\n",
       "      <th></th>\n",
       "    </tr>\n",
       "  </thead>\n",
       "  <tbody>\n",
       "    <tr>\n",
       "      <th>Moscow</th>\n",
       "      <td>15740</td>\n",
       "      <td>11056</td>\n",
       "      <td>15945</td>\n",
       "    </tr>\n",
       "    <tr>\n",
       "      <th>Saint-Petersburg</th>\n",
       "      <td>5614</td>\n",
       "      <td>7003</td>\n",
       "      <td>5895</td>\n",
       "    </tr>\n",
       "  </tbody>\n",
       "</table>\n",
       "</div>"
      ],
      "text/plain": [
       "day               Monday  Wednesday  Friday\n",
       "city                                       \n",
       "Moscow             15740      11056   15945\n",
       "Saint-Petersburg    5614       7003    5895"
      ]
     },
     "execution_count": 31,
     "metadata": {},
     "output_type": "execute_result"
    }
   ],
   "source": [
    "# Таблица с результатами\n",
    "group_city_day.unstack()[['Monday', 'Wednesday', 'Friday']]"
   ]
  },
  {
   "cell_type": "markdown",
   "metadata": {
    "id": "-EgPIHYu_Zcu"
   },
   "source": [
    "**Выводы**\n",
    "\n",
    "Данные показывают разницу поведения пользователей:\n",
    "\n",
    "- В Москве пик прослушиваний приходится на понедельник и пятницу, а в среду заметен спад.\n",
    "- В Петербурге, наоборот, больше слушают музыку по средам. Активность в понедельник и пятницу здесь почти в равной мере уступает среде.\n",
    "\n",
    "Значит, данные говорят в пользу первой гипотезы."
   ]
  },
  {
   "cell_type": "markdown",
   "metadata": {
    "id": "atZAxtq4_Zcu"
   },
   "source": [
    "### Музыка в начале и в конце недели"
   ]
  },
  {
   "cell_type": "markdown",
   "metadata": {
    "id": "eXrQqXFH_Zcu"
   },
   "source": [
    "Согласно второй гипотезе, утром в понедельник в Москве преобладают одни жанры, а в Петербурге — другие. Так же и вечером пятницы преобладают разные жанры — в зависимости от города."
   ]
  },
  {
   "cell_type": "markdown",
   "metadata": {
    "id": "S8UcW6Hw_Zcu"
   },
   "source": [
    "Сохраним таблицы с данными в две переменные:\n",
    "* по Москве — в `moscow_general`;\n",
    "* по Санкт-Петербургу — в `spb_general`."
   ]
  },
  {
   "cell_type": "code",
   "execution_count": 32,
   "metadata": {
    "id": "ORaVRKto_Zcu"
   },
   "outputs": [],
   "source": [
    "moscow_general = df[df['city']=='Moscow']\n",
    "spb_general = df[df['city']=='Saint-Petersburg']"
   ]
  },
  {
   "cell_type": "markdown",
   "metadata": {
    "id": "MEJV-CX2_Zcu"
   },
   "source": [
    "Создадим функцию `genre_weekday()` с четырьмя параметрами:\n",
    "* таблица (датафрейм) с данными,\n",
    "* день недели,\n",
    "* начальная временная метка в формате 'hh:mm', \n",
    "* последняя временная метка в формате 'hh:mm'.\n",
    "\n",
    "Функция должна вернуть информацию о топ-10 жанров тех треков, которые прослушивали в указанный день, в промежутке между двумя отметками времени."
   ]
  },
  {
   "cell_type": "code",
   "execution_count": 33,
   "metadata": {
    "id": "laJT9BYl_Zcu"
   },
   "outputs": [],
   "source": [
    "def genre_weekday(table, day, time1, time2):\n",
    "    \n",
    "    genre_df = table[(table['day']==day) & (table['time']>time1) & (table['time']<time2)]\n",
    "    genre_df_count = genre_df.groupby('genre')['user_id'].count()\n",
    "    genre_df_sorted = genre_df_count.sort_values(ascending = False)\n",
    "    return genre_df_sorted.head(10)"
   ]
  },
  {
   "cell_type": "markdown",
   "metadata": {
    "id": "la2s2_PF_Zcu"
   },
   "source": [
    "Cравним результаты функции `genre_weekday()` для Москвы и Санкт-Петербурга в понедельник утром (с 7:00 до 11:00) и в пятницу вечером (с 17:00 до 23:00):"
   ]
  },
  {
   "cell_type": "code",
   "execution_count": 34,
   "metadata": {
    "id": "yz7itPUQ_Zcu"
   },
   "outputs": [
    {
     "data": {
      "text/plain": [
       "genre\n",
       "pop            781\n",
       "dance          549\n",
       "electronic     480\n",
       "rock           474\n",
       "hiphop         286\n",
       "ruspop         186\n",
       "world          181\n",
       "rusrap         175\n",
       "alternative    164\n",
       "unknown        161\n",
       "Name: user_id, dtype: int64"
      ]
     },
     "execution_count": 34,
     "metadata": {},
     "output_type": "execute_result"
    }
   ],
   "source": [
    "genre_weekday(moscow_general, 'Monday', '07:00', '11:00')"
   ]
  },
  {
   "cell_type": "code",
   "execution_count": 35,
   "metadata": {
    "id": "kwUcHPdy_Zcu"
   },
   "outputs": [
    {
     "data": {
      "text/plain": [
       "genre\n",
       "pop            218\n",
       "dance          182\n",
       "rock           162\n",
       "electronic     147\n",
       "hiphop          80\n",
       "ruspop          64\n",
       "alternative     58\n",
       "rusrap          55\n",
       "jazz            44\n",
       "classical       40\n",
       "Name: user_id, dtype: int64"
      ]
     },
     "execution_count": 35,
     "metadata": {},
     "output_type": "execute_result"
    }
   ],
   "source": [
    "genre_weekday(spb_general, 'Monday', '07:00', '11:00')"
   ]
  },
  {
   "cell_type": "code",
   "execution_count": 36,
   "metadata": {
    "id": "EzXVRE1o_Zcu"
   },
   "outputs": [
    {
     "data": {
      "text/plain": [
       "genre\n",
       "pop            710\n",
       "rock           508\n",
       "dance          489\n",
       "electronic     478\n",
       "hiphop         273\n",
       "world          206\n",
       "ruspop         169\n",
       "alternative    163\n",
       "classical      160\n",
       "rusrap         139\n",
       "Name: user_id, dtype: int64"
      ]
     },
     "execution_count": 36,
     "metadata": {},
     "output_type": "execute_result"
    }
   ],
   "source": [
    "genre_weekday(moscow_general, 'Friday', '18:00', '22:00')"
   ]
  },
  {
   "cell_type": "code",
   "execution_count": 37,
   "metadata": {
    "id": "JZaEKu5v_Zcu"
   },
   "outputs": [
    {
     "data": {
      "text/plain": [
       "genre\n",
       "pop            254\n",
       "electronic     216\n",
       "rock           215\n",
       "dance          207\n",
       "hiphop          93\n",
       "alternative     63\n",
       "jazz            60\n",
       "rusrap          59\n",
       "classical       59\n",
       "world           54\n",
       "Name: user_id, dtype: int64"
      ]
     },
     "execution_count": 37,
     "metadata": {},
     "output_type": "execute_result"
    }
   ],
   "source": [
    "genre_weekday(spb_general, 'Friday', '18:00', '22:00')"
   ]
  },
  {
   "cell_type": "markdown",
   "metadata": {
    "id": "wrCe4MNX_Zcu"
   },
   "source": [
    "**Выводы**\n",
    "\n",
    "Если сравнить топ-10 жанров в понедельник утром, можно сделать такие выводы:\n",
    "\n",
    "1. В Москве и Петербурге слушают похожую музыку. Единственное отличие — в московский рейтинг вошёл жанр “world”, а в петербургский — джаз и классика.\n",
    "\n",
    "2. В Москве пропущенных значений оказалось так много, что значение `'unknown'` заняло десятое место среди самых популярных жанров. Значит, пропущенные значения занимают существенную долю в данных и угрожают достоверности исследования.\n",
    "\n",
    "Вечер пятницы не меняет эту картину. Некоторые жанры поднимаются немного выше, другие спускаются, но в целом топ-10 остаётся тем же самым.\n",
    "\n",
    "Таким образом, вторая гипотеза подтвердилась лишь частично:\n",
    "* Пользователи слушают похожую музыку в начале недели и в конце.\n",
    "* Разница между Москвой и Петербургом не слишком выражена. В Москве чаще слушают русскую популярную музыку, в Петербурге — джаз.\n",
    "\n",
    "Однако пропуски в данных ставят под сомнение этот результат. В Москве их так много, что рейтинг топ-10 мог бы выглядеть иначе, если бы не утерянные  данные о жанрах."
   ]
  },
  {
   "cell_type": "markdown",
   "metadata": {
    "id": "JolODAqr_Zcu"
   },
   "source": [
    "### Жанровые предпочтения в Москве и Петербурге\n",
    "\n",
    "Гипотеза: Петербург — столица рэпа, музыку этого жанра там слушают чаще, чем в Москве.  А Москва — город контрастов, в котором, тем не менее, преобладает поп-музыка."
   ]
  },
  {
   "cell_type": "markdown",
   "metadata": {
    "id": "DlegSvaT_Zcu"
   },
   "source": [
    "Сгруппируем таблицу `moscow_general` по жанру и посчитайте прослушивания треков каждого жанра методом `count()`. Затем отсортируем результат в порядке убывания и сохраните его в таблице `moscow_genres`."
   ]
  },
  {
   "cell_type": "code",
   "execution_count": 38,
   "metadata": {
    "id": "r19lIPke_Zcu"
   },
   "outputs": [],
   "source": [
    "moscow_genres = moscow_general.groupby('genre')['user_id'].count().sort_values(ascending = False)"
   ]
  },
  {
   "cell_type": "markdown",
   "metadata": {
    "id": "6kMuomxTiIr8"
   },
   "source": [
    "Выведем на экран первые десять строк `moscow_genres`:"
   ]
  },
  {
   "cell_type": "code",
   "execution_count": 39,
   "metadata": {
    "id": "WhCSooF8_Zcv"
   },
   "outputs": [
    {
     "data": {
      "text/plain": [
       "genre\n",
       "pop            5892\n",
       "dance          4435\n",
       "rock           3965\n",
       "electronic     3786\n",
       "hiphop         2096\n",
       "classical      1616\n",
       "world          1432\n",
       "alternative    1379\n",
       "ruspop         1372\n",
       "rusrap         1161\n",
       "Name: user_id, dtype: int64"
      ]
     },
     "execution_count": 39,
     "metadata": {},
     "output_type": "execute_result"
    }
   ],
   "source": [
    "moscow_genres.head(10)"
   ]
  },
  {
   "cell_type": "code",
   "execution_count": 40,
   "metadata": {
    "id": "gluLIpE7_Zcv"
   },
   "outputs": [
    {
     "data": {
      "text/plain": [
       "genre\n",
       "pop            2431\n",
       "dance          1932\n",
       "rock           1879\n",
       "electronic     1736\n",
       "hiphop          960\n",
       "alternative     649\n",
       "classical       646\n",
       "rusrap          564\n",
       "ruspop          538\n",
       "world           515\n",
       "Name: user_id, dtype: int64"
      ]
     },
     "execution_count": 40,
     "metadata": {},
     "output_type": "execute_result"
    }
   ],
   "source": [
    "spb_genres = spb_general.groupby('genre')['user_id'].count().sort_values(ascending = False)\n",
    "spb_genres.head(10)"
   ]
  },
  {
   "cell_type": "markdown",
   "metadata": {
    "id": "RY51YJYu_Zcv"
   },
   "source": [
    "**Выводы**"
   ]
  },
  {
   "cell_type": "markdown",
   "metadata": {
    "id": "nVhnJEm__Zcv"
   },
   "source": [
    "Гипотеза частично подтвердилась:\n",
    "* Поп-музыка — самый популярный жанр в Москве, как и предполагала гипотеза. Более того, в топ-10 жанров встречается близкий жанр — русская популярная музыка.\n",
    "* Вопреки ожиданиям, рэп одинаково популярен в Москве и Петербурге. \n"
   ]
  },
  {
   "cell_type": "markdown",
   "metadata": {
    "id": "ykKQ0N65_Zcv"
   },
   "source": [
    "## Итоги исследования"
   ]
  },
  {
   "cell_type": "markdown",
   "metadata": {
    "id": "tjUwbHb3_Zcv"
   },
   "source": [
    "Мы проверили три гипотезы и установили:\n",
    "\n",
    "1. День недели по-разному влияет на активность пользователей в Москве и Петербурге. \n",
    "\n",
    "Первая гипотеза полностью подтвердилась.\n",
    "\n",
    "2. Музыкальные предпочтения не сильно меняются в течение недели — будь то Москва или Петербург. Небольшие различия заметны в начале недели, по понедельникам:\n",
    "* в Москве слушают музыку жанра “world”,\n",
    "* в Петербурге — джаз и классику.\n",
    "\n",
    "Таким образом, вторая гипотеза подтвердилась лишь отчасти. Этот результат мог оказаться иным, если бы не пропуски в данных.\n",
    "\n",
    "3. Во вкусах пользователей Москвы и Петербурга больше общего чем различий. Вопреки ожиданиям, предпочтения жанров в Петербурге напоминают московские.\n",
    "\n",
    "Третья гипотеза не подтвердилась. Если различия в предпочтениях и существуют, на основной массе пользователей они незаметны."
   ]
  }
 ],
 "metadata": {
  "ExecuteTimeLog": [
   {
    "duration": 797,
    "start_time": "2021-12-27T18:46:03.921Z"
   },
   {
    "duration": 3772,
    "start_time": "2021-12-27T18:46:59.913Z"
   },
   {
    "duration": 182,
    "start_time": "2021-12-27T18:47:08.588Z"
   },
   {
    "duration": 28,
    "start_time": "2021-12-27T18:47:18.013Z"
   },
   {
    "duration": 13,
    "start_time": "2021-12-27T18:47:26.707Z"
   },
   {
    "duration": 15,
    "start_time": "2021-12-27T18:47:35.692Z"
   },
   {
    "duration": 34,
    "start_time": "2021-12-27T18:47:44.047Z"
   },
   {
    "duration": 284,
    "start_time": "2021-12-27T18:47:55.583Z"
   },
   {
    "duration": 290,
    "start_time": "2021-12-27T18:48:05.182Z"
   },
   {
    "duration": 36,
    "start_time": "2021-12-27T18:48:21.009Z"
   },
   {
    "duration": 15,
    "start_time": "2021-12-27T18:48:38.236Z"
   },
   {
    "duration": 34,
    "start_time": "2021-12-27T18:48:54.335Z"
   },
   {
    "duration": 604,
    "start_time": "2021-12-28T12:28:11.724Z"
   },
   {
    "duration": 831,
    "start_time": "2021-12-28T12:28:21.445Z"
   },
   {
    "duration": 176,
    "start_time": "2021-12-28T12:28:22.279Z"
   },
   {
    "duration": 24,
    "start_time": "2021-12-28T12:28:22.458Z"
   },
   {
    "duration": 74,
    "start_time": "2021-12-28T12:28:22.485Z"
   },
   {
    "duration": 5,
    "start_time": "2021-12-28T12:28:29.210Z"
   },
   {
    "duration": 4,
    "start_time": "2021-12-28T12:28:46.759Z"
   },
   {
    "duration": 429,
    "start_time": "2021-12-28T12:29:57.568Z"
   },
   {
    "duration": 23,
    "start_time": "2021-12-28T12:30:43.488Z"
   },
   {
    "duration": 5,
    "start_time": "2021-12-28T12:30:45.999Z"
   },
   {
    "duration": 3,
    "start_time": "2021-12-28T12:31:08.597Z"
   },
   {
    "duration": 186,
    "start_time": "2021-12-28T12:31:08.603Z"
   },
   {
    "duration": 14,
    "start_time": "2021-12-28T12:31:08.793Z"
   },
   {
    "duration": 51,
    "start_time": "2021-12-28T12:31:08.810Z"
   },
   {
    "duration": 5,
    "start_time": "2021-12-28T12:31:08.864Z"
   },
   {
    "duration": 20,
    "start_time": "2021-12-28T12:31:08.948Z"
   },
   {
    "duration": 6,
    "start_time": "2021-12-28T12:31:10.754Z"
   },
   {
    "duration": 40,
    "start_time": "2021-12-28T12:31:39.508Z"
   },
   {
    "duration": 31,
    "start_time": "2021-12-28T12:31:46.371Z"
   },
   {
    "duration": 21,
    "start_time": "2021-12-28T12:34:08.596Z"
   },
   {
    "duration": 29,
    "start_time": "2021-12-28T12:34:15.277Z"
   },
   {
    "duration": 90,
    "start_time": "2021-12-28T12:34:31.657Z"
   },
   {
    "duration": 90,
    "start_time": "2021-12-28T12:34:38.364Z"
   },
   {
    "duration": 92,
    "start_time": "2021-12-28T12:36:18.068Z"
   },
   {
    "duration": 77,
    "start_time": "2021-12-28T12:36:22.837Z"
   },
   {
    "duration": 9,
    "start_time": "2021-12-28T12:36:52.338Z"
   },
   {
    "duration": 9,
    "start_time": "2021-12-28T12:37:22.107Z"
   },
   {
    "duration": 20,
    "start_time": "2021-12-28T12:39:51.017Z"
   },
   {
    "duration": 857,
    "start_time": "2021-12-28T16:55:29.838Z"
   },
   {
    "duration": 146,
    "start_time": "2021-12-28T16:55:30.697Z"
   },
   {
    "duration": 23,
    "start_time": "2021-12-28T16:55:30.845Z"
   },
   {
    "duration": 33,
    "start_time": "2021-12-28T16:55:30.870Z"
   },
   {
    "duration": 11,
    "start_time": "2021-12-28T16:55:30.905Z"
   },
   {
    "duration": 24,
    "start_time": "2021-12-28T16:55:30.917Z"
   },
   {
    "duration": 5,
    "start_time": "2021-12-28T16:55:30.943Z"
   },
   {
    "duration": 26,
    "start_time": "2021-12-28T16:55:30.962Z"
   },
   {
    "duration": 24,
    "start_time": "2021-12-28T16:55:30.990Z"
   },
   {
    "duration": 33,
    "start_time": "2021-12-28T16:55:31.015Z"
   },
   {
    "duration": 67,
    "start_time": "2021-12-28T16:55:31.050Z"
   },
   {
    "duration": 86,
    "start_time": "2021-12-28T16:55:31.118Z"
   },
   {
    "duration": 57,
    "start_time": "2021-12-28T16:55:31.206Z"
   },
   {
    "duration": 9,
    "start_time": "2021-12-28T16:55:31.264Z"
   },
   {
    "duration": 370,
    "start_time": "2021-12-28T16:55:42.243Z"
   },
   {
    "duration": 4,
    "start_time": "2021-12-28T16:55:52.486Z"
   },
   {
    "duration": 308,
    "start_time": "2021-12-28T16:58:20.372Z"
   },
   {
    "duration": 13,
    "start_time": "2021-12-28T16:58:41.865Z"
   },
   {
    "duration": 10,
    "start_time": "2021-12-28T16:59:09.467Z"
   },
   {
    "duration": 4,
    "start_time": "2021-12-28T17:07:14.549Z"
   },
   {
    "duration": 529,
    "start_time": "2021-12-28T17:09:57.423Z"
   },
   {
    "duration": 6,
    "start_time": "2021-12-28T17:10:36.502Z"
   },
   {
    "duration": 42,
    "start_time": "2021-12-28T17:10:38.739Z"
   },
   {
    "duration": 5,
    "start_time": "2021-12-28T17:11:02.981Z"
   },
   {
    "duration": 33,
    "start_time": "2021-12-28T17:11:04.071Z"
   },
   {
    "duration": 2,
    "start_time": "2021-12-28T17:11:27.108Z"
   },
   {
    "duration": 139,
    "start_time": "2021-12-28T17:11:27.113Z"
   },
   {
    "duration": 9,
    "start_time": "2021-12-28T17:11:27.254Z"
   },
   {
    "duration": 33,
    "start_time": "2021-12-28T17:11:27.266Z"
   },
   {
    "duration": 5,
    "start_time": "2021-12-28T17:11:27.301Z"
   },
   {
    "duration": 28,
    "start_time": "2021-12-28T17:11:27.307Z"
   },
   {
    "duration": 4,
    "start_time": "2021-12-28T17:11:27.337Z"
   },
   {
    "duration": 55,
    "start_time": "2021-12-28T17:11:27.342Z"
   },
   {
    "duration": 27,
    "start_time": "2021-12-28T17:11:27.400Z"
   },
   {
    "duration": 35,
    "start_time": "2021-12-28T17:11:27.429Z"
   },
   {
    "duration": 72,
    "start_time": "2021-12-28T17:11:27.465Z"
   },
   {
    "duration": 73,
    "start_time": "2021-12-28T17:11:27.539Z"
   },
   {
    "duration": 60,
    "start_time": "2021-12-28T17:11:27.614Z"
   },
   {
    "duration": 10,
    "start_time": "2021-12-28T17:11:27.675Z"
   },
   {
    "duration": 6,
    "start_time": "2021-12-28T17:11:27.687Z"
   },
   {
    "duration": 37,
    "start_time": "2021-12-28T17:11:27.695Z"
   },
   {
    "duration": 87,
    "start_time": "2021-12-28T17:12:06.147Z"
   },
   {
    "duration": 4,
    "start_time": "2021-12-28T17:12:15.761Z"
   },
   {
    "duration": 32,
    "start_time": "2021-12-28T17:12:17.152Z"
   },
   {
    "duration": 3,
    "start_time": "2021-12-28T17:12:25.175Z"
   },
   {
    "duration": 146,
    "start_time": "2021-12-28T17:12:25.180Z"
   },
   {
    "duration": 11,
    "start_time": "2021-12-28T17:12:25.328Z"
   },
   {
    "duration": 31,
    "start_time": "2021-12-28T17:12:25.341Z"
   },
   {
    "duration": 7,
    "start_time": "2021-12-28T17:12:25.374Z"
   },
   {
    "duration": 22,
    "start_time": "2021-12-28T17:12:25.383Z"
   },
   {
    "duration": 3,
    "start_time": "2021-12-28T17:12:25.407Z"
   },
   {
    "duration": 26,
    "start_time": "2021-12-28T17:12:25.412Z"
   },
   {
    "duration": 32,
    "start_time": "2021-12-28T17:12:25.440Z"
   },
   {
    "duration": 23,
    "start_time": "2021-12-28T17:12:25.473Z"
   },
   {
    "duration": 72,
    "start_time": "2021-12-28T17:12:25.497Z"
   },
   {
    "duration": 65,
    "start_time": "2021-12-28T17:12:25.571Z"
   },
   {
    "duration": 64,
    "start_time": "2021-12-28T17:12:25.637Z"
   },
   {
    "duration": 9,
    "start_time": "2021-12-28T17:12:25.703Z"
   },
   {
    "duration": 4,
    "start_time": "2021-12-28T17:12:25.714Z"
   },
   {
    "duration": 56,
    "start_time": "2021-12-28T17:12:25.719Z"
   },
   {
    "duration": 11,
    "start_time": "2021-12-28T17:13:28.495Z"
   },
   {
    "duration": 9,
    "start_time": "2021-12-28T17:13:42.984Z"
   },
   {
    "duration": 10,
    "start_time": "2021-12-28T17:15:14.332Z"
   },
   {
    "duration": 24,
    "start_time": "2021-12-28T17:16:48.023Z"
   },
   {
    "duration": 348,
    "start_time": "2021-12-28T17:17:27.441Z"
   },
   {
    "duration": 13,
    "start_time": "2021-12-28T17:17:39.786Z"
   },
   {
    "duration": 65,
    "start_time": "2021-12-28T17:19:49.191Z"
   },
   {
    "duration": 57,
    "start_time": "2021-12-28T17:25:49.297Z"
   },
   {
    "duration": 91,
    "start_time": "2021-12-28T17:25:59.085Z"
   },
   {
    "duration": 96,
    "start_time": "2021-12-28T17:26:06.010Z"
   },
   {
    "duration": 81,
    "start_time": "2021-12-28T17:28:17.945Z"
   },
   {
    "duration": 65,
    "start_time": "2021-12-28T17:29:08.334Z"
   },
   {
    "duration": 67,
    "start_time": "2021-12-28T17:31:00.686Z"
   },
   {
    "duration": 25,
    "start_time": "2021-12-28T17:43:21.603Z"
   },
   {
    "duration": 6,
    "start_time": "2021-12-28T17:43:46.760Z"
   },
   {
    "duration": 6,
    "start_time": "2021-12-28T17:43:55.241Z"
   },
   {
    "duration": 13,
    "start_time": "2021-12-28T17:44:49.815Z"
   },
   {
    "duration": 256,
    "start_time": "2021-12-28T17:45:09.375Z"
   },
   {
    "duration": 16,
    "start_time": "2021-12-28T17:45:46.747Z"
   },
   {
    "duration": 18,
    "start_time": "2021-12-28T17:46:14.283Z"
   },
   {
    "duration": 83,
    "start_time": "2021-12-28T17:47:43.437Z"
   },
   {
    "duration": 17,
    "start_time": "2021-12-28T17:48:15.759Z"
   },
   {
    "duration": 6,
    "start_time": "2021-12-28T17:49:33.363Z"
   },
   {
    "duration": 202,
    "start_time": "2021-12-28T17:50:26.395Z"
   },
   {
    "duration": 6,
    "start_time": "2021-12-28T17:50:49.970Z"
   },
   {
    "duration": 185,
    "start_time": "2021-12-28T17:51:07.625Z"
   },
   {
    "duration": 99,
    "start_time": "2021-12-28T17:51:56.750Z"
   },
   {
    "duration": 6,
    "start_time": "2021-12-28T17:52:01.083Z"
   },
   {
    "duration": 142,
    "start_time": "2021-12-28T17:52:45.052Z"
   },
   {
    "duration": 433,
    "start_time": "2021-12-28T17:55:09.487Z"
   },
   {
    "duration": 264,
    "start_time": "2021-12-28T17:56:11.357Z"
   },
   {
    "duration": 251,
    "start_time": "2021-12-28T17:56:22.563Z"
   },
   {
    "duration": 4,
    "start_time": "2021-12-28T17:57:30.205Z"
   },
   {
    "duration": 252,
    "start_time": "2021-12-28T17:57:38.144Z"
   },
   {
    "duration": 4,
    "start_time": "2021-12-28T17:57:41.152Z"
   },
   {
    "duration": 5,
    "start_time": "2021-12-28T17:58:03.473Z"
   },
   {
    "duration": 5,
    "start_time": "2021-12-28T17:58:09.138Z"
   },
   {
    "duration": 5,
    "start_time": "2021-12-28T17:58:28.679Z"
   },
   {
    "duration": 275,
    "start_time": "2021-12-28T17:58:51.071Z"
   },
   {
    "duration": 4,
    "start_time": "2021-12-28T17:59:01.565Z"
   },
   {
    "duration": 156,
    "start_time": "2021-12-28T17:59:09.513Z"
   },
   {
    "duration": 4,
    "start_time": "2021-12-28T17:59:12.104Z"
   },
   {
    "duration": 509,
    "start_time": "2021-12-28T17:59:31.519Z"
   },
   {
    "duration": 262,
    "start_time": "2021-12-28T18:00:07.784Z"
   },
   {
    "duration": 5,
    "start_time": "2021-12-28T18:00:26.035Z"
   },
   {
    "duration": 5,
    "start_time": "2021-12-28T18:00:27.649Z"
   },
   {
    "duration": 327,
    "start_time": "2021-12-28T18:00:35.323Z"
   },
   {
    "duration": 5,
    "start_time": "2021-12-28T18:00:37.874Z"
   },
   {
    "duration": 166,
    "start_time": "2021-12-28T18:01:01.996Z"
   },
   {
    "duration": 6,
    "start_time": "2021-12-28T18:04:31.516Z"
   },
   {
    "duration": 6,
    "start_time": "2021-12-28T18:04:54.913Z"
   },
   {
    "duration": 310,
    "start_time": "2021-12-28T18:07:17.679Z"
   },
   {
    "duration": 285,
    "start_time": "2021-12-28T18:07:28.920Z"
   },
   {
    "duration": 333,
    "start_time": "2021-12-28T18:07:53.940Z"
   },
   {
    "duration": 329,
    "start_time": "2021-12-28T18:10:00.643Z"
   },
   {
    "duration": 25,
    "start_time": "2021-12-28T18:10:47.264Z"
   },
   {
    "duration": 336,
    "start_time": "2021-12-28T18:11:33.998Z"
   },
   {
    "duration": 414,
    "start_time": "2021-12-28T18:12:43.651Z"
   },
   {
    "duration": 3,
    "start_time": "2021-12-28T18:13:12.849Z"
   },
   {
    "duration": 413,
    "start_time": "2021-12-28T18:13:14.032Z"
   },
   {
    "duration": 323,
    "start_time": "2021-12-28T18:13:26.988Z"
   },
   {
    "duration": 9,
    "start_time": "2021-12-28T18:19:55.829Z"
   },
   {
    "duration": 6939,
    "start_time": "2021-12-28T18:21:51.182Z"
   },
   {
    "duration": 10,
    "start_time": "2021-12-28T18:22:09.444Z"
   },
   {
    "duration": 684,
    "start_time": "2021-12-30T18:56:25.776Z"
   },
   {
    "duration": 134,
    "start_time": "2021-12-30T18:56:26.462Z"
   },
   {
    "duration": 12,
    "start_time": "2021-12-30T18:56:26.598Z"
   },
   {
    "duration": 26,
    "start_time": "2021-12-30T18:56:26.612Z"
   },
   {
    "duration": 20,
    "start_time": "2021-12-30T18:56:26.640Z"
   },
   {
    "duration": 21,
    "start_time": "2021-12-30T18:56:26.662Z"
   },
   {
    "duration": 7,
    "start_time": "2021-12-30T18:56:26.685Z"
   },
   {
    "duration": 25,
    "start_time": "2021-12-30T18:56:26.695Z"
   },
   {
    "duration": 17,
    "start_time": "2021-12-30T18:56:26.722Z"
   },
   {
    "duration": 22,
    "start_time": "2021-12-30T18:56:26.761Z"
   },
   {
    "duration": 59,
    "start_time": "2021-12-30T18:56:26.785Z"
   },
   {
    "duration": 84,
    "start_time": "2021-12-30T18:56:26.845Z"
   },
   {
    "duration": 65,
    "start_time": "2021-12-30T18:56:26.931Z"
   },
   {
    "duration": 8,
    "start_time": "2021-12-30T18:56:26.998Z"
   },
   {
    "duration": 4,
    "start_time": "2021-12-30T18:56:27.008Z"
   },
   {
    "duration": 52,
    "start_time": "2021-12-30T18:56:27.014Z"
   },
   {
    "duration": 8,
    "start_time": "2021-12-30T18:56:27.068Z"
   },
   {
    "duration": 11,
    "start_time": "2021-12-30T18:56:27.078Z"
   },
   {
    "duration": 80,
    "start_time": "2021-12-30T18:56:27.090Z"
   },
   {
    "duration": 68,
    "start_time": "2021-12-30T18:56:27.172Z"
   },
   {
    "duration": 26,
    "start_time": "2021-12-30T18:56:27.241Z"
   },
   {
    "duration": 332,
    "start_time": "2021-12-30T18:56:27.268Z"
   },
   {
    "duration": 3,
    "start_time": "2021-12-30T18:56:27.603Z"
   },
   {
    "duration": 7,
    "start_time": "2021-12-30T18:56:27.607Z"
   },
   {
    "duration": 5,
    "start_time": "2021-12-30T18:56:27.616Z"
   },
   {
    "duration": 6,
    "start_time": "2021-12-30T18:56:27.623Z"
   },
   {
    "duration": 5,
    "start_time": "2021-12-30T18:56:27.630Z"
   },
   {
    "duration": 6,
    "start_time": "2021-12-30T18:56:27.636Z"
   },
   {
    "duration": 8,
    "start_time": "2021-12-30T18:56:27.643Z"
   },
   {
    "duration": 9,
    "start_time": "2021-12-30T18:56:27.661Z"
   },
   {
    "duration": 4,
    "start_time": "2021-12-30T18:56:27.671Z"
   },
   {
    "duration": 5,
    "start_time": "2021-12-30T18:56:27.677Z"
   },
   {
    "duration": 5,
    "start_time": "2021-12-30T18:56:27.683Z"
   },
   {
    "duration": 7,
    "start_time": "2021-12-30T18:56:27.690Z"
   },
   {
    "duration": 4,
    "start_time": "2021-12-30T18:56:27.699Z"
   },
   {
    "duration": 7,
    "start_time": "2021-12-30T18:56:27.705Z"
   },
   {
    "duration": 7,
    "start_time": "2021-12-30T18:56:27.713Z"
   },
   {
    "duration": 6,
    "start_time": "2021-12-30T18:56:27.721Z"
   },
   {
    "duration": 5,
    "start_time": "2021-12-30T18:56:27.728Z"
   },
   {
    "duration": 7,
    "start_time": "2021-12-30T18:56:27.734Z"
   },
   {
    "duration": 18,
    "start_time": "2021-12-30T18:56:27.742Z"
   },
   {
    "duration": 4,
    "start_time": "2021-12-30T19:09:49.955Z"
   },
   {
    "duration": 5,
    "start_time": "2021-12-30T19:10:10.251Z"
   },
   {
    "duration": 1055,
    "start_time": "2021-12-30T19:20:04.282Z"
   },
   {
    "duration": 4,
    "start_time": "2021-12-30T19:20:15.210Z"
   },
   {
    "duration": 5,
    "start_time": "2021-12-30T19:21:02.551Z"
   },
   {
    "duration": 6,
    "start_time": "2021-12-30T19:21:48.887Z"
   },
   {
    "duration": 237,
    "start_time": "2021-12-30T19:28:42.805Z"
   },
   {
    "duration": 1240,
    "start_time": "2021-12-30T19:31:03.635Z"
   },
   {
    "duration": 1132,
    "start_time": "2021-12-30T19:31:23.354Z"
   },
   {
    "duration": 1540,
    "start_time": "2021-12-30T19:31:53.857Z"
   },
   {
    "duration": 1143,
    "start_time": "2021-12-30T19:33:33.329Z"
   },
   {
    "duration": 739,
    "start_time": "2021-12-30T19:34:40.023Z"
   },
   {
    "duration": 705,
    "start_time": "2021-12-30T19:34:48.962Z"
   },
   {
    "duration": 156,
    "start_time": "2021-12-30T19:35:09.521Z"
   },
   {
    "duration": 87,
    "start_time": "2021-12-30T19:35:31.890Z"
   },
   {
    "duration": 89,
    "start_time": "2021-12-30T19:35:49.327Z"
   },
   {
    "duration": 86,
    "start_time": "2021-12-30T19:35:58.567Z"
   },
   {
    "duration": 138,
    "start_time": "2021-12-31T06:12:57.233Z"
   },
   {
    "duration": 433,
    "start_time": "2021-12-31T06:15:22.748Z"
   },
   {
    "duration": 868,
    "start_time": "2021-12-31T06:15:29.077Z"
   },
   {
    "duration": 182,
    "start_time": "2021-12-31T06:15:29.948Z"
   },
   {
    "duration": 28,
    "start_time": "2021-12-31T06:15:30.133Z"
   },
   {
    "duration": 38,
    "start_time": "2021-12-31T06:15:30.164Z"
   },
   {
    "duration": 5,
    "start_time": "2021-12-31T06:15:30.204Z"
   },
   {
    "duration": 55,
    "start_time": "2021-12-31T06:15:30.212Z"
   },
   {
    "duration": 18,
    "start_time": "2021-12-31T06:15:30.269Z"
   },
   {
    "duration": 35,
    "start_time": "2021-12-31T06:15:30.291Z"
   },
   {
    "duration": 36,
    "start_time": "2021-12-31T06:15:30.329Z"
   },
   {
    "duration": 30,
    "start_time": "2021-12-31T06:15:30.367Z"
   },
   {
    "duration": 114,
    "start_time": "2021-12-31T06:15:30.399Z"
   },
   {
    "duration": 114,
    "start_time": "2021-12-31T06:15:30.515Z"
   },
   {
    "duration": 83,
    "start_time": "2021-12-31T06:15:30.632Z"
   },
   {
    "duration": 65,
    "start_time": "2021-12-31T06:15:30.717Z"
   },
   {
    "duration": 6,
    "start_time": "2021-12-31T06:15:30.784Z"
   },
   {
    "duration": 68,
    "start_time": "2021-12-31T06:15:30.792Z"
   },
   {
    "duration": 8,
    "start_time": "2021-12-31T06:15:30.862Z"
   },
   {
    "duration": 26,
    "start_time": "2021-12-31T06:15:30.872Z"
   },
   {
    "duration": 15,
    "start_time": "2021-12-31T06:15:30.901Z"
   },
   {
    "duration": 108,
    "start_time": "2021-12-31T06:15:30.919Z"
   },
   {
    "duration": 115,
    "start_time": "2021-12-31T06:15:31.029Z"
   },
   {
    "duration": 29,
    "start_time": "2021-12-31T06:15:31.147Z"
   },
   {
    "duration": 552,
    "start_time": "2021-12-31T06:15:31.182Z"
   },
   {
    "duration": 3,
    "start_time": "2021-12-31T06:15:31.737Z"
   },
   {
    "duration": 18,
    "start_time": "2021-12-31T06:15:31.742Z"
   },
   {
    "duration": 5,
    "start_time": "2021-12-31T06:15:31.762Z"
   },
   {
    "duration": 5,
    "start_time": "2021-12-31T06:15:31.769Z"
   },
   {
    "duration": 4,
    "start_time": "2021-12-31T06:15:31.776Z"
   },
   {
    "duration": 5,
    "start_time": "2021-12-31T06:15:31.783Z"
   },
   {
    "duration": 7,
    "start_time": "2021-12-31T06:15:31.790Z"
   },
   {
    "duration": 14,
    "start_time": "2021-12-31T06:15:31.799Z"
   },
   {
    "duration": 44,
    "start_time": "2021-12-31T06:15:31.815Z"
   },
   {
    "duration": 4,
    "start_time": "2021-12-31T06:15:31.862Z"
   },
   {
    "duration": 6,
    "start_time": "2021-12-31T06:15:31.868Z"
   },
   {
    "duration": 16,
    "start_time": "2021-12-31T06:15:31.877Z"
   },
   {
    "duration": 9,
    "start_time": "2021-12-31T06:15:31.895Z"
   },
   {
    "duration": 20,
    "start_time": "2021-12-31T06:15:31.906Z"
   },
   {
    "duration": 13,
    "start_time": "2021-12-31T06:15:31.928Z"
   },
   {
    "duration": 4,
    "start_time": "2021-12-31T06:15:31.944Z"
   },
   {
    "duration": 4,
    "start_time": "2021-12-31T06:15:31.951Z"
   },
   {
    "duration": 9,
    "start_time": "2021-12-31T06:15:31.960Z"
   },
   {
    "duration": 7,
    "start_time": "2021-12-31T06:15:31.972Z"
   },
   {
    "duration": 87,
    "start_time": "2022-01-01T17:46:42.462Z"
   },
   {
    "duration": 678,
    "start_time": "2022-01-01T17:47:21.893Z"
   },
   {
    "duration": 132,
    "start_time": "2022-01-01T17:47:22.573Z"
   },
   {
    "duration": 12,
    "start_time": "2022-01-01T17:47:22.707Z"
   },
   {
    "duration": 22,
    "start_time": "2022-01-01T17:47:22.722Z"
   },
   {
    "duration": 17,
    "start_time": "2022-01-01T17:47:22.746Z"
   },
   {
    "duration": 21,
    "start_time": "2022-01-01T17:47:22.764Z"
   },
   {
    "duration": 3,
    "start_time": "2022-01-01T17:47:22.787Z"
   },
   {
    "duration": 23,
    "start_time": "2022-01-01T17:47:22.793Z"
   },
   {
    "duration": 45,
    "start_time": "2022-01-01T17:47:22.818Z"
   },
   {
    "duration": 26,
    "start_time": "2022-01-01T17:47:22.865Z"
   },
   {
    "duration": 67,
    "start_time": "2022-01-01T17:47:22.893Z"
   },
   {
    "duration": 71,
    "start_time": "2022-01-01T17:47:22.962Z"
   },
   {
    "duration": 69,
    "start_time": "2022-01-01T17:47:23.035Z"
   },
   {
    "duration": 41,
    "start_time": "2022-01-01T17:47:23.106Z"
   },
   {
    "duration": 12,
    "start_time": "2022-01-01T17:47:23.149Z"
   },
   {
    "duration": 40,
    "start_time": "2022-01-01T17:47:23.164Z"
   },
   {
    "duration": 38,
    "start_time": "2022-01-01T17:48:19.017Z"
   },
   {
    "duration": 41,
    "start_time": "2022-01-01T17:48:42.649Z"
   },
   {
    "duration": 85,
    "start_time": "2022-01-01T17:53:49.767Z"
   },
   {
    "duration": 11,
    "start_time": "2022-01-01T17:55:20.532Z"
   },
   {
    "duration": 4,
    "start_time": "2022-01-01T18:03:09.082Z"
   },
   {
    "duration": 3,
    "start_time": "2022-01-01T18:04:33.147Z"
   },
   {
    "duration": 142,
    "start_time": "2022-01-01T18:04:33.152Z"
   },
   {
    "duration": 9,
    "start_time": "2022-01-01T18:04:33.297Z"
   },
   {
    "duration": 28,
    "start_time": "2022-01-01T18:04:33.307Z"
   },
   {
    "duration": 4,
    "start_time": "2022-01-01T18:04:33.336Z"
   },
   {
    "duration": 17,
    "start_time": "2022-01-01T18:04:33.361Z"
   },
   {
    "duration": 4,
    "start_time": "2022-01-01T18:04:33.379Z"
   },
   {
    "duration": 25,
    "start_time": "2022-01-01T18:04:33.384Z"
   },
   {
    "duration": 17,
    "start_time": "2022-01-01T18:04:33.412Z"
   },
   {
    "duration": 51,
    "start_time": "2022-01-01T18:04:33.431Z"
   },
   {
    "duration": 60,
    "start_time": "2022-01-01T18:04:33.483Z"
   },
   {
    "duration": 65,
    "start_time": "2022-01-01T18:04:33.544Z"
   },
   {
    "duration": 57,
    "start_time": "2022-01-01T18:04:33.610Z"
   },
   {
    "duration": 39,
    "start_time": "2022-01-01T18:04:33.668Z"
   },
   {
    "duration": 3,
    "start_time": "2022-01-01T18:04:33.709Z"
   },
   {
    "duration": 54,
    "start_time": "2022-01-01T18:04:33.714Z"
   },
   {
    "duration": 5,
    "start_time": "2022-01-01T18:04:33.770Z"
   },
   {
    "duration": 47,
    "start_time": "2022-01-01T18:04:33.777Z"
   },
   {
    "duration": 11,
    "start_time": "2022-01-01T18:04:33.826Z"
   },
   {
    "duration": 70,
    "start_time": "2022-01-01T18:04:33.838Z"
   },
   {
    "duration": 76,
    "start_time": "2022-01-01T18:04:33.910Z"
   },
   {
    "duration": 24,
    "start_time": "2022-01-01T18:04:33.989Z"
   },
   {
    "duration": 332,
    "start_time": "2022-01-01T18:04:34.015Z"
   },
   {
    "duration": 19,
    "start_time": "2022-01-01T18:04:34.349Z"
   },
   {
    "duration": 3,
    "start_time": "2022-01-01T18:04:34.369Z"
   },
   {
    "duration": 8,
    "start_time": "2022-01-01T18:04:34.373Z"
   },
   {
    "duration": 2,
    "start_time": "2022-01-01T18:04:34.384Z"
   },
   {
    "duration": 6,
    "start_time": "2022-01-01T18:04:34.388Z"
   },
   {
    "duration": 7,
    "start_time": "2022-01-01T18:04:34.395Z"
   },
   {
    "duration": 5,
    "start_time": "2022-01-01T18:04:34.403Z"
   },
   {
    "duration": 6,
    "start_time": "2022-01-01T18:04:34.409Z"
   },
   {
    "duration": 13,
    "start_time": "2022-01-01T18:04:34.416Z"
   },
   {
    "duration": 15,
    "start_time": "2022-01-01T18:04:34.430Z"
   },
   {
    "duration": 22,
    "start_time": "2022-01-01T18:04:34.447Z"
   },
   {
    "duration": 4,
    "start_time": "2022-01-01T18:04:34.471Z"
   },
   {
    "duration": 24,
    "start_time": "2022-01-01T18:04:34.477Z"
   },
   {
    "duration": 11,
    "start_time": "2022-01-01T18:04:34.503Z"
   },
   {
    "duration": 16,
    "start_time": "2022-01-01T18:04:34.516Z"
   },
   {
    "duration": 36,
    "start_time": "2022-01-01T18:04:34.534Z"
   },
   {
    "duration": 7,
    "start_time": "2022-01-01T18:04:34.572Z"
   },
   {
    "duration": 6,
    "start_time": "2022-01-01T18:04:34.581Z"
   },
   {
    "duration": 7,
    "start_time": "2022-01-01T18:04:34.588Z"
   },
   {
    "duration": 4,
    "start_time": "2022-01-01T18:04:34.597Z"
   },
   {
    "duration": 375,
    "start_time": "2022-01-01T18:06:42.204Z"
   },
   {
    "duration": 347,
    "start_time": "2022-01-01T18:18:08.655Z"
   },
   {
    "duration": 236,
    "start_time": "2022-01-01T18:18:09.298Z"
   },
   {
    "duration": 3,
    "start_time": "2022-01-01T18:18:14.619Z"
   },
   {
    "duration": 15,
    "start_time": "2022-01-01T18:18:15.787Z"
   },
   {
    "duration": 13,
    "start_time": "2022-01-01T18:18:16.489Z"
   },
   {
    "duration": 14,
    "start_time": "2022-01-01T18:18:17.010Z"
   },
   {
    "duration": 3,
    "start_time": "2022-01-01T18:18:42.358Z"
   },
   {
    "duration": 143,
    "start_time": "2022-01-01T18:18:42.363Z"
   },
   {
    "duration": 10,
    "start_time": "2022-01-01T18:18:42.508Z"
   },
   {
    "duration": 25,
    "start_time": "2022-01-01T18:18:42.520Z"
   },
   {
    "duration": 4,
    "start_time": "2022-01-01T18:18:42.560Z"
   },
   {
    "duration": 20,
    "start_time": "2022-01-01T18:18:42.565Z"
   },
   {
    "duration": 4,
    "start_time": "2022-01-01T18:18:42.587Z"
   },
   {
    "duration": 24,
    "start_time": "2022-01-01T18:18:42.593Z"
   },
   {
    "duration": 42,
    "start_time": "2022-01-01T18:18:42.619Z"
   },
   {
    "duration": 23,
    "start_time": "2022-01-01T18:18:42.663Z"
   },
   {
    "duration": 52,
    "start_time": "2022-01-01T18:18:42.688Z"
   },
   {
    "duration": 77,
    "start_time": "2022-01-01T18:18:42.742Z"
   },
   {
    "duration": 59,
    "start_time": "2022-01-01T18:18:42.821Z"
   },
   {
    "duration": 38,
    "start_time": "2022-01-01T18:18:42.882Z"
   },
   {
    "duration": 3,
    "start_time": "2022-01-01T18:18:42.922Z"
   },
   {
    "duration": 51,
    "start_time": "2022-01-01T18:18:42.927Z"
   },
   {
    "duration": 5,
    "start_time": "2022-01-01T18:18:42.980Z"
   },
   {
    "duration": 40,
    "start_time": "2022-01-01T18:18:42.987Z"
   },
   {
    "duration": 30,
    "start_time": "2022-01-01T18:18:43.031Z"
   },
   {
    "duration": 57,
    "start_time": "2022-01-01T18:18:43.063Z"
   },
   {
    "duration": 78,
    "start_time": "2022-01-01T18:18:43.122Z"
   },
   {
    "duration": 20,
    "start_time": "2022-01-01T18:18:43.202Z"
   },
   {
    "duration": 400,
    "start_time": "2022-01-01T18:18:43.224Z"
   },
   {
    "duration": 11,
    "start_time": "2022-01-01T18:18:43.625Z"
   },
   {
    "duration": 3,
    "start_time": "2022-01-01T18:18:43.638Z"
   },
   {
    "duration": 3,
    "start_time": "2022-01-01T18:20:41.981Z"
   },
   {
    "duration": 13,
    "start_time": "2022-01-01T18:20:43.408Z"
   },
   {
    "duration": 17,
    "start_time": "2022-01-01T18:21:23.297Z"
   },
   {
    "duration": 4,
    "start_time": "2022-01-01T18:21:32.260Z"
   },
   {
    "duration": 17,
    "start_time": "2022-01-01T18:21:33.491Z"
   },
   {
    "duration": 16,
    "start_time": "2022-01-01T18:21:54.162Z"
   },
   {
    "duration": 16,
    "start_time": "2022-01-01T18:21:55.708Z"
   },
   {
    "duration": 16,
    "start_time": "2022-01-01T18:22:19.425Z"
   },
   {
    "duration": 18,
    "start_time": "2022-01-01T18:22:20.361Z"
   },
   {
    "duration": 16,
    "start_time": "2022-01-01T18:22:21.510Z"
   },
   {
    "duration": 849,
    "start_time": "2022-01-02T12:56:28.352Z"
   },
   {
    "duration": 182,
    "start_time": "2022-01-02T12:56:29.203Z"
   },
   {
    "duration": 18,
    "start_time": "2022-01-02T12:56:29.388Z"
   },
   {
    "duration": 52,
    "start_time": "2022-01-02T12:56:29.408Z"
   },
   {
    "duration": 5,
    "start_time": "2022-01-02T12:56:29.463Z"
   },
   {
    "duration": 23,
    "start_time": "2022-01-02T12:56:29.470Z"
   },
   {
    "duration": 6,
    "start_time": "2022-01-02T12:56:29.496Z"
   },
   {
    "duration": 59,
    "start_time": "2022-01-02T12:56:29.505Z"
   },
   {
    "duration": 22,
    "start_time": "2022-01-02T12:56:29.567Z"
   },
   {
    "duration": 28,
    "start_time": "2022-01-02T12:56:29.591Z"
   },
   {
    "duration": 110,
    "start_time": "2022-01-02T12:56:29.622Z"
   },
   {
    "duration": 122,
    "start_time": "2022-01-02T12:56:29.735Z"
   },
   {
    "duration": 116,
    "start_time": "2022-01-02T12:56:29.860Z"
   },
   {
    "duration": 84,
    "start_time": "2022-01-02T12:56:29.979Z"
   },
   {
    "duration": 6,
    "start_time": "2022-01-02T12:56:30.065Z"
   },
   {
    "duration": 51,
    "start_time": "2022-01-02T12:56:30.073Z"
   },
   {
    "duration": 7,
    "start_time": "2022-01-02T12:56:30.126Z"
   },
   {
    "duration": 57,
    "start_time": "2022-01-02T12:56:30.160Z"
   },
   {
    "duration": 40,
    "start_time": "2022-01-02T12:56:30.220Z"
   },
   {
    "duration": 102,
    "start_time": "2022-01-02T12:56:30.263Z"
   },
   {
    "duration": 123,
    "start_time": "2022-01-02T12:56:30.368Z"
   },
   {
    "duration": 50,
    "start_time": "2022-01-02T12:56:30.494Z"
   },
   {
    "duration": 693,
    "start_time": "2022-01-02T12:56:30.560Z"
   },
   {
    "duration": 14,
    "start_time": "2022-01-02T12:56:31.256Z"
   },
   {
    "duration": 22,
    "start_time": "2022-01-02T12:56:31.273Z"
   },
   {
    "duration": 50,
    "start_time": "2022-01-02T12:56:31.298Z"
   },
   {
    "duration": 23,
    "start_time": "2022-01-02T12:56:31.350Z"
   },
   {
    "duration": 25,
    "start_time": "2022-01-02T12:56:31.375Z"
   },
   {
    "duration": 23,
    "start_time": "2022-01-02T12:56:31.403Z"
   },
   {
    "duration": 37,
    "start_time": "2022-01-02T12:56:31.428Z"
   },
   {
    "duration": 20,
    "start_time": "2022-01-02T12:56:31.468Z"
   },
   {
    "duration": 17,
    "start_time": "2022-01-02T12:56:31.490Z"
   },
   {
    "duration": 20,
    "start_time": "2022-01-02T12:56:31.510Z"
   },
   {
    "duration": 14,
    "start_time": "2022-01-02T12:56:31.559Z"
   },
   {
    "duration": 7,
    "start_time": "2022-01-02T12:56:31.576Z"
   },
   {
    "duration": 35,
    "start_time": "2022-01-02T12:56:31.585Z"
   },
   {
    "duration": 38,
    "start_time": "2022-01-02T12:56:31.622Z"
   },
   {
    "duration": 23,
    "start_time": "2022-01-02T12:56:31.663Z"
   },
   {
    "duration": 15,
    "start_time": "2022-01-02T12:56:31.688Z"
   },
   {
    "duration": 11,
    "start_time": "2022-01-02T12:56:31.706Z"
   },
   {
    "duration": 40,
    "start_time": "2022-01-02T12:56:31.719Z"
   },
   {
    "duration": 10,
    "start_time": "2022-01-02T12:56:31.762Z"
   },
   {
    "duration": 7,
    "start_time": "2022-01-02T12:56:31.775Z"
   }
  ],
  "colab": {
   "collapsed_sections": [
    "E0vqbgi9ay0H",
    "VUC88oWjTJw2"
   ],
   "name": "yandex_music_project_2021.2.ipynb",
   "provenance": []
  },
  "hide_input": false,
  "kernelspec": {
   "display_name": "Python 3 (ipykernel)",
   "language": "python",
   "name": "python3"
  },
  "language_info": {
   "codemirror_mode": {
    "name": "ipython",
    "version": 3
   },
   "file_extension": ".py",
   "mimetype": "text/x-python",
   "name": "python",
   "nbconvert_exporter": "python",
   "pygments_lexer": "ipython3",
   "version": "3.10.2"
  },
  "toc": {
   "base_numbering": 1,
   "nav_menu": {},
   "number_sections": false,
   "sideBar": true,
   "skip_h1_title": false,
   "title_cell": "Содержание",
   "title_sidebar": "Contents",
   "toc_cell": true,
   "toc_position": {
    "height": "calc(100% - 180px)",
    "left": "10px",
    "top": "150px",
    "width": "229.225px"
   },
   "toc_section_display": true,
   "toc_window_display": true
  },
  "toc-autonumbering": false,
  "toc-showcode": false,
  "toc-showtags": false,
  "varInspector": {
   "cols": {
    "lenName": 16,
    "lenType": 16,
    "lenVar": 40
   },
   "kernels_config": {
    "python": {
     "delete_cmd_postfix": "",
     "delete_cmd_prefix": "del ",
     "library": "var_list.py",
     "varRefreshCmd": "print(var_dic_list())"
    },
    "r": {
     "delete_cmd_postfix": ") ",
     "delete_cmd_prefix": "rm(",
     "library": "var_list.r",
     "varRefreshCmd": "cat(var_dic_list()) "
    }
   },
   "types_to_exclude": [
    "module",
    "function",
    "builtin_function_or_method",
    "instance",
    "_Feature"
   ],
   "window_display": false
  }
 },
 "nbformat": 4,
 "nbformat_minor": 4
}
