{
 "cells": [
  {
   "cell_type": "markdown",
   "metadata": {},
   "source": [
    "# **Проект №2. Исследование надёжности заёмщиков** <a class=\"tocSkip\">"
   ]
  },
  {
   "cell_type": "markdown",
   "metadata": {
    "toc": true
   },
   "source": [
    "<h1>Содержание<span class=\"tocSkip\"></span></h1>\n",
    "<div class=\"toc\"><ul class=\"toc-item\"><li><span><a href=\"#Общая-информация\" data-toc-modified-id=\"Общая-информация-1\">Общая информация</a></span></li><li><span><a href=\"#Предобработка-данных\" data-toc-modified-id=\"Предобработка-данных-2\">Предобработка данных</a></span><ul class=\"toc-item\"><li><span><a href=\"#Чистка-данных\" data-toc-modified-id=\"Чистка-данных-2.1\">Чистка данных</a></span><ul class=\"toc-item\"><li><span><a href=\"#Обработка-данных-по-трудовому-стажу\" data-toc-modified-id=\"Обработка-данных-по-трудовому-стажу-2.1.1\">Обработка данных по трудовому стажу</a></span><ul class=\"toc-item\"><li><span><a href=\"#Анализ-больших-чисел-в-стаже-работы\" data-toc-modified-id=\"Анализ-больших-чисел-в-стаже-работы-2.1.1.1\">Анализ больших чисел в стаже работы</a></span></li><li><span><a href=\"#Отрицательные-значения-трудового-стажа\" data-toc-modified-id=\"Отрицательные-значения-трудового-стажа-2.1.1.2\">Отрицательные значения трудового стажа</a></span></li></ul></li><li><span><a href=\"#Обработка-возраста\" data-toc-modified-id=\"Обработка-возраста-2.1.2\">Обработка возраста</a></span></li><li><span><a href=\"#Обработка-education_id-и-family_status_id\" data-toc-modified-id=\"Обработка-education_id-и-family_status_id-2.1.3\">Обработка <code>education_id</code> и <code>family_status_id</code></a></span></li><li><span><a href=\"#Обработка-children\" data-toc-modified-id=\"Обработка-children-2.1.4\">Обработка <code>children</code></a></span></li><li><span><a href=\"#Дополнительный-анализ\" data-toc-modified-id=\"Дополнительный-анализ-2.1.5\">Дополнительный анализ</a></span></li><li><span><a href=\"#Обработка-gender-и-income_type\" data-toc-modified-id=\"Обработка-gender-и-income_type-2.1.6\">Обработка <code>gender</code> и <code>income_type</code></a></span></li></ul></li><li><span><a href=\"#Обработка-пропусков\" data-toc-modified-id=\"Обработка-пропусков-2.2\">Обработка пропусков</a></span><ul class=\"toc-item\"><li><span><a href=\"#Обзор-пропусков\" data-toc-modified-id=\"Обзор-пропусков-2.2.1\">Обзор пропусков</a></span></li><li><span><a href=\"#Заполнеие-пропусков-трудового-стажа-у-пенсионеров\" data-toc-modified-id=\"Заполнеие-пропусков-трудового-стажа-у-пенсионеров-2.2.2\">Заполнеие пропусков трудового стажа у пенсионеров</a></span></li><li><span><a href=\"#Заполнение-пропусков-трудового-стажа-у-остальных-клиентов\" data-toc-modified-id=\"Заполнение-пропусков-трудового-стажа-у-остальных-клиентов-2.2.3\">Заполнение пропусков трудового стажа у остальных клиентов</a></span></li><li><span><a href=\"#Заполнение-пропусков-в-зарплате\" data-toc-modified-id=\"Заполнение-пропусков-в-зарплате-2.2.4\">Заполнение пропусков в зарплате</a></span></li></ul></li><li><span><a href=\"#Замена-типа-данных\" data-toc-modified-id=\"Замена-типа-данных-2.3\">Замена типа данных</a></span></li><li><span><a href=\"#Обработка-дубликатов\" data-toc-modified-id=\"Обработка-дубликатов-2.4\">Обработка дубликатов</a></span></li><li><span><a href=\"#Лемматизация\" data-toc-modified-id=\"Лемматизация-2.5\">Лемматизация</a></span></li><li><span><a href=\"#Категоризация-данных\" data-toc-modified-id=\"Категоризация-данных-2.6\">Категоризация данных</a></span></li></ul></li><li><span><a href=\"#Ответьте-на-вопросы\" data-toc-modified-id=\"Ответьте-на-вопросы-3\">Ответьте на вопросы</a></span><ul class=\"toc-item\"><li><span><a href=\"#Есть-ли-зависимость-между-наличием-детей-и-возвратом-кредита-в-срок?\" data-toc-modified-id=\"Есть-ли-зависимость-между-наличием-детей-и-возвратом-кредита-в-срок?-3.1\">Есть ли зависимость между наличием детей и возвратом кредита в срок?</a></span></li><li><span><a href=\"#Есть-ли-зависимость-между-семейным-положением-и-возвратом-кредита-в-срок?\" data-toc-modified-id=\"Есть-ли-зависимость-между-семейным-положением-и-возвратом-кредита-в-срок?-3.2\">Есть ли зависимость между семейным положением и возвратом кредита в срок?</a></span></li><li><span><a href=\"#Есть-ли-зависимость-между-уровнем-дохода-и-возвратом-кредита-в-срок?\" data-toc-modified-id=\"Есть-ли-зависимость-между-уровнем-дохода-и-возвратом-кредита-в-срок?-3.3\">Есть ли зависимость между уровнем дохода и возвратом кредита в срок?</a></span></li><li><span><a href=\"#Есть-ли-зависимость-между-образованием-и-возвратом-кредита-в-срок?\" data-toc-modified-id=\"Есть-ли-зависимость-между-образованием-и-возвратом-кредита-в-срок?-3.4\">Есть ли зависимость между образованием и возвратом кредита в срок?</a></span></li></ul></li><li><span><a href=\"#Общий-вывод\" data-toc-modified-id=\"Общий-вывод-4\">Общий вывод</a></span></li></ul></div>"
   ]
  },
  {
   "cell_type": "markdown",
   "metadata": {
    "tags": []
   },
   "source": [
    "# Описание проекта\n",
    "\n",
    "Заказчик — кредитный отдел банка. Нужно разобраться, влияет ли семейное положение и количество детей клиента на факт погашения кредита в срок. Входные данные от банка — статистика о платёжеспособности клиентов.\n",
    "\n",
    "Результаты исследования будут учтены при построении модели **кредитного скоринга** — специальной системы, которая оценивает способность потенциального заёмщика вернуть кредит банку.\n",
    "\n",
    "Список параметров:\n",
    "- `children` — количество детей в семье\n",
    "- `days_employed` — общий трудовой стаж в днях\n",
    "- `dob_years` — возраст клиента в годах\n",
    "- `education` — уровень образования клиента\n",
    "- `education_id` — идентификатор уровня образования\n",
    "- `family_status` — семейное положение\n",
    "- `family_status_id` — идентификатор семейного положения\n",
    "- `gender` — пол клиента\n",
    "- `income_type` — тип занятости\n",
    "- `debt` — имел ли задолженность по возврату кредитов\n",
    "- `total_income` — ежемесячный доход\n",
    "- `purpose` — цель получения кредита"
   ]
  },
  {
   "cell_type": "markdown",
   "metadata": {},
   "source": [
    "# Импорт библиотек"
   ]
  },
  {
   "cell_type": "code",
   "execution_count": 3,
   "metadata": {},
   "outputs": [
    {
     "name": "stderr",
     "output_type": "stream",
     "text": [
      "[nltk_data] Downloading package averaged_perceptron_tagger_ru to\n",
      "[nltk_data]     C:\\Users\\nikit\\AppData\\Roaming\\nltk_data...\n",
      "[nltk_data]   Package averaged_perceptron_tagger_ru is already up-to-\n",
      "[nltk_data]       date!\n"
     ]
    }
   ],
   "source": [
    "import pandas as pd\n",
    "import seaborn as sns\n",
    "import matplotlib.pyplot as plt\n",
    "import nltk\n",
    "from datetime import datetime\n",
    "from nltk import pos_tag, word_tokenize\n",
    "nltk.download('averaged_perceptron_tagger_ru')\n",
    "from pymystem3 import Mystem \n",
    "m = Mystem()\n",
    "from collections import Counter\n",
    "\n",
    "plt.style.use('seaborn')\n",
    "%matplotlib inline\n",
    "pd.set_option('display.float_format', '{:.2f}'.format)"
   ]
  },
  {
   "cell_type": "markdown",
   "metadata": {
    "tags": []
   },
   "source": [
    "## Общая информация"
   ]
  },
  {
   "cell_type": "code",
   "execution_count": 2,
   "metadata": {},
   "outputs": [
    {
     "name": "stdout",
     "output_type": "stream",
     "text": [
      "<class 'pandas.core.frame.DataFrame'>\n",
      "RangeIndex: 21525 entries, 0 to 21524\n",
      "Data columns (total 12 columns):\n",
      "children            21525 non-null int64\n",
      "days_employed       19351 non-null float64\n",
      "dob_years           21525 non-null int64\n",
      "education           21525 non-null object\n",
      "education_id        21525 non-null int64\n",
      "family_status       21525 non-null object\n",
      "family_status_id    21525 non-null int64\n",
      "gender              21525 non-null object\n",
      "income_type         21525 non-null object\n",
      "debt                21525 non-null int64\n",
      "total_income        19351 non-null float64\n",
      "purpose             21525 non-null object\n",
      "dtypes: float64(2), int64(5), object(5)\n",
      "memory usage: 2.0+ MB\n"
     ]
    },
    {
     "data": {
      "text/html": [
       "<div>\n",
       "<style scoped>\n",
       "    .dataframe tbody tr th:only-of-type {\n",
       "        vertical-align: middle;\n",
       "    }\n",
       "\n",
       "    .dataframe tbody tr th {\n",
       "        vertical-align: top;\n",
       "    }\n",
       "\n",
       "    .dataframe thead th {\n",
       "        text-align: right;\n",
       "    }\n",
       "</style>\n",
       "<table border=\"1\" class=\"dataframe\">\n",
       "  <thead>\n",
       "    <tr style=\"text-align: right;\">\n",
       "      <th></th>\n",
       "      <th>children</th>\n",
       "      <th>days_employed</th>\n",
       "      <th>dob_years</th>\n",
       "      <th>education</th>\n",
       "      <th>education_id</th>\n",
       "      <th>family_status</th>\n",
       "      <th>family_status_id</th>\n",
       "      <th>gender</th>\n",
       "      <th>income_type</th>\n",
       "      <th>debt</th>\n",
       "      <th>total_income</th>\n",
       "      <th>purpose</th>\n",
       "    </tr>\n",
       "  </thead>\n",
       "  <tbody>\n",
       "    <tr>\n",
       "      <td>0</td>\n",
       "      <td>1</td>\n",
       "      <td>-8437.67</td>\n",
       "      <td>42</td>\n",
       "      <td>высшее</td>\n",
       "      <td>0</td>\n",
       "      <td>женат / замужем</td>\n",
       "      <td>0</td>\n",
       "      <td>F</td>\n",
       "      <td>сотрудник</td>\n",
       "      <td>0</td>\n",
       "      <td>253875.64</td>\n",
       "      <td>покупка жилья</td>\n",
       "    </tr>\n",
       "    <tr>\n",
       "      <td>1</td>\n",
       "      <td>1</td>\n",
       "      <td>-4024.80</td>\n",
       "      <td>36</td>\n",
       "      <td>среднее</td>\n",
       "      <td>1</td>\n",
       "      <td>женат / замужем</td>\n",
       "      <td>0</td>\n",
       "      <td>F</td>\n",
       "      <td>сотрудник</td>\n",
       "      <td>0</td>\n",
       "      <td>112080.01</td>\n",
       "      <td>приобретение автомобиля</td>\n",
       "    </tr>\n",
       "    <tr>\n",
       "      <td>2</td>\n",
       "      <td>0</td>\n",
       "      <td>-5623.42</td>\n",
       "      <td>33</td>\n",
       "      <td>Среднее</td>\n",
       "      <td>1</td>\n",
       "      <td>женат / замужем</td>\n",
       "      <td>0</td>\n",
       "      <td>M</td>\n",
       "      <td>сотрудник</td>\n",
       "      <td>0</td>\n",
       "      <td>145885.95</td>\n",
       "      <td>покупка жилья</td>\n",
       "    </tr>\n",
       "    <tr>\n",
       "      <td>3</td>\n",
       "      <td>3</td>\n",
       "      <td>-4124.75</td>\n",
       "      <td>32</td>\n",
       "      <td>среднее</td>\n",
       "      <td>1</td>\n",
       "      <td>женат / замужем</td>\n",
       "      <td>0</td>\n",
       "      <td>M</td>\n",
       "      <td>сотрудник</td>\n",
       "      <td>0</td>\n",
       "      <td>267628.55</td>\n",
       "      <td>дополнительное образование</td>\n",
       "    </tr>\n",
       "    <tr>\n",
       "      <td>4</td>\n",
       "      <td>0</td>\n",
       "      <td>340266.07</td>\n",
       "      <td>53</td>\n",
       "      <td>среднее</td>\n",
       "      <td>1</td>\n",
       "      <td>гражданский брак</td>\n",
       "      <td>1</td>\n",
       "      <td>F</td>\n",
       "      <td>пенсионер</td>\n",
       "      <td>0</td>\n",
       "      <td>158616.08</td>\n",
       "      <td>сыграть свадьбу</td>\n",
       "    </tr>\n",
       "    <tr>\n",
       "      <td>5</td>\n",
       "      <td>0</td>\n",
       "      <td>-926.19</td>\n",
       "      <td>27</td>\n",
       "      <td>высшее</td>\n",
       "      <td>0</td>\n",
       "      <td>гражданский брак</td>\n",
       "      <td>1</td>\n",
       "      <td>M</td>\n",
       "      <td>компаньон</td>\n",
       "      <td>0</td>\n",
       "      <td>255763.57</td>\n",
       "      <td>покупка жилья</td>\n",
       "    </tr>\n",
       "    <tr>\n",
       "      <td>6</td>\n",
       "      <td>0</td>\n",
       "      <td>-2879.20</td>\n",
       "      <td>43</td>\n",
       "      <td>высшее</td>\n",
       "      <td>0</td>\n",
       "      <td>женат / замужем</td>\n",
       "      <td>0</td>\n",
       "      <td>F</td>\n",
       "      <td>компаньон</td>\n",
       "      <td>0</td>\n",
       "      <td>240525.97</td>\n",
       "      <td>операции с жильем</td>\n",
       "    </tr>\n",
       "    <tr>\n",
       "      <td>7</td>\n",
       "      <td>0</td>\n",
       "      <td>-152.78</td>\n",
       "      <td>50</td>\n",
       "      <td>СРЕДНЕЕ</td>\n",
       "      <td>1</td>\n",
       "      <td>женат / замужем</td>\n",
       "      <td>0</td>\n",
       "      <td>M</td>\n",
       "      <td>сотрудник</td>\n",
       "      <td>0</td>\n",
       "      <td>135823.93</td>\n",
       "      <td>образование</td>\n",
       "    </tr>\n",
       "    <tr>\n",
       "      <td>8</td>\n",
       "      <td>2</td>\n",
       "      <td>-6929.87</td>\n",
       "      <td>35</td>\n",
       "      <td>ВЫСШЕЕ</td>\n",
       "      <td>0</td>\n",
       "      <td>гражданский брак</td>\n",
       "      <td>1</td>\n",
       "      <td>F</td>\n",
       "      <td>сотрудник</td>\n",
       "      <td>0</td>\n",
       "      <td>95856.83</td>\n",
       "      <td>на проведение свадьбы</td>\n",
       "    </tr>\n",
       "    <tr>\n",
       "      <td>9</td>\n",
       "      <td>0</td>\n",
       "      <td>-2188.76</td>\n",
       "      <td>41</td>\n",
       "      <td>среднее</td>\n",
       "      <td>1</td>\n",
       "      <td>женат / замужем</td>\n",
       "      <td>0</td>\n",
       "      <td>M</td>\n",
       "      <td>сотрудник</td>\n",
       "      <td>0</td>\n",
       "      <td>144425.94</td>\n",
       "      <td>покупка жилья для семьи</td>\n",
       "    </tr>\n",
       "  </tbody>\n",
       "</table>\n",
       "</div>"
      ],
      "text/plain": [
       "   children  days_employed  dob_years education  education_id  \\\n",
       "0         1       -8437.67         42    высшее             0   \n",
       "1         1       -4024.80         36   среднее             1   \n",
       "2         0       -5623.42         33   Среднее             1   \n",
       "3         3       -4124.75         32   среднее             1   \n",
       "4         0      340266.07         53   среднее             1   \n",
       "5         0        -926.19         27    высшее             0   \n",
       "6         0       -2879.20         43    высшее             0   \n",
       "7         0        -152.78         50   СРЕДНЕЕ             1   \n",
       "8         2       -6929.87         35    ВЫСШЕЕ             0   \n",
       "9         0       -2188.76         41   среднее             1   \n",
       "\n",
       "      family_status  family_status_id gender income_type  debt  total_income  \\\n",
       "0   женат / замужем                 0      F   сотрудник     0     253875.64   \n",
       "1   женат / замужем                 0      F   сотрудник     0     112080.01   \n",
       "2   женат / замужем                 0      M   сотрудник     0     145885.95   \n",
       "3   женат / замужем                 0      M   сотрудник     0     267628.55   \n",
       "4  гражданский брак                 1      F   пенсионер     0     158616.08   \n",
       "5  гражданский брак                 1      M   компаньон     0     255763.57   \n",
       "6   женат / замужем                 0      F   компаньон     0     240525.97   \n",
       "7   женат / замужем                 0      M   сотрудник     0     135823.93   \n",
       "8  гражданский брак                 1      F   сотрудник     0      95856.83   \n",
       "9   женат / замужем                 0      M   сотрудник     0     144425.94   \n",
       "\n",
       "                      purpose  \n",
       "0               покупка жилья  \n",
       "1     приобретение автомобиля  \n",
       "2               покупка жилья  \n",
       "3  дополнительное образование  \n",
       "4             сыграть свадьбу  \n",
       "5               покупка жилья  \n",
       "6           операции с жильем  \n",
       "7                 образование  \n",
       "8       на проведение свадьбы  \n",
       "9     покупка жилья для семьи  "
      ]
     },
     "execution_count": 2,
     "metadata": {},
     "output_type": "execute_result"
    }
   ],
   "source": [
    "df = pd.read_csv('/datasets/data.csv')\n",
    "df.info()\n",
    "df.head(10)"
   ]
  },
  {
   "cell_type": "markdown",
   "metadata": {},
   "source": [
    "При открытии таблицы в 2 колонках виднеются пропуски, возможно это как-то связано. \n",
    "С названиям колонок все в порядке.\n",
    "В колонке education есть различия при написании одних и тех же слов.\n",
    "Так как в таблице у нас есть ['family_status_idfamily_status_id', 'education_id\teducation_id'], то колонки расшифровки можно вынести в отдельные таблицы.\n",
    "В столбце 'purpose' видно что кредит связанный с приобретение жилья формулируется по разному, поэтому здесь придется воспользоваться анализом текстовых значений и разделить данные на соответствующие группы"
   ]
  },
  {
   "cell_type": "code",
   "execution_count": 3,
   "metadata": {},
   "outputs": [
    {
     "data": {
      "text/html": [
       "<div>\n",
       "<style scoped>\n",
       "    .dataframe tbody tr th:only-of-type {\n",
       "        vertical-align: middle;\n",
       "    }\n",
       "\n",
       "    .dataframe tbody tr th {\n",
       "        vertical-align: top;\n",
       "    }\n",
       "\n",
       "    .dataframe thead th {\n",
       "        text-align: right;\n",
       "    }\n",
       "</style>\n",
       "<table border=\"1\" class=\"dataframe\">\n",
       "  <thead>\n",
       "    <tr style=\"text-align: right;\">\n",
       "      <th></th>\n",
       "      <th>count</th>\n",
       "      <th>mean</th>\n",
       "      <th>std</th>\n",
       "      <th>min</th>\n",
       "      <th>25%</th>\n",
       "      <th>50%</th>\n",
       "      <th>75%</th>\n",
       "      <th>max</th>\n",
       "    </tr>\n",
       "  </thead>\n",
       "  <tbody>\n",
       "    <tr>\n",
       "      <td>children</td>\n",
       "      <td>21525.00</td>\n",
       "      <td>0.54</td>\n",
       "      <td>1.38</td>\n",
       "      <td>-1.00</td>\n",
       "      <td>0.00</td>\n",
       "      <td>0.00</td>\n",
       "      <td>1.00</td>\n",
       "      <td>20.00</td>\n",
       "    </tr>\n",
       "    <tr>\n",
       "      <td>days_employed</td>\n",
       "      <td>19351.00</td>\n",
       "      <td>63046.50</td>\n",
       "      <td>140827.31</td>\n",
       "      <td>-18388.95</td>\n",
       "      <td>-2747.42</td>\n",
       "      <td>-1203.37</td>\n",
       "      <td>-291.10</td>\n",
       "      <td>401755.40</td>\n",
       "    </tr>\n",
       "    <tr>\n",
       "      <td>dob_years</td>\n",
       "      <td>21525.00</td>\n",
       "      <td>43.29</td>\n",
       "      <td>12.57</td>\n",
       "      <td>0.00</td>\n",
       "      <td>33.00</td>\n",
       "      <td>42.00</td>\n",
       "      <td>53.00</td>\n",
       "      <td>75.00</td>\n",
       "    </tr>\n",
       "    <tr>\n",
       "      <td>education_id</td>\n",
       "      <td>21525.00</td>\n",
       "      <td>0.82</td>\n",
       "      <td>0.55</td>\n",
       "      <td>0.00</td>\n",
       "      <td>1.00</td>\n",
       "      <td>1.00</td>\n",
       "      <td>1.00</td>\n",
       "      <td>4.00</td>\n",
       "    </tr>\n",
       "    <tr>\n",
       "      <td>family_status_id</td>\n",
       "      <td>21525.00</td>\n",
       "      <td>0.97</td>\n",
       "      <td>1.42</td>\n",
       "      <td>0.00</td>\n",
       "      <td>0.00</td>\n",
       "      <td>0.00</td>\n",
       "      <td>1.00</td>\n",
       "      <td>4.00</td>\n",
       "    </tr>\n",
       "    <tr>\n",
       "      <td>debt</td>\n",
       "      <td>21525.00</td>\n",
       "      <td>0.08</td>\n",
       "      <td>0.27</td>\n",
       "      <td>0.00</td>\n",
       "      <td>0.00</td>\n",
       "      <td>0.00</td>\n",
       "      <td>0.00</td>\n",
       "      <td>1.00</td>\n",
       "    </tr>\n",
       "    <tr>\n",
       "      <td>total_income</td>\n",
       "      <td>19351.00</td>\n",
       "      <td>167422.30</td>\n",
       "      <td>102971.57</td>\n",
       "      <td>20667.26</td>\n",
       "      <td>103053.15</td>\n",
       "      <td>145017.94</td>\n",
       "      <td>203435.07</td>\n",
       "      <td>2265604.03</td>\n",
       "    </tr>\n",
       "  </tbody>\n",
       "</table>\n",
       "</div>"
      ],
      "text/plain": [
       "                    count      mean       std       min       25%       50%  \\\n",
       "children         21525.00      0.54      1.38     -1.00      0.00      0.00   \n",
       "days_employed    19351.00  63046.50 140827.31 -18388.95  -2747.42  -1203.37   \n",
       "dob_years        21525.00     43.29     12.57      0.00     33.00     42.00   \n",
       "education_id     21525.00      0.82      0.55      0.00      1.00      1.00   \n",
       "family_status_id 21525.00      0.97      1.42      0.00      0.00      0.00   \n",
       "debt             21525.00      0.08      0.27      0.00      0.00      0.00   \n",
       "total_income     19351.00 167422.30 102971.57  20667.26 103053.15 145017.94   \n",
       "\n",
       "                       75%        max  \n",
       "children              1.00      20.00  \n",
       "days_employed      -291.10  401755.40  \n",
       "dob_years            53.00      75.00  \n",
       "education_id          1.00       4.00  \n",
       "family_status_id      1.00       4.00  \n",
       "debt                  0.00       1.00  \n",
       "total_income     203435.07 2265604.03  "
      ]
     },
     "execution_count": 3,
     "metadata": {},
     "output_type": "execute_result"
    }
   ],
   "source": [
    "df.describe().T"
   ]
  },
  {
   "cell_type": "markdown",
   "metadata": {},
   "source": [
    "Несмотря на то, что мы не изучали функцию describe(), мне кажется очень удобным методом для быстрого анализа числовых значений. Из этой таблицы можно увидеть аномалии в колонке dob_years с нулевым возрастом, что невозможно, ну или на детей уже кредит переписывают непутевые родители, и значени -1 в колонке количества детей (ребенка то за что?).\n",
    "Если days_employed это общий трудовой стаж в днях, то как он может быть отрицательный и почему максимальное значение такое большое? (Возможно это как-то связано с датой 01.01.1970 и записи сделаны не в днях а часах). Большинство числовых значений (5 столбцов из 7) можно переформатировать в uint8 так как они не превышают значения 255 и отрицательных значений по логике не может быть.\n",
    "\n",
    "\n",
    "Из интересных особенностей дополнительно можно сказать, что примерно более половины клиентов живут без детей, а у кого-то их аж 20, наверное кредит не самое страшное что было в его жизни, хотя возможно тут считаются еще и внуки, но для этого нужен дополнительный анализ, значение выглядит подозрительным, если принимать во внимание стандартное отклоние и распределение детей по клиентам. Самый мудрому клиенту банка 75 лет. Самый обеспеченный клиент зарабатывает более 2 млн. руб. Процент людей у которых были просрочки по кредитам составляет около 8% (исходя из значения mean). Распределение возраста близко к нормальному (куполообразному) распределению. Средний возраст клиента 43,2 года.\n"
   ]
  },
  {
   "cell_type": "code",
   "execution_count": 4,
   "metadata": {},
   "outputs": [
    {
     "data": {
      "text/html": [
       "<div>\n",
       "<style scoped>\n",
       "    .dataframe tbody tr th:only-of-type {\n",
       "        vertical-align: middle;\n",
       "    }\n",
       "\n",
       "    .dataframe tbody tr th {\n",
       "        vertical-align: top;\n",
       "    }\n",
       "\n",
       "    .dataframe thead th {\n",
       "        text-align: right;\n",
       "    }\n",
       "</style>\n",
       "<table border=\"1\" class=\"dataframe\">\n",
       "  <thead>\n",
       "    <tr style=\"text-align: right;\">\n",
       "      <th></th>\n",
       "      <th>count</th>\n",
       "      <th>unique</th>\n",
       "      <th>top</th>\n",
       "      <th>freq</th>\n",
       "    </tr>\n",
       "  </thead>\n",
       "  <tbody>\n",
       "    <tr>\n",
       "      <td>education</td>\n",
       "      <td>21525</td>\n",
       "      <td>15</td>\n",
       "      <td>среднее</td>\n",
       "      <td>13750</td>\n",
       "    </tr>\n",
       "    <tr>\n",
       "      <td>family_status</td>\n",
       "      <td>21525</td>\n",
       "      <td>5</td>\n",
       "      <td>женат / замужем</td>\n",
       "      <td>12380</td>\n",
       "    </tr>\n",
       "    <tr>\n",
       "      <td>gender</td>\n",
       "      <td>21525</td>\n",
       "      <td>3</td>\n",
       "      <td>F</td>\n",
       "      <td>14236</td>\n",
       "    </tr>\n",
       "    <tr>\n",
       "      <td>income_type</td>\n",
       "      <td>21525</td>\n",
       "      <td>8</td>\n",
       "      <td>сотрудник</td>\n",
       "      <td>11119</td>\n",
       "    </tr>\n",
       "    <tr>\n",
       "      <td>purpose</td>\n",
       "      <td>21525</td>\n",
       "      <td>38</td>\n",
       "      <td>свадьба</td>\n",
       "      <td>797</td>\n",
       "    </tr>\n",
       "  </tbody>\n",
       "</table>\n",
       "</div>"
      ],
      "text/plain": [
       "               count unique              top   freq\n",
       "education      21525     15          среднее  13750\n",
       "family_status  21525      5  женат / замужем  12380\n",
       "gender         21525      3                F  14236\n",
       "income_type    21525      8        сотрудник  11119\n",
       "purpose        21525     38          свадьба    797"
      ]
     },
     "execution_count": 4,
     "metadata": {},
     "output_type": "execute_result"
    }
   ],
   "source": [
    "df.describe(include='object').T"
   ]
  },
  {
   "cell_type": "markdown",
   "metadata": {},
   "source": [
    "Краткий анализ текстовых значений может показать нам, что в данных от куда-то появился 3 пол, хотя в нашем мире этим уже не удивить. Больше всего кредитов предварительно берут для свадьбы, банк явно способствует увеличению новых ячеек общества ~~или количеству разводов~~, для более точного утверждения нужно более подробно изучить и разобрать purpose. С учетом беглого анализа выше, в education делали записи явно как попало. Колонка family_status требует проверки уникальных значений, так как в первых 10 строках встречалось только 2 значения, 1 из них скорей всего \"холост\", оставшиеся 2 значения нужно проверить на возможное наличие ошибки. Колонка income_type так же пребует проверку на уникальные значения.\n",
    "\n",
    "Ну также из дополнительных особенностей можно предварительно сказать, что у большинства клиентов банка среднее образование, они состоят в браке, а заемщик работающая девушка.\n",
    "\n",
    "Интересно почему девушки берут кредит чаще?... хотя если посмтреть на purpose, видимо на свадьбу, но это уже шутка."
   ]
  },
  {
   "cell_type": "markdown",
   "metadata": {},
   "source": [
    "Чет я увлекся...\n",
    "\n",
    "Итак\n",
    "\n",
    "**Вывод**\n",
    "\n",
    "- По выгруженным данным видны пропуски в 2 колонка\n",
    "- Исходя из описания колонjr ['education', 'family_status', 'gender', 'income_type'] являются категорийными\n",
    "- Колонки ['education, family_status'] будет удобней вынести в отдельную таблицу\n",
    "- В столбце 'education' есть значения разного регистра и их нужно будет исправить\n",
    "- В столбец 'gender' есть лишнее значение\n",
    "- Если изменить формат большинства числовых колонок на оптимальный, то можно добиться значительного уменьшения размера исходного файла с данными\n",
    "- В колонке общего трудового стажа и количества детей имеются отрицательные числа.\n",
    "- В колонке возраста имеются нулевые значения"
   ]
  },
  {
   "cell_type": "markdown",
   "metadata": {
    "tags": []
   },
   "source": [
    "## Предобработка данных"
   ]
  },
  {
   "cell_type": "markdown",
   "metadata": {
    "tags": [],
    "toc-hr-collapsed": true
   },
   "source": [
    "### Чистка данных"
   ]
  },
  {
   "cell_type": "markdown",
   "metadata": {},
   "source": [
    "Первым делом займемся чисткой данных и устранением артефактов\n",
    "\n",
    "Начнем нашу обработку с самой непонятной колонки - `days_employed` или же трудовой стаж"
   ]
  },
  {
   "cell_type": "markdown",
   "metadata": {
    "tags": [],
    "toc-hr-collapsed": true
   },
   "source": [
    "#### Обработка данных по трудовому стажу"
   ]
  },
  {
   "cell_type": "markdown",
   "metadata": {},
   "source": [
    "Построим гистограмму для визуализации распределения величины"
   ]
  },
  {
   "cell_type": "code",
   "execution_count": 5,
   "metadata": {},
   "outputs": [
    {
     "data": {
      "text/plain": [
       "Text(0, 0.5, 'Количество клиентов, чел')"
      ]
     },
     "execution_count": 5,
     "metadata": {},
     "output_type": "execute_result"
    },
    {
     "data": {
      "image/png": "[encoded data removed]",
      "text/plain": [
       "<Figure size 432x288 with 1 Axes>"
      ]
     },
     "metadata": {
      "needs_background": "light"
     },
     "output_type": "display_data"
    }
   ],
   "source": [
    "df['days_employed'].hist()\n",
    "plt.title('Распределение трудового стажа')\n",
    "plt.xlabel('Значение трудового стажа, дн')\n",
    "plt.ylabel('Количество клиентов, чел')"
   ]
  },
  {
   "cell_type": "markdown",
   "metadata": {},
   "source": [
    "Как видно на гистограмме в данных виднеется 2 группы значений:\n",
    "1. Значения от 300000 и выше\n",
    "2. Значения расположенные ближе 0\n",
    "\n",
    "Попробуем проанализировать эти 2 группы отдельно, а величину для разделения групп условно возьмем 200 000"
   ]
  },
  {
   "cell_type": "markdown",
   "metadata": {
    "tags": []
   },
   "source": [
    "##### Анализ больших чисел в стаже работы"
   ]
  },
  {
   "cell_type": "markdown",
   "metadata": {},
   "source": [
    "Начнем со второй группы больших значений"
   ]
  },
  {
   "cell_type": "code",
   "execution_count": 6,
   "metadata": {},
   "outputs": [
    {
     "data": {
      "text/html": [
       "<div>\n",
       "<style scoped>\n",
       "    .dataframe tbody tr th:only-of-type {\n",
       "        vertical-align: middle;\n",
       "    }\n",
       "\n",
       "    .dataframe tbody tr th {\n",
       "        vertical-align: top;\n",
       "    }\n",
       "\n",
       "    .dataframe thead th {\n",
       "        text-align: right;\n",
       "    }\n",
       "</style>\n",
       "<table border=\"1\" class=\"dataframe\">\n",
       "  <thead>\n",
       "    <tr style=\"text-align: right;\">\n",
       "      <th></th>\n",
       "      <th>days_employed</th>\n",
       "      <th>dob_years</th>\n",
       "    </tr>\n",
       "  </thead>\n",
       "  <tbody>\n",
       "    <tr>\n",
       "      <td>count</td>\n",
       "      <td>3445.00</td>\n",
       "      <td>3445.00</td>\n",
       "    </tr>\n",
       "    <tr>\n",
       "      <td>mean</td>\n",
       "      <td>365004.31</td>\n",
       "      <td>59.12</td>\n",
       "    </tr>\n",
       "    <tr>\n",
       "      <td>std</td>\n",
       "      <td>21075.02</td>\n",
       "      <td>7.58</td>\n",
       "    </tr>\n",
       "    <tr>\n",
       "      <td>min</td>\n",
       "      <td>328728.72</td>\n",
       "      <td>0.00</td>\n",
       "    </tr>\n",
       "    <tr>\n",
       "      <td>25%</td>\n",
       "      <td>346639.41</td>\n",
       "      <td>56.00</td>\n",
       "    </tr>\n",
       "    <tr>\n",
       "      <td>50%</td>\n",
       "      <td>365213.31</td>\n",
       "      <td>60.00</td>\n",
       "    </tr>\n",
       "    <tr>\n",
       "      <td>75%</td>\n",
       "      <td>383246.44</td>\n",
       "      <td>64.00</td>\n",
       "    </tr>\n",
       "    <tr>\n",
       "      <td>max</td>\n",
       "      <td>401755.40</td>\n",
       "      <td>74.00</td>\n",
       "    </tr>\n",
       "  </tbody>\n",
       "</table>\n",
       "</div>"
      ],
      "text/plain": [
       "       days_employed  dob_years\n",
       "count        3445.00    3445.00\n",
       "mean       365004.31      59.12\n",
       "std         21075.02       7.58\n",
       "min        328728.72       0.00\n",
       "25%        346639.41      56.00\n",
       "50%        365213.31      60.00\n",
       "75%        383246.44      64.00\n",
       "max        401755.40      74.00"
      ]
     },
     "metadata": {},
     "output_type": "display_data"
    },
    {
     "data": {
      "text/plain": [
       "Text(0, 0.5, 'Количество клиентов, чел')"
      ]
     },
     "execution_count": 6,
     "metadata": {},
     "output_type": "execute_result"
    },
    {
     "data": {
      "image/png": "[encoded data removed]",
      "text/plain": [
       "<Figure size 432x288 with 1 Axes>"
      ]
     },
     "metadata": {
      "needs_background": "light"
     },
     "output_type": "display_data"
    }
   ],
   "source": [
    "days_employed_high = df[df['days_employed'] > 200000]\n",
    "display(days_employed_high.describe()[['days_employed', 'dob_years']])\n",
    "days_employed_high['days_employed'].hist()\n",
    "plt.title('Распределение трудового стажа пенсионеров и безработных')\n",
    "plt.xlabel('Значение трудового стажа, сек')\n",
    "plt.ylabel('Количество клиентов, чел')"
   ]
  },
  {
   "cell_type": "markdown",
   "metadata": {},
   "source": [
    "По общей информации группы, можно сказать, что она занимает около 16% (3445 от 21525) всех данных в предоставленной таблице, что является, на мой взгляд, существенным и удалять их не следует. Средний возраст в группе составлет 59 лет, скорей всего данная группа состоит из пенсионеров."
   ]
  },
  {
   "cell_type": "code",
   "execution_count": 7,
   "metadata": {},
   "outputs": [
    {
     "data": {
      "text/plain": [
       "пенсионер      3443\n",
       "безработный       2\n",
       "Name: income_type, dtype: int64"
      ]
     },
     "execution_count": 7,
     "metadata": {},
     "output_type": "execute_result"
    }
   ],
   "source": [
    "days_employed_high['income_type'].value_counts()"
   ]
  },
  {
   "cell_type": "markdown",
   "metadata": {},
   "source": [
    "Предположение подтвердилось, в группе находятся все безработные и все пенсионеры (включая 413 пенсионеров с пропущенными значениями).\n",
    "\n",
    "Средняя величина трудового стажа составляет 365004 дней, если переводить это в года, то получится 1000 лет, что протеворечит здравому смыслу! Из этого следует предположение, что данные по пенсионерам и безработным предоставлены в другой величине и взять за гипотезу, что данные предоставлены в часах. В таком случае 1000 лет нужно поделить на 24 часа. В результате мы получаем адекватное число в 41,6 года, данным числом так же можно заменить пропуски по трудовому стажу у пенсионеров.\n",
    "\n",
    "Трудовой стаж будет удобно анализировать именно в года, так как при анализе можно будет ориентироваться на возраст клиента и это даст дополнительную уверенность в правильности рассуждений."
   ]
  },
  {
   "cell_type": "code",
   "execution_count": 8,
   "metadata": {},
   "outputs": [
    {
     "data": {
      "text/html": [
       "<div>\n",
       "<style scoped>\n",
       "    .dataframe tbody tr th:only-of-type {\n",
       "        vertical-align: middle;\n",
       "    }\n",
       "\n",
       "    .dataframe tbody tr th {\n",
       "        vertical-align: top;\n",
       "    }\n",
       "\n",
       "    .dataframe thead th {\n",
       "        text-align: right;\n",
       "    }\n",
       "</style>\n",
       "<table border=\"1\" class=\"dataframe\">\n",
       "  <thead>\n",
       "    <tr style=\"text-align: right;\">\n",
       "      <th></th>\n",
       "      <th>children</th>\n",
       "      <th>days_employed</th>\n",
       "      <th>dob_years</th>\n",
       "      <th>education</th>\n",
       "      <th>education_id</th>\n",
       "      <th>family_status</th>\n",
       "      <th>family_status_id</th>\n",
       "      <th>gender</th>\n",
       "      <th>income_type</th>\n",
       "      <th>debt</th>\n",
       "      <th>total_income</th>\n",
       "      <th>purpose</th>\n",
       "    </tr>\n",
       "  </thead>\n",
       "  <tbody>\n",
       "    <tr>\n",
       "      <td>3133</td>\n",
       "      <td>1</td>\n",
       "      <td>337524.47</td>\n",
       "      <td>31</td>\n",
       "      <td>среднее</td>\n",
       "      <td>1</td>\n",
       "      <td>женат / замужем</td>\n",
       "      <td>0</td>\n",
       "      <td>M</td>\n",
       "      <td>безработный</td>\n",
       "      <td>1</td>\n",
       "      <td>59956.99</td>\n",
       "      <td>покупка жилья для сдачи</td>\n",
       "    </tr>\n",
       "    <tr>\n",
       "      <td>14798</td>\n",
       "      <td>0</td>\n",
       "      <td>395302.84</td>\n",
       "      <td>45</td>\n",
       "      <td>Высшее</td>\n",
       "      <td>0</td>\n",
       "      <td>гражданский брак</td>\n",
       "      <td>1</td>\n",
       "      <td>F</td>\n",
       "      <td>безработный</td>\n",
       "      <td>0</td>\n",
       "      <td>202722.51</td>\n",
       "      <td>ремонт жилью</td>\n",
       "    </tr>\n",
       "  </tbody>\n",
       "</table>\n",
       "</div>"
      ],
      "text/plain": [
       "       children  days_employed  dob_years education  education_id  \\\n",
       "3133          1      337524.47         31   среднее             1   \n",
       "14798         0      395302.84         45    Высшее             0   \n",
       "\n",
       "          family_status  family_status_id gender  income_type  debt  \\\n",
       "3133    женат / замужем                 0      M  безработный     1   \n",
       "14798  гражданский брак                 1      F  безработный     0   \n",
       "\n",
       "       total_income                  purpose  \n",
       "3133       59956.99  покупка жилья для сдачи  \n",
       "14798     202722.51             ремонт жилью  "
      ]
     },
     "execution_count": 8,
     "metadata": {},
     "output_type": "execute_result"
    }
   ],
   "source": [
    "df[df['income_type'] == 'безработный']"
   ]
  },
  {
   "cell_type": "markdown",
   "metadata": {},
   "source": [
    " Если перевести значение стажа в года то получается у первого 38 лет у второго 45 лет "
   ]
  },
  {
   "cell_type": "markdown",
   "metadata": {},
   "source": [
    "Сделаем функцию, которая будет обрабатывать большие значения и пересчитывать их в года."
   ]
  },
  {
   "cell_type": "code",
   "execution_count": 9,
   "metadata": {},
   "outputs": [
    {
     "data": {
      "text/html": [
       "<div>\n",
       "<style scoped>\n",
       "    .dataframe tbody tr th:only-of-type {\n",
       "        vertical-align: middle;\n",
       "    }\n",
       "\n",
       "    .dataframe tbody tr th {\n",
       "        vertical-align: top;\n",
       "    }\n",
       "\n",
       "    .dataframe thead th {\n",
       "        text-align: right;\n",
       "    }\n",
       "</style>\n",
       "<table border=\"1\" class=\"dataframe\">\n",
       "  <thead>\n",
       "    <tr style=\"text-align: right;\">\n",
       "      <th></th>\n",
       "      <th>years_employed</th>\n",
       "      <th>dob_years</th>\n",
       "    </tr>\n",
       "  </thead>\n",
       "  <tbody>\n",
       "    <tr>\n",
       "      <td>count</td>\n",
       "      <td>3443.00</td>\n",
       "      <td>3856.00</td>\n",
       "    </tr>\n",
       "    <tr>\n",
       "      <td>mean</td>\n",
       "      <td>41.67</td>\n",
       "      <td>59.06</td>\n",
       "    </tr>\n",
       "    <tr>\n",
       "      <td>std</td>\n",
       "      <td>2.41</td>\n",
       "      <td>7.62</td>\n",
       "    </tr>\n",
       "    <tr>\n",
       "      <td>min</td>\n",
       "      <td>37.53</td>\n",
       "      <td>0.00</td>\n",
       "    </tr>\n",
       "    <tr>\n",
       "      <td>25%</td>\n",
       "      <td>39.57</td>\n",
       "      <td>56.00</td>\n",
       "    </tr>\n",
       "    <tr>\n",
       "      <td>50%</td>\n",
       "      <td>41.69</td>\n",
       "      <td>60.00</td>\n",
       "    </tr>\n",
       "    <tr>\n",
       "      <td>75%</td>\n",
       "      <td>43.75</td>\n",
       "      <td>64.00</td>\n",
       "    </tr>\n",
       "    <tr>\n",
       "      <td>max</td>\n",
       "      <td>45.86</td>\n",
       "      <td>74.00</td>\n",
       "    </tr>\n",
       "  </tbody>\n",
       "</table>\n",
       "</div>"
      ],
      "text/plain": [
       "       years_employed  dob_years\n",
       "count         3443.00    3856.00\n",
       "mean            41.67      59.06\n",
       "std              2.41       7.62\n",
       "min             37.53       0.00\n",
       "25%             39.57      56.00\n",
       "50%             41.69      60.00\n",
       "75%             43.75      64.00\n",
       "max             45.86      74.00"
      ]
     },
     "execution_count": 9,
     "metadata": {},
     "output_type": "execute_result"
    }
   ],
   "source": [
    "def recalculation_of_high_days_worked(row):\n",
    "    days_empl = row['days_employed']\n",
    "    type_income = row['income_type']\n",
    "    if (days_empl > 200000) and (type_income in ['безработный', 'пенсионер']):\n",
    "        return days_empl / 365 / 24\n",
    "    else:\n",
    "        return days_empl\n",
    "\n",
    "\n",
    "df['years_employed'] = df.apply(recalculation_of_high_days_worked, axis=1)\n",
    "df[df['income_type'] == 'пенсионер'].describe()[['years_employed', 'dob_years']]"
   ]
  },
  {
   "cell_type": "markdown",
   "metadata": {},
   "source": [
    "Теперь со стажем пенсионеров все в порядке, но в колонке возраста мы можем заметить минимальное значени 0. Такие значения можно заполнить исходя из того какая разница в группе есть между средним возрастом и средним трудовым стажем. Но этим займемся позже"
   ]
  },
  {
   "cell_type": "markdown",
   "metadata": {
    "tags": []
   },
   "source": [
    "##### Отрицательные значения трудового стажа"
   ]
  },
  {
   "cell_type": "markdown",
   "metadata": {},
   "source": [
    "Теперь займемся отрицательными значениям в колонке `years_employed` - стаж работы (изначальная колонка `days_employed`)"
   ]
  },
  {
   "cell_type": "code",
   "execution_count": 10,
   "metadata": {},
   "outputs": [
    {
     "data": {
      "text/plain": [
       "count    15906.00\n",
       "mean     -2353.02\n",
       "std       2304.24\n",
       "min     -18388.95\n",
       "25%      -3157.48\n",
       "50%      -1630.02\n",
       "75%       -756.37\n",
       "max        -24.14\n",
       "Name: days_employed, dtype: float64"
      ]
     },
     "execution_count": 10,
     "metadata": {},
     "output_type": "execute_result"
    }
   ],
   "source": [
    "df[df['days_employed'] < 200000 ]['days_employed'].describe()"
   ]
  },
  {
   "cell_type": "markdown",
   "metadata": {},
   "source": [
    "В самом начале обработки пропусков мы взяли условную отметку значения в 200 000 для разделения показаний на 2 группу. Из таблицы выше видно что 1 группа состоит исключительно из отрицательных значений. Почучается в новой колонке years_employed, которую мы добавили во время работы, находятся такие же значние, но все положительные числа мы уже проанализировать.\n",
    "\n",
    "Следовательно для дальнейшей работы можно отфильтровать новую таблицу"
   ]
  },
  {
   "cell_type": "code",
   "execution_count": 11,
   "metadata": {},
   "outputs": [
    {
     "data": {
      "text/plain": [
       "Text(0, 0.5, 'Количество клиентов, чел')"
      ]
     },
     "execution_count": 11,
     "metadata": {},
     "output_type": "execute_result"
    },
    {
     "data": {
      "image/png": "[encoded data removed]",
      "text/plain": [
       "<Figure size 432x288 with 1 Axes>"
      ]
     },
     "metadata": {
      "needs_background": "light"
     },
     "output_type": "display_data"
    }
   ],
   "source": [
    "negative_work = df[df['years_employed'] < 0 ]              \n",
    "negative_work['years_employed'].hist()                     \n",
    "negative_work.describe()[['days_employed', 'dob_years']]\n",
    "plt.title('Распределение трудового стажа')\n",
    "plt.xlabel('Значение трудового стажа, дн')\n",
    "plt.ylabel('Количество клиентов, чел')"
   ]
  },
  {
   "cell_type": "markdown",
   "metadata": {},
   "source": [
    "Первое что приходит в голову, это просто поменять знак. В таком случае максимальный стаж у клиентов будет равен 18388.95 дня что в переводе в года будет 50,3 года, с учетом, что самому возрастному клиенту 75 лет, цифра похожа на правду.\n",
    "\n",
    "По гистограмме можно сделать вывод, что кредиты берут чаще в начале своей карьеры, а к старости стараются не обременять себя долговыми обязательствами. Заполним колонку 'years_employed' в исходном датафрейме в соответствии с вышеизложенной логикой, для этого напишем функцию"
   ]
  },
  {
   "cell_type": "code",
   "execution_count": 12,
   "metadata": {},
   "outputs": [],
   "source": [
    "def recalculation_negative_worked (row):\n",
    "    value_employed = row['years_employed']\n",
    "    if value_employed < 0:\n",
    "        return value_employed / -365 \n",
    "    else:\n",
    "        return value_employed"
   ]
  },
  {
   "cell_type": "markdown",
   "metadata": {},
   "source": [
    "Сделаем эксперимент на копии чтобы не испортить начальный df"
   ]
  },
  {
   "cell_type": "code",
   "execution_count": 13,
   "metadata": {},
   "outputs": [
    {
     "data": {
      "text/plain": [
       "count   19351.00\n",
       "mean       12.72\n",
       "std        14.67\n",
       "min         0.07\n",
       "25%         2.54\n",
       "50%         6.01\n",
       "75%        15.17\n",
       "max        50.38\n",
       "Name: years_employed, dtype: float64"
      ]
     },
     "execution_count": 13,
     "metadata": {},
     "output_type": "execute_result"
    }
   ],
   "source": [
    "df1=df.copy()\n",
    "df1['years_employed'] = df1.apply(recalculation_negative_worked, axis=1)\n",
    "df1['years_employed'].describe()"
   ]
  },
  {
   "cell_type": "markdown",
   "metadata": {},
   "source": [
    "После проверки можно применять к основной таблице"
   ]
  },
  {
   "cell_type": "code",
   "execution_count": 14,
   "metadata": {},
   "outputs": [],
   "source": [
    "df['years_employed'] = df.apply(recalculation_negative_worked, axis=1)                                                          "
   ]
  },
  {
   "cell_type": "markdown",
   "metadata": {},
   "source": [
    "Отрицательные значения стажа обработаны! И теперь раз мы сделали новую колонку с стажем, от старой колонки можно избавиться"
   ]
  },
  {
   "cell_type": "code",
   "execution_count": 15,
   "metadata": {},
   "outputs": [
    {
     "data": {
      "text/html": [
       "<div>\n",
       "<style scoped>\n",
       "    .dataframe tbody tr th:only-of-type {\n",
       "        vertical-align: middle;\n",
       "    }\n",
       "\n",
       "    .dataframe tbody tr th {\n",
       "        vertical-align: top;\n",
       "    }\n",
       "\n",
       "    .dataframe thead th {\n",
       "        text-align: right;\n",
       "    }\n",
       "</style>\n",
       "<table border=\"1\" class=\"dataframe\">\n",
       "  <thead>\n",
       "    <tr style=\"text-align: right;\">\n",
       "      <th></th>\n",
       "      <th>children</th>\n",
       "      <th>dob_years</th>\n",
       "      <th>education_id</th>\n",
       "      <th>family_status_id</th>\n",
       "      <th>debt</th>\n",
       "      <th>total_income</th>\n",
       "      <th>years_employed</th>\n",
       "    </tr>\n",
       "  </thead>\n",
       "  <tbody>\n",
       "    <tr>\n",
       "      <td>count</td>\n",
       "      <td>21525.00</td>\n",
       "      <td>21525.00</td>\n",
       "      <td>21525.00</td>\n",
       "      <td>21525.00</td>\n",
       "      <td>21525.00</td>\n",
       "      <td>19351.00</td>\n",
       "      <td>19351.00</td>\n",
       "    </tr>\n",
       "    <tr>\n",
       "      <td>mean</td>\n",
       "      <td>0.54</td>\n",
       "      <td>43.29</td>\n",
       "      <td>0.82</td>\n",
       "      <td>0.97</td>\n",
       "      <td>0.08</td>\n",
       "      <td>167422.30</td>\n",
       "      <td>12.72</td>\n",
       "    </tr>\n",
       "    <tr>\n",
       "      <td>std</td>\n",
       "      <td>1.38</td>\n",
       "      <td>12.57</td>\n",
       "      <td>0.55</td>\n",
       "      <td>1.42</td>\n",
       "      <td>0.27</td>\n",
       "      <td>102971.57</td>\n",
       "      <td>14.67</td>\n",
       "    </tr>\n",
       "    <tr>\n",
       "      <td>min</td>\n",
       "      <td>-1.00</td>\n",
       "      <td>0.00</td>\n",
       "      <td>0.00</td>\n",
       "      <td>0.00</td>\n",
       "      <td>0.00</td>\n",
       "      <td>20667.26</td>\n",
       "      <td>0.07</td>\n",
       "    </tr>\n",
       "    <tr>\n",
       "      <td>25%</td>\n",
       "      <td>0.00</td>\n",
       "      <td>33.00</td>\n",
       "      <td>1.00</td>\n",
       "      <td>0.00</td>\n",
       "      <td>0.00</td>\n",
       "      <td>103053.15</td>\n",
       "      <td>2.54</td>\n",
       "    </tr>\n",
       "    <tr>\n",
       "      <td>50%</td>\n",
       "      <td>0.00</td>\n",
       "      <td>42.00</td>\n",
       "      <td>1.00</td>\n",
       "      <td>0.00</td>\n",
       "      <td>0.00</td>\n",
       "      <td>145017.94</td>\n",
       "      <td>6.01</td>\n",
       "    </tr>\n",
       "    <tr>\n",
       "      <td>75%</td>\n",
       "      <td>1.00</td>\n",
       "      <td>53.00</td>\n",
       "      <td>1.00</td>\n",
       "      <td>1.00</td>\n",
       "      <td>0.00</td>\n",
       "      <td>203435.07</td>\n",
       "      <td>15.17</td>\n",
       "    </tr>\n",
       "    <tr>\n",
       "      <td>max</td>\n",
       "      <td>20.00</td>\n",
       "      <td>75.00</td>\n",
       "      <td>4.00</td>\n",
       "      <td>4.00</td>\n",
       "      <td>1.00</td>\n",
       "      <td>2265604.03</td>\n",
       "      <td>50.38</td>\n",
       "    </tr>\n",
       "  </tbody>\n",
       "</table>\n",
       "</div>"
      ],
      "text/plain": [
       "       children  dob_years  education_id  family_status_id     debt  \\\n",
       "count  21525.00   21525.00      21525.00          21525.00 21525.00   \n",
       "mean       0.54      43.29          0.82              0.97     0.08   \n",
       "std        1.38      12.57          0.55              1.42     0.27   \n",
       "min       -1.00       0.00          0.00              0.00     0.00   \n",
       "25%        0.00      33.00          1.00              0.00     0.00   \n",
       "50%        0.00      42.00          1.00              0.00     0.00   \n",
       "75%        1.00      53.00          1.00              1.00     0.00   \n",
       "max       20.00      75.00          4.00              4.00     1.00   \n",
       "\n",
       "       total_income  years_employed  \n",
       "count      19351.00        19351.00  \n",
       "mean      167422.30           12.72  \n",
       "std       102971.57           14.67  \n",
       "min        20667.26            0.07  \n",
       "25%       103053.15            2.54  \n",
       "50%       145017.94            6.01  \n",
       "75%       203435.07           15.17  \n",
       "max      2265604.03           50.38  "
      ]
     },
     "execution_count": 15,
     "metadata": {},
     "output_type": "execute_result"
    }
   ],
   "source": [
    "df.drop(['days_employed'], axis = 1, inplace = True)\n",
    "df.describe()  "
   ]
  },
  {
   "cell_type": "markdown",
   "metadata": {
    "tags": []
   },
   "source": [
    "#### Обработка возраста"
   ]
  },
  {
   "cell_type": "markdown",
   "metadata": {},
   "source": [
    "Теперь приступим к возрасту"
   ]
  },
  {
   "cell_type": "code",
   "execution_count": 16,
   "metadata": {},
   "outputs": [
    {
     "data": {
      "text/plain": [
       "count   21525.00\n",
       "mean       43.29\n",
       "std        12.57\n",
       "min         0.00\n",
       "25%        33.00\n",
       "50%        42.00\n",
       "75%        53.00\n",
       "max        75.00\n",
       "Name: dob_years, dtype: float64"
      ]
     },
     "execution_count": 16,
     "metadata": {},
     "output_type": "execute_result"
    },
    {
     "data": {
      "image/png": "[encoded data removed]",
      "text/plain": [
       "<Figure size 432x288 with 1 Axes>"
      ]
     },
     "metadata": {
      "needs_background": "light"
     },
     "output_type": "display_data"
    }
   ],
   "source": [
    "df['dob_years'].hist(bins=10) \n",
    "plt.title('Распределение возраста клиентов')\n",
    "plt.xlabel('Возраст клиента, г')\n",
    "plt.ylabel('Количество клиентов, чел')\n",
    "df['dob_years'].describe()"
   ]
  },
  {
   "cell_type": "markdown",
   "metadata": {},
   "source": [
    "При заполнении нулевых значений в возрасте, можно ориентироваться на медиану, но зная значение трудового стажа, нужно учитывать что возраст не может быть ниже значения трудового стажа, и исходя из того, что клиенты не выходят на работу в условии к трудовому стажу нужно добавить 18 лет. Предполагая что клиенты по достижению 18 выходили на работу."
   ]
  },
  {
   "cell_type": "code",
   "execution_count": 17,
   "metadata": {},
   "outputs": [
    {
     "data": {
      "text/plain": [
       "0    101\n",
       "Name: dob_years, dtype: int64"
      ]
     },
     "execution_count": 17,
     "metadata": {},
     "output_type": "execute_result"
    }
   ],
   "source": [
    "df[df['dob_years'] < 10]['dob_years'].value_counts()"
   ]
  },
  {
   "cell_type": "markdown",
   "metadata": {},
   "source": [
    "Все некорректные значения в колонке возраста это значение 0 (Проверка некорректных значений)"
   ]
  },
  {
   "cell_type": "code",
   "execution_count": 18,
   "metadata": {},
   "outputs": [
    {
     "name": "stdout",
     "output_type": "stream",
     "text": [
      "Медианный возраст клиентов без учета пропусков: 43 года\n"
     ]
    },
    {
     "data": {
      "text/plain": [
       "count   91.00\n",
       "mean    12.63\n",
       "std     14.91\n",
       "min      0.30\n",
       "25%      2.65\n",
       "50%      4.82\n",
       "75%     13.76\n",
       "max     45.78\n",
       "Name: years_employed, dtype: float64"
      ]
     },
     "execution_count": 18,
     "metadata": {},
     "output_type": "execute_result"
    }
   ],
   "source": [
    "median_dob_years = df[df['dob_years'] != 0]['dob_years'].median() #43\n",
    "print(f'Медианный возраст клиентов без учета пропусков: {median_dob_years :.0f} года')\n",
    "df[df['dob_years'] == 0]['years_employed'].describe()"
   ]
  },
  {
   "cell_type": "markdown",
   "metadata": {},
   "source": [
    "Если мы просто будем заполнять возраст медианой без условий, у нас может появиться клиент, которому будет 43 года (медиана), а трудовой стаж у него будет 45,78, что в принципе невозможно. Для такого клиента будем подставлять возраст равный 45.78 + 18 = 63,78, предполагая, что работать он начал в 18 лет"
   ]
  },
  {
   "cell_type": "markdown",
   "metadata": {},
   "source": [
    "Напишем функцию которая будет заменять нулевой возраст если средний возраст меньше трудового стажа +18 лет (сюда попадают все значения выше 25,5 лет стажа при значении 0 в возрасте), возвращаем значение трудового стажа +18, предполагая, что такие люди выходили на работу в 18, В остальных случаях 0 заменяются на медиану"
   ]
  },
  {
   "cell_type": "code",
   "execution_count": 19,
   "metadata": {},
   "outputs": [],
   "source": [
    "median_dob_years = df[df['dob_years'] != 0]['dob_years'].median() #43\n",
    "\n",
    "def fill_null_dob_years (row):\n",
    "    age = row['dob_years']\n",
    "    experience = row['years_employed']\n",
    "    if age == 0: \n",
    "        if median_dob_years < (experience +18): \n",
    "            return experience +18    \n",
    "        return median_dob_years\n",
    "    return age "
   ]
  },
  {
   "cell_type": "code",
   "execution_count": 20,
   "metadata": {},
   "outputs": [
    {
     "data": {
      "text/plain": [
       "19"
      ]
     },
     "execution_count": 20,
     "metadata": {},
     "output_type": "execute_result"
    }
   ],
   "source": [
    "df[(df['years_employed'] > 25) & (df['dob_years'] == 0)].shape[0]"
   ]
  },
  {
   "cell_type": "markdown",
   "metadata": {},
   "source": [
    "В таблице есть 19 клиентов с некорректным возрастом и стаже более 25 лет, значит писали функцию мы не зря"
   ]
  },
  {
   "cell_type": "code",
   "execution_count": 21,
   "metadata": {},
   "outputs": [
    {
     "data": {
      "text/plain": [
       "count   21525.00\n",
       "mean       43.51\n",
       "std        12.23\n",
       "min        19.00\n",
       "25%        34.00\n",
       "50%        43.00\n",
       "75%        53.00\n",
       "max        75.00\n",
       "Name: dob_years, dtype: float64"
      ]
     },
     "execution_count": 21,
     "metadata": {},
     "output_type": "execute_result"
    },
    {
     "data": {
      "image/png": "[encoded data removed]",
      "text/plain": [
       "<Figure size 432x288 with 1 Axes>"
      ]
     },
     "metadata": {
      "needs_background": "light"
     },
     "output_type": "display_data"
    }
   ],
   "source": [
    "# Проверяем функцию для замены 0\n",
    "df1=df.copy()\n",
    "df1['dob_years'] = df1.apply(fill_null_dob_years, axis=1)\n",
    "df1['dob_years'].hist()\n",
    "plt.title('Распределение возраста клиентов')\n",
    "plt.xlabel('Возраст клиента, г')\n",
    "plt.ylabel('Количество клиентов, чел')\n",
    "df1['dob_years'].describe()"
   ]
  },
  {
   "cell_type": "markdown",
   "metadata": {},
   "source": [
    "Применяем функцию к таблице"
   ]
  },
  {
   "cell_type": "code",
   "execution_count": 22,
   "metadata": {},
   "outputs": [],
   "source": [
    "df['dob_years'] = df.apply(fill_null_dob_years, axis=1)"
   ]
  },
  {
   "cell_type": "markdown",
   "metadata": {},
   "source": [
    "Нулевые значения заменены!"
   ]
  },
  {
   "cell_type": "markdown",
   "metadata": {
    "tags": []
   },
   "source": [
    "#### Обработка `education_id` и `family_status_id`"
   ]
  },
  {
   "cell_type": "code",
   "execution_count": 23,
   "metadata": {},
   "outputs": [
    {
     "data": {
      "text/html": [
       "<div>\n",
       "<style scoped>\n",
       "    .dataframe tbody tr th:only-of-type {\n",
       "        vertical-align: middle;\n",
       "    }\n",
       "\n",
       "    .dataframe tbody tr th {\n",
       "        vertical-align: top;\n",
       "    }\n",
       "\n",
       "    .dataframe thead th {\n",
       "        text-align: right;\n",
       "    }\n",
       "</style>\n",
       "<table border=\"1\" class=\"dataframe\">\n",
       "  <thead>\n",
       "    <tr style=\"text-align: right;\">\n",
       "      <th></th>\n",
       "      <th>children</th>\n",
       "      <th>dob_years</th>\n",
       "      <th>education</th>\n",
       "      <th>education_id</th>\n",
       "      <th>family_status</th>\n",
       "      <th>family_status_id</th>\n",
       "      <th>gender</th>\n",
       "      <th>income_type</th>\n",
       "      <th>debt</th>\n",
       "      <th>total_income</th>\n",
       "      <th>purpose</th>\n",
       "      <th>years_employed</th>\n",
       "    </tr>\n",
       "  </thead>\n",
       "  <tbody>\n",
       "    <tr>\n",
       "      <td>0</td>\n",
       "      <td>1</td>\n",
       "      <td>42.00</td>\n",
       "      <td>высшее</td>\n",
       "      <td>0</td>\n",
       "      <td>женат / замужем</td>\n",
       "      <td>0</td>\n",
       "      <td>F</td>\n",
       "      <td>сотрудник</td>\n",
       "      <td>0</td>\n",
       "      <td>253875.64</td>\n",
       "      <td>покупка жилья</td>\n",
       "      <td>23.12</td>\n",
       "    </tr>\n",
       "    <tr>\n",
       "      <td>1</td>\n",
       "      <td>1</td>\n",
       "      <td>36.00</td>\n",
       "      <td>среднее</td>\n",
       "      <td>1</td>\n",
       "      <td>женат / замужем</td>\n",
       "      <td>0</td>\n",
       "      <td>F</td>\n",
       "      <td>сотрудник</td>\n",
       "      <td>0</td>\n",
       "      <td>112080.01</td>\n",
       "      <td>приобретение автомобиля</td>\n",
       "      <td>11.03</td>\n",
       "    </tr>\n",
       "    <tr>\n",
       "      <td>2</td>\n",
       "      <td>0</td>\n",
       "      <td>33.00</td>\n",
       "      <td>Среднее</td>\n",
       "      <td>1</td>\n",
       "      <td>женат / замужем</td>\n",
       "      <td>0</td>\n",
       "      <td>M</td>\n",
       "      <td>сотрудник</td>\n",
       "      <td>0</td>\n",
       "      <td>145885.95</td>\n",
       "      <td>покупка жилья</td>\n",
       "      <td>15.41</td>\n",
       "    </tr>\n",
       "    <tr>\n",
       "      <td>3</td>\n",
       "      <td>3</td>\n",
       "      <td>32.00</td>\n",
       "      <td>среднее</td>\n",
       "      <td>1</td>\n",
       "      <td>женат / замужем</td>\n",
       "      <td>0</td>\n",
       "      <td>M</td>\n",
       "      <td>сотрудник</td>\n",
       "      <td>0</td>\n",
       "      <td>267628.55</td>\n",
       "      <td>дополнительное образование</td>\n",
       "      <td>11.30</td>\n",
       "    </tr>\n",
       "    <tr>\n",
       "      <td>4</td>\n",
       "      <td>0</td>\n",
       "      <td>53.00</td>\n",
       "      <td>среднее</td>\n",
       "      <td>1</td>\n",
       "      <td>гражданский брак</td>\n",
       "      <td>1</td>\n",
       "      <td>F</td>\n",
       "      <td>пенсионер</td>\n",
       "      <td>0</td>\n",
       "      <td>158616.08</td>\n",
       "      <td>сыграть свадьбу</td>\n",
       "      <td>38.84</td>\n",
       "    </tr>\n",
       "  </tbody>\n",
       "</table>\n",
       "</div>"
      ],
      "text/plain": [
       "   children  dob_years education  education_id     family_status  \\\n",
       "0         1      42.00    высшее             0   женат / замужем   \n",
       "1         1      36.00   среднее             1   женат / замужем   \n",
       "2         0      33.00   Среднее             1   женат / замужем   \n",
       "3         3      32.00   среднее             1   женат / замужем   \n",
       "4         0      53.00   среднее             1  гражданский брак   \n",
       "\n",
       "   family_status_id gender income_type  debt  total_income  \\\n",
       "0                 0      F   сотрудник     0     253875.64   \n",
       "1                 0      F   сотрудник     0     112080.01   \n",
       "2                 0      M   сотрудник     0     145885.95   \n",
       "3                 0      M   сотрудник     0     267628.55   \n",
       "4                 1      F   пенсионер     0     158616.08   \n",
       "\n",
       "                      purpose  years_employed  \n",
       "0               покупка жилья           23.12  \n",
       "1     приобретение автомобиля           11.03  \n",
       "2               покупка жилья           15.41  \n",
       "3  дополнительное образование           11.30  \n",
       "4             сыграть свадьбу           38.84  "
      ]
     },
     "execution_count": 23,
     "metadata": {},
     "output_type": "execute_result"
    }
   ],
   "source": [
    "df.head()"
   ]
  },
  {
   "cell_type": "markdown",
   "metadata": {},
   "source": [
    "Для уменьшения размерности таблицы вынесем расшифровку `education_id` и `family_status_id` в отдельную таблицу.\n",
    "\n",
    "Но для начала обработаем значения в колонке `education` Выведем список уникальный значений в колонке образования"
   ]
  },
  {
   "cell_type": "code",
   "execution_count": 24,
   "metadata": {},
   "outputs": [
    {
     "data": {
      "text/plain": [
       "array(['высшее', 'среднее', 'Среднее', 'СРЕДНЕЕ', 'ВЫСШЕЕ',\n",
       "       'неоконченное высшее', 'начальное', 'Высшее',\n",
       "       'НЕОКОНЧЕННОЕ ВЫСШЕЕ', 'Неоконченное высшее', 'НАЧАЛЬНОЕ',\n",
       "       'Начальное', 'Ученая степень', 'УЧЕНАЯ СТЕПЕНЬ', 'ученая степень'],\n",
       "      dtype=object)"
      ]
     },
     "execution_count": 24,
     "metadata": {},
     "output_type": "execute_result"
    }
   ],
   "source": [
    "df['education'].unique()"
   ]
  },
  {
   "cell_type": "markdown",
   "metadata": {},
   "source": [
    "Как видим из списка, основная проблема заключается в разном регистре одних и тех же слов, исправим это.\n",
    "Приведем все значения к нижнему регистру"
   ]
  },
  {
   "cell_type": "code",
   "execution_count": 25,
   "metadata": {},
   "outputs": [
    {
     "data": {
      "text/plain": [
       "array(['высшее', 'среднее', 'неоконченное высшее', 'начальное',\n",
       "       'ученая степень'], dtype=object)"
      ]
     },
     "execution_count": 25,
     "metadata": {},
     "output_type": "execute_result"
    }
   ],
   "source": [
    "df['education'] = df['education'].str.lower()\n",
    "df['education'].unique()"
   ]
  },
  {
   "cell_type": "markdown",
   "metadata": {},
   "source": [
    "Удаляем дубликаты и выводим в отдельную таблицу"
   ]
  },
  {
   "cell_type": "code",
   "execution_count": 26,
   "metadata": {},
   "outputs": [
    {
     "data": {
      "text/html": [
       "<div>\n",
       "<style scoped>\n",
       "    .dataframe tbody tr th:only-of-type {\n",
       "        vertical-align: middle;\n",
       "    }\n",
       "\n",
       "    .dataframe tbody tr th {\n",
       "        vertical-align: top;\n",
       "    }\n",
       "\n",
       "    .dataframe thead th {\n",
       "        text-align: right;\n",
       "    }\n",
       "</style>\n",
       "<table border=\"1\" class=\"dataframe\">\n",
       "  <thead>\n",
       "    <tr style=\"text-align: right;\">\n",
       "      <th></th>\n",
       "      <th>education_id</th>\n",
       "      <th>education</th>\n",
       "    </tr>\n",
       "  </thead>\n",
       "  <tbody>\n",
       "    <tr>\n",
       "      <td>0</td>\n",
       "      <td>0</td>\n",
       "      <td>высшее</td>\n",
       "    </tr>\n",
       "    <tr>\n",
       "      <td>1</td>\n",
       "      <td>1</td>\n",
       "      <td>среднее</td>\n",
       "    </tr>\n",
       "    <tr>\n",
       "      <td>2</td>\n",
       "      <td>2</td>\n",
       "      <td>неоконченное высшее</td>\n",
       "    </tr>\n",
       "    <tr>\n",
       "      <td>3</td>\n",
       "      <td>3</td>\n",
       "      <td>начальное</td>\n",
       "    </tr>\n",
       "    <tr>\n",
       "      <td>4</td>\n",
       "      <td>4</td>\n",
       "      <td>ученая степень</td>\n",
       "    </tr>\n",
       "  </tbody>\n",
       "</table>\n",
       "</div>"
      ],
      "text/plain": [
       "   education_id            education\n",
       "0             0               высшее\n",
       "1             1              среднее\n",
       "2             2  неоконченное высшее\n",
       "3             3            начальное\n",
       "4             4       ученая степень"
      ]
     },
     "execution_count": 26,
     "metadata": {},
     "output_type": "execute_result"
    }
   ],
   "source": [
    "education_list = df[['education_id', 'education']].drop_duplicates().reset_index(drop=True)\n",
    "education_list"
   ]
  },
  {
   "cell_type": "markdown",
   "metadata": {},
   "source": [
    "Отлично теперь каждому значению `education_id` соответствует определенное образование\n",
    "\n",
    "Проделаем тоже самое с `family_status`"
   ]
  },
  {
   "cell_type": "code",
   "execution_count": 27,
   "metadata": {},
   "outputs": [
    {
     "data": {
      "text/plain": [
       "array(['женат / замужем', 'гражданский брак', 'вдовец / вдова',\n",
       "       'в разводе', 'Не женат / не замужем'], dtype=object)"
      ]
     },
     "execution_count": 27,
     "metadata": {},
     "output_type": "execute_result"
    }
   ],
   "source": [
    "df['family_status'].unique()"
   ]
  },
  {
   "cell_type": "markdown",
   "metadata": {},
   "source": [
    "Как видим, серьезных ошибок в колонке нет, но ради совершенства значение `Не женат / не замужем` тоже приведем к нижнему регистру. Единообразие наше ВСЁ!"
   ]
  },
  {
   "cell_type": "code",
   "execution_count": 28,
   "metadata": {},
   "outputs": [
    {
     "data": {
      "text/html": [
       "<div>\n",
       "<style scoped>\n",
       "    .dataframe tbody tr th:only-of-type {\n",
       "        vertical-align: middle;\n",
       "    }\n",
       "\n",
       "    .dataframe tbody tr th {\n",
       "        vertical-align: top;\n",
       "    }\n",
       "\n",
       "    .dataframe thead th {\n",
       "        text-align: right;\n",
       "    }\n",
       "</style>\n",
       "<table border=\"1\" class=\"dataframe\">\n",
       "  <thead>\n",
       "    <tr style=\"text-align: right;\">\n",
       "      <th></th>\n",
       "      <th>family_status_id</th>\n",
       "      <th>family_status</th>\n",
       "    </tr>\n",
       "  </thead>\n",
       "  <tbody>\n",
       "    <tr>\n",
       "      <td>0</td>\n",
       "      <td>0</td>\n",
       "      <td>женат / замужем</td>\n",
       "    </tr>\n",
       "    <tr>\n",
       "      <td>1</td>\n",
       "      <td>1</td>\n",
       "      <td>гражданский брак</td>\n",
       "    </tr>\n",
       "    <tr>\n",
       "      <td>2</td>\n",
       "      <td>2</td>\n",
       "      <td>вдовец / вдова</td>\n",
       "    </tr>\n",
       "    <tr>\n",
       "      <td>3</td>\n",
       "      <td>3</td>\n",
       "      <td>в разводе</td>\n",
       "    </tr>\n",
       "    <tr>\n",
       "      <td>4</td>\n",
       "      <td>4</td>\n",
       "      <td>не женат / не замужем</td>\n",
       "    </tr>\n",
       "  </tbody>\n",
       "</table>\n",
       "</div>"
      ],
      "text/plain": [
       "   family_status_id          family_status\n",
       "0                 0        женат / замужем\n",
       "1                 1       гражданский брак\n",
       "2                 2         вдовец / вдова\n",
       "3                 3              в разводе\n",
       "4                 4  не женат / не замужем"
      ]
     },
     "execution_count": 28,
     "metadata": {},
     "output_type": "execute_result"
    }
   ],
   "source": [
    "df['family_status'] = df['family_status'].str.lower() \n",
    "family_status_list = df[['family_status_id', 'family_status']].drop_duplicates().reset_index(drop=True)\n",
    "family_status_list"
   ]
  },
  {
   "cell_type": "markdown",
   "metadata": {},
   "source": [
    "Отлично! После этого, колонки `education` и `family_status` нам не нужны в общей таблице, все значения мы сможем посмотреть дополнительно."
   ]
  },
  {
   "cell_type": "code",
   "execution_count": 29,
   "metadata": {},
   "outputs": [
    {
     "data": {
      "text/html": [
       "<div>\n",
       "<style scoped>\n",
       "    .dataframe tbody tr th:only-of-type {\n",
       "        vertical-align: middle;\n",
       "    }\n",
       "\n",
       "    .dataframe tbody tr th {\n",
       "        vertical-align: top;\n",
       "    }\n",
       "\n",
       "    .dataframe thead th {\n",
       "        text-align: right;\n",
       "    }\n",
       "</style>\n",
       "<table border=\"1\" class=\"dataframe\">\n",
       "  <thead>\n",
       "    <tr style=\"text-align: right;\">\n",
       "      <th></th>\n",
       "      <th>children</th>\n",
       "      <th>dob_years</th>\n",
       "      <th>education_id</th>\n",
       "      <th>family_status_id</th>\n",
       "      <th>gender</th>\n",
       "      <th>income_type</th>\n",
       "      <th>debt</th>\n",
       "      <th>total_income</th>\n",
       "      <th>purpose</th>\n",
       "      <th>years_employed</th>\n",
       "    </tr>\n",
       "  </thead>\n",
       "  <tbody>\n",
       "    <tr>\n",
       "      <td>0</td>\n",
       "      <td>1</td>\n",
       "      <td>42.00</td>\n",
       "      <td>0</td>\n",
       "      <td>0</td>\n",
       "      <td>F</td>\n",
       "      <td>сотрудник</td>\n",
       "      <td>0</td>\n",
       "      <td>253875.64</td>\n",
       "      <td>покупка жилья</td>\n",
       "      <td>23.12</td>\n",
       "    </tr>\n",
       "    <tr>\n",
       "      <td>1</td>\n",
       "      <td>1</td>\n",
       "      <td>36.00</td>\n",
       "      <td>1</td>\n",
       "      <td>0</td>\n",
       "      <td>F</td>\n",
       "      <td>сотрудник</td>\n",
       "      <td>0</td>\n",
       "      <td>112080.01</td>\n",
       "      <td>приобретение автомобиля</td>\n",
       "      <td>11.03</td>\n",
       "    </tr>\n",
       "    <tr>\n",
       "      <td>2</td>\n",
       "      <td>0</td>\n",
       "      <td>33.00</td>\n",
       "      <td>1</td>\n",
       "      <td>0</td>\n",
       "      <td>M</td>\n",
       "      <td>сотрудник</td>\n",
       "      <td>0</td>\n",
       "      <td>145885.95</td>\n",
       "      <td>покупка жилья</td>\n",
       "      <td>15.41</td>\n",
       "    </tr>\n",
       "    <tr>\n",
       "      <td>3</td>\n",
       "      <td>3</td>\n",
       "      <td>32.00</td>\n",
       "      <td>1</td>\n",
       "      <td>0</td>\n",
       "      <td>M</td>\n",
       "      <td>сотрудник</td>\n",
       "      <td>0</td>\n",
       "      <td>267628.55</td>\n",
       "      <td>дополнительное образование</td>\n",
       "      <td>11.30</td>\n",
       "    </tr>\n",
       "    <tr>\n",
       "      <td>4</td>\n",
       "      <td>0</td>\n",
       "      <td>53.00</td>\n",
       "      <td>1</td>\n",
       "      <td>1</td>\n",
       "      <td>F</td>\n",
       "      <td>пенсионер</td>\n",
       "      <td>0</td>\n",
       "      <td>158616.08</td>\n",
       "      <td>сыграть свадьбу</td>\n",
       "      <td>38.84</td>\n",
       "    </tr>\n",
       "  </tbody>\n",
       "</table>\n",
       "</div>"
      ],
      "text/plain": [
       "   children  dob_years  education_id  family_status_id gender income_type  \\\n",
       "0         1      42.00             0                 0      F   сотрудник   \n",
       "1         1      36.00             1                 0      F   сотрудник   \n",
       "2         0      33.00             1                 0      M   сотрудник   \n",
       "3         3      32.00             1                 0      M   сотрудник   \n",
       "4         0      53.00             1                 1      F   пенсионер   \n",
       "\n",
       "   debt  total_income                     purpose  years_employed  \n",
       "0     0     253875.64               покупка жилья           23.12  \n",
       "1     0     112080.01     приобретение автомобиля           11.03  \n",
       "2     0     145885.95               покупка жилья           15.41  \n",
       "3     0     267628.55  дополнительное образование           11.30  \n",
       "4     0     158616.08             сыграть свадьбу           38.84  "
      ]
     },
     "execution_count": 29,
     "metadata": {},
     "output_type": "execute_result"
    }
   ],
   "source": [
    "df.drop(['education', 'family_status'], axis='columns', inplace = True)\n",
    "df.head()"
   ]
  },
  {
   "cell_type": "markdown",
   "metadata": {},
   "source": [
    "В таком виде пользоваться таблицей будет удобней"
   ]
  },
  {
   "cell_type": "code",
   "execution_count": 30,
   "metadata": {},
   "outputs": [
    {
     "data": {
      "text/html": [
       "<div>\n",
       "<style scoped>\n",
       "    .dataframe tbody tr th:only-of-type {\n",
       "        vertical-align: middle;\n",
       "    }\n",
       "\n",
       "    .dataframe tbody tr th {\n",
       "        vertical-align: top;\n",
       "    }\n",
       "\n",
       "    .dataframe thead th {\n",
       "        text-align: right;\n",
       "    }\n",
       "</style>\n",
       "<table border=\"1\" class=\"dataframe\">\n",
       "  <thead>\n",
       "    <tr style=\"text-align: right;\">\n",
       "      <th></th>\n",
       "      <th>count</th>\n",
       "      <th>mean</th>\n",
       "      <th>std</th>\n",
       "      <th>min</th>\n",
       "      <th>25%</th>\n",
       "      <th>50%</th>\n",
       "      <th>75%</th>\n",
       "      <th>max</th>\n",
       "    </tr>\n",
       "  </thead>\n",
       "  <tbody>\n",
       "    <tr>\n",
       "      <td>children</td>\n",
       "      <td>21525.00</td>\n",
       "      <td>0.54</td>\n",
       "      <td>1.38</td>\n",
       "      <td>-1.00</td>\n",
       "      <td>0.00</td>\n",
       "      <td>0.00</td>\n",
       "      <td>1.00</td>\n",
       "      <td>20.00</td>\n",
       "    </tr>\n",
       "    <tr>\n",
       "      <td>dob_years</td>\n",
       "      <td>21525.00</td>\n",
       "      <td>43.51</td>\n",
       "      <td>12.23</td>\n",
       "      <td>19.00</td>\n",
       "      <td>34.00</td>\n",
       "      <td>43.00</td>\n",
       "      <td>53.00</td>\n",
       "      <td>75.00</td>\n",
       "    </tr>\n",
       "    <tr>\n",
       "      <td>education_id</td>\n",
       "      <td>21525.00</td>\n",
       "      <td>0.82</td>\n",
       "      <td>0.55</td>\n",
       "      <td>0.00</td>\n",
       "      <td>1.00</td>\n",
       "      <td>1.00</td>\n",
       "      <td>1.00</td>\n",
       "      <td>4.00</td>\n",
       "    </tr>\n",
       "    <tr>\n",
       "      <td>family_status_id</td>\n",
       "      <td>21525.00</td>\n",
       "      <td>0.97</td>\n",
       "      <td>1.42</td>\n",
       "      <td>0.00</td>\n",
       "      <td>0.00</td>\n",
       "      <td>0.00</td>\n",
       "      <td>1.00</td>\n",
       "      <td>4.00</td>\n",
       "    </tr>\n",
       "    <tr>\n",
       "      <td>debt</td>\n",
       "      <td>21525.00</td>\n",
       "      <td>0.08</td>\n",
       "      <td>0.27</td>\n",
       "      <td>0.00</td>\n",
       "      <td>0.00</td>\n",
       "      <td>0.00</td>\n",
       "      <td>0.00</td>\n",
       "      <td>1.00</td>\n",
       "    </tr>\n",
       "    <tr>\n",
       "      <td>total_income</td>\n",
       "      <td>19351.00</td>\n",
       "      <td>167422.30</td>\n",
       "      <td>102971.57</td>\n",
       "      <td>20667.26</td>\n",
       "      <td>103053.15</td>\n",
       "      <td>145017.94</td>\n",
       "      <td>203435.07</td>\n",
       "      <td>2265604.03</td>\n",
       "    </tr>\n",
       "    <tr>\n",
       "      <td>years_employed</td>\n",
       "      <td>19351.00</td>\n",
       "      <td>12.72</td>\n",
       "      <td>14.67</td>\n",
       "      <td>0.07</td>\n",
       "      <td>2.54</td>\n",
       "      <td>6.01</td>\n",
       "      <td>15.17</td>\n",
       "      <td>50.38</td>\n",
       "    </tr>\n",
       "  </tbody>\n",
       "</table>\n",
       "</div>"
      ],
      "text/plain": [
       "                    count      mean       std      min       25%       50%  \\\n",
       "children         21525.00      0.54      1.38    -1.00      0.00      0.00   \n",
       "dob_years        21525.00     43.51     12.23    19.00     34.00     43.00   \n",
       "education_id     21525.00      0.82      0.55     0.00      1.00      1.00   \n",
       "family_status_id 21525.00      0.97      1.42     0.00      0.00      0.00   \n",
       "debt             21525.00      0.08      0.27     0.00      0.00      0.00   \n",
       "total_income     19351.00 167422.30 102971.57 20667.26 103053.15 145017.94   \n",
       "years_employed   19351.00     12.72     14.67     0.07      2.54      6.01   \n",
       "\n",
       "                       75%        max  \n",
       "children              1.00      20.00  \n",
       "dob_years            53.00      75.00  \n",
       "education_id          1.00       4.00  \n",
       "family_status_id      1.00       4.00  \n",
       "debt                  0.00       1.00  \n",
       "total_income     203435.07 2265604.03  \n",
       "years_employed       15.17      50.38  "
      ]
     },
     "execution_count": 30,
     "metadata": {},
     "output_type": "execute_result"
    }
   ],
   "source": [
    "df.describe().T"
   ]
  },
  {
   "cell_type": "markdown",
   "metadata": {},
   "source": [
    "Снова посмотрим на распределение числовых значений в таблице. Испрвиим отрицательные значения в колонке `children`"
   ]
  },
  {
   "cell_type": "markdown",
   "metadata": {},
   "source": [
    "#### Обработка `children`"
   ]
  },
  {
   "cell_type": "code",
   "execution_count": 31,
   "metadata": {},
   "outputs": [
    {
     "data": {
      "text/plain": [
       "47"
      ]
     },
     "execution_count": 31,
     "metadata": {},
     "output_type": "execute_result"
    }
   ],
   "source": [
    "df[df['children'] == -1].shape[0]"
   ]
  },
  {
   "cell_type": "markdown",
   "metadata": {},
   "source": [
    "Отрицательное количество детий занесены у 47 клиентов, возможно кто-то занес данные неправильно. Такие значения логичней всего поменять на 0, не могли же клиенты отдать детей в долг... наверное... будем надеяться"
   ]
  },
  {
   "cell_type": "code",
   "execution_count": 32,
   "metadata": {},
   "outputs": [
    {
     "data": {
      "text/plain": [
       "0"
      ]
     },
     "execution_count": 32,
     "metadata": {},
     "output_type": "execute_result"
    }
   ],
   "source": [
    "df.loc[df['children'] == -1, 'children'] = 0 \n",
    "df[df['children'] == -1].shape[0]               "
   ]
  },
  {
   "cell_type": "markdown",
   "metadata": {},
   "source": [
    "Нули убрали теперь проверим на гистограмме"
   ]
  },
  {
   "cell_type": "code",
   "execution_count": 33,
   "metadata": {},
   "outputs": [
    {
     "data": {
      "text/plain": [
       "Text(0, 0.5, 'Количество клиентов, чел')"
      ]
     },
     "execution_count": 33,
     "metadata": {},
     "output_type": "execute_result"
    },
    {
     "data": {
      "image/png": "[encoded data removed]",
      "text/plain": [
       "<Figure size 432x288 with 1 Axes>"
      ]
     },
     "metadata": {
      "needs_background": "light"
     },
     "output_type": "display_data"
    }
   ],
   "source": [
    "df['children'].hist(bins=21)\n",
    "plt.title('Распределение количества детей')\n",
    "plt.xlabel('Количество детей, чел')\n",
    "plt.ylabel('Количество клиентов, чел')"
   ]
  },
  {
   "cell_type": "markdown",
   "metadata": {},
   "source": [
    "На гистограмме отчетливо видно что 20 выброс. Проверим возраст у таких клиентов"
   ]
  },
  {
   "cell_type": "code",
   "execution_count": 34,
   "metadata": {},
   "outputs": [
    {
     "data": {
      "text/html": [
       "<div>\n",
       "<style scoped>\n",
       "    .dataframe tbody tr th:only-of-type {\n",
       "        vertical-align: middle;\n",
       "    }\n",
       "\n",
       "    .dataframe tbody tr th {\n",
       "        vertical-align: top;\n",
       "    }\n",
       "\n",
       "    .dataframe thead th {\n",
       "        text-align: right;\n",
       "    }\n",
       "</style>\n",
       "<table border=\"1\" class=\"dataframe\">\n",
       "  <thead>\n",
       "    <tr style=\"text-align: right;\">\n",
       "      <th></th>\n",
       "      <th>count</th>\n",
       "      <th>min</th>\n",
       "      <th>max</th>\n",
       "      <th>mean</th>\n",
       "      <th>median</th>\n",
       "    </tr>\n",
       "  </thead>\n",
       "  <tbody>\n",
       "    <tr>\n",
       "      <td>dob_years</td>\n",
       "      <td>76.00</td>\n",
       "      <td>21.00</td>\n",
       "      <td>69.00</td>\n",
       "      <td>42.38</td>\n",
       "      <td>42.00</td>\n",
       "    </tr>\n",
       "  </tbody>\n",
       "</table>\n",
       "</div>"
      ],
      "text/plain": [
       "           count   min   max  mean  median\n",
       "dob_years  76.00 21.00 69.00 42.38   42.00"
      ]
     },
     "execution_count": 34,
     "metadata": {},
     "output_type": "execute_result"
    }
   ],
   "source": [
    "df[df['children']==20].agg({'dob_years': ['count', 'min', 'max', 'mean', 'median']}).T"
   ]
  },
  {
   "cell_type": "markdown",
   "metadata": {},
   "source": [
    "20 детей у 76 клиентов c средним возрастом 42 года. А самый младшему 21 год. Выглядит очень не правдоподобно. Скорей всего 20 получилось путем лишнего 0 в конце, поэтому заменим 20 на 2"
   ]
  },
  {
   "cell_type": "code",
   "execution_count": 35,
   "metadata": {},
   "outputs": [
    {
     "data": {
      "text/plain": [
       "Text(0, 0.5, 'Количество клиентов, чел')"
      ]
     },
     "execution_count": 35,
     "metadata": {},
     "output_type": "execute_result"
    },
    {
     "data": {
      "image/png": "[encoded data removed]",
      "text/plain": [
       "<Figure size 432x288 with 1 Axes>"
      ]
     },
     "metadata": {
      "needs_background": "light"
     },
     "output_type": "display_data"
    }
   ],
   "source": [
    "df.loc[df['children']==20, 'children'] = 2\n",
    "df['children'].hist(bins=6)\n",
    "plt.title('Распределение количества детей')\n",
    "plt.xlabel('Количество детей, чел')\n",
    "plt.ylabel('Количество клиентов, чел')"
   ]
  },
  {
   "cell_type": "markdown",
   "metadata": {},
   "source": [
    "Колонка `children` отработана."
   ]
  },
  {
   "cell_type": "markdown",
   "metadata": {},
   "source": [
    "#### Дополнительный анализ"
   ]
  },
  {
   "cell_type": "markdown",
   "metadata": {},
   "source": [
    "Во время работы над данными, были замечены некорректные данные у некоторых клиентов, например: пенсионер 28 лет со стажем работы в 40 лет (строка 19417). Всвязи с этим проверим всех клиентов у которых стаж работы больше возраста."
   ]
  },
  {
   "cell_type": "markdown",
   "metadata": {},
   "source": [
    "Такое отклонение может указывать на ошибку в обработке стажа работы. Логически стаж работы должен быть меньше минимум на 16 лет"
   ]
  },
  {
   "cell_type": "code",
   "execution_count": 36,
   "metadata": {},
   "outputs": [
    {
     "data": {
      "text/plain": [
       "1373"
      ]
     },
     "execution_count": 36,
     "metadata": {},
     "output_type": "execute_result"
    }
   ],
   "source": [
    "df[(df['years_employed']+16) > (df['dob_years'])].shape[0]"
   ]
  },
  {
   "cell_type": "code",
   "execution_count": 37,
   "metadata": {},
   "outputs": [
    {
     "data": {
      "text/plain": [
       "income_type\n",
       "безработный       2\n",
       "госслужащий      12\n",
       "компаньон        13\n",
       "пенсионер      1282\n",
       "сотрудник        64\n",
       "Name: children, dtype: int64"
      ]
     },
     "execution_count": 37,
     "metadata": {},
     "output_type": "execute_result"
    }
   ],
   "source": [
    "df[(df['years_employed']+16) > (df['dob_years'])].groupby('income_type').count()['children']"
   ]
  },
  {
   "cell_type": "markdown",
   "metadata": {},
   "source": [
    "Большая часть таких данных присуща пенсионера, что говорит о некорректных значениях трудового стажа. О причинах таких данных говорить сложно и скорей всего тут нужна будет лучная проверка каждого клиента."
   ]
  },
  {
   "cell_type": "markdown",
   "metadata": {
    "tags": []
   },
   "source": [
    "#### Обработка `gender` и `income_type`"
   ]
  },
  {
   "cell_type": "markdown",
   "metadata": {},
   "source": [
    "Перейде к колонам `gender` и `income_type`"
   ]
  },
  {
   "cell_type": "code",
   "execution_count": 38,
   "metadata": {},
   "outputs": [
    {
     "data": {
      "text/plain": [
       "F      14236\n",
       "M       7288\n",
       "XNA        1\n",
       "Name: gender, dtype: int64"
      ]
     },
     "execution_count": 38,
     "metadata": {},
     "output_type": "execute_result"
    }
   ],
   "source": [
    "df['gender'].value_counts()"
   ]
  },
  {
   "cell_type": "markdown",
   "metadata": {},
   "source": [
    "В данных находится какое-то неизвестное значени `XNA`. Сделаем предположение, что это ошибка и заменил его на самое популярное в выборке, тоесть `F`."
   ]
  },
  {
   "cell_type": "code",
   "execution_count": 39,
   "metadata": {},
   "outputs": [
    {
     "data": {
      "text/plain": [
       "F    14237\n",
       "M     7288\n",
       "Name: gender, dtype: int64"
      ]
     },
     "execution_count": 39,
     "metadata": {},
     "output_type": "execute_result"
    }
   ],
   "source": [
    "df.loc[df['gender'] == 'XNA', 'gender'] = 'F' \n",
    "df['gender'].value_counts()"
   ]
  },
  {
   "cell_type": "markdown",
   "metadata": {},
   "source": [
    "Теперь удостоверимся что в колонке `income_type` все в порядке"
   ]
  },
  {
   "cell_type": "code",
   "execution_count": 40,
   "metadata": {},
   "outputs": [
    {
     "data": {
      "text/plain": [
       "сотрудник          11119\n",
       "компаньон           5085\n",
       "пенсионер           3856\n",
       "госслужащий         1459\n",
       "безработный            2\n",
       "предприниматель        2\n",
       "в декрете              1\n",
       "студент                1\n",
       "Name: income_type, dtype: int64"
      ]
     },
     "execution_count": 40,
     "metadata": {},
     "output_type": "execute_result"
    }
   ],
   "source": [
    "df['income_type'].value_counts()"
   ]
  },
  {
   "cell_type": "markdown",
   "metadata": {},
   "source": [
    "Каких либо отклонений в занятости не видно, поэтому на этой прекрасной ноте закончим с обработкой значений в таблице и перейдем к следующему пункту."
   ]
  },
  {
   "cell_type": "markdown",
   "metadata": {},
   "source": [
    "**Вывод**"
   ]
  },
  {
   "cell_type": "markdown",
   "metadata": {},
   "source": [
    "- Пропуски в колонках трудового стажа вызванны по неизвестной причине, но видна взаимосвязь пропусков с типом занятости клиентов (отсутет примерно 10-ая часть значений по каждому типу занятости), возможно техническая ошибка.\n",
    "- Информация о трудовом стаже у пенсионеров и безработных заносится не в днях, а в часах. Ошибка может происходить при занесении информации или при обработке данных программой.\n",
    "- Остальные значения стажа работы имеют отрицательную величину\n",
    "- Некоторые значения трудового стажа не имеют логический смысл, для их анализа требуется ручная обработка.\n",
    "- В колонке `education` находились значения с разным регистром, предположительно из-за ошибки занесения данных\n",
    "- Колонки `education`, `family_status` можно вывести в отдельную таблицу\n",
    "- В колонка `dob_years` и `children` имелись некорректные значения (-1, 20), предположительно из-за ошибки занесения данных\n",
    "- В данных имеются логические некорректные значения, наприммер пенсионер 28 лет с стажем работы в 40 лет, предположительно из-за ошибки занесения данных и от части некорректной обработки значений трудового стажа у пенсионеров.\n",
    "- В данных о возрасте имеются значение 0, возможно ошибка ввода данных.\n",
    "- В колонке с полом клинкта есть 1 предположительно некорректное значени, ошибка опять же может быть в заполнении."
   ]
  },
  {
   "cell_type": "markdown",
   "metadata": {
    "tags": [],
    "toc-hr-collapsed": true
   },
   "source": [
    "### Обработка пропусков"
   ]
  },
  {
   "cell_type": "markdown",
   "metadata": {},
   "source": [
    "Еще рас посмотри на пропущенные значения"
   ]
  },
  {
   "cell_type": "markdown",
   "metadata": {
    "tags": []
   },
   "source": [
    "#### Обзор пропусков"
   ]
  },
  {
   "cell_type": "code",
   "execution_count": 41,
   "metadata": {},
   "outputs": [
    {
     "data": {
      "text/plain": [
       "children               0\n",
       "dob_years              0\n",
       "education_id           0\n",
       "family_status_id       0\n",
       "gender                 0\n",
       "income_type            0\n",
       "debt                   0\n",
       "total_income        2174\n",
       "purpose                0\n",
       "years_employed      2174\n",
       "dtype: int64"
      ]
     },
     "execution_count": 41,
     "metadata": {},
     "output_type": "execute_result"
    }
   ],
   "source": [
    "df.isna().sum() # Подсчет пропущенных значений"
   ]
  },
  {
   "cell_type": "markdown",
   "metadata": {},
   "source": [
    "Как говорилось ранее, пропущенные значения имеются в 2 колонках, предположительно пустые значения находятся одних и тех же строках."
   ]
  },
  {
   "cell_type": "code",
   "execution_count": 42,
   "metadata": {},
   "outputs": [
    {
     "data": {
      "text/plain": [
       "2174"
      ]
     },
     "execution_count": 42,
     "metadata": {},
     "output_type": "execute_result"
    }
   ],
   "source": [
    "df_na = df[df['years_employed'].isna()]\n",
    "df_na['total_income'].isna().sum()"
   ]
  },
  {
   "cell_type": "markdown",
   "metadata": {},
   "source": [
    "Данная операция доказывает что значения в колонках `years_employed` и `total_income` в одинаковых строках.\n",
    "Так как трудовой стаж и ежемесячная заработная плата логически связываются, может предположить, что пропуски как-то связаны и типом занятости, попробуем проверить"
   ]
  },
  {
   "cell_type": "code",
   "execution_count": 43,
   "metadata": {},
   "outputs": [
    {
     "data": {
      "text/plain": [
       "income_type\n",
       "безработный            2\n",
       "в декрете              1\n",
       "госслужащий         1459\n",
       "компаньон           5085\n",
       "пенсионер           3856\n",
       "предприниматель        2\n",
       "сотрудник          11119\n",
       "студент                1\n",
       "Name: children, dtype: int64"
      ]
     },
     "execution_count": 43,
     "metadata": {},
     "output_type": "execute_result"
    }
   ],
   "source": [
    "df.groupby('income_type')['children'].count()"
   ]
  },
  {
   "cell_type": "code",
   "execution_count": 44,
   "metadata": {},
   "outputs": [
    {
     "data": {
      "text/plain": [
       "income_type\n",
       "госслужащий         147\n",
       "компаньон           508\n",
       "пенсионер           413\n",
       "предприниматель       1\n",
       "сотрудник          1105\n",
       "Name: children, dtype: int64"
      ]
     },
     "execution_count": 44,
     "metadata": {},
     "output_type": "execute_result"
    }
   ],
   "source": [
    "df_na.groupby('income_type')['children'].count()"
   ]
  },
  {
   "cell_type": "markdown",
   "metadata": {},
   "source": [
    "Из 2-х сгрупперованных таблиц можно заметить что по всем видам занятости имеются пропуски по общему доходу и трудовому стажу в количестве примерно 10% от общего числа, это значит, что по каждому 10 работющему в каждой сфере не занесена информация и следует дополнительно обратить внимание на процесс занесения данных по работающим и от куда берется такая систематическая ошибка.\n",
    "\n",
    "Так как сзаимосвязь пропуской определена, можно постараться их заполнить опираясь на тип занятости."
   ]
  },
  {
   "cell_type": "markdown",
   "metadata": {},
   "source": [
    "Начнем с пропусков в трудовом стаже. Как мы уже говорили в стаже есть 2 категории клиентов и их обрабатывать будем отдельно"
   ]
  },
  {
   "cell_type": "markdown",
   "metadata": {
    "tags": []
   },
   "source": [
    "#### Заполнеие пропусков трудового стажа у пенсионеров"
   ]
  },
  {
   "cell_type": "code",
   "execution_count": 45,
   "metadata": {},
   "outputs": [
    {
     "name": "stdout",
     "output_type": "stream",
     "text": [
      "Количество пропусков у пенсионеров: 413 строк\n"
     ]
    }
   ],
   "source": [
    "print(f'Количество пропусков у пенсионеров: {df[df[\"income_type\"] == \"пенсионер\"][\"years_employed\"].isna().sum()} строк')"
   ]
  },
  {
   "cell_type": "markdown",
   "metadata": {},
   "source": [
    "Заполним пропуски средним значением"
   ]
  },
  {
   "cell_type": "code",
   "execution_count": 46,
   "metadata": {},
   "outputs": [
    {
     "data": {
      "text/plain": [
       "0"
      ]
     },
     "execution_count": 46,
     "metadata": {},
     "output_type": "execute_result"
    }
   ],
   "source": [
    "years_employed_mean = df[df['income_type'] == 'пенсионер']['years_employed'].mean() \n",
    "df.loc[(df['years_employed'].isna()) & (df['income_type'] == 'пенсионер'), 'years_employed'] = years_employed_mean\n",
    "df[df['income_type'] == 'пенсионер']['years_employed'].isna().sum()"
   ]
  },
  {
   "cell_type": "markdown",
   "metadata": {},
   "source": [
    "Теперь можно заполнить нулевые значения в возрасте пенсионеров, ориентируясь на известный трудовой стаж. Ориентироваться при этом будет на среднюю разницу между стажем и возрастом в группе пенсионеров."
   ]
  },
  {
   "cell_type": "code",
   "execution_count": 47,
   "metadata": {},
   "outputs": [
    {
     "name": "stdout",
     "output_type": "stream",
     "text": [
      "В среднем разница между трудовым стажем и возрастом составляет 17.69 лет\n"
     ]
    }
   ],
   "source": [
    "dob_years_mean = df[df['income_type'] == 'пенсионер']['dob_years'].mean() \n",
    "average_age_of_a_pensioner = dob_years_mean - years_employed_mean          \n",
    "print(f'В среднем разница между трудовым стажем и возрастом составляет{average_age_of_a_pensioner : .2f} лет')"
   ]
  },
  {
   "cell_type": "markdown",
   "metadata": {},
   "source": [
    "Найденную величину будет прибавлять к трудовому стажу для нахождения возраста пенсионера. Для это напишем функцию"
   ]
  },
  {
   "cell_type": "code",
   "execution_count": 48,
   "metadata": {},
   "outputs": [
    {
     "data": {
      "text/html": [
       "<div>\n",
       "<style scoped>\n",
       "    .dataframe tbody tr th:only-of-type {\n",
       "        vertical-align: middle;\n",
       "    }\n",
       "\n",
       "    .dataframe tbody tr th {\n",
       "        vertical-align: top;\n",
       "    }\n",
       "\n",
       "    .dataframe thead th {\n",
       "        text-align: right;\n",
       "    }\n",
       "</style>\n",
       "<table border=\"1\" class=\"dataframe\">\n",
       "  <thead>\n",
       "    <tr style=\"text-align: right;\">\n",
       "      <th></th>\n",
       "      <th>children</th>\n",
       "      <th>dob_years</th>\n",
       "      <th>education_id</th>\n",
       "      <th>family_status_id</th>\n",
       "      <th>gender</th>\n",
       "      <th>income_type</th>\n",
       "      <th>debt</th>\n",
       "      <th>total_income</th>\n",
       "      <th>purpose</th>\n",
       "      <th>years_employed</th>\n",
       "    </tr>\n",
       "  </thead>\n",
       "  <tbody>\n",
       "  </tbody>\n",
       "</table>\n",
       "</div>"
      ],
      "text/plain": [
       "Empty DataFrame\n",
       "Columns: [children, dob_years, education_id, family_status_id, gender, income_type, debt, total_income, purpose, years_employed]\n",
       "Index: []"
      ]
     },
     "execution_count": 48,
     "metadata": {},
     "output_type": "execute_result"
    }
   ],
   "source": [
    "def fiil_dob_years_pensioner(row):\n",
    "    years_empl = row['years_employed']\n",
    "    years_pens = row['dob_years']\n",
    "    if (years_pens == 0) and (row['income_type'] == 'пенсионер'):\n",
    "        return years_empl + average_age_of_a_pensioner\n",
    "    else:\n",
    "        return years_pens\n",
    "\n",
    "\n",
    "df['dob_years'] = df.apply(fiil_dob_years_pensioner, axis=1)\n",
    "df[(df['dob_years'] == 0) & (df['income_type'] == 'пенсионер')]"
   ]
  },
  {
   "cell_type": "markdown",
   "metadata": {},
   "source": [
    "Возраста у пенсионеров обработан."
   ]
  },
  {
   "cell_type": "code",
   "execution_count": 49,
   "metadata": {},
   "outputs": [
    {
     "data": {
      "text/html": [
       "<div>\n",
       "<style scoped>\n",
       "    .dataframe tbody tr th:only-of-type {\n",
       "        vertical-align: middle;\n",
       "    }\n",
       "\n",
       "    .dataframe tbody tr th {\n",
       "        vertical-align: top;\n",
       "    }\n",
       "\n",
       "    .dataframe thead th {\n",
       "        text-align: right;\n",
       "    }\n",
       "</style>\n",
       "<table border=\"1\" class=\"dataframe\">\n",
       "  <thead>\n",
       "    <tr style=\"text-align: right;\">\n",
       "      <th></th>\n",
       "      <th>dob_years</th>\n",
       "      <th>years_employed</th>\n",
       "    </tr>\n",
       "  </thead>\n",
       "  <tbody>\n",
       "    <tr>\n",
       "      <td>count</td>\n",
       "      <td>3856.00</td>\n",
       "      <td>3856.00</td>\n",
       "    </tr>\n",
       "    <tr>\n",
       "      <td>mean</td>\n",
       "      <td>59.36</td>\n",
       "      <td>41.67</td>\n",
       "    </tr>\n",
       "    <tr>\n",
       "      <td>std</td>\n",
       "      <td>6.33</td>\n",
       "      <td>2.27</td>\n",
       "    </tr>\n",
       "    <tr>\n",
       "      <td>min</td>\n",
       "      <td>22.00</td>\n",
       "      <td>37.53</td>\n",
       "    </tr>\n",
       "    <tr>\n",
       "      <td>25%</td>\n",
       "      <td>56.00</td>\n",
       "      <td>39.82</td>\n",
       "    </tr>\n",
       "    <tr>\n",
       "      <td>50%</td>\n",
       "      <td>60.00</td>\n",
       "      <td>41.67</td>\n",
       "    </tr>\n",
       "    <tr>\n",
       "      <td>75%</td>\n",
       "      <td>64.00</td>\n",
       "      <td>43.46</td>\n",
       "    </tr>\n",
       "    <tr>\n",
       "      <td>max</td>\n",
       "      <td>74.00</td>\n",
       "      <td>45.86</td>\n",
       "    </tr>\n",
       "  </tbody>\n",
       "</table>\n",
       "</div>"
      ],
      "text/plain": [
       "       dob_years  years_employed\n",
       "count    3856.00         3856.00\n",
       "mean       59.36           41.67\n",
       "std         6.33            2.27\n",
       "min        22.00           37.53\n",
       "25%        56.00           39.82\n",
       "50%        60.00           41.67\n",
       "75%        64.00           43.46\n",
       "max        74.00           45.86"
      ]
     },
     "execution_count": 49,
     "metadata": {},
     "output_type": "execute_result"
    }
   ],
   "source": [
    "df[df['income_type'] == 'пенсионер'].describe()[['dob_years', 'years_employed']]"
   ]
  },
  {
   "cell_type": "markdown",
   "metadata": {},
   "source": [
    "Критичных ошибок нет, но есть пенсионер с возрастом 22 года... Посмтрим этого пенсионера"
   ]
  },
  {
   "cell_type": "code",
   "execution_count": 50,
   "metadata": {},
   "outputs": [
    {
     "data": {
      "text/html": [
       "<div>\n",
       "<style scoped>\n",
       "    .dataframe tbody tr th:only-of-type {\n",
       "        vertical-align: middle;\n",
       "    }\n",
       "\n",
       "    .dataframe tbody tr th {\n",
       "        vertical-align: top;\n",
       "    }\n",
       "\n",
       "    .dataframe thead th {\n",
       "        text-align: right;\n",
       "    }\n",
       "</style>\n",
       "<table border=\"1\" class=\"dataframe\">\n",
       "  <thead>\n",
       "    <tr style=\"text-align: right;\">\n",
       "      <th></th>\n",
       "      <th>children</th>\n",
       "      <th>dob_years</th>\n",
       "      <th>education_id</th>\n",
       "      <th>family_status_id</th>\n",
       "      <th>gender</th>\n",
       "      <th>income_type</th>\n",
       "      <th>debt</th>\n",
       "      <th>total_income</th>\n",
       "      <th>purpose</th>\n",
       "      <th>years_employed</th>\n",
       "    </tr>\n",
       "  </thead>\n",
       "  <tbody>\n",
       "    <tr>\n",
       "      <td>1242</td>\n",
       "      <td>0</td>\n",
       "      <td>22.00</td>\n",
       "      <td>1</td>\n",
       "      <td>4</td>\n",
       "      <td>F</td>\n",
       "      <td>пенсионер</td>\n",
       "      <td>0</td>\n",
       "      <td>89368.60</td>\n",
       "      <td>получение высшего образования</td>\n",
       "      <td>38.22</td>\n",
       "    </tr>\n",
       "  </tbody>\n",
       "</table>\n",
       "</div>"
      ],
      "text/plain": [
       "      children  dob_years  education_id  family_status_id gender income_type  \\\n",
       "1242         0      22.00             1                 4      F   пенсионер   \n",
       "\n",
       "      debt  total_income                        purpose  years_employed  \n",
       "1242     0      89368.60  получение высшего образования           38.22  "
      ]
     },
     "execution_count": 50,
     "metadata": {},
     "output_type": "execute_result"
    }
   ],
   "source": [
    "df[(df['dob_years']== 22) & (df['income_type'] == 'пенсионер')]"
   ]
  },
  {
   "cell_type": "markdown",
   "metadata": {},
   "source": [
    "Ппохоже что это ошибка в данных, нужно передать коллекам для проверки, возможно ошибка в возрасте."
   ]
  },
  {
   "cell_type": "markdown",
   "metadata": {},
   "source": [
    "#### Заполнение пропусков трудового стажа у остальных клиентов"
   ]
  },
  {
   "cell_type": "markdown",
   "metadata": {},
   "source": [
    "Построим гистограмму, чтобы посмотреть как распределяются значения трудового стажа"
   ]
  },
  {
   "cell_type": "code",
   "execution_count": 51,
   "metadata": {},
   "outputs": [
    {
     "data": {
      "text/plain": [
       "Text(0, 0.5, 'Количество клиентов, чел')"
      ]
     },
     "execution_count": 51,
     "metadata": {},
     "output_type": "execute_result"
    },
    {
     "data": {
      "image/png": "[encoded data removed]",
      "text/plain": [
       "<Figure size 432x288 with 1 Axes>"
      ]
     },
     "metadata": {
      "needs_background": "light"
     },
     "output_type": "display_data"
    }
   ],
   "source": [
    "df['years_employed'].hist()\n",
    "plt.title('Распределение трудового стажа')\n",
    "plt.xlabel('Значение трудового стажа, г')\n",
    "plt.ylabel('Количество клиентов, чел')"
   ]
  },
  {
   "cell_type": "markdown",
   "metadata": {},
   "source": [
    "С учетом того, что ранее мы уже заполнили пропуски по пенсионерам и безработным, можем сказать что анализировать отдельными группами было правильным решением, так как для все остальных данных распределение трудового стажа имеет другой характер. Поэтому при заполнении пропусков пенсионеров и безработным не будет учитывать."
   ]
  },
  {
   "cell_type": "markdown",
   "metadata": {},
   "source": [
    "Еще раз отрисуем гистограмму, но уже без пенсионеров"
   ]
  },
  {
   "cell_type": "code",
   "execution_count": 52,
   "metadata": {},
   "outputs": [
    {
     "data": {
      "text/plain": [
       "Text(0, 0.5, 'Количество клиентов, чел')"
      ]
     },
     "execution_count": 52,
     "metadata": {},
     "output_type": "execute_result"
    },
    {
     "data": {
      "image/png": "[encoded data removed]",
      "text/plain": [
       "<Figure size 432x288 with 1 Axes>"
      ]
     },
     "metadata": {
      "needs_background": "light"
     },
     "output_type": "display_data"
    }
   ],
   "source": [
    "df_no_pens = df[(df['income_type'] != 'пенсионер')].dropna(subset=['years_employed'])\n",
    "df_no_pens['years_employed'].hist()\n",
    "plt.title('Распределение трудового стажа')\n",
    "plt.xlabel('Значение трудового стажа, дн')\n",
    "plt.ylabel('Количество клиентов, чел')"
   ]
  },
  {
   "cell_type": "markdown",
   "metadata": {},
   "source": [
    "Для подробного анализа, наверное стоит распределить пустые значения в соответствии законом распределения величины, учитывая возраст, пол, профессию. Настоящая задача для машинного обучения. Но пока так углубляться не стоит.\n",
    "\n",
    "Попробуем заполнить пропуски не просто медианой по столбцу, а хотя бы учитывая возраст клиента. Среднее значение здесь учитывать не стоит, так как оно может показать нам завышенные значения реального стажа. Постараемся заполнить стаж с учетом того, что стаж не может быть больше возраста клиента минус 18 лет."
   ]
  },
  {
   "cell_type": "code",
   "execution_count": 53,
   "metadata": {},
   "outputs": [
    {
     "data": {
      "text/plain": [
       "4.466236907573448"
      ]
     },
     "execution_count": 53,
     "metadata": {},
     "output_type": "execute_result"
    }
   ],
   "source": [
    "median_employed = df_no_pens['years_employed'].median()\n",
    "median_employed"
   ]
  },
  {
   "cell_type": "markdown",
   "metadata": {},
   "source": [
    "Заменяем пустые значения на медиану и проверяем количество NaN в столбце"
   ]
  },
  {
   "cell_type": "code",
   "execution_count": 54,
   "metadata": {},
   "outputs": [
    {
     "data": {
      "text/plain": [
       "0"
      ]
     },
     "execution_count": 54,
     "metadata": {},
     "output_type": "execute_result"
    }
   ],
   "source": [
    "df['years_employed'] = df['years_employed'].fillna(median_employed)\n",
    "df.isna().sum()['years_employed'] "
   ]
  },
  {
   "cell_type": "markdown",
   "metadata": {},
   "source": [
    "#### Заполнение пропусков в зарплате"
   ]
  },
  {
   "cell_type": "markdown",
   "metadata": {},
   "source": [
    "Посмотрим на значения ежемесячного дохода"
   ]
  },
  {
   "cell_type": "code",
   "execution_count": 55,
   "metadata": {},
   "outputs": [
    {
     "data": {
      "text/plain": [
       "count     19351.00\n",
       "mean     167422.30\n",
       "std      102971.57\n",
       "min       20667.26\n",
       "25%      103053.15\n",
       "50%      145017.94\n",
       "75%      203435.07\n",
       "max     2265604.03\n",
       "Name: total_income, dtype: float64"
      ]
     },
     "metadata": {},
     "output_type": "display_data"
    },
    {
     "data": {
      "text/plain": [
       "Text(0, 0.5, 'Количество клиентов, чел')"
      ]
     },
     "execution_count": 55,
     "metadata": {},
     "output_type": "execute_result"
    },
    {
     "data": {
      "image/png": "[encoded data removed]",
      "text/plain": [
       "<Figure size 432x288 with 1 Axes>"
      ]
     },
     "metadata": {
      "needs_background": "light"
     },
     "output_type": "display_data"
    }
   ],
   "source": [
    "display(df['total_income'].describe())\n",
    "df['total_income'].hist()\n",
    "plt.title('Распределение ежемесячного дохода')\n",
    "plt.xlabel('Значение трудового стажа, дн')\n",
    "plt.ylabel('Количество клиентов, чел')"
   ]
  },
  {
   "cell_type": "markdown",
   "metadata": {},
   "source": [
    "Как видно по статистики колонки заработной платы, здесь есть выбросы и пропуски в данной колонке нужно тоже заменять медианой. "
   ]
  },
  {
   "cell_type": "code",
   "execution_count": 56,
   "metadata": {},
   "outputs": [
    {
     "name": "stdout",
     "output_type": "stream",
     "text": [
      "Количество пустых значений в total_income: 0\n"
     ]
    },
    {
     "data": {
      "text/plain": [
       "count     21525.00\n",
       "mean     165159.49\n",
       "std       97866.07\n",
       "min       20667.26\n",
       "25%      107798.17\n",
       "50%      145017.94\n",
       "75%      195543.62\n",
       "max     2265604.03\n",
       "Name: total_income, dtype: float64"
      ]
     },
     "metadata": {},
     "output_type": "display_data"
    }
   ],
   "source": [
    "median_income = df['total_income'].median()\n",
    "df['total_income'] = df['total_income'].fillna(median_income)\n",
    "sum_na = df.isna().sum()['total_income']\n",
    "print(f'Количество пустых значений в total_income: {sum_na}') \n",
    "display(df['total_income'].describe())"
   ]
  },
  {
   "cell_type": "markdown",
   "metadata": {},
   "source": [
    "Финальный подсчет пропуской в таблице"
   ]
  },
  {
   "cell_type": "code",
   "execution_count": 57,
   "metadata": {},
   "outputs": [
    {
     "data": {
      "text/plain": [
       "children            0\n",
       "dob_years           0\n",
       "education_id        0\n",
       "family_status_id    0\n",
       "gender              0\n",
       "income_type         0\n",
       "debt                0\n",
       "total_income        0\n",
       "purpose             0\n",
       "years_employed      0\n",
       "dtype: int64"
      ]
     },
     "execution_count": 57,
     "metadata": {},
     "output_type": "execute_result"
    }
   ],
   "source": [
    "df.isna().sum()"
   ]
  },
  {
   "cell_type": "markdown",
   "metadata": {},
   "source": [
    "Отлично! Пропусков нет!"
   ]
  },
  {
   "cell_type": "markdown",
   "metadata": {},
   "source": [
    "**Вывод**"
   ]
  },
  {
   "cell_type": "markdown",
   "metadata": {},
   "source": [
    "- Пропуски в колонках трудового стажа и ежемесячной зарплаты вызванны по неизвестной причине, возможно техническая ошибка\n",
    "- Видна взаимосвязь пропусков с типом занятости клиентов (отсутет примерно 10-ая часть значений по каждому типу занятости).\n",
    "- Имеющиеся пропуски необходимо было заполнять медианой из-за характера распределения величин."
   ]
  },
  {
   "cell_type": "markdown",
   "metadata": {
    "tags": []
   },
   "source": [
    "### Замена типа данных"
   ]
  },
  {
   "cell_type": "markdown",
   "metadata": {},
   "source": [
    "Выведем еще раз общую информацию по таблицу и первые строки таблицы чтобы видеть значения"
   ]
  },
  {
   "cell_type": "code",
   "execution_count": 58,
   "metadata": {},
   "outputs": [
    {
     "name": "stdout",
     "output_type": "stream",
     "text": [
      "<class 'pandas.core.frame.DataFrame'>\n",
      "RangeIndex: 21525 entries, 0 to 21524\n",
      "Data columns (total 10 columns):\n",
      "children            21525 non-null int64\n",
      "dob_years           21525 non-null float64\n",
      "education_id        21525 non-null int64\n",
      "family_status_id    21525 non-null int64\n",
      "gender              21525 non-null object\n",
      "income_type         21525 non-null object\n",
      "debt                21525 non-null int64\n",
      "total_income        21525 non-null float64\n",
      "purpose             21525 non-null object\n",
      "years_employed      21525 non-null float64\n",
      "dtypes: float64(3), int64(4), object(3)\n",
      "memory usage: 1.6+ MB\n"
     ]
    },
    {
     "data": {
      "text/html": [
       "<div>\n",
       "<style scoped>\n",
       "    .dataframe tbody tr th:only-of-type {\n",
       "        vertical-align: middle;\n",
       "    }\n",
       "\n",
       "    .dataframe tbody tr th {\n",
       "        vertical-align: top;\n",
       "    }\n",
       "\n",
       "    .dataframe thead th {\n",
       "        text-align: right;\n",
       "    }\n",
       "</style>\n",
       "<table border=\"1\" class=\"dataframe\">\n",
       "  <thead>\n",
       "    <tr style=\"text-align: right;\">\n",
       "      <th></th>\n",
       "      <th>children</th>\n",
       "      <th>dob_years</th>\n",
       "      <th>education_id</th>\n",
       "      <th>family_status_id</th>\n",
       "      <th>gender</th>\n",
       "      <th>income_type</th>\n",
       "      <th>debt</th>\n",
       "      <th>total_income</th>\n",
       "      <th>purpose</th>\n",
       "      <th>years_employed</th>\n",
       "    </tr>\n",
       "  </thead>\n",
       "  <tbody>\n",
       "    <tr>\n",
       "      <td>0</td>\n",
       "      <td>1</td>\n",
       "      <td>42.00</td>\n",
       "      <td>0</td>\n",
       "      <td>0</td>\n",
       "      <td>F</td>\n",
       "      <td>сотрудник</td>\n",
       "      <td>0</td>\n",
       "      <td>253875.64</td>\n",
       "      <td>покупка жилья</td>\n",
       "      <td>23.12</td>\n",
       "    </tr>\n",
       "    <tr>\n",
       "      <td>1</td>\n",
       "      <td>1</td>\n",
       "      <td>36.00</td>\n",
       "      <td>1</td>\n",
       "      <td>0</td>\n",
       "      <td>F</td>\n",
       "      <td>сотрудник</td>\n",
       "      <td>0</td>\n",
       "      <td>112080.01</td>\n",
       "      <td>приобретение автомобиля</td>\n",
       "      <td>11.03</td>\n",
       "    </tr>\n",
       "    <tr>\n",
       "      <td>2</td>\n",
       "      <td>0</td>\n",
       "      <td>33.00</td>\n",
       "      <td>1</td>\n",
       "      <td>0</td>\n",
       "      <td>M</td>\n",
       "      <td>сотрудник</td>\n",
       "      <td>0</td>\n",
       "      <td>145885.95</td>\n",
       "      <td>покупка жилья</td>\n",
       "      <td>15.41</td>\n",
       "    </tr>\n",
       "    <tr>\n",
       "      <td>3</td>\n",
       "      <td>3</td>\n",
       "      <td>32.00</td>\n",
       "      <td>1</td>\n",
       "      <td>0</td>\n",
       "      <td>M</td>\n",
       "      <td>сотрудник</td>\n",
       "      <td>0</td>\n",
       "      <td>267628.55</td>\n",
       "      <td>дополнительное образование</td>\n",
       "      <td>11.30</td>\n",
       "    </tr>\n",
       "    <tr>\n",
       "      <td>4</td>\n",
       "      <td>0</td>\n",
       "      <td>53.00</td>\n",
       "      <td>1</td>\n",
       "      <td>1</td>\n",
       "      <td>F</td>\n",
       "      <td>пенсионер</td>\n",
       "      <td>0</td>\n",
       "      <td>158616.08</td>\n",
       "      <td>сыграть свадьбу</td>\n",
       "      <td>38.84</td>\n",
       "    </tr>\n",
       "  </tbody>\n",
       "</table>\n",
       "</div>"
      ],
      "text/plain": [
       "   children  dob_years  education_id  family_status_id gender income_type  \\\n",
       "0         1      42.00             0                 0      F   сотрудник   \n",
       "1         1      36.00             1                 0      F   сотрудник   \n",
       "2         0      33.00             1                 0      M   сотрудник   \n",
       "3         3      32.00             1                 0      M   сотрудник   \n",
       "4         0      53.00             1                 1      F   пенсионер   \n",
       "\n",
       "   debt  total_income                     purpose  years_employed  \n",
       "0     0     253875.64               покупка жилья           23.12  \n",
       "1     0     112080.01     приобретение автомобиля           11.03  \n",
       "2     0     145885.95               покупка жилья           15.41  \n",
       "3     0     267628.55  дополнительное образование           11.30  \n",
       "4     0     158616.08             сыграть свадьбу           38.84  "
      ]
     },
     "execution_count": 58,
     "metadata": {},
     "output_type": "execute_result"
    }
   ],
   "source": [
    "df.info()\n",
    "df.head()"
   ]
  },
  {
   "cell_type": "markdown",
   "metadata": {},
   "source": [
    "Как мы видим из общей информации, все числовые значения имеют наибольший формат чисел, что в свою очередь приводит к необоснованному увеличению используемой памяти. Так же мы можем заменить столбцы с категорийными признаками, формат которых равен `object`\n",
    "\n",
    "Начнем обработку с числовых значений."
   ]
  },
  {
   "cell_type": "code",
   "execution_count": 59,
   "metadata": {},
   "outputs": [
    {
     "data": {
      "text/html": [
       "<div>\n",
       "<style scoped>\n",
       "    .dataframe tbody tr th:only-of-type {\n",
       "        vertical-align: middle;\n",
       "    }\n",
       "\n",
       "    .dataframe tbody tr th {\n",
       "        vertical-align: top;\n",
       "    }\n",
       "\n",
       "    .dataframe thead th {\n",
       "        text-align: right;\n",
       "    }\n",
       "</style>\n",
       "<table border=\"1\" class=\"dataframe\">\n",
       "  <thead>\n",
       "    <tr style=\"text-align: right;\">\n",
       "      <th></th>\n",
       "      <th>count</th>\n",
       "      <th>mean</th>\n",
       "      <th>std</th>\n",
       "      <th>min</th>\n",
       "      <th>25%</th>\n",
       "      <th>50%</th>\n",
       "      <th>75%</th>\n",
       "      <th>max</th>\n",
       "    </tr>\n",
       "  </thead>\n",
       "  <tbody>\n",
       "    <tr>\n",
       "      <td>children</td>\n",
       "      <td>21525.00</td>\n",
       "      <td>0.48</td>\n",
       "      <td>0.76</td>\n",
       "      <td>0.00</td>\n",
       "      <td>0.00</td>\n",
       "      <td>0.00</td>\n",
       "      <td>1.00</td>\n",
       "      <td>5.00</td>\n",
       "    </tr>\n",
       "    <tr>\n",
       "      <td>dob_years</td>\n",
       "      <td>21525.00</td>\n",
       "      <td>43.51</td>\n",
       "      <td>12.23</td>\n",
       "      <td>19.00</td>\n",
       "      <td>34.00</td>\n",
       "      <td>43.00</td>\n",
       "      <td>53.00</td>\n",
       "      <td>75.00</td>\n",
       "    </tr>\n",
       "    <tr>\n",
       "      <td>education_id</td>\n",
       "      <td>21525.00</td>\n",
       "      <td>0.82</td>\n",
       "      <td>0.55</td>\n",
       "      <td>0.00</td>\n",
       "      <td>1.00</td>\n",
       "      <td>1.00</td>\n",
       "      <td>1.00</td>\n",
       "      <td>4.00</td>\n",
       "    </tr>\n",
       "    <tr>\n",
       "      <td>family_status_id</td>\n",
       "      <td>21525.00</td>\n",
       "      <td>0.97</td>\n",
       "      <td>1.42</td>\n",
       "      <td>0.00</td>\n",
       "      <td>0.00</td>\n",
       "      <td>0.00</td>\n",
       "      <td>1.00</td>\n",
       "      <td>4.00</td>\n",
       "    </tr>\n",
       "    <tr>\n",
       "      <td>debt</td>\n",
       "      <td>21525.00</td>\n",
       "      <td>0.08</td>\n",
       "      <td>0.27</td>\n",
       "      <td>0.00</td>\n",
       "      <td>0.00</td>\n",
       "      <td>0.00</td>\n",
       "      <td>0.00</td>\n",
       "      <td>1.00</td>\n",
       "    </tr>\n",
       "    <tr>\n",
       "      <td>total_income</td>\n",
       "      <td>21525.00</td>\n",
       "      <td>165159.49</td>\n",
       "      <td>97866.07</td>\n",
       "      <td>20667.26</td>\n",
       "      <td>107798.17</td>\n",
       "      <td>145017.94</td>\n",
       "      <td>195543.62</td>\n",
       "      <td>2265604.03</td>\n",
       "    </tr>\n",
       "    <tr>\n",
       "      <td>years_employed</td>\n",
       "      <td>21525.00</td>\n",
       "      <td>12.60</td>\n",
       "      <td>14.67</td>\n",
       "      <td>0.07</td>\n",
       "      <td>2.81</td>\n",
       "      <td>5.34</td>\n",
       "      <td>14.65</td>\n",
       "      <td>50.38</td>\n",
       "    </tr>\n",
       "  </tbody>\n",
       "</table>\n",
       "</div>"
      ],
      "text/plain": [
       "                    count      mean      std      min       25%       50%  \\\n",
       "children         21525.00      0.48     0.76     0.00      0.00      0.00   \n",
       "dob_years        21525.00     43.51    12.23    19.00     34.00     43.00   \n",
       "education_id     21525.00      0.82     0.55     0.00      1.00      1.00   \n",
       "family_status_id 21525.00      0.97     1.42     0.00      0.00      0.00   \n",
       "debt             21525.00      0.08     0.27     0.00      0.00      0.00   \n",
       "total_income     21525.00 165159.49 97866.07 20667.26 107798.17 145017.94   \n",
       "years_employed   21525.00     12.60    14.67     0.07      2.81      5.34   \n",
       "\n",
       "                       75%        max  \n",
       "children              1.00       5.00  \n",
       "dob_years            53.00      75.00  \n",
       "education_id          1.00       4.00  \n",
       "family_status_id      1.00       4.00  \n",
       "debt                  0.00       1.00  \n",
       "total_income     195543.62 2265604.03  \n",
       "years_employed       14.65      50.38  "
      ]
     },
     "execution_count": 59,
     "metadata": {},
     "output_type": "execute_result"
    }
   ],
   "source": [
    "df.describe().T"
   ]
  },
  {
   "cell_type": "markdown",
   "metadata": {},
   "source": [
    "Колонки `children`, `dob_years`, `education_id`, `family_status_id`, `debt` не имеют отрицательных чисел, являются целыми без отрицательных значений и не превышают значения 255, поэтому смело меняем тип данных на uint8.\n",
    "\n",
    "Но `dob_years` проверим на наличие чисел с плавающей запятой"
   ]
  },
  {
   "cell_type": "code",
   "execution_count": 60,
   "metadata": {
    "tags": []
   },
   "outputs": [
    {
     "name": "stdout",
     "output_type": "stream",
     "text": [
      "Количество значений с точкой: 19\n"
     ]
    }
   ],
   "source": [
    "age_df = df['dob_years'] % 1\n",
    "print(f'Количество значений с точкой: {len(age_df[age_df.values > 0])}')"
   ]
  },
  {
   "cell_type": "markdown",
   "metadata": {},
   "source": [
    "Так как в `dob_years` есть числа сплавающей точкой но смысла оставлять значение с плавающей точкой нет, поэтому тоже переведем значение в целочисленное"
   ]
  },
  {
   "cell_type": "code",
   "execution_count": 61,
   "metadata": {},
   "outputs": [
    {
     "name": "stdout",
     "output_type": "stream",
     "text": [
      "<class 'pandas.core.frame.DataFrame'>\n",
      "RangeIndex: 21525 entries, 0 to 21524\n",
      "Data columns (total 10 columns):\n",
      "children            21525 non-null uint8\n",
      "dob_years           21525 non-null uint8\n",
      "education_id        21525 non-null uint8\n",
      "family_status_id    21525 non-null uint8\n",
      "gender              21525 non-null object\n",
      "income_type         21525 non-null object\n",
      "debt                21525 non-null uint8\n",
      "total_income        21525 non-null float64\n",
      "purpose             21525 non-null object\n",
      "years_employed      21525 non-null float64\n",
      "dtypes: float64(2), object(3), uint8(5)\n",
      "memory usage: 946.0+ KB\n"
     ]
    }
   ],
   "source": [
    "list_name = ['children', 'dob_years', 'education_id', 'family_status_id', 'debt']\n",
    "\n",
    "for name_col in list_name:\n",
    "    df[name_col] = df[name_col].astype('uint8')\n",
    "    \n",
    "df.info()"
   ]
  },
  {
   "cell_type": "markdown",
   "metadata": {},
   "source": [
    "С помощью нехитрой операции мы смогли снизить вес файла на 0.6 Мб (~40 % от первоначального размера). Неплохой результат я считаю.\n",
    "\n",
    "Теперь перейдем к числам float. С таким типом данных у нас еще 2 колонки: `total_incom` и `years_employed`. Для анализа такого рода нам ни к чему знаки после запятой, поэтому можно привести значение к челочисленному как в случае с возрастом к uint8.\n",
    "Для удобства работы с зарплатой следует форматировать значения из руб в тыс. руб и оставить формат float"
   ]
  },
  {
   "cell_type": "code",
   "execution_count": 62,
   "metadata": {},
   "outputs": [
    {
     "name": "stdout",
     "output_type": "stream",
     "text": [
      "<class 'pandas.core.frame.DataFrame'>\n",
      "RangeIndex: 21525 entries, 0 to 21524\n",
      "Data columns (total 10 columns):\n",
      "children            21525 non-null uint8\n",
      "dob_years           21525 non-null uint8\n",
      "education_id        21525 non-null uint8\n",
      "family_status_id    21525 non-null uint8\n",
      "gender              21525 non-null object\n",
      "income_type         21525 non-null object\n",
      "debt                21525 non-null uint8\n",
      "total_income        21525 non-null float64\n",
      "purpose             21525 non-null object\n",
      "years_employed      21525 non-null uint8\n",
      "dtypes: float64(1), object(3), uint8(6)\n",
      "memory usage: 798.9+ KB\n"
     ]
    }
   ],
   "source": [
    "df['years_employed'] = df['years_employed'].astype('uint8')\n",
    "df['total_income'] = df['total_income'] / 1000\n",
    "\n",
    "df.info()"
   ]
  },
  {
   "cell_type": "markdown",
   "metadata": {},
   "source": [
    "Проверяем числовые значения в новых форматах"
   ]
  },
  {
   "cell_type": "code",
   "execution_count": 63,
   "metadata": {},
   "outputs": [
    {
     "data": {
      "text/html": [
       "<div>\n",
       "<style scoped>\n",
       "    .dataframe tbody tr th:only-of-type {\n",
       "        vertical-align: middle;\n",
       "    }\n",
       "\n",
       "    .dataframe tbody tr th {\n",
       "        vertical-align: top;\n",
       "    }\n",
       "\n",
       "    .dataframe thead th {\n",
       "        text-align: right;\n",
       "    }\n",
       "</style>\n",
       "<table border=\"1\" class=\"dataframe\">\n",
       "  <thead>\n",
       "    <tr style=\"text-align: right;\">\n",
       "      <th></th>\n",
       "      <th>children</th>\n",
       "      <th>dob_years</th>\n",
       "      <th>education_id</th>\n",
       "      <th>family_status_id</th>\n",
       "      <th>debt</th>\n",
       "      <th>total_income</th>\n",
       "      <th>years_employed</th>\n",
       "    </tr>\n",
       "  </thead>\n",
       "  <tbody>\n",
       "    <tr>\n",
       "      <td>count</td>\n",
       "      <td>21525.00</td>\n",
       "      <td>21525.00</td>\n",
       "      <td>21525.00</td>\n",
       "      <td>21525.00</td>\n",
       "      <td>21525.00</td>\n",
       "      <td>21525.00</td>\n",
       "      <td>21525.00</td>\n",
       "    </tr>\n",
       "    <tr>\n",
       "      <td>mean</td>\n",
       "      <td>0.48</td>\n",
       "      <td>43.51</td>\n",
       "      <td>0.82</td>\n",
       "      <td>0.97</td>\n",
       "      <td>0.08</td>\n",
       "      <td>165.16</td>\n",
       "      <td>12.09</td>\n",
       "    </tr>\n",
       "    <tr>\n",
       "      <td>std</td>\n",
       "      <td>0.76</td>\n",
       "      <td>12.23</td>\n",
       "      <td>0.55</td>\n",
       "      <td>1.42</td>\n",
       "      <td>0.27</td>\n",
       "      <td>97.87</td>\n",
       "      <td>14.66</td>\n",
       "    </tr>\n",
       "    <tr>\n",
       "      <td>min</td>\n",
       "      <td>0.00</td>\n",
       "      <td>19.00</td>\n",
       "      <td>0.00</td>\n",
       "      <td>0.00</td>\n",
       "      <td>0.00</td>\n",
       "      <td>20.67</td>\n",
       "      <td>0.00</td>\n",
       "    </tr>\n",
       "    <tr>\n",
       "      <td>25%</td>\n",
       "      <td>0.00</td>\n",
       "      <td>34.00</td>\n",
       "      <td>1.00</td>\n",
       "      <td>0.00</td>\n",
       "      <td>0.00</td>\n",
       "      <td>107.80</td>\n",
       "      <td>2.00</td>\n",
       "    </tr>\n",
       "    <tr>\n",
       "      <td>50%</td>\n",
       "      <td>0.00</td>\n",
       "      <td>43.00</td>\n",
       "      <td>1.00</td>\n",
       "      <td>0.00</td>\n",
       "      <td>0.00</td>\n",
       "      <td>145.02</td>\n",
       "      <td>5.00</td>\n",
       "    </tr>\n",
       "    <tr>\n",
       "      <td>75%</td>\n",
       "      <td>1.00</td>\n",
       "      <td>53.00</td>\n",
       "      <td>1.00</td>\n",
       "      <td>1.00</td>\n",
       "      <td>0.00</td>\n",
       "      <td>195.54</td>\n",
       "      <td>14.00</td>\n",
       "    </tr>\n",
       "    <tr>\n",
       "      <td>max</td>\n",
       "      <td>5.00</td>\n",
       "      <td>75.00</td>\n",
       "      <td>4.00</td>\n",
       "      <td>4.00</td>\n",
       "      <td>1.00</td>\n",
       "      <td>2265.60</td>\n",
       "      <td>50.00</td>\n",
       "    </tr>\n",
       "  </tbody>\n",
       "</table>\n",
       "</div>"
      ],
      "text/plain": [
       "       children  dob_years  education_id  family_status_id     debt  \\\n",
       "count  21525.00   21525.00      21525.00          21525.00 21525.00   \n",
       "mean       0.48      43.51          0.82              0.97     0.08   \n",
       "std        0.76      12.23          0.55              1.42     0.27   \n",
       "min        0.00      19.00          0.00              0.00     0.00   \n",
       "25%        0.00      34.00          1.00              0.00     0.00   \n",
       "50%        0.00      43.00          1.00              0.00     0.00   \n",
       "75%        1.00      53.00          1.00              1.00     0.00   \n",
       "max        5.00      75.00          4.00              4.00     1.00   \n",
       "\n",
       "       total_income  years_employed  \n",
       "count      21525.00        21525.00  \n",
       "mean         165.16           12.09  \n",
       "std           97.87           14.66  \n",
       "min           20.67            0.00  \n",
       "25%          107.80            2.00  \n",
       "50%          145.02            5.00  \n",
       "75%          195.54           14.00  \n",
       "max         2265.60           50.00  "
      ]
     },
     "execution_count": 63,
     "metadata": {},
     "output_type": "execute_result"
    }
   ],
   "source": [
    "df.describe()"
   ]
  },
  {
   "cell_type": "markdown",
   "metadata": {},
   "source": [
    "\n",
    "Теперь приступим к категориальным данным. Это `gender` и `income_type` так как количество уникальных значений здесь небольшое, оптимальней всего будет оформатировать тип данныых в `category`"
   ]
  },
  {
   "cell_type": "code",
   "execution_count": 64,
   "metadata": {},
   "outputs": [
    {
     "name": "stdout",
     "output_type": "stream",
     "text": [
      "<class 'pandas.core.frame.DataFrame'>\n",
      "RangeIndex: 21525 entries, 0 to 21524\n",
      "Data columns (total 10 columns):\n",
      "children            21525 non-null uint8\n",
      "dob_years           21525 non-null uint8\n",
      "education_id        21525 non-null uint8\n",
      "family_status_id    21525 non-null uint8\n",
      "gender              21525 non-null category\n",
      "income_type         21525 non-null category\n",
      "debt                21525 non-null uint8\n",
      "total_income        21525 non-null float64\n",
      "purpose             21525 non-null object\n",
      "years_employed      21525 non-null uint8\n",
      "dtypes: category(2), float64(1), object(1), uint8(6)\n",
      "memory usage: 505.1+ KB\n"
     ]
    }
   ],
   "source": [
    "df['gender'] = df['gender'].astype('category')\n",
    "df['income_type'] = df['income_type'].astype('category')\n",
    "df.info()"
   ]
  },
  {
   "cell_type": "markdown",
   "metadata": {},
   "source": [
    "В результате всех действий нам удалось изменить существенно снизить размерность данных с 1.6 Мб до 505 Кб"
   ]
  },
  {
   "cell_type": "markdown",
   "metadata": {},
   "source": [
    "**Вывод**"
   ]
  },
  {
   "cell_type": "markdown",
   "metadata": {},
   "source": [
    "- Все данные в таблице сохранены не в оптимальном формате\n",
    "- В результате изменения типов данных удалось снизить размер данных примерно в 3 раза"
   ]
  },
  {
   "cell_type": "markdown",
   "metadata": {},
   "source": [
    "### Обработка дубликатов"
   ]
  },
  {
   "cell_type": "markdown",
   "metadata": {},
   "source": [
    "Часть текстовых дубликатов, мы уже удалали при выводе колонки `education` в отдельную таблицу. Посмотри ка дела обстоят с явными дубликатами."
   ]
  },
  {
   "cell_type": "code",
   "execution_count": 65,
   "metadata": {},
   "outputs": [
    {
     "data": {
      "text/plain": [
       "71"
      ]
     },
     "execution_count": 65,
     "metadata": {},
     "output_type": "execute_result"
    }
   ],
   "source": [
    "df.duplicated().sum()"
   ]
  },
  {
   "cell_type": "markdown",
   "metadata": {},
   "source": [
    "Дубликаты имеются и следует их удалить"
   ]
  },
  {
   "cell_type": "code",
   "execution_count": 66,
   "metadata": {},
   "outputs": [
    {
     "data": {
      "text/plain": [
       "0"
      ]
     },
     "execution_count": 66,
     "metadata": {},
     "output_type": "execute_result"
    }
   ],
   "source": [
    "df = df.drop_duplicates()\n",
    "df.duplicated().sum()"
   ]
  },
  {
   "cell_type": "markdown",
   "metadata": {},
   "source": [
    "Причиной дубликатов, на мой взгляд может быть вызвана техническим сбоев либо в ходе сохранения информации либо при ее вызове"
   ]
  },
  {
   "cell_type": "markdown",
   "metadata": {},
   "source": [
    "**Вывод**"
   ]
  },
  {
   "cell_type": "markdown",
   "metadata": {},
   "source": [
    "- В данных имелся 71 дубликат, предположительно из-за технического сбоя\n",
    "- Текстовые неявные дубликаты (обработаны ранее) были вызванной некорректныс заполнением информации"
   ]
  },
  {
   "cell_type": "markdown",
   "metadata": {},
   "source": [
    "### Лемматизация"
   ]
  },
  {
   "cell_type": "markdown",
   "metadata": {},
   "source": [
    "Для того, чтобы удобней работать с колонкой целей кредита (purpose), нужно выделить основной смысл в написанном. Из обзора данных было видно, что заполняли данные в свободной форме, но прослеживается уже несколько направлений, а именно:\n",
    "- Свадьба\n",
    "- Автомобиль\n",
    "- Ремонт\n",
    "- Квартира\n",
    "\n",
    "Возможно есть еще какие-либо направления, это нам и предстоит выяснить. Для начала попробум разбить фразы на слова и посчитать их количества. При разбивки сразу будем слова лемматизировать (приводить к единой словарной форме)"
   ]
  },
  {
   "cell_type": "code",
   "execution_count": 67,
   "metadata": {},
   "outputs": [
    {
     "data": {
      "text/plain": [
       "{' ': 55023,\n",
       " 'недвижимость': 6351,\n",
       " 'покупка': 5897,\n",
       " 'жилье': 4460,\n",
       " 'автомобиль': 4306,\n",
       " 'образование': 4013,\n",
       " 'с': 2918,\n",
       " 'операция': 2604,\n",
       " 'свадьба': 2324,\n",
       " 'свой': 2230,\n",
       " 'на': 2222,\n",
       " 'строительство': 1878,\n",
       " 'высокий': 1374,\n",
       " 'получение': 1314,\n",
       " 'коммерческий': 1311,\n",
       " 'для': 1289,\n",
       " 'жилой': 1230,\n",
       " 'сделка': 941,\n",
       " 'дополнительный': 906,\n",
       " 'заниматься': 904,\n",
       " 'подержать': 853,\n",
       " 'проведение': 768,\n",
       " 'сыграть': 765,\n",
       " 'сдача': 651,\n",
       " 'семья': 638,\n",
       " 'собственный': 635,\n",
       " 'со': 627,\n",
       " 'ремонт': 607,\n",
       " 'приобретение': 461,\n",
       " 'профильный': 436,\n",
       " 'подержанный': 111,\n",
       " ' \\n': 1}"
      ]
     },
     "execution_count": 67,
     "metadata": {},
     "output_type": "execute_result"
    }
   ],
   "source": [
    "word_str = '' \n",
    "\n",
    "for value in df['purpose'].values: \n",
    "    word_str += value + ' '          \n",
    "    \n",
    "lemmas = m.lemmatize(word_str)\n",
    "\n",
    "purpose_words = Counter(lemmas)\n",
    "purpose_words = {k: purpose_words[k] for k in sorted(purpose_words, key=purpose_words.get, reverse=True)}\n",
    "purpose_words"
   ]
  },
  {
   "cell_type": "markdown",
   "metadata": {},
   "source": [
    "Посмотрим на уникальные значения в колонке. "
   ]
  },
  {
   "cell_type": "code",
   "execution_count": 68,
   "metadata": {},
   "outputs": [
    {
     "data": {
      "text/plain": [
       "array(['покупка жилья', 'приобретение автомобиля',\n",
       "       'дополнительное образование', 'сыграть свадьбу',\n",
       "       'операции с жильем', 'образование', 'на проведение свадьбы',\n",
       "       'покупка жилья для семьи', 'покупка недвижимости',\n",
       "       'покупка коммерческой недвижимости', 'покупка жилой недвижимости',\n",
       "       'строительство собственной недвижимости', 'недвижимость',\n",
       "       'строительство недвижимости', 'на покупку подержанного автомобиля',\n",
       "       'на покупку своего автомобиля',\n",
       "       'операции с коммерческой недвижимостью',\n",
       "       'строительство жилой недвижимости', 'жилье',\n",
       "       'операции со своей недвижимостью', 'автомобили',\n",
       "       'заняться образованием', 'сделка с подержанным автомобилем',\n",
       "       'получение образования', 'автомобиль', 'свадьба',\n",
       "       'получение дополнительного образования', 'покупка своего жилья',\n",
       "       'операции с недвижимостью', 'получение высшего образования',\n",
       "       'свой автомобиль', 'сделка с автомобилем',\n",
       "       'профильное образование', 'высшее образование',\n",
       "       'покупка жилья для сдачи', 'на покупку автомобиля', 'ремонт жилью',\n",
       "       'заняться высшим образованием'], dtype=object)"
      ]
     },
     "execution_count": 68,
     "metadata": {},
     "output_type": "execute_result"
    }
   ],
   "source": [
    "df['purpose'].unique()"
   ]
  },
  {
   "cell_type": "markdown",
   "metadata": {},
   "source": [
    "Данные не совсем удобны для анализа в таком виде. Попробуем из убрать лишние слова, оставить только существительные и глаголы для того чтобы было представление о предмете и каком-либо процессе.\n",
    "\n",
    "И уже сейчас можно сказать что операции с недвижемостью/жильем имеют самую большую популярность, а не проведение свадьбы как предпологалось в начале работы.\n",
    "\n",
    "Углубимся в NLP. К каждому слову будем добавлять тэг, а по тэгу потом искать существительные и глагоы"
   ]
  },
  {
   "cell_type": "code",
   "execution_count": 69,
   "metadata": {},
   "outputs": [
    {
     "name": "stdout",
     "output_type": "stream",
     "text": [
      "Существительные: ['образование', 'покупка', 'недвижимость', 'получение', 'проведение', 'сделка', 'приобретение', 'свадьба', 'строительство', 'сдача', 'ремонт', 'жилье', 'операция', 'семья', 'автомобиль']\n",
      "Глаголы: ['подержать', 'сыграть', 'заниматься']\n"
     ]
    }
   ],
   "source": [
    "lemmas_set = set(lemmas)\n",
    "nouns_list = [] # Список существительных\n",
    "verb_list = [] # Список глаголов\n",
    "\n",
    "for word in lemmas_set:    \n",
    "    list_tags = pos_tag(word_tokenize(word), lang='rus')   \n",
    "    for tag in list_tags:                                  \n",
    "        if tag[1] == 'S':\n",
    "            nouns_list.append(tag[0])\n",
    "        elif tag[1] =='V':\n",
    "            verb_list.append(tag[0])\n",
    "\n",
    "print(f'Существительные: {nouns_list}')\n",
    "print(f'Глаголы: {verb_list}')\n"
   ]
  },
  {
   "cell_type": "markdown",
   "metadata": {},
   "source": [
    "Стало конечно полегче, но существительные все равно требуют ручного перебора. Разделим слова на \"Предмет\" и \"Действие\", чтобы определить цель кредита.\n",
    "\n",
    "Предмет: 'образование', 'автомобиль', 'жилье'/'недвижимость', , 'свадьба'\n",
    "Действие: 'сыграть', 'заниматься', 'строительство', 'покупка'/'приобретение', 'ремонт', 'операция', 'проведение', 'сделка', 'получение'\n",
    "\n",
    "Лишнее: 'подержать', 'сдача', 'семья'\n",
    "\n",
    "Подержать видимо появилось из-за поддержанный автомобилей. Что значит операция с недвижимость, не совсем понятно, так как под такую операцию может поппасть и ремонт (операции со своей недвижимостью'). Из-за многообразия действий цесообразно разделить цель кредита на сферы:\n",
    "- **Образование**\n",
    "- **Автомобиль**\n",
    "- **Недвижимость**\n",
    "- **Свадьба**\n",
    "\n",
    "И не углубляться до конкретных действий на подобе ремонт, строительство или покупка жилья. \n",
    "\n",
    "Дадее нам понадобиться лемматизировать каждую ячейку и разбивать по категориям каждого клиента."
   ]
  },
  {
   "cell_type": "code",
   "execution_count": 70,
   "metadata": {},
   "outputs": [
    {
     "name": "stdout",
     "output_type": "stream",
     "text": [
      "0:00:10.711041\n"
     ]
    }
   ],
   "source": [
    "def lemmazing_purpose(row):\n",
    "    return m.lemmatize(row['purpose'])\n",
    "\n",
    "\n",
    "start = datetime.now()\n",
    "\n",
    "# Для проверки корректности алгоритма\n",
    "#df['lemmas_purpose'] = df.head(20).apply(lemmazing_purpose, axis=1)\n",
    "\n",
    "df['lemmas_purpose'] = df.apply(lemmazing_purpose, axis=1)\n",
    "\n",
    "print(datetime.now() - start)"
   ]
  },
  {
   "cell_type": "markdown",
   "metadata": {},
   "source": [
    "Из такого большого времени (4:56:46.3 и 5:18:32) следует что на каждую строку тратилось почти что секунда времени. Поэтому лучше сохрать датасет от греха подальше."
   ]
  },
  {
   "cell_type": "markdown",
   "metadata": {},
   "source": [
    "Сохраним чтобы не повторять процедуру лемматизации и переведем ечейки в неактивный код, чтобы случайно их не запустить"
   ]
  },
  {
   "cell_type": "raw",
   "metadata": {},
   "source": [
    "df.to_csv('data_lemm.csv')"
   ]
  },
  {
   "cell_type": "raw",
   "metadata": {},
   "source": [
    "df = pd.read_csv('data_lemm.csv', index_col=0) "
   ]
  },
  {
   "cell_type": "markdown",
   "metadata": {},
   "source": [
    "Сделаем выгрузку из уже готового файла, чтобы в случаи перезапуска всего ноутбука, алгоритм мог продолжить работу, но следует учитывать, что если мы будет **редактировать** алгоритмы выше, то нужно будет перезаписать файл загрузки"
   ]
  },
  {
   "cell_type": "code",
   "execution_count": 71,
   "metadata": {},
   "outputs": [
    {
     "data": {
      "text/plain": [
       "0                 [покупка,  , жилье, \\n]\n",
       "1       [приобретение,  , автомобиль, \\n]\n",
       "2                 [покупка,  , жилье, \\n]\n",
       "3    [дополнительный,  , образование, \\n]\n",
       "4               [сыграть,  , свадьба, \\n]\n",
       "Name: lemmas_purpose, dtype: object"
      ]
     },
     "execution_count": 71,
     "metadata": {},
     "output_type": "execute_result"
    }
   ],
   "source": [
    "df['lemmas_purpose'].head() #Проверка"
   ]
  },
  {
   "cell_type": "markdown",
   "metadata": {},
   "source": [
    "А дальше уже начнется категоризация."
   ]
  },
  {
   "cell_type": "markdown",
   "metadata": {},
   "source": [
    "**Вывод**"
   ]
  },
  {
   "cell_type": "markdown",
   "metadata": {},
   "source": [
    "- Лемматизация на 20 000 строк работает очень долго\n",
    "- Начальное предположение, что чаще всего берут кредит на свадьбу оказалось неправдой\n",
    "- Чаще все кредит берут для приобретения недвижимости\n",
    "- В колонке purpose достаточно много уникальных значений, но все они в целом \n",
    "- Следует изначально регламентировать форму заполнения текстовки к цели кредита или сделать дополнительный пункт с выбором сферы кредита"
   ]
  },
  {
   "cell_type": "markdown",
   "metadata": {},
   "source": [
    "### Категоризация данных"
   ]
  },
  {
   "cell_type": "code",
   "execution_count": 72,
   "metadata": {},
   "outputs": [
    {
     "data": {
      "text/html": [
       "<div>\n",
       "<style scoped>\n",
       "    .dataframe tbody tr th:only-of-type {\n",
       "        vertical-align: middle;\n",
       "    }\n",
       "\n",
       "    .dataframe tbody tr th {\n",
       "        vertical-align: top;\n",
       "    }\n",
       "\n",
       "    .dataframe thead th {\n",
       "        text-align: right;\n",
       "    }\n",
       "</style>\n",
       "<table border=\"1\" class=\"dataframe\">\n",
       "  <thead>\n",
       "    <tr style=\"text-align: right;\">\n",
       "      <th></th>\n",
       "      <th>children</th>\n",
       "      <th>dob_years</th>\n",
       "      <th>education_id</th>\n",
       "      <th>family_status_id</th>\n",
       "      <th>gender</th>\n",
       "      <th>income_type</th>\n",
       "      <th>debt</th>\n",
       "      <th>total_income</th>\n",
       "      <th>purpose</th>\n",
       "      <th>years_employed</th>\n",
       "      <th>lemmas_purpose</th>\n",
       "    </tr>\n",
       "  </thead>\n",
       "  <tbody>\n",
       "    <tr>\n",
       "      <td>0</td>\n",
       "      <td>1</td>\n",
       "      <td>42</td>\n",
       "      <td>0</td>\n",
       "      <td>0</td>\n",
       "      <td>F</td>\n",
       "      <td>сотрудник</td>\n",
       "      <td>0</td>\n",
       "      <td>253.88</td>\n",
       "      <td>покупка жилья</td>\n",
       "      <td>23</td>\n",
       "      <td>[покупка,  , жилье, \\n]</td>\n",
       "    </tr>\n",
       "    <tr>\n",
       "      <td>1</td>\n",
       "      <td>1</td>\n",
       "      <td>36</td>\n",
       "      <td>1</td>\n",
       "      <td>0</td>\n",
       "      <td>F</td>\n",
       "      <td>сотрудник</td>\n",
       "      <td>0</td>\n",
       "      <td>112.08</td>\n",
       "      <td>приобретение автомобиля</td>\n",
       "      <td>11</td>\n",
       "      <td>[приобретение,  , автомобиль, \\n]</td>\n",
       "    </tr>\n",
       "    <tr>\n",
       "      <td>2</td>\n",
       "      <td>0</td>\n",
       "      <td>33</td>\n",
       "      <td>1</td>\n",
       "      <td>0</td>\n",
       "      <td>M</td>\n",
       "      <td>сотрудник</td>\n",
       "      <td>0</td>\n",
       "      <td>145.89</td>\n",
       "      <td>покупка жилья</td>\n",
       "      <td>15</td>\n",
       "      <td>[покупка,  , жилье, \\n]</td>\n",
       "    </tr>\n",
       "    <tr>\n",
       "      <td>3</td>\n",
       "      <td>3</td>\n",
       "      <td>32</td>\n",
       "      <td>1</td>\n",
       "      <td>0</td>\n",
       "      <td>M</td>\n",
       "      <td>сотрудник</td>\n",
       "      <td>0</td>\n",
       "      <td>267.63</td>\n",
       "      <td>дополнительное образование</td>\n",
       "      <td>11</td>\n",
       "      <td>[дополнительный,  , образование, \\n]</td>\n",
       "    </tr>\n",
       "    <tr>\n",
       "      <td>4</td>\n",
       "      <td>0</td>\n",
       "      <td>53</td>\n",
       "      <td>1</td>\n",
       "      <td>1</td>\n",
       "      <td>F</td>\n",
       "      <td>пенсионер</td>\n",
       "      <td>0</td>\n",
       "      <td>158.62</td>\n",
       "      <td>сыграть свадьбу</td>\n",
       "      <td>38</td>\n",
       "      <td>[сыграть,  , свадьба, \\n]</td>\n",
       "    </tr>\n",
       "  </tbody>\n",
       "</table>\n",
       "</div>"
      ],
      "text/plain": [
       "   children  dob_years  education_id  family_status_id gender income_type  \\\n",
       "0         1         42             0                 0      F   сотрудник   \n",
       "1         1         36             1                 0      F   сотрудник   \n",
       "2         0         33             1                 0      M   сотрудник   \n",
       "3         3         32             1                 0      M   сотрудник   \n",
       "4         0         53             1                 1      F   пенсионер   \n",
       "\n",
       "   debt  total_income                     purpose  years_employed  \\\n",
       "0     0        253.88               покупка жилья              23   \n",
       "1     0        112.08     приобретение автомобиля              11   \n",
       "2     0        145.89               покупка жилья              15   \n",
       "3     0        267.63  дополнительное образование              11   \n",
       "4     0        158.62             сыграть свадьбу              38   \n",
       "\n",
       "                         lemmas_purpose  \n",
       "0               [покупка,  , жилье, \\n]  \n",
       "1     [приобретение,  , автомобиль, \\n]  \n",
       "2               [покупка,  , жилье, \\n]  \n",
       "3  [дополнительный,  , образование, \\n]  \n",
       "4             [сыграть,  , свадьба, \\n]  "
      ]
     },
     "execution_count": 72,
     "metadata": {},
     "output_type": "execute_result"
    }
   ],
   "source": [
    "df.head()"
   ]
  },
  {
   "cell_type": "markdown",
   "metadata": {},
   "source": [
    "Для дополнительной категоризации подойдут 4 столбца:\n",
    "- Возраст (dob_years)\n",
    "- Доход (total_income)\n",
    "- Цель кредита (purpose)\n",
    "- Стаж (years_employed)\n",
    "\n",
    "Для категоризации целей, мы как раз и делали лемматизацию столбца. Начнем как раз с этой колонки.\n",
    "\n",
    "Напишем функцию, которая будет давать категорию клиенту в зависимости от содержание слов"
   ]
  },
  {
   "cell_type": "code",
   "execution_count": 73,
   "metadata": {},
   "outputs": [],
   "source": [
    "categors = ['образование', 'автомобиль', 'недвижимость', 'свадьба'] # 4 конечные категории\n",
    "\n",
    "def categorization_purp (row):\n",
    "    lemmas_purp = row['lemmas_purpose']  \n",
    "    result = []\n",
    "    if  categors[0] in lemmas_purp:  # Специально не даем с else, чтобы убедиться в отсутсвии значений с 2-мя категориями сразу\n",
    "        result.append(categors[0])\n",
    "    if  categors[1] in lemmas_purp:\n",
    "        result.append(categors[1])\n",
    "    if  (categors[2] in lemmas_purp) or ('жилье' in lemmas_purp):\n",
    "        result.append(categors[2])\n",
    "    if  categors[3] in lemmas_purp:\n",
    "        result.append(categors[3])\n",
    "    if len(result) == 1:\n",
    "        return result[0]\n",
    "    else:\n",
    "        return result"
   ]
  },
  {
   "cell_type": "code",
   "execution_count": 74,
   "metadata": {},
   "outputs": [
    {
     "data": {
      "text/html": [
       "<div>\n",
       "<style scoped>\n",
       "    .dataframe tbody tr th:only-of-type {\n",
       "        vertical-align: middle;\n",
       "    }\n",
       "\n",
       "    .dataframe tbody tr th {\n",
       "        vertical-align: top;\n",
       "    }\n",
       "\n",
       "    .dataframe thead th {\n",
       "        text-align: right;\n",
       "    }\n",
       "</style>\n",
       "<table border=\"1\" class=\"dataframe\">\n",
       "  <thead>\n",
       "    <tr style=\"text-align: right;\">\n",
       "      <th></th>\n",
       "      <th>lemmas_purpose</th>\n",
       "      <th>col2</th>\n",
       "    </tr>\n",
       "  </thead>\n",
       "  <tbody>\n",
       "    <tr>\n",
       "      <td>0</td>\n",
       "      <td>[жилье, свадьба]</td>\n",
       "      <td>3</td>\n",
       "    </tr>\n",
       "    <tr>\n",
       "      <td>1</td>\n",
       "      <td>[жилье,  cвадьба]</td>\n",
       "      <td>4</td>\n",
       "    </tr>\n",
       "  </tbody>\n",
       "</table>\n",
       "</div>"
      ],
      "text/plain": [
       "      lemmas_purpose  col2\n",
       "0   [жилье, свадьба]     3\n",
       "1  [жилье,  cвадьба]     4"
      ]
     },
     "execution_count": 74,
     "metadata": {},
     "output_type": "execute_result"
    }
   ],
   "source": [
    "d = {'lemmas_purpose': [['жилье', 'свадьба'],['жилье', ' cвадьба']], 'col2': [3, 4]}\n",
    "check = pd.DataFrame(data=d)\n",
    "check"
   ]
  },
  {
   "cell_type": "markdown",
   "metadata": {},
   "source": [
    "Проверим работу алгоритма на предполагаемую логику"
   ]
  },
  {
   "cell_type": "code",
   "execution_count": 75,
   "metadata": {},
   "outputs": [
    {
     "data": {
      "text/plain": [
       "0    [недвижимость, свадьба]\n",
       "1               недвижимость\n",
       "dtype: object"
      ]
     },
     "execution_count": 75,
     "metadata": {},
     "output_type": "execute_result"
    }
   ],
   "source": [
    "check1 = check.apply(categorization_purp, axis=1)\n",
    "check1"
   ]
  },
  {
   "cell_type": "code",
   "execution_count": 76,
   "metadata": {},
   "outputs": [
    {
     "data": {
      "text/plain": [
       "0    недвижимость\n",
       "1      автомобиль\n",
       "2    недвижимость\n",
       "3     образование\n",
       "4         свадьба\n",
       "dtype: object"
      ]
     },
     "execution_count": 76,
     "metadata": {},
     "output_type": "execute_result"
    }
   ],
   "source": [
    "check = df.head().apply(categorization_purp, axis=1) # Проверка работы алгоритма\n",
    "check"
   ]
  },
  {
   "cell_type": "code",
   "execution_count": 77,
   "metadata": {},
   "outputs": [],
   "source": [
    "df['purpose_category'] = df.apply(categorization_purp, axis=1)"
   ]
  },
  {
   "cell_type": "code",
   "execution_count": 78,
   "metadata": {},
   "outputs": [
    {
     "data": {
      "text/plain": [
       "0"
      ]
     },
     "execution_count": 78,
     "metadata": {},
     "output_type": "execute_result"
    }
   ],
   "source": [
    "df['purpose_category'].isna().sum()"
   ]
  },
  {
   "cell_type": "markdown",
   "metadata": {},
   "source": [
    "Как видим пропущенных значений нет"
   ]
  },
  {
   "cell_type": "code",
   "execution_count": 79,
   "metadata": {},
   "outputs": [
    {
     "data": {
      "text/plain": [
       "array(['недвижимость', 'автомобиль', 'образование', 'свадьба'],\n",
       "      dtype=object)"
      ]
     },
     "execution_count": 79,
     "metadata": {},
     "output_type": "execute_result"
    }
   ],
   "source": [
    "df['purpose_category'].unique()"
   ]
  },
  {
   "cell_type": "markdown",
   "metadata": {},
   "source": [
    "И двойных категорий тоже."
   ]
  },
  {
   "cell_type": "code",
   "execution_count": 80,
   "metadata": {},
   "outputs": [],
   "source": [
    "df['purpose_category'] = df['purpose_category'].astype('category')"
   ]
  },
  {
   "cell_type": "code",
   "execution_count": 81,
   "metadata": {},
   "outputs": [
    {
     "data": {
      "text/html": [
       "<div>\n",
       "<style scoped>\n",
       "    .dataframe tbody tr th:only-of-type {\n",
       "        vertical-align: middle;\n",
       "    }\n",
       "\n",
       "    .dataframe tbody tr th {\n",
       "        vertical-align: top;\n",
       "    }\n",
       "\n",
       "    .dataframe thead th {\n",
       "        text-align: right;\n",
       "    }\n",
       "</style>\n",
       "<table border=\"1\" class=\"dataframe\">\n",
       "  <thead>\n",
       "    <tr style=\"text-align: right;\">\n",
       "      <th></th>\n",
       "      <th>children</th>\n",
       "      <th>dob_years</th>\n",
       "      <th>education_id</th>\n",
       "      <th>family_status_id</th>\n",
       "      <th>gender</th>\n",
       "      <th>income_type</th>\n",
       "      <th>debt</th>\n",
       "      <th>total_income</th>\n",
       "      <th>purpose</th>\n",
       "      <th>years_employed</th>\n",
       "      <th>lemmas_purpose</th>\n",
       "      <th>purpose_category</th>\n",
       "    </tr>\n",
       "  </thead>\n",
       "  <tbody>\n",
       "    <tr>\n",
       "      <td>0</td>\n",
       "      <td>1</td>\n",
       "      <td>42</td>\n",
       "      <td>0</td>\n",
       "      <td>0</td>\n",
       "      <td>F</td>\n",
       "      <td>сотрудник</td>\n",
       "      <td>0</td>\n",
       "      <td>253.88</td>\n",
       "      <td>покупка жилья</td>\n",
       "      <td>23</td>\n",
       "      <td>[покупка,  , жилье, \\n]</td>\n",
       "      <td>недвижимость</td>\n",
       "    </tr>\n",
       "    <tr>\n",
       "      <td>1</td>\n",
       "      <td>1</td>\n",
       "      <td>36</td>\n",
       "      <td>1</td>\n",
       "      <td>0</td>\n",
       "      <td>F</td>\n",
       "      <td>сотрудник</td>\n",
       "      <td>0</td>\n",
       "      <td>112.08</td>\n",
       "      <td>приобретение автомобиля</td>\n",
       "      <td>11</td>\n",
       "      <td>[приобретение,  , автомобиль, \\n]</td>\n",
       "      <td>автомобиль</td>\n",
       "    </tr>\n",
       "    <tr>\n",
       "      <td>2</td>\n",
       "      <td>0</td>\n",
       "      <td>33</td>\n",
       "      <td>1</td>\n",
       "      <td>0</td>\n",
       "      <td>M</td>\n",
       "      <td>сотрудник</td>\n",
       "      <td>0</td>\n",
       "      <td>145.89</td>\n",
       "      <td>покупка жилья</td>\n",
       "      <td>15</td>\n",
       "      <td>[покупка,  , жилье, \\n]</td>\n",
       "      <td>недвижимость</td>\n",
       "    </tr>\n",
       "    <tr>\n",
       "      <td>3</td>\n",
       "      <td>3</td>\n",
       "      <td>32</td>\n",
       "      <td>1</td>\n",
       "      <td>0</td>\n",
       "      <td>M</td>\n",
       "      <td>сотрудник</td>\n",
       "      <td>0</td>\n",
       "      <td>267.63</td>\n",
       "      <td>дополнительное образование</td>\n",
       "      <td>11</td>\n",
       "      <td>[дополнительный,  , образование, \\n]</td>\n",
       "      <td>образование</td>\n",
       "    </tr>\n",
       "    <tr>\n",
       "      <td>4</td>\n",
       "      <td>0</td>\n",
       "      <td>53</td>\n",
       "      <td>1</td>\n",
       "      <td>1</td>\n",
       "      <td>F</td>\n",
       "      <td>пенсионер</td>\n",
       "      <td>0</td>\n",
       "      <td>158.62</td>\n",
       "      <td>сыграть свадьбу</td>\n",
       "      <td>38</td>\n",
       "      <td>[сыграть,  , свадьба, \\n]</td>\n",
       "      <td>свадьба</td>\n",
       "    </tr>\n",
       "  </tbody>\n",
       "</table>\n",
       "</div>"
      ],
      "text/plain": [
       "   children  dob_years  education_id  family_status_id gender income_type  \\\n",
       "0         1         42             0                 0      F   сотрудник   \n",
       "1         1         36             1                 0      F   сотрудник   \n",
       "2         0         33             1                 0      M   сотрудник   \n",
       "3         3         32             1                 0      M   сотрудник   \n",
       "4         0         53             1                 1      F   пенсионер   \n",
       "\n",
       "   debt  total_income                     purpose  years_employed  \\\n",
       "0     0        253.88               покупка жилья              23   \n",
       "1     0        112.08     приобретение автомобиля              11   \n",
       "2     0        145.89               покупка жилья              15   \n",
       "3     0        267.63  дополнительное образование              11   \n",
       "4     0        158.62             сыграть свадьбу              38   \n",
       "\n",
       "                         lemmas_purpose purpose_category  \n",
       "0               [покупка,  , жилье, \\n]     недвижимость  \n",
       "1     [приобретение,  , автомобиль, \\n]       автомобиль  \n",
       "2               [покупка,  , жилье, \\n]     недвижимость  \n",
       "3  [дополнительный,  , образование, \\n]      образование  \n",
       "4             [сыграть,  , свадьба, \\n]          свадьба  "
      ]
     },
     "execution_count": 81,
     "metadata": {},
     "output_type": "execute_result"
    }
   ],
   "source": [
    "df.head()"
   ]
  },
  {
   "cell_type": "markdown",
   "metadata": {},
   "source": [
    "Теперь категоризируем возраст клиентов. Обычно для этого берут определенные интервалы основываясь на личным опыт. Есть вариант разделить отталкиваясь от квартилей."
   ]
  },
  {
   "cell_type": "code",
   "execution_count": 82,
   "metadata": {},
   "outputs": [
    {
     "data": {
      "text/plain": [
       "count   21454.00\n",
       "mean       43.49\n",
       "std        12.22\n",
       "min        19.00\n",
       "25%        33.00\n",
       "50%        43.00\n",
       "75%        53.00\n",
       "max        75.00\n",
       "Name: dob_years, dtype: float64"
      ]
     },
     "execution_count": 82,
     "metadata": {},
     "output_type": "execute_result"
    }
   ],
   "source": [
    "dob_incom = df['dob_years'].describe()\n",
    "dob_incom"
   ]
  },
  {
   "cell_type": "markdown",
   "metadata": {},
   "source": [
    "Попробуем ии распределить на 4 категории, разделителем возьмем 33, 43, 53 года, тогда мы получим разные группы и это может помочь (а может ли?) при выявлении каких-либо зависимостей."
   ]
  },
  {
   "cell_type": "code",
   "execution_count": 83,
   "metadata": {},
   "outputs": [],
   "source": [
    "def age_group(age):\n",
    "    if age <= dob_incom['25%']:\n",
    "        return 'Младшие клиенты'\n",
    "    if age <= dob_incom['50%']:\n",
    "        return 'Клиенты младше среднего'\n",
    "    if age <= dob_incom['75%']:\n",
    "        return 'Клиенты выше среднего'\n",
    "    return 'Старшие клиенты'"
   ]
  },
  {
   "cell_type": "code",
   "execution_count": 84,
   "metadata": {},
   "outputs": [],
   "source": [
    "df['age_category'] = df['dob_years'].apply(age_group)\n",
    "df['age_category'] = df['age_category'].astype('category')"
   ]
  },
  {
   "cell_type": "code",
   "execution_count": 85,
   "metadata": {},
   "outputs": [
    {
     "data": {
      "text/plain": [
       "Клиенты младше среднего    5878\n",
       "Младшие клиенты            5366\n",
       "Старшие клиенты            5272\n",
       "Клиенты выше среднего      4938\n",
       "Name: age_category, dtype: int64"
      ]
     },
     "execution_count": 85,
     "metadata": {},
     "output_type": "execute_result"
    }
   ],
   "source": [
    "df['age_category'].value_counts()"
   ]
  },
  {
   "cell_type": "markdown",
   "metadata": {},
   "source": [
    "Теперь по такому же принципу разделим доход"
   ]
  },
  {
   "cell_type": "code",
   "execution_count": 86,
   "metadata": {},
   "outputs": [
    {
     "data": {
      "text/plain": [
       "count   21454.00\n",
       "mean      165.23\n",
       "std        98.02\n",
       "min        20.67\n",
       "25%       107.62\n",
       "50%       145.02\n",
       "75%       195.81\n",
       "max      2265.60\n",
       "Name: total_income, dtype: float64"
      ]
     },
     "execution_count": 86,
     "metadata": {},
     "output_type": "execute_result"
    }
   ],
   "source": [
    "descr_incom = df['total_income'].describe()\n",
    "descr_incom "
   ]
  },
  {
   "cell_type": "code",
   "execution_count": 87,
   "metadata": {},
   "outputs": [],
   "source": [
    "def incom_group(val):\n",
    "    if val < descr_incom['25%']:\n",
    "        return 'Низкий'\n",
    "    if val < descr_incom['50%']:\n",
    "        return 'Ниже среднего'\n",
    "    if val < descr_incom['75%']:\n",
    "        return 'Выше среднего'\n",
    "    return 'Высокий'"
   ]
  },
  {
   "cell_type": "markdown",
   "metadata": {},
   "source": [
    " Выполняем аналогичные действия"
   ]
  },
  {
   "cell_type": "code",
   "execution_count": 88,
   "metadata": {},
   "outputs": [
    {
     "data": {
      "text/plain": [
       "Выше среднего    6415\n",
       "Низкий           5364\n",
       "Высокий          5364\n",
       "Ниже среднего    4311\n",
       "Name: incom_category, dtype: int64"
      ]
     },
     "execution_count": 88,
     "metadata": {},
     "output_type": "execute_result"
    }
   ],
   "source": [
    "df['incom_category'] = df['total_income'].apply(incom_group)\n",
    "df['incom_category'] = df['incom_category'].astype('category')\n",
    "df['incom_category'].value_counts()"
   ]
  },
  {
   "cell_type": "markdown",
   "metadata": {},
   "source": [
    "Очень странно разделились значения... Посмотри на медианное значени запрлат"
   ]
  },
  {
   "cell_type": "code",
   "execution_count": 89,
   "metadata": {},
   "outputs": [
    {
     "data": {
      "text/plain": [
       "0"
      ]
     },
     "execution_count": 89,
     "metadata": {},
     "output_type": "execute_result"
    }
   ],
   "source": [
    "df[df['total_income']==145017.94]['dob_years'].count()"
   ]
  },
  {
   "cell_type": "markdown",
   "metadata": {},
   "source": [
    "Как оказалось в таблице очень много медианных значений. Такое большое совпадение вызывает подозрение. И не понятно чем вызвано такая анамалия."
   ]
  },
  {
   "cell_type": "markdown",
   "metadata": {},
   "source": [
    "Повторяем весь процесс со стажем"
   ]
  },
  {
   "cell_type": "code",
   "execution_count": 90,
   "metadata": {},
   "outputs": [
    {
     "data": {
      "text/plain": [
       "count   21454.00\n",
       "mean       12.07\n",
       "std        14.65\n",
       "min         0.00\n",
       "25%         2.00\n",
       "50%         5.00\n",
       "75%        14.00\n",
       "max        50.00\n",
       "Name: years_employed, dtype: float64"
      ]
     },
     "execution_count": 90,
     "metadata": {},
     "output_type": "execute_result"
    }
   ],
   "source": [
    "descr_employed = df['years_employed'].describe()\n",
    "descr_employed "
   ]
  },
  {
   "cell_type": "code",
   "execution_count": 91,
   "metadata": {},
   "outputs": [
    {
     "data": {
      "text/plain": [
       "Стаж ниже среднего    6505\n",
       "Стаж выше среднего    5582\n",
       "Большой стаж          5517\n",
       "Маленький стаж        3850\n",
       "Name: employed_category, dtype: int64"
      ]
     },
     "execution_count": 91,
     "metadata": {},
     "output_type": "execute_result"
    }
   ],
   "source": [
    "def employed_group(val):\n",
    "    if val < descr_employed['25%']:\n",
    "        return 'Маленький стаж'\n",
    "    if val < descr_employed['50%']:\n",
    "        return 'Стаж ниже среднего'\n",
    "    if val < descr_employed['75%']:\n",
    "        return 'Стаж выше среднего'\n",
    "    return 'Большой стаж'\n",
    "\n",
    "df['employed_category'] = df['years_employed'].apply(employed_group)\n",
    "df['employed_category'] = df['employed_category'].astype('category')\n",
    "df['employed_category'].value_counts()"
   ]
  },
  {
   "cell_type": "markdown",
   "metadata": {},
   "source": [
    "Под конец оставим только нужные нам колонки для анализа"
   ]
  },
  {
   "cell_type": "code",
   "execution_count": 92,
   "metadata": {},
   "outputs": [
    {
     "data": {
      "text/html": [
       "<div>\n",
       "<style scoped>\n",
       "    .dataframe tbody tr th:only-of-type {\n",
       "        vertical-align: middle;\n",
       "    }\n",
       "\n",
       "    .dataframe tbody tr th {\n",
       "        vertical-align: top;\n",
       "    }\n",
       "\n",
       "    .dataframe thead th {\n",
       "        text-align: right;\n",
       "    }\n",
       "</style>\n",
       "<table border=\"1\" class=\"dataframe\">\n",
       "  <thead>\n",
       "    <tr style=\"text-align: right;\">\n",
       "      <th></th>\n",
       "      <th>children</th>\n",
       "      <th>education_id</th>\n",
       "      <th>family_status_id</th>\n",
       "      <th>gender</th>\n",
       "      <th>income_type</th>\n",
       "      <th>debt</th>\n",
       "      <th>purpose_category</th>\n",
       "      <th>age_category</th>\n",
       "      <th>incom_category</th>\n",
       "      <th>employed_category</th>\n",
       "    </tr>\n",
       "  </thead>\n",
       "  <tbody>\n",
       "    <tr>\n",
       "      <td>0</td>\n",
       "      <td>1</td>\n",
       "      <td>0</td>\n",
       "      <td>0</td>\n",
       "      <td>F</td>\n",
       "      <td>сотрудник</td>\n",
       "      <td>0</td>\n",
       "      <td>недвижимость</td>\n",
       "      <td>Клиенты младше среднего</td>\n",
       "      <td>Высокий</td>\n",
       "      <td>Большой стаж</td>\n",
       "    </tr>\n",
       "    <tr>\n",
       "      <td>1</td>\n",
       "      <td>1</td>\n",
       "      <td>1</td>\n",
       "      <td>0</td>\n",
       "      <td>F</td>\n",
       "      <td>сотрудник</td>\n",
       "      <td>0</td>\n",
       "      <td>автомобиль</td>\n",
       "      <td>Клиенты младше среднего</td>\n",
       "      <td>Ниже среднего</td>\n",
       "      <td>Стаж выше среднего</td>\n",
       "    </tr>\n",
       "    <tr>\n",
       "      <td>2</td>\n",
       "      <td>0</td>\n",
       "      <td>1</td>\n",
       "      <td>0</td>\n",
       "      <td>M</td>\n",
       "      <td>сотрудник</td>\n",
       "      <td>0</td>\n",
       "      <td>недвижимость</td>\n",
       "      <td>Младшие клиенты</td>\n",
       "      <td>Выше среднего</td>\n",
       "      <td>Большой стаж</td>\n",
       "    </tr>\n",
       "    <tr>\n",
       "      <td>3</td>\n",
       "      <td>3</td>\n",
       "      <td>1</td>\n",
       "      <td>0</td>\n",
       "      <td>M</td>\n",
       "      <td>сотрудник</td>\n",
       "      <td>0</td>\n",
       "      <td>образование</td>\n",
       "      <td>Младшие клиенты</td>\n",
       "      <td>Высокий</td>\n",
       "      <td>Стаж выше среднего</td>\n",
       "    </tr>\n",
       "    <tr>\n",
       "      <td>4</td>\n",
       "      <td>0</td>\n",
       "      <td>1</td>\n",
       "      <td>1</td>\n",
       "      <td>F</td>\n",
       "      <td>пенсионер</td>\n",
       "      <td>0</td>\n",
       "      <td>свадьба</td>\n",
       "      <td>Клиенты выше среднего</td>\n",
       "      <td>Выше среднего</td>\n",
       "      <td>Большой стаж</td>\n",
       "    </tr>\n",
       "  </tbody>\n",
       "</table>\n",
       "</div>"
      ],
      "text/plain": [
       "   children  education_id  family_status_id gender income_type  debt  \\\n",
       "0         1             0                 0      F   сотрудник     0   \n",
       "1         1             1                 0      F   сотрудник     0   \n",
       "2         0             1                 0      M   сотрудник     0   \n",
       "3         3             1                 0      M   сотрудник     0   \n",
       "4         0             1                 1      F   пенсионер     0   \n",
       "\n",
       "  purpose_category             age_category incom_category   employed_category  \n",
       "0     недвижимость  Клиенты младше среднего        Высокий        Большой стаж  \n",
       "1       автомобиль  Клиенты младше среднего  Ниже среднего  Стаж выше среднего  \n",
       "2     недвижимость          Младшие клиенты  Выше среднего        Большой стаж  \n",
       "3      образование          Младшие клиенты        Высокий  Стаж выше среднего  \n",
       "4          свадьба    Клиенты выше среднего  Выше среднего        Большой стаж  "
      ]
     },
     "execution_count": 92,
     "metadata": {},
     "output_type": "execute_result"
    }
   ],
   "source": [
    "df2 = df.drop(['purpose', 'lemmas_purpose', 'total_income','dob_years', 'years_employed'], axis = 1)\n",
    "df2.head()"
   ]
  },
  {
   "cell_type": "markdown",
   "metadata": {},
   "source": [
    "**Вывод**"
   ]
  },
  {
   "cell_type": "markdown",
   "metadata": {},
   "source": [
    "- В таблице были категоризированы 4 столбца относительно квартилей"
   ]
  },
  {
   "cell_type": "markdown",
   "metadata": {},
   "source": [
    "## Ответьте на вопросы"
   ]
  },
  {
   "cell_type": "markdown",
   "metadata": {},
   "source": [
    "### Есть ли зависимость между наличием детей и возвратом кредита в срок?"
   ]
  },
  {
   "cell_type": "markdown",
   "metadata": {},
   "source": [
    "Для ответа на вопрос попробуем сделать график, показывающий количество невозврата кредита в каждой возрастной группе"
   ]
  },
  {
   "cell_type": "markdown",
   "metadata": {},
   "source": [
    "Но нельяз сравнивать просто по сумме невозврата кредита среди групп, чтобы найти какие-либо зависимости, необходимо найти процент клиентов невернувших кредит среди групп"
   ]
  },
  {
   "cell_type": "markdown",
   "metadata": {},
   "source": [
    "Группируем по колонке и подчитываем сумму клиентов с невозвратом и всего клиентов в группе"
   ]
  },
  {
   "cell_type": "code",
   "execution_count": 93,
   "metadata": {},
   "outputs": [
    {
     "data": {
      "text/html": [
       "<div>\n",
       "<style scoped>\n",
       "    .dataframe tbody tr th:only-of-type {\n",
       "        vertical-align: middle;\n",
       "    }\n",
       "\n",
       "    .dataframe tbody tr th {\n",
       "        vertical-align: top;\n",
       "    }\n",
       "\n",
       "    .dataframe thead tr th {\n",
       "        text-align: left;\n",
       "    }\n",
       "\n",
       "    .dataframe thead tr:last-of-type th {\n",
       "        text-align: right;\n",
       "    }\n",
       "</style>\n",
       "<table border=\"1\" class=\"dataframe\">\n",
       "  <thead>\n",
       "    <tr>\n",
       "      <th></th>\n",
       "      <th colspan=\"2\" halign=\"left\">debt</th>\n",
       "    </tr>\n",
       "    <tr>\n",
       "      <th></th>\n",
       "      <th>percent</th>\n",
       "      <th>sum</th>\n",
       "    </tr>\n",
       "    <tr>\n",
       "      <th>children</th>\n",
       "      <th></th>\n",
       "      <th></th>\n",
       "    </tr>\n",
       "  </thead>\n",
       "  <tbody>\n",
       "    <tr>\n",
       "      <td>0</td>\n",
       "      <td>7.53</td>\n",
       "      <td>1064.00</td>\n",
       "    </tr>\n",
       "    <tr>\n",
       "      <td>1</td>\n",
       "      <td>9.23</td>\n",
       "      <td>444.00</td>\n",
       "    </tr>\n",
       "    <tr>\n",
       "      <td>2</td>\n",
       "      <td>9.49</td>\n",
       "      <td>202.00</td>\n",
       "    </tr>\n",
       "    <tr>\n",
       "      <td>3</td>\n",
       "      <td>8.18</td>\n",
       "      <td>27.00</td>\n",
       "    </tr>\n",
       "    <tr>\n",
       "      <td>4</td>\n",
       "      <td>9.76</td>\n",
       "      <td>4.00</td>\n",
       "    </tr>\n",
       "    <tr>\n",
       "      <td>5</td>\n",
       "      <td>0.00</td>\n",
       "      <td>0.00</td>\n",
       "    </tr>\n",
       "  </tbody>\n",
       "</table>\n",
       "</div>"
      ],
      "text/plain": [
       "            debt        \n",
       "         percent     sum\n",
       "children                \n",
       "0           7.53 1064.00\n",
       "1           9.23  444.00\n",
       "2           9.49  202.00\n",
       "3           8.18   27.00\n",
       "4           9.76    4.00\n",
       "5           0.00    0.00"
      ]
     },
     "execution_count": 93,
     "metadata": {},
     "output_type": "execute_result"
    }
   ],
   "source": [
    "children_group = df.groupby('children').agg({'debt':['count', 'sum']}) \n",
    "children_group[('debt', 'percent')] = children_group[('debt', 'sum')] / children_group[('debt', 'count')] * 100\n",
    "children_group[[('debt', 'percent'),('debt', 'sum')]]"
   ]
  },
  {
   "cell_type": "markdown",
   "metadata": {},
   "source": [
    "**Вывод**"
   ]
  },
  {
   "cell_type": "markdown",
   "metadata": {},
   "source": [
    "Можно предположить, что без детей, кредит возвращают чаще, но значения на мой взгляд незначительны и количество данных не дает нам уверенную возможность делать выводы о неблагонадежности клиентов"
   ]
  },
  {
   "cell_type": "markdown",
   "metadata": {},
   "source": [
    " "
   ]
  },
  {
   "cell_type": "markdown",
   "metadata": {},
   "source": [
    "### Есть ли зависимость между семейным положением и возвратом кредита в срок?"
   ]
  },
  {
   "cell_type": "code",
   "execution_count": 94,
   "metadata": {},
   "outputs": [
    {
     "data": {
      "text/html": [
       "<div>\n",
       "<style scoped>\n",
       "    .dataframe tbody tr th:only-of-type {\n",
       "        vertical-align: middle;\n",
       "    }\n",
       "\n",
       "    .dataframe tbody tr th {\n",
       "        vertical-align: top;\n",
       "    }\n",
       "\n",
       "    .dataframe thead th {\n",
       "        text-align: right;\n",
       "    }\n",
       "</style>\n",
       "<table border=\"1\" class=\"dataframe\">\n",
       "  <thead>\n",
       "    <tr style=\"text-align: right;\">\n",
       "      <th></th>\n",
       "      <th>family_status_id</th>\n",
       "      <th>family_status</th>\n",
       "    </tr>\n",
       "  </thead>\n",
       "  <tbody>\n",
       "    <tr>\n",
       "      <td>0</td>\n",
       "      <td>0</td>\n",
       "      <td>женат / замужем</td>\n",
       "    </tr>\n",
       "    <tr>\n",
       "      <td>1</td>\n",
       "      <td>1</td>\n",
       "      <td>гражданский брак</td>\n",
       "    </tr>\n",
       "    <tr>\n",
       "      <td>2</td>\n",
       "      <td>2</td>\n",
       "      <td>вдовец / вдова</td>\n",
       "    </tr>\n",
       "    <tr>\n",
       "      <td>3</td>\n",
       "      <td>3</td>\n",
       "      <td>в разводе</td>\n",
       "    </tr>\n",
       "    <tr>\n",
       "      <td>4</td>\n",
       "      <td>4</td>\n",
       "      <td>не женат / не замужем</td>\n",
       "    </tr>\n",
       "  </tbody>\n",
       "</table>\n",
       "</div>"
      ],
      "text/plain": [
       "   family_status_id          family_status\n",
       "0                 0        женат / замужем\n",
       "1                 1       гражданский брак\n",
       "2                 2         вдовец / вдова\n",
       "3                 3              в разводе\n",
       "4                 4  не женат / не замужем"
      ]
     },
     "metadata": {},
     "output_type": "display_data"
    },
    {
     "data": {
      "text/html": [
       "<div>\n",
       "<style scoped>\n",
       "    .dataframe tbody tr th:only-of-type {\n",
       "        vertical-align: middle;\n",
       "    }\n",
       "\n",
       "    .dataframe tbody tr th {\n",
       "        vertical-align: top;\n",
       "    }\n",
       "\n",
       "    .dataframe thead tr th {\n",
       "        text-align: left;\n",
       "    }\n",
       "\n",
       "    .dataframe thead tr:last-of-type th {\n",
       "        text-align: right;\n",
       "    }\n",
       "</style>\n",
       "<table border=\"1\" class=\"dataframe\">\n",
       "  <thead>\n",
       "    <tr>\n",
       "      <th></th>\n",
       "      <th colspan=\"2\" halign=\"left\">debt</th>\n",
       "    </tr>\n",
       "    <tr>\n",
       "      <th></th>\n",
       "      <th>percent</th>\n",
       "      <th>sum</th>\n",
       "    </tr>\n",
       "    <tr>\n",
       "      <th>family_status_id</th>\n",
       "      <th></th>\n",
       "      <th></th>\n",
       "    </tr>\n",
       "  </thead>\n",
       "  <tbody>\n",
       "    <tr>\n",
       "      <td>0</td>\n",
       "      <td>7.55</td>\n",
       "      <td>931.00</td>\n",
       "    </tr>\n",
       "    <tr>\n",
       "      <td>1</td>\n",
       "      <td>9.35</td>\n",
       "      <td>388.00</td>\n",
       "    </tr>\n",
       "    <tr>\n",
       "      <td>2</td>\n",
       "      <td>6.57</td>\n",
       "      <td>63.00</td>\n",
       "    </tr>\n",
       "    <tr>\n",
       "      <td>3</td>\n",
       "      <td>7.11</td>\n",
       "      <td>85.00</td>\n",
       "    </tr>\n",
       "    <tr>\n",
       "      <td>4</td>\n",
       "      <td>9.75</td>\n",
       "      <td>274.00</td>\n",
       "    </tr>\n",
       "  </tbody>\n",
       "</table>\n",
       "</div>"
      ],
      "text/plain": [
       "                    debt       \n",
       "                 percent    sum\n",
       "family_status_id               \n",
       "0                   7.55 931.00\n",
       "1                   9.35 388.00\n",
       "2                   6.57  63.00\n",
       "3                   7.11  85.00\n",
       "4                   9.75 274.00"
      ]
     },
     "execution_count": 94,
     "metadata": {},
     "output_type": "execute_result"
    }
   ],
   "source": [
    "display(family_status_list)\n",
    "family_status_group = df.groupby('family_status_id').agg({'debt':['count', 'sum']})\n",
    "family_status_group[('debt', 'percent')] = family_status_group[('debt', 'sum')] / family_status_group[('debt', 'count')] * 100\n",
    "family_status_group[[('debt', 'percent'),('debt', 'sum')]]"
   ]
  },
  {
   "cell_type": "markdown",
   "metadata": {},
   "source": [
    "**Вывод**"
   ]
  },
  {
   "cell_type": "markdown",
   "metadata": {},
   "source": [
    "Процентное соотношение меняется от 6,5 до 9,8, можно порекомендовать коллегам обратить на это внимание, что возможно женатые возвращают кредит чаще чем клиенты состоящие в гражданском браке, а к не состоящим в браке стоит присмотреться повнимательней."
   ]
  },
  {
   "cell_type": "markdown",
   "metadata": {},
   "source": [
    "### Есть ли зависимость между уровнем дохода и возвратом кредита в срок?"
   ]
  },
  {
   "cell_type": "code",
   "execution_count": 95,
   "metadata": {},
   "outputs": [
    {
     "data": {
      "text/html": [
       "<div>\n",
       "<style scoped>\n",
       "    .dataframe tbody tr th:only-of-type {\n",
       "        vertical-align: middle;\n",
       "    }\n",
       "\n",
       "    .dataframe tbody tr th {\n",
       "        vertical-align: top;\n",
       "    }\n",
       "\n",
       "    .dataframe thead tr th {\n",
       "        text-align: left;\n",
       "    }\n",
       "\n",
       "    .dataframe thead tr:last-of-type th {\n",
       "        text-align: right;\n",
       "    }\n",
       "</style>\n",
       "<table border=\"1\" class=\"dataframe\">\n",
       "  <thead>\n",
       "    <tr>\n",
       "      <th></th>\n",
       "      <th colspan=\"2\" halign=\"left\">debt</th>\n",
       "    </tr>\n",
       "    <tr>\n",
       "      <th></th>\n",
       "      <th>percent</th>\n",
       "      <th>sum</th>\n",
       "    </tr>\n",
       "    <tr>\n",
       "      <th>incom_category</th>\n",
       "      <th></th>\n",
       "      <th></th>\n",
       "    </tr>\n",
       "  </thead>\n",
       "  <tbody>\n",
       "    <tr>\n",
       "      <td>Высокий</td>\n",
       "      <td>7.14</td>\n",
       "      <td>383.00</td>\n",
       "    </tr>\n",
       "    <tr>\n",
       "      <td>Выше среднего</td>\n",
       "      <td>8.64</td>\n",
       "      <td>554.00</td>\n",
       "    </tr>\n",
       "    <tr>\n",
       "      <td>Ниже среднего</td>\n",
       "      <td>8.75</td>\n",
       "      <td>377.00</td>\n",
       "    </tr>\n",
       "    <tr>\n",
       "      <td>Низкий</td>\n",
       "      <td>7.96</td>\n",
       "      <td>427.00</td>\n",
       "    </tr>\n",
       "  </tbody>\n",
       "</table>\n",
       "</div>"
      ],
      "text/plain": [
       "                  debt       \n",
       "               percent    sum\n",
       "incom_category               \n",
       "Высокий           7.14 383.00\n",
       "Выше среднего     8.64 554.00\n",
       "Ниже среднего     8.75 377.00\n",
       "Низкий            7.96 427.00"
      ]
     },
     "execution_count": 95,
     "metadata": {},
     "output_type": "execute_result"
    }
   ],
   "source": [
    "incom_category_group = df.groupby('incom_category').agg({'debt':['count', 'sum']})\n",
    "incom_category_group[('debt', 'percent')] = incom_category_group[('debt', 'sum')] / incom_category_group[('debt', 'count')] * 100\n",
    "incom_category_group[[('debt', 'percent'),('debt', 'sum')]]"
   ]
  },
  {
   "cell_type": "markdown",
   "metadata": {},
   "source": [
    "**Вывод**"
   ]
  },
  {
   "cell_type": "markdown",
   "metadata": {},
   "source": [
    "Зависимость параметров сомнительна"
   ]
  },
  {
   "cell_type": "markdown",
   "metadata": {},
   "source": [
    "- Как разные цели кредита влияют на его возврат в срок?"
   ]
  },
  {
   "cell_type": "code",
   "execution_count": 96,
   "metadata": {},
   "outputs": [
    {
     "data": {
      "text/html": [
       "<div>\n",
       "<style scoped>\n",
       "    .dataframe tbody tr th:only-of-type {\n",
       "        vertical-align: middle;\n",
       "    }\n",
       "\n",
       "    .dataframe tbody tr th {\n",
       "        vertical-align: top;\n",
       "    }\n",
       "\n",
       "    .dataframe thead tr th {\n",
       "        text-align: left;\n",
       "    }\n",
       "\n",
       "    .dataframe thead tr:last-of-type th {\n",
       "        text-align: right;\n",
       "    }\n",
       "</style>\n",
       "<table border=\"1\" class=\"dataframe\">\n",
       "  <thead>\n",
       "    <tr>\n",
       "      <th></th>\n",
       "      <th colspan=\"2\" halign=\"left\">debt</th>\n",
       "    </tr>\n",
       "    <tr>\n",
       "      <th></th>\n",
       "      <th>percent</th>\n",
       "      <th>sum</th>\n",
       "    </tr>\n",
       "    <tr>\n",
       "      <th>purpose_category</th>\n",
       "      <th></th>\n",
       "      <th></th>\n",
       "    </tr>\n",
       "  </thead>\n",
       "  <tbody>\n",
       "    <tr>\n",
       "      <td>автомобиль</td>\n",
       "      <td>9.36</td>\n",
       "      <td>403.00</td>\n",
       "    </tr>\n",
       "    <tr>\n",
       "      <td>недвижимость</td>\n",
       "      <td>7.23</td>\n",
       "      <td>782.00</td>\n",
       "    </tr>\n",
       "    <tr>\n",
       "      <td>образование</td>\n",
       "      <td>9.22</td>\n",
       "      <td>370.00</td>\n",
       "    </tr>\n",
       "    <tr>\n",
       "      <td>свадьба</td>\n",
       "      <td>8.00</td>\n",
       "      <td>186.00</td>\n",
       "    </tr>\n",
       "  </tbody>\n",
       "</table>\n",
       "</div>"
      ],
      "text/plain": [
       "                    debt       \n",
       "                 percent    sum\n",
       "purpose_category               \n",
       "автомобиль          9.36 403.00\n",
       "недвижимость        7.23 782.00\n",
       "образование         9.22 370.00\n",
       "свадьба             8.00 186.00"
      ]
     },
     "execution_count": 96,
     "metadata": {},
     "output_type": "execute_result"
    }
   ],
   "source": [
    "purpose_category_group = df.groupby('purpose_category').agg({'debt':['count', 'sum']})\n",
    "purpose_category_group[('debt', 'percent')] = purpose_category_group[('debt', 'sum')] / purpose_category_group[('debt', 'count')] * 100\n",
    "purpose_category_group[[('debt', 'percent'),('debt', 'sum')]]"
   ]
  },
  {
   "cell_type": "markdown",
   "metadata": {},
   "source": [
    "**Вывод**"
   ]
  },
  {
   "cell_type": "markdown",
   "metadata": {},
   "source": [
    "По данным видно, что те кто брали кредит на автомобиль и на образование, кредит возвращали реже, но вопрос может ли выборка характеризовать генеральную совокупность остается открытым"
   ]
  },
  {
   "cell_type": "markdown",
   "metadata": {},
   "source": [
    "### Есть ли зависимость между образованием и возвратом кредита в срок?"
   ]
  },
  {
   "cell_type": "code",
   "execution_count": 97,
   "metadata": {},
   "outputs": [
    {
     "data": {
      "text/html": [
       "<div>\n",
       "<style scoped>\n",
       "    .dataframe tbody tr th:only-of-type {\n",
       "        vertical-align: middle;\n",
       "    }\n",
       "\n",
       "    .dataframe tbody tr th {\n",
       "        vertical-align: top;\n",
       "    }\n",
       "\n",
       "    .dataframe thead th {\n",
       "        text-align: right;\n",
       "    }\n",
       "</style>\n",
       "<table border=\"1\" class=\"dataframe\">\n",
       "  <thead>\n",
       "    <tr style=\"text-align: right;\">\n",
       "      <th></th>\n",
       "      <th>education_id</th>\n",
       "      <th>education</th>\n",
       "    </tr>\n",
       "  </thead>\n",
       "  <tbody>\n",
       "    <tr>\n",
       "      <td>0</td>\n",
       "      <td>0</td>\n",
       "      <td>высшее</td>\n",
       "    </tr>\n",
       "    <tr>\n",
       "      <td>1</td>\n",
       "      <td>1</td>\n",
       "      <td>среднее</td>\n",
       "    </tr>\n",
       "    <tr>\n",
       "      <td>2</td>\n",
       "      <td>2</td>\n",
       "      <td>неоконченное высшее</td>\n",
       "    </tr>\n",
       "    <tr>\n",
       "      <td>3</td>\n",
       "      <td>3</td>\n",
       "      <td>начальное</td>\n",
       "    </tr>\n",
       "    <tr>\n",
       "      <td>4</td>\n",
       "      <td>4</td>\n",
       "      <td>ученая степень</td>\n",
       "    </tr>\n",
       "  </tbody>\n",
       "</table>\n",
       "</div>"
      ],
      "text/plain": [
       "   education_id            education\n",
       "0             0               высшее\n",
       "1             1              среднее\n",
       "2             2  неоконченное высшее\n",
       "3             3            начальное\n",
       "4             4       ученая степень"
      ]
     },
     "metadata": {},
     "output_type": "display_data"
    },
    {
     "data": {
      "text/html": [
       "<div>\n",
       "<style scoped>\n",
       "    .dataframe tbody tr th:only-of-type {\n",
       "        vertical-align: middle;\n",
       "    }\n",
       "\n",
       "    .dataframe tbody tr th {\n",
       "        vertical-align: top;\n",
       "    }\n",
       "\n",
       "    .dataframe thead tr th {\n",
       "        text-align: left;\n",
       "    }\n",
       "\n",
       "    .dataframe thead tr:last-of-type th {\n",
       "        text-align: right;\n",
       "    }\n",
       "</style>\n",
       "<table border=\"1\" class=\"dataframe\">\n",
       "  <thead>\n",
       "    <tr>\n",
       "      <th></th>\n",
       "      <th colspan=\"3\" halign=\"left\">debt</th>\n",
       "    </tr>\n",
       "    <tr>\n",
       "      <th></th>\n",
       "      <th>count</th>\n",
       "      <th>sum</th>\n",
       "      <th>percent</th>\n",
       "    </tr>\n",
       "    <tr>\n",
       "      <th>education_id</th>\n",
       "      <th></th>\n",
       "      <th></th>\n",
       "      <th></th>\n",
       "    </tr>\n",
       "  </thead>\n",
       "  <tbody>\n",
       "    <tr>\n",
       "      <td>0</td>\n",
       "      <td>5250</td>\n",
       "      <td>278.00</td>\n",
       "      <td>5.30</td>\n",
       "    </tr>\n",
       "    <tr>\n",
       "      <td>1</td>\n",
       "      <td>15172</td>\n",
       "      <td>1364.00</td>\n",
       "      <td>8.99</td>\n",
       "    </tr>\n",
       "    <tr>\n",
       "      <td>2</td>\n",
       "      <td>744</td>\n",
       "      <td>68.00</td>\n",
       "      <td>9.14</td>\n",
       "    </tr>\n",
       "    <tr>\n",
       "      <td>3</td>\n",
       "      <td>282</td>\n",
       "      <td>31.00</td>\n",
       "      <td>10.99</td>\n",
       "    </tr>\n",
       "    <tr>\n",
       "      <td>4</td>\n",
       "      <td>6</td>\n",
       "      <td>0.00</td>\n",
       "      <td>0.00</td>\n",
       "    </tr>\n",
       "  </tbody>\n",
       "</table>\n",
       "</div>"
      ],
      "text/plain": [
       "               debt                \n",
       "              count     sum percent\n",
       "education_id                       \n",
       "0              5250  278.00    5.30\n",
       "1             15172 1364.00    8.99\n",
       "2               744   68.00    9.14\n",
       "3               282   31.00   10.99\n",
       "4                 6    0.00    0.00"
      ]
     },
     "execution_count": 97,
     "metadata": {},
     "output_type": "execute_result"
    }
   ],
   "source": [
    "display(education_list)\n",
    "education_group = df.groupby('education_id').agg({'debt':['count', 'sum']})\n",
    "education_group[('debt', 'percent')] = education_group[('debt', 'sum')] / education_group[('debt', 'count')] * 100\n",
    "education_group"
   ]
  },
  {
   "cell_type": "markdown",
   "metadata": {},
   "source": [
    "**Вывод**"
   ]
  },
  {
   "cell_type": "markdown",
   "metadata": {},
   "source": [
    "В образовании разница между группами выглядит существенна, те кто имеет начальное образование почти в 2 раза чаще не возвращали кредит, чем клиенты у которых есть высшее образование. Ученную степерь мы не рассматриваем, так как там всего лишь 6 человек\n",
    "\n",
    "Но не смотря на такую большую разницу в группа, количество человек с начальным образованием слишком мало, чтобы судить о всех людях, поэтому мы можем утверждать, что люди с высшим образованием чуть меньше имели задолжность по возврату кредита."
   ]
  },
  {
   "cell_type": "markdown",
   "metadata": {},
   "source": [
    "## Общий вывод"
   ]
  },
  {
   "cell_type": "markdown",
   "metadata": {},
   "source": [
    "В ходе работы были обнаружены множественные ошибки в данных, заполнены и обработаны. Для недопущения подобных ошибок, требуется провести рекомендательные работы по их устранению, описанные в работе. \n",
    "\n",
    "Результаты исследований:\n",
    "\n",
    "1. По предоставленным данным у клиентов с детьми и без есть различия в количестве задержек по кредиту, клиенты без детей возвращали кредит в срок чаще. Возможна зависимость.\n",
    "2. Разница в задержке по кредиту у клиентов с разным уровнем дохода небольшая, поэтому зависимоть маловероятна.\n",
    "3. Те кто брали кредит на автомобиль и на образование, кредит возвращали реже. Возможна зависимость.\n",
    "4. Люди с высшим образованием чуть меньше имели задолжность по возврату кредита. Возможна зависимость.\n",
    "\n",
    "Для более точных выводов требуется проверка гипотиз статистическими методами."
   ]
  }
 ],
 "metadata": {
  "ExecuteTimeLog": [
   {
    "duration": 1100,
    "start_time": "2022-01-17T11:32:02.962Z"
   },
   {
    "duration": 94,
    "start_time": "2022-01-17T11:36:27.416Z"
   },
   {
    "duration": 563,
    "start_time": "2022-01-17T12:27:51.783Z"
   },
   {
    "duration": 46,
    "start_time": "2022-01-17T12:28:11.424Z"
   },
   {
    "duration": 129,
    "start_time": "2022-01-17T12:28:42.956Z"
   },
   {
    "duration": 129,
    "start_time": "2022-01-17T12:29:11.683Z"
   },
   {
    "duration": 43,
    "start_time": "2022-01-17T12:29:15.044Z"
   },
   {
    "duration": 49,
    "start_time": "2022-01-17T12:39:20.643Z"
   },
   {
    "duration": 134,
    "start_time": "2022-01-17T13:29:13.445Z"
   },
   {
    "duration": 1402,
    "start_time": "2022-01-27T20:07:04.718Z"
   },
   {
    "duration": 2173,
    "start_time": "2022-01-27T20:07:06.122Z"
   },
   {
    "duration": -199,
    "start_time": "2022-01-27T20:07:08.556Z"
   },
   {
    "duration": -203,
    "start_time": "2022-01-27T20:07:08.561Z"
   },
   {
    "duration": -207,
    "start_time": "2022-01-27T20:07:08.567Z"
   },
   {
    "duration": -212,
    "start_time": "2022-01-27T20:07:08.573Z"
   },
   {
    "duration": -217,
    "start_time": "2022-01-27T20:07:08.579Z"
   },
   {
    "duration": -221,
    "start_time": "2022-01-27T20:07:08.584Z"
   },
   {
    "duration": -226,
    "start_time": "2022-01-27T20:07:08.590Z"
   },
   {
    "duration": -230,
    "start_time": "2022-01-27T20:07:08.596Z"
   },
   {
    "duration": -233,
    "start_time": "2022-01-27T20:07:08.600Z"
   },
   {
    "duration": -247,
    "start_time": "2022-01-27T20:07:08.615Z"
   },
   {
    "duration": -251,
    "start_time": "2022-01-27T20:07:08.620Z"
   },
   {
    "duration": -258,
    "start_time": "2022-01-27T20:07:08.628Z"
   },
   {
    "duration": -262,
    "start_time": "2022-01-27T20:07:08.633Z"
   },
   {
    "duration": -267,
    "start_time": "2022-01-27T20:07:08.639Z"
   },
   {
    "duration": -271,
    "start_time": "2022-01-27T20:07:08.645Z"
   },
   {
    "duration": -275,
    "start_time": "2022-01-27T20:07:08.650Z"
   },
   {
    "duration": -280,
    "start_time": "2022-01-27T20:07:08.656Z"
   },
   {
    "duration": -264,
    "start_time": "2022-01-27T20:07:08.662Z"
   },
   {
    "duration": -268,
    "start_time": "2022-01-27T20:07:08.667Z"
   },
   {
    "duration": -273,
    "start_time": "2022-01-27T20:07:08.673Z"
   },
   {
    "duration": -276,
    "start_time": "2022-01-27T20:07:08.677Z"
   },
   {
    "duration": -280,
    "start_time": "2022-01-27T20:07:08.682Z"
   },
   {
    "duration": -284,
    "start_time": "2022-01-27T20:07:08.687Z"
   },
   {
    "duration": -304,
    "start_time": "2022-01-27T20:07:08.708Z"
   },
   {
    "duration": -309,
    "start_time": "2022-01-27T20:07:08.714Z"
   },
   {
    "duration": -314,
    "start_time": "2022-01-27T20:07:08.719Z"
   },
   {
    "duration": -319,
    "start_time": "2022-01-27T20:07:08.725Z"
   },
   {
    "duration": -330,
    "start_time": "2022-01-27T20:07:08.737Z"
   },
   {
    "duration": -343,
    "start_time": "2022-01-27T20:07:08.751Z"
   },
   {
    "duration": -349,
    "start_time": "2022-01-27T20:07:08.758Z"
   },
   {
    "duration": -360,
    "start_time": "2022-01-27T20:07:08.770Z"
   },
   {
    "duration": -373,
    "start_time": "2022-01-27T20:07:08.784Z"
   },
   {
    "duration": -379,
    "start_time": "2022-01-27T20:07:08.791Z"
   },
   {
    "duration": -385,
    "start_time": "2022-01-27T20:07:08.797Z"
   },
   {
    "duration": -389,
    "start_time": "2022-01-27T20:07:08.802Z"
   },
   {
    "duration": -528,
    "start_time": "2022-01-27T20:07:08.942Z"
   },
   {
    "duration": -802,
    "start_time": "2022-01-27T20:07:09.217Z"
   },
   {
    "duration": -807,
    "start_time": "2022-01-27T20:07:09.222Z"
   },
   {
    "duration": -811,
    "start_time": "2022-01-27T20:07:09.227Z"
   },
   {
    "duration": -815,
    "start_time": "2022-01-27T20:07:09.232Z"
   },
   {
    "duration": -818,
    "start_time": "2022-01-27T20:07:09.236Z"
   },
   {
    "duration": -822,
    "start_time": "2022-01-27T20:07:09.241Z"
   },
   {
    "duration": -833,
    "start_time": "2022-01-27T20:07:09.253Z"
   },
   {
    "duration": -837,
    "start_time": "2022-01-27T20:07:09.258Z"
   },
   {
    "duration": -841,
    "start_time": "2022-01-27T20:07:09.262Z"
   },
   {
    "duration": -845,
    "start_time": "2022-01-27T20:07:09.267Z"
   },
   {
    "duration": -849,
    "start_time": "2022-01-27T20:07:09.272Z"
   },
   {
    "duration": -853,
    "start_time": "2022-01-27T20:07:09.277Z"
   },
   {
    "duration": -857,
    "start_time": "2022-01-27T20:07:09.282Z"
   },
   {
    "duration": -860,
    "start_time": "2022-01-27T20:07:09.286Z"
   },
   {
    "duration": -865,
    "start_time": "2022-01-27T20:07:09.292Z"
   },
   {
    "duration": -869,
    "start_time": "2022-01-27T20:07:09.297Z"
   },
   {
    "duration": -872,
    "start_time": "2022-01-27T20:07:09.301Z"
   },
   {
    "duration": -877,
    "start_time": "2022-01-27T20:07:09.307Z"
   },
   {
    "duration": -882,
    "start_time": "2022-01-27T20:07:09.312Z"
   },
   {
    "duration": -1558,
    "start_time": "2022-01-27T20:07:09.989Z"
   },
   {
    "duration": -1561,
    "start_time": "2022-01-27T20:07:09.993Z"
   },
   {
    "duration": -1565,
    "start_time": "2022-01-27T20:07:09.998Z"
   },
   {
    "duration": -1569,
    "start_time": "2022-01-27T20:07:10.003Z"
   },
   {
    "duration": -1573,
    "start_time": "2022-01-27T20:07:10.008Z"
   },
   {
    "duration": -1577,
    "start_time": "2022-01-27T20:07:10.013Z"
   },
   {
    "duration": -1581,
    "start_time": "2022-01-27T20:07:10.018Z"
   },
   {
    "duration": -1525,
    "start_time": "2022-01-27T20:07:10.023Z"
   },
   {
    "duration": -1529,
    "start_time": "2022-01-27T20:07:10.028Z"
   },
   {
    "duration": -1532,
    "start_time": "2022-01-27T20:07:10.032Z"
   },
   {
    "duration": -1537,
    "start_time": "2022-01-27T20:07:10.038Z"
   },
   {
    "duration": -1540,
    "start_time": "2022-01-27T20:07:10.042Z"
   },
   {
    "duration": -1544,
    "start_time": "2022-01-27T20:07:10.047Z"
   },
   {
    "duration": -1548,
    "start_time": "2022-01-27T20:07:10.052Z"
   },
   {
    "duration": -1561,
    "start_time": "2022-01-27T20:07:10.067Z"
   },
   {
    "duration": -1567,
    "start_time": "2022-01-27T20:07:10.074Z"
   },
   {
    "duration": -1571,
    "start_time": "2022-01-27T20:07:10.079Z"
   },
   {
    "duration": -1574,
    "start_time": "2022-01-27T20:07:10.083Z"
   },
   {
    "duration": -1579,
    "start_time": "2022-01-27T20:07:10.089Z"
   },
   {
    "duration": -1583,
    "start_time": "2022-01-27T20:07:10.094Z"
   },
   {
    "duration": -1586,
    "start_time": "2022-01-27T20:07:10.099Z"
   },
   {
    "duration": -1591,
    "start_time": "2022-01-27T20:07:10.104Z"
   },
   {
    "duration": -1595,
    "start_time": "2022-01-27T20:07:10.109Z"
   },
   {
    "duration": -1598,
    "start_time": "2022-01-27T20:07:10.113Z"
   },
   {
    "duration": -1602,
    "start_time": "2022-01-27T20:07:10.118Z"
   },
   {
    "duration": -1606,
    "start_time": "2022-01-27T20:07:10.123Z"
   },
   {
    "duration": -1610,
    "start_time": "2022-01-27T20:07:10.128Z"
   },
   {
    "duration": -1614,
    "start_time": "2022-01-27T20:07:10.133Z"
   },
   {
    "duration": -1618,
    "start_time": "2022-01-27T20:07:10.138Z"
   },
   {
    "duration": -1622,
    "start_time": "2022-01-27T20:07:10.143Z"
   },
   {
    "duration": -1626,
    "start_time": "2022-01-27T20:07:10.149Z"
   },
   {
    "duration": -1648,
    "start_time": "2022-01-27T20:07:10.172Z"
   },
   {
    "duration": -1661,
    "start_time": "2022-01-27T20:07:10.187Z"
   },
   {
    "duration": -1675,
    "start_time": "2022-01-27T20:07:10.203Z"
   },
   {
    "duration": -1715,
    "start_time": "2022-01-27T20:07:10.245Z"
   },
   {
    "duration": -1739,
    "start_time": "2022-01-27T20:07:10.270Z"
   },
   {
    "duration": -1757,
    "start_time": "2022-01-27T20:07:10.290Z"
   },
   {
    "duration": -1775,
    "start_time": "2022-01-27T20:07:10.309Z"
   },
   {
    "duration": -1803,
    "start_time": "2022-01-27T20:07:10.339Z"
   },
   {
    "duration": -1810,
    "start_time": "2022-01-27T20:07:10.347Z"
   },
   {
    "duration": 1336,
    "start_time": "2022-01-27T20:07:47.472Z"
   },
   {
    "duration": 127,
    "start_time": "2022-01-27T20:07:48.809Z"
   },
   {
    "duration": 30,
    "start_time": "2022-01-27T20:07:48.938Z"
   },
   {
    "duration": 45,
    "start_time": "2022-01-27T20:07:48.970Z"
   },
   {
    "duration": 246,
    "start_time": "2022-01-27T20:07:49.017Z"
   },
   {
    "duration": 283,
    "start_time": "2022-01-27T20:07:49.265Z"
   },
   {
    "duration": 7,
    "start_time": "2022-01-27T20:07:49.549Z"
   },
   {
    "duration": 12,
    "start_time": "2022-01-27T20:07:49.559Z"
   },
   {
    "duration": 396,
    "start_time": "2022-01-27T20:07:49.573Z"
   },
   {
    "duration": 9,
    "start_time": "2022-01-27T20:07:49.971Z"
   },
   {
    "duration": 279,
    "start_time": "2022-01-27T20:07:49.982Z"
   },
   {
    "duration": 3,
    "start_time": "2022-01-27T20:07:50.263Z"
   },
   {
    "duration": 244,
    "start_time": "2022-01-27T20:07:50.268Z"
   },
   {
    "duration": 233,
    "start_time": "2022-01-27T20:07:50.514Z"
   },
   {
    "duration": 33,
    "start_time": "2022-01-27T20:07:50.749Z"
   },
   {
    "duration": 256,
    "start_time": "2022-01-27T20:07:50.784Z"
   },
   {
    "duration": 6,
    "start_time": "2022-01-27T20:07:51.042Z"
   },
   {
    "duration": 14,
    "start_time": "2022-01-27T20:07:51.050Z"
   },
   {
    "duration": 6,
    "start_time": "2022-01-27T20:07:51.066Z"
   },
   {
    "duration": 27,
    "start_time": "2022-01-27T20:07:51.074Z"
   },
   {
    "duration": 598,
    "start_time": "2022-01-27T20:07:51.102Z"
   },
   {
    "duration": 347,
    "start_time": "2022-01-27T20:07:51.702Z"
   },
   {
    "duration": 12,
    "start_time": "2022-01-27T20:07:52.053Z"
   },
   {
    "duration": 8,
    "start_time": "2022-01-27T20:07:52.067Z"
   },
   {
    "duration": 30,
    "start_time": "2022-01-27T20:07:52.077Z"
   },
   {
    "duration": 11,
    "start_time": "2022-01-27T20:07:52.109Z"
   },
   {
    "duration": 5,
    "start_time": "2022-01-27T20:07:52.122Z"
   },
   {
    "duration": 23,
    "start_time": "2022-01-27T20:07:52.129Z"
   },
   {
    "duration": 11,
    "start_time": "2022-01-27T20:07:52.153Z"
   },
   {
    "duration": 57,
    "start_time": "2022-01-27T20:07:52.166Z"
   },
   {
    "duration": 5,
    "start_time": "2022-01-27T20:07:52.224Z"
   },
   {
    "duration": 10,
    "start_time": "2022-01-27T20:07:52.230Z"
   },
   {
    "duration": 312,
    "start_time": "2022-01-27T20:07:52.241Z"
   },
   {
    "duration": 11,
    "start_time": "2022-01-27T20:07:52.555Z"
   },
   {
    "duration": 251,
    "start_time": "2022-01-27T20:07:52.568Z"
   },
   {
    "duration": 8,
    "start_time": "2022-01-27T20:07:52.821Z"
   },
   {
    "duration": 10,
    "start_time": "2022-01-27T20:07:52.832Z"
   },
   {
    "duration": 6,
    "start_time": "2022-01-27T20:07:52.843Z"
   },
   {
    "duration": 12,
    "start_time": "2022-01-27T20:07:52.851Z"
   },
   {
    "duration": 39,
    "start_time": "2022-01-27T20:07:52.864Z"
   },
   {
    "duration": 15,
    "start_time": "2022-01-27T20:07:52.904Z"
   },
   {
    "duration": 6,
    "start_time": "2022-01-27T20:07:52.921Z"
   },
   {
    "duration": 8,
    "start_time": "2022-01-27T20:07:52.929Z"
   },
   {
    "duration": 5,
    "start_time": "2022-01-27T20:07:52.939Z"
   },
   {
    "duration": 7,
    "start_time": "2022-01-27T20:07:52.945Z"
   },
   {
    "duration": 47,
    "start_time": "2022-01-27T20:07:52.954Z"
   },
   {
    "duration": 6,
    "start_time": "2022-01-27T20:07:53.003Z"
   },
   {
    "duration": 370,
    "start_time": "2022-01-27T20:07:53.011Z"
   },
   {
    "duration": 36,
    "start_time": "2022-01-27T20:07:53.383Z"
   },
   {
    "duration": 11,
    "start_time": "2022-01-27T20:07:53.421Z"
   },
   {
    "duration": 251,
    "start_time": "2022-01-27T20:07:53.434Z"
   },
   {
    "duration": 241,
    "start_time": "2022-01-27T20:07:53.687Z"
   },
   {
    "duration": 5,
    "start_time": "2022-01-27T20:07:53.929Z"
   },
   {
    "duration": 11,
    "start_time": "2022-01-27T20:07:53.936Z"
   },
   {
    "duration": 255,
    "start_time": "2022-01-27T20:07:53.949Z"
   },
   {
    "duration": 14,
    "start_time": "2022-01-27T20:07:54.205Z"
   },
   {
    "duration": 9,
    "start_time": "2022-01-27T20:07:54.220Z"
   },
   {
    "duration": 16,
    "start_time": "2022-01-27T20:07:54.230Z"
   },
   {
    "duration": 60,
    "start_time": "2022-01-27T20:07:54.247Z"
   },
   {
    "duration": 5,
    "start_time": "2022-01-27T20:07:54.308Z"
   },
   {
    "duration": 17,
    "start_time": "2022-01-27T20:07:54.314Z"
   },
   {
    "duration": 10,
    "start_time": "2022-01-27T20:07:54.333Z"
   },
   {
    "duration": 26,
    "start_time": "2022-01-27T20:07:54.344Z"
   },
   {
    "duration": 36,
    "start_time": "2022-01-27T20:07:54.372Z"
   },
   {
    "duration": 10,
    "start_time": "2022-01-27T20:07:54.410Z"
   },
   {
    "duration": 17,
    "start_time": "2022-01-27T20:07:54.422Z"
   },
   {
    "duration": 2569,
    "start_time": "2022-01-27T20:07:54.441Z"
   },
   {
    "duration": 6,
    "start_time": "2022-01-27T20:07:57.015Z"
   },
   {
    "duration": 380,
    "start_time": "2022-01-27T20:07:57.023Z"
   },
   {
    "duration": -284,
    "start_time": "2022-01-27T20:07:57.689Z"
   },
   {
    "duration": -290,
    "start_time": "2022-01-27T20:07:57.696Z"
   },
   {
    "duration": -294,
    "start_time": "2022-01-27T20:07:57.701Z"
   },
   {
    "duration": -309,
    "start_time": "2022-01-27T20:07:57.718Z"
   },
   {
    "duration": -313,
    "start_time": "2022-01-27T20:07:57.723Z"
   },
   {
    "duration": -319,
    "start_time": "2022-01-27T20:07:57.730Z"
   },
   {
    "duration": -323,
    "start_time": "2022-01-27T20:07:57.735Z"
   },
   {
    "duration": -328,
    "start_time": "2022-01-27T20:07:57.741Z"
   },
   {
    "duration": -333,
    "start_time": "2022-01-27T20:07:57.747Z"
   },
   {
    "duration": -338,
    "start_time": "2022-01-27T20:07:57.753Z"
   },
   {
    "duration": -342,
    "start_time": "2022-01-27T20:07:57.758Z"
   },
   {
    "duration": -347,
    "start_time": "2022-01-27T20:07:57.764Z"
   },
   {
    "duration": -351,
    "start_time": "2022-01-27T20:07:57.769Z"
   },
   {
    "duration": -356,
    "start_time": "2022-01-27T20:07:57.775Z"
   },
   {
    "duration": -360,
    "start_time": "2022-01-27T20:07:57.780Z"
   },
   {
    "duration": -363,
    "start_time": "2022-01-27T20:07:57.785Z"
   },
   {
    "duration": -368,
    "start_time": "2022-01-27T20:07:57.792Z"
   },
   {
    "duration": -373,
    "start_time": "2022-01-27T20:07:57.798Z"
   },
   {
    "duration": -377,
    "start_time": "2022-01-27T20:07:57.803Z"
   },
   {
    "duration": -382,
    "start_time": "2022-01-27T20:07:57.809Z"
   },
   {
    "duration": -386,
    "start_time": "2022-01-27T20:07:57.814Z"
   },
   {
    "duration": -399,
    "start_time": "2022-01-27T20:07:57.829Z"
   },
   {
    "duration": -403,
    "start_time": "2022-01-27T20:07:57.834Z"
   },
   {
    "duration": -407,
    "start_time": "2022-01-27T20:07:57.839Z"
   },
   {
    "duration": -413,
    "start_time": "2022-01-27T20:07:57.846Z"
   },
   {
    "duration": -418,
    "start_time": "2022-01-27T20:07:57.852Z"
   },
   {
    "duration": -422,
    "start_time": "2022-01-27T20:07:57.857Z"
   },
   {
    "duration": -426,
    "start_time": "2022-01-27T20:07:57.862Z"
   },
   {
    "duration": 1847,
    "start_time": "2022-01-27T20:09:10.470Z"
   },
   {
    "duration": -178,
    "start_time": "2022-01-27T20:09:12.500Z"
   },
   {
    "duration": -184,
    "start_time": "2022-01-27T20:09:12.507Z"
   },
   {
    "duration": -214,
    "start_time": "2022-01-27T20:09:12.538Z"
   },
   {
    "duration": -219,
    "start_time": "2022-01-27T20:09:12.544Z"
   },
   {
    "duration": -225,
    "start_time": "2022-01-27T20:09:12.551Z"
   },
   {
    "duration": -229,
    "start_time": "2022-01-27T20:09:12.556Z"
   },
   {
    "duration": -233,
    "start_time": "2022-01-27T20:09:12.561Z"
   },
   {
    "duration": -238,
    "start_time": "2022-01-27T20:09:12.567Z"
   },
   {
    "duration": -244,
    "start_time": "2022-01-27T20:09:12.573Z"
   },
   {
    "duration": -248,
    "start_time": "2022-01-27T20:09:12.578Z"
   },
   {
    "duration": -260,
    "start_time": "2022-01-27T20:09:12.591Z"
   },
   {
    "duration": -266,
    "start_time": "2022-01-27T20:09:12.598Z"
   },
   {
    "duration": -271,
    "start_time": "2022-01-27T20:09:12.604Z"
   },
   {
    "duration": -276,
    "start_time": "2022-01-27T20:09:12.610Z"
   },
   {
    "duration": -280,
    "start_time": "2022-01-27T20:09:12.615Z"
   },
   {
    "duration": -285,
    "start_time": "2022-01-27T20:09:12.621Z"
   },
   {
    "duration": -289,
    "start_time": "2022-01-27T20:09:12.626Z"
   },
   {
    "duration": -294,
    "start_time": "2022-01-27T20:09:12.632Z"
   },
   {
    "duration": -298,
    "start_time": "2022-01-27T20:09:12.637Z"
   },
   {
    "duration": -302,
    "start_time": "2022-01-27T20:09:12.642Z"
   },
   {
    "duration": -307,
    "start_time": "2022-01-27T20:09:12.648Z"
   },
   {
    "duration": -311,
    "start_time": "2022-01-27T20:09:12.653Z"
   },
   {
    "duration": -315,
    "start_time": "2022-01-27T20:09:12.658Z"
   },
   {
    "duration": -321,
    "start_time": "2022-01-27T20:09:12.664Z"
   },
   {
    "duration": -324,
    "start_time": "2022-01-27T20:09:12.668Z"
   },
   {
    "duration": -329,
    "start_time": "2022-01-27T20:09:12.674Z"
   },
   {
    "duration": -333,
    "start_time": "2022-01-27T20:09:12.680Z"
   },
   {
    "duration": -337,
    "start_time": "2022-01-27T20:09:12.685Z"
   },
   {
    "duration": -352,
    "start_time": "2022-01-27T20:09:12.701Z"
   },
   {
    "duration": -357,
    "start_time": "2022-01-27T20:09:12.706Z"
   },
   {
    "duration": -362,
    "start_time": "2022-01-27T20:09:12.712Z"
   },
   {
    "duration": -367,
    "start_time": "2022-01-27T20:09:12.718Z"
   },
   {
    "duration": -372,
    "start_time": "2022-01-27T20:09:12.724Z"
   },
   {
    "duration": -377,
    "start_time": "2022-01-27T20:09:12.730Z"
   },
   {
    "duration": -381,
    "start_time": "2022-01-27T20:09:12.735Z"
   },
   {
    "duration": -385,
    "start_time": "2022-01-27T20:09:12.740Z"
   },
   {
    "duration": -388,
    "start_time": "2022-01-27T20:09:12.744Z"
   },
   {
    "duration": -394,
    "start_time": "2022-01-27T20:09:12.750Z"
   },
   {
    "duration": -397,
    "start_time": "2022-01-27T20:09:12.754Z"
   },
   {
    "duration": -362,
    "start_time": "2022-01-27T20:09:12.760Z"
   },
   {
    "duration": -364,
    "start_time": "2022-01-27T20:09:12.764Z"
   },
   {
    "duration": -369,
    "start_time": "2022-01-27T20:09:12.770Z"
   },
   {
    "duration": -374,
    "start_time": "2022-01-27T20:09:12.776Z"
   },
   {
    "duration": -433,
    "start_time": "2022-01-27T20:09:12.835Z"
   },
   {
    "duration": -437,
    "start_time": "2022-01-27T20:09:12.840Z"
   },
   {
    "duration": -443,
    "start_time": "2022-01-27T20:09:12.847Z"
   },
   {
    "duration": -486,
    "start_time": "2022-01-27T20:09:12.891Z"
   },
   {
    "duration": -491,
    "start_time": "2022-01-27T20:09:12.897Z"
   },
   {
    "duration": -495,
    "start_time": "2022-01-27T20:09:12.902Z"
   },
   {
    "duration": -544,
    "start_time": "2022-01-27T20:09:12.952Z"
   },
   {
    "duration": -549,
    "start_time": "2022-01-27T20:09:12.958Z"
   },
   {
    "duration": -1089,
    "start_time": "2022-01-27T20:09:13.499Z"
   },
   {
    "duration": -1093,
    "start_time": "2022-01-27T20:09:13.504Z"
   },
   {
    "duration": -1097,
    "start_time": "2022-01-27T20:09:13.509Z"
   },
   {
    "duration": -1101,
    "start_time": "2022-01-27T20:09:13.514Z"
   },
   {
    "duration": -1106,
    "start_time": "2022-01-27T20:09:13.520Z"
   },
   {
    "duration": -1121,
    "start_time": "2022-01-27T20:09:13.536Z"
   },
   {
    "duration": -1128,
    "start_time": "2022-01-27T20:09:13.543Z"
   },
   {
    "duration": -1133,
    "start_time": "2022-01-27T20:09:13.549Z"
   },
   {
    "duration": -1138,
    "start_time": "2022-01-27T20:09:13.555Z"
   },
   {
    "duration": -1141,
    "start_time": "2022-01-27T20:09:13.559Z"
   },
   {
    "duration": -1146,
    "start_time": "2022-01-27T20:09:13.565Z"
   },
   {
    "duration": -1168,
    "start_time": "2022-01-27T20:09:13.588Z"
   },
   {
    "duration": -1172,
    "start_time": "2022-01-27T20:09:13.593Z"
   },
   {
    "duration": -1178,
    "start_time": "2022-01-27T20:09:13.600Z"
   },
   {
    "duration": -1204,
    "start_time": "2022-01-27T20:09:13.627Z"
   },
   {
    "duration": -1221,
    "start_time": "2022-01-27T20:09:13.645Z"
   },
   {
    "duration": -1253,
    "start_time": "2022-01-27T20:09:13.678Z"
   },
   {
    "duration": -1270,
    "start_time": "2022-01-27T20:09:13.696Z"
   },
   {
    "duration": -1288,
    "start_time": "2022-01-27T20:09:13.716Z"
   },
   {
    "duration": -1303,
    "start_time": "2022-01-27T20:09:13.732Z"
   },
   {
    "duration": -1333,
    "start_time": "2022-01-27T20:09:13.763Z"
   },
   {
    "duration": -1338,
    "start_time": "2022-01-27T20:09:13.770Z"
   },
   {
    "duration": -1342,
    "start_time": "2022-01-27T20:09:13.775Z"
   },
   {
    "duration": -1347,
    "start_time": "2022-01-27T20:09:13.781Z"
   },
   {
    "duration": -1351,
    "start_time": "2022-01-27T20:09:13.786Z"
   },
   {
    "duration": -1355,
    "start_time": "2022-01-27T20:09:13.791Z"
   },
   {
    "duration": -1360,
    "start_time": "2022-01-27T20:09:13.797Z"
   },
   {
    "duration": -1305,
    "start_time": "2022-01-27T20:09:13.803Z"
   },
   {
    "duration": -1308,
    "start_time": "2022-01-27T20:09:13.808Z"
   },
   {
    "duration": -1311,
    "start_time": "2022-01-27T20:09:13.812Z"
   },
   {
    "duration": -1315,
    "start_time": "2022-01-27T20:09:13.817Z"
   },
   {
    "duration": -1319,
    "start_time": "2022-01-27T20:09:13.822Z"
   },
   {
    "duration": -1323,
    "start_time": "2022-01-27T20:09:13.827Z"
   },
   {
    "duration": -1325,
    "start_time": "2022-01-27T20:09:13.831Z"
   },
   {
    "duration": -1330,
    "start_time": "2022-01-27T20:09:13.837Z"
   },
   {
    "duration": -1333,
    "start_time": "2022-01-27T20:09:13.841Z"
   },
   {
    "duration": -1338,
    "start_time": "2022-01-27T20:09:13.847Z"
   },
   {
    "duration": -1348,
    "start_time": "2022-01-27T20:09:13.858Z"
   },
   {
    "duration": -1413,
    "start_time": "2022-01-27T20:09:13.924Z"
   },
   {
    "duration": -1459,
    "start_time": "2022-01-27T20:09:13.971Z"
   },
   {
    "duration": -1494,
    "start_time": "2022-01-27T20:09:14.007Z"
   },
   {
    "duration": -1498,
    "start_time": "2022-01-27T20:09:14.012Z"
   },
   {
    "duration": -1502,
    "start_time": "2022-01-27T20:09:14.017Z"
   },
   {
    "duration": -1505,
    "start_time": "2022-01-27T20:09:14.022Z"
   },
   {
    "duration": -1509,
    "start_time": "2022-01-27T20:09:14.027Z"
   },
   {
    "duration": 3174,
    "start_time": "2022-01-27T21:01:44.497Z"
   },
   {
    "duration": 167,
    "start_time": "2022-01-27T21:01:47.673Z"
   },
   {
    "duration": 57,
    "start_time": "2022-01-27T21:01:47.843Z"
   },
   {
    "duration": 68,
    "start_time": "2022-01-27T21:01:47.903Z"
   },
   {
    "duration": 379,
    "start_time": "2022-01-27T21:01:47.973Z"
   },
   {
    "duration": 440,
    "start_time": "2022-01-27T21:01:48.354Z"
   },
   {
    "duration": 8,
    "start_time": "2022-01-27T21:01:48.796Z"
   },
   {
    "duration": 21,
    "start_time": "2022-01-27T21:01:48.808Z"
   },
   {
    "duration": 689,
    "start_time": "2022-01-27T21:01:48.832Z"
   },
   {
    "duration": 18,
    "start_time": "2022-01-27T21:01:49.523Z"
   },
   {
    "duration": 425,
    "start_time": "2022-01-27T21:01:49.544Z"
   },
   {
    "duration": 4,
    "start_time": "2022-01-27T21:01:49.971Z"
   },
   {
    "duration": 418,
    "start_time": "2022-01-27T21:01:49.977Z"
   },
   {
    "duration": 404,
    "start_time": "2022-01-27T21:01:50.397Z"
   },
   {
    "duration": 49,
    "start_time": "2022-01-27T21:01:50.804Z"
   },
   {
    "duration": 382,
    "start_time": "2022-01-27T21:01:50.855Z"
   },
   {
    "duration": 10,
    "start_time": "2022-01-27T21:01:51.240Z"
   },
   {
    "duration": 33,
    "start_time": "2022-01-27T21:01:51.252Z"
   },
   {
    "duration": 10,
    "start_time": "2022-01-27T21:01:51.287Z"
   },
   {
    "duration": 9,
    "start_time": "2022-01-27T21:01:51.299Z"
   },
   {
    "duration": 1346,
    "start_time": "2022-01-27T21:01:51.310Z"
   },
   {
    "duration": 919,
    "start_time": "2022-01-27T21:01:52.659Z"
   },
   {
    "duration": 16,
    "start_time": "2022-01-27T21:01:53.584Z"
   },
   {
    "duration": 7,
    "start_time": "2022-01-27T21:01:53.604Z"
   },
   {
    "duration": 22,
    "start_time": "2022-01-27T21:01:53.669Z"
   },
   {
    "duration": 17,
    "start_time": "2022-01-27T21:01:53.693Z"
   },
   {
    "duration": 7,
    "start_time": "2022-01-27T21:01:53.713Z"
   },
   {
    "duration": 71,
    "start_time": "2022-01-27T21:01:53.722Z"
   },
   {
    "duration": 18,
    "start_time": "2022-01-27T21:01:53.795Z"
   },
   {
    "duration": 55,
    "start_time": "2022-01-27T21:01:53.815Z"
   },
   {
    "duration": 7,
    "start_time": "2022-01-27T21:01:53.873Z"
   },
   {
    "duration": 11,
    "start_time": "2022-01-27T21:01:53.883Z"
   },
   {
    "duration": 606,
    "start_time": "2022-01-27T21:01:53.896Z"
   },
   {
    "duration": 16,
    "start_time": "2022-01-27T21:01:54.504Z"
   },
   {
    "duration": 361,
    "start_time": "2022-01-27T21:01:54.523Z"
   },
   {
    "duration": 14,
    "start_time": "2022-01-27T21:01:54.887Z"
   },
   {
    "duration": 13,
    "start_time": "2022-01-27T21:01:54.904Z"
   },
   {
    "duration": 9,
    "start_time": "2022-01-27T21:01:54.919Z"
   },
   {
    "duration": 52,
    "start_time": "2022-01-27T21:01:54.930Z"
   },
   {
    "duration": 11,
    "start_time": "2022-01-27T21:01:54.984Z"
   },
   {
    "duration": 12,
    "start_time": "2022-01-27T21:01:54.997Z"
   },
   {
    "duration": 8,
    "start_time": "2022-01-27T21:01:55.012Z"
   },
   {
    "duration": 49,
    "start_time": "2022-01-27T21:01:55.022Z"
   },
   {
    "duration": 8,
    "start_time": "2022-01-27T21:01:55.073Z"
   },
   {
    "duration": 9,
    "start_time": "2022-01-27T21:01:55.084Z"
   },
   {
    "duration": 19,
    "start_time": "2022-01-27T21:01:55.095Z"
   },
   {
    "duration": 8,
    "start_time": "2022-01-27T21:01:55.116Z"
   },
   {
    "duration": 619,
    "start_time": "2022-01-27T21:01:55.170Z"
   },
   {
    "duration": 46,
    "start_time": "2022-01-27T21:01:55.792Z"
   },
   {
    "duration": 35,
    "start_time": "2022-01-27T21:01:55.841Z"
   },
   {
    "duration": 354,
    "start_time": "2022-01-27T21:01:55.879Z"
   },
   {
    "duration": 350,
    "start_time": "2022-01-27T21:01:56.236Z"
   },
   {
    "duration": 6,
    "start_time": "2022-01-27T21:01:56.589Z"
   },
   {
    "duration": 14,
    "start_time": "2022-01-27T21:01:56.597Z"
   },
   {
    "duration": 408,
    "start_time": "2022-01-27T21:01:56.613Z"
   },
   {
    "duration": 19,
    "start_time": "2022-01-27T21:01:57.023Z"
   },
   {
    "duration": 29,
    "start_time": "2022-01-27T21:01:57.045Z"
   },
   {
    "duration": 24,
    "start_time": "2022-01-27T21:01:57.077Z"
   },
   {
    "duration": 74,
    "start_time": "2022-01-27T21:01:57.103Z"
   },
   {
    "duration": 8,
    "start_time": "2022-01-27T21:01:57.180Z"
   },
   {
    "duration": 20,
    "start_time": "2022-01-27T21:01:57.191Z"
   },
   {
    "duration": 56,
    "start_time": "2022-01-27T21:01:57.214Z"
   },
   {
    "duration": 46,
    "start_time": "2022-01-27T21:01:57.273Z"
   },
   {
    "duration": 47,
    "start_time": "2022-01-27T21:01:57.323Z"
   },
   {
    "duration": 19,
    "start_time": "2022-01-27T21:01:57.374Z"
   },
   {
    "duration": 31,
    "start_time": "2022-01-27T21:01:57.396Z"
   },
   {
    "duration": 3643,
    "start_time": "2022-01-27T21:01:57.429Z"
   },
   {
    "duration": 8,
    "start_time": "2022-01-27T21:02:01.081Z"
   },
   {
    "duration": 581,
    "start_time": "2022-01-27T21:02:01.093Z"
   },
   {
    "duration": 10715,
    "start_time": "2022-01-27T21:02:01.677Z"
   },
   {
    "duration": 7,
    "start_time": "2022-01-27T21:02:12.395Z"
   },
   {
    "duration": 21,
    "start_time": "2022-01-27T21:02:12.404Z"
   },
   {
    "duration": 7,
    "start_time": "2022-01-27T21:02:12.427Z"
   },
   {
    "duration": 42,
    "start_time": "2022-01-27T21:02:12.436Z"
   },
   {
    "duration": 10,
    "start_time": "2022-01-27T21:02:12.481Z"
   },
   {
    "duration": 11,
    "start_time": "2022-01-27T21:02:12.494Z"
   },
   {
    "duration": 3670,
    "start_time": "2022-01-27T21:02:12.507Z"
   },
   {
    "duration": 7,
    "start_time": "2022-01-27T21:02:16.179Z"
   },
   {
    "duration": 7,
    "start_time": "2022-01-27T21:02:16.189Z"
   },
   {
    "duration": 7,
    "start_time": "2022-01-27T21:02:16.199Z"
   },
   {
    "duration": 28,
    "start_time": "2022-01-27T21:02:16.208Z"
   },
   {
    "duration": 40,
    "start_time": "2022-01-27T21:02:16.238Z"
   },
   {
    "duration": 5,
    "start_time": "2022-01-27T21:02:16.280Z"
   },
   {
    "duration": 546,
    "start_time": "2022-01-27T21:02:16.287Z"
   },
   {
    "duration": 9,
    "start_time": "2022-01-27T21:02:16.836Z"
   },
   {
    "duration": 29,
    "start_time": "2022-01-27T21:02:16.847Z"
   },
   {
    "duration": 5,
    "start_time": "2022-01-27T21:02:16.878Z"
   },
   {
    "duration": 554,
    "start_time": "2022-01-27T21:02:16.885Z"
   },
   {
    "duration": 10,
    "start_time": "2022-01-27T21:02:17.441Z"
   },
   {
    "duration": 10,
    "start_time": "2022-01-27T21:02:17.470Z"
   },
   {
    "duration": 715,
    "start_time": "2022-01-27T21:02:17.483Z"
   },
   {
    "duration": 24,
    "start_time": "2022-01-27T21:02:18.201Z"
   },
   {
    "duration": 472,
    "start_time": "2022-01-27T21:02:18.227Z"
   },
   {
    "duration": 35,
    "start_time": "2022-01-27T21:02:18.701Z"
   },
   {
    "duration": 48,
    "start_time": "2022-01-27T21:02:18.739Z"
   },
   {
    "duration": 29,
    "start_time": "2022-01-27T21:02:18.789Z"
   },
   {
    "duration": 56,
    "start_time": "2022-01-27T21:02:18.820Z"
   }
  ],
  "hide_input": false,
  "kernelspec": {
   "display_name": "Python 3 (ipykernel)",
   "language": "python",
   "name": "python3"
  },
  "language_info": {
   "codemirror_mode": {
    "name": "ipython",
    "version": 3
   },
   "file_extension": ".py",
   "mimetype": "text/x-python",
   "name": "python",
   "nbconvert_exporter": "python",
   "pygments_lexer": "ipython3",
   "version": "3.10.2"
  },
  "toc": {
   "base_numbering": "1",
   "nav_menu": {
    "height": "379px",
    "width": "339px"
   },
   "number_sections": false,
   "sideBar": true,
   "skip_h1_title": true,
   "title_cell": "Содержание",
   "title_sidebar": "Contents",
   "toc_cell": true,
   "toc_position": {
    "height": "calc(100% - 180px)",
    "left": "10px",
    "top": "150px",
    "width": "280.825px"
   },
   "toc_section_display": true,
   "toc_window_display": true
  },
  "toc-autonumbering": false,
  "toc-showcode": false,
  "toc-showmarkdowntxt": false,
  "toc-showtags": false,
  "varInspector": {
   "cols": {
    "lenName": 16,
    "lenType": 16,
    "lenVar": 40
   },
   "kernels_config": {
    "python": {
     "delete_cmd_postfix": "",
     "delete_cmd_prefix": "del ",
     "library": "var_list.py",
     "varRefreshCmd": "print(var_dic_list())"
    },
    "r": {
     "delete_cmd_postfix": ") ",
     "delete_cmd_prefix": "rm(",
     "library": "var_list.r",
     "varRefreshCmd": "cat(var_dic_list()) "
    }
   },
   "types_to_exclude": [
    "module",
    "function",
    "builtin_function_or_method",
    "instance",
    "_Feature"
   ],
   "window_display": false
  }
 },
 "nbformat": 4,
 "nbformat_minor": 4
}
