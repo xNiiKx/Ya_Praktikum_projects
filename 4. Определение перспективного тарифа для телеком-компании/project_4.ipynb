{
 "cells": [
  {
   "cell_type": "markdown",
   "id": "7e8ff72a",
   "metadata": {},
   "source": [
    "# **Проект №4. Определение перспективного тарифа для телеком-компании** <a class=\"tocSkip\">"
   ]
  },
  {
   "cell_type": "markdown",
   "id": "531673d4",
   "metadata": {
    "toc": true
   },
   "source": [
    "<h1>Содержание<span class=\"tocSkip\"></span></h1>\n",
    "<div class=\"toc\"><ul class=\"toc-item\"><li><span><a href=\"#Импорт-библиотек\" data-toc-modified-id=\"Импорт-библиотек-1\">Импорт библиотек</a></span></li><li><span><a href=\"#Функции\" data-toc-modified-id=\"Функции-2\">Функции</a></span></li><li><span><a href=\"#Постановка-задачи\" data-toc-modified-id=\"Постановка-задачи-3\">Постановка задачи</a></span></li><li><span><a href=\"#Общая-информация-по-данным\" data-toc-modified-id=\"Общая-информация-по-данным-4\">Общая информация по данным</a></span><ul class=\"toc-item\"><li><span><a href=\"#Обзор-таблицы-users\" data-toc-modified-id=\"Обзор-таблицы-users-4.1\">Обзор таблицы <code>users</code></a></span></li><li><span><a href=\"#Обзор-таблицы-calls\" data-toc-modified-id=\"Обзор-таблицы-calls-4.2\">Обзор таблицы <code>calls</code></a></span></li><li><span><a href=\"#Обзор-таблицы-messages\" data-toc-modified-id=\"Обзор-таблицы-messages-4.3\">Обзор таблицы <code>messages</code></a></span></li><li><span><a href=\"#Обзор-таблицы-internet\" data-toc-modified-id=\"Обзор-таблицы-internet-4.4\">Обзор таблицы <code>internet</code></a></span></li><li><span><a href=\"#Обзор-таблицы-tariffs\" data-toc-modified-id=\"Обзор-таблицы-tariffs-4.5\">Обзор таблицы <code>tariffs</code></a></span></li><li><span><a href=\"#Вывод\" data-toc-modified-id=\"Вывод-4.6\">Вывод</a></span></li></ul></li><li><span><a href=\"#Подготовка-данных\" data-toc-modified-id=\"Подготовка-данных-5\">Подготовка данных</a></span><ul class=\"toc-item\"><li><span><a href=\"#Подготовка-users\" data-toc-modified-id=\"Подготовка-users-5.1\">Подготовка <code>users</code></a></span><ul class=\"toc-item\"><li><span><a href=\"#Очистка\" data-toc-modified-id=\"Очистка-5.1.1\">Очистка</a></span></li><li><span><a href=\"#Поиск-аномалий\" data-toc-modified-id=\"Поиск-аномалий-5.1.2\">Поиск аномалий</a></span></li><li><span><a href=\"#Изменение-типов-данных\" data-toc-modified-id=\"Изменение-типов-данных-5.1.3\">Изменение типов данных</a></span></li></ul></li><li><span><a href=\"#Подготовка-calls\" data-toc-modified-id=\"Подготовка-calls-5.2\">Подготовка <code>calls</code></a></span><ul class=\"toc-item\"><li><span><a href=\"#Очистка\" data-toc-modified-id=\"Очистка-5.2.1\">Очистка</a></span></li><li><span><a href=\"#Изменение-типа-данных\" data-toc-modified-id=\"Изменение-типа-данных-5.2.2\">Изменение типа данных</a></span></li><li><span><a href=\"#Поиск-аномалий\" data-toc-modified-id=\"Поиск-аномалий-5.2.3\">Поиск аномалий</a></span></li></ul></li><li><span><a href=\"#Подготовка-messages\" data-toc-modified-id=\"Подготовка-messages-5.3\">Подготовка <code>messages</code></a></span></li><li><span><a href=\"#Подготовка-internet\" data-toc-modified-id=\"Подготовка-internet-5.4\">Подготовка <code>internet</code></a></span></li><li><span><a href=\"#Подготовка-tariffs\" data-toc-modified-id=\"Подготовка-tariffs-5.5\">Подготовка <code>tariffs</code></a></span></li><li><span><a href=\"#Расчеты\" data-toc-modified-id=\"Расчеты-5.6\">Расчеты</a></span><ul class=\"toc-item\"><li><span><a href=\"#Подсчеты-calls\" data-toc-modified-id=\"Подсчеты-calls-5.6.1\">Подсчеты <code>calls</code></a></span></li><li><span><a href=\"#Подсчеты-messages\" data-toc-modified-id=\"Подсчеты-messages-5.6.2\">Подсчеты <code>messages</code></a></span></li><li><span><a href=\"#Подсчеты-internet\" data-toc-modified-id=\"Подсчеты-internet-5.6.3\">Подсчеты <code>internet</code></a></span></li></ul></li><li><span><a href=\"#Объединение-таблиц\" data-toc-modified-id=\"Объединение-таблиц-5.7\">Объединение таблиц</a></span></li><li><span><a href=\"#Расчет-выручки\" data-toc-modified-id=\"Расчет-выручки-5.8\">Расчет выручки</a></span></li><li><span><a href=\"#Вывод\" data-toc-modified-id=\"Вывод-5.9\">Вывод</a></span></li></ul></li><li><span><a href=\"#Анализ-данных\" data-toc-modified-id=\"Анализ-данных-6\">Анализ данных</a></span><ul class=\"toc-item\"><li><span><a href=\"#smart\" data-toc-modified-id=\"smart-6.1\"><code>smart</code></a></span></li><li><span><a href=\"#ultra\" data-toc-modified-id=\"ultra-6.2\"><code>ultra</code></a></span></li><li><span><a href=\"#Переплата\" data-toc-modified-id=\"Переплата-6.3\">Переплата</a></span></li><li><span><a href=\"#Вывод\" data-toc-modified-id=\"Вывод-6.4\">Вывод</a></span></li></ul></li><li><span><a href=\"#Проверка-гипотиз\" data-toc-modified-id=\"Проверка-гипотиз-7\">Проверка гипотиз</a></span><ul class=\"toc-item\"><li><span><a href=\"#Вывод\" data-toc-modified-id=\"Вывод-7.1\">Вывод</a></span></li></ul></li><li><span><a href=\"#Общий-вывод\" data-toc-modified-id=\"Общий-вывод-8\">Общий вывод</a></span></li></ul></div>"
   ]
  },
  {
   "cell_type": "markdown",
   "id": "c8d52850",
   "metadata": {},
   "source": [
    "# Импорт библиотек"
   ]
  },
  {
   "cell_type": "code",
   "execution_count": 1,
   "id": "4f4ed082",
   "metadata": {},
   "outputs": [],
   "source": [
    "import pandas as pd\n",
    "import numpy as np\n",
    "import seaborn as sns\n",
    "import matplotlib as mlt\n",
    "import matplotlib.pyplot as plt\n",
    "import math\n",
    "from datetime import datetime\n",
    "from scipy import stats as st\n",
    "\n",
    "%matplotlib inline\n",
    "plt.style.use('seaborn')\n",
    "sns.set(rc={'figure.figsize': (8, 4)})\n",
    "pd.set_option('display.float_format', '{:.2f}'.format)"
   ]
  },
  {
   "cell_type": "markdown",
   "id": "b8a04c81",
   "metadata": {},
   "source": [
    "# Функции"
   ]
  },
  {
   "cell_type": "code",
   "execution_count": 2,
   "id": "8d7a4af8-ad13-4499-9815-9b8272640ea4",
   "metadata": {},
   "outputs": [],
   "source": [
    "# Для проверки пропусков в колонках\n",
    "def inform_nan (df):\n",
    "    print('Число пропусков: ', df.isna().sum())\n",
    "    print(f'Процент пропусков: {df.isna().mean():.1%}')\n",
    "\n",
    "# Для проверки общей информации по таблице\n",
    "def info_data (df):\n",
    "    print('\\n', '\\033[1m'+'Общая информация по таблице:'+'\\033[0m')\n",
    "    try:\n",
    "        df.info(show_counts=False)\n",
    "    except:\n",
    "        df.info(null_counts=False)\n",
    "    print('\\n', 'Слуйчайные строки из таблицы:')\n",
    "    if df.shape[0] < 5:\n",
    "        display(df.sample(df.shape[0]))\n",
    "    else:\n",
    "        display(df.sample(5))\n",
    "    print('\\n', 'Статистика числовых параметров:')\n",
    "    display(df.describe().T)\n",
    "    print('\\n', 'Статистика строковых параметров:')\n",
    "    display(df.describe(include='object').T)\n",
    "\n",
    "    display(df.isna() \\\n",
    "              .agg(['sum', 'mean']).T \\\n",
    "              .rename(columns={'sum': 'Кол-во пропусков',\n",
    "                               'mean': '% пропусков'}) \\\n",
    "              .sort_values('% пропусков', ascending=False) \\\n",
    "              .style.format({'Кол-во пропусков': '{:,.0f}'.format,\n",
    "                             '% пропусков': '{:,.1%}'.format}))\n",
    "\n",
    "    print('\\n', 'Количество явных дубликатов:', df.duplicated().sum())"
   ]
  },
  {
   "cell_type": "markdown",
   "id": "41da2a5a",
   "metadata": {},
   "source": [
    "# Постановка задачи"
   ]
  },
  {
   "cell_type": "markdown",
   "id": "5df0f8e2",
   "metadata": {},
   "source": [
    "На этот раз мы примерим на себе роль аналитика компании «Мегалайн» — федерального оператора сотовой связи. Клиентам предлагают два тарифных плана: «Смарт» и «Ультра». Чтобы скорректировать рекламный бюджет, коммерческий департамент хочет понять, какой тариф приносит больше денег.\n",
    "\n",
    "Нам предстоит сделать предварительный анализ тарифов на небольшой выборке клиентов. В нашем распоряжении данные 500 пользователей «Мегалайна»: кто они, откуда, каким тарифом пользуются, сколько звонков и сообщений каждый отправил за 2018 год. Нужно проанализировать поведение клиентов и сделать вывод — какой тариф лучше."
   ]
  },
  {
   "cell_type": "markdown",
   "id": "2c822f1f",
   "metadata": {},
   "source": [
    "# Общая информация по данным"
   ]
  },
  {
   "cell_type": "markdown",
   "id": "5904de3d",
   "metadata": {},
   "source": [
    "В работе для анализа нам предоставлено 5 таблиц с информацией о тарифах и клиентах.\n",
    "\n",
    "Таблица `users` (информация о пользователях):\n",
    "- `user_id` — уникальный идентификатор пользователя\n",
    "- `first_name` — имя пользователя\n",
    "- `last_name` — фамилия пользователя\n",
    "- `age` — возраст пользователя (годы)\n",
    "- `reg_date` — дата подключения тарифа (день, месяц, год)\n",
    "- `churn_date` — дата прекращения пользования тарифом (если значение пропущено, то тариф ещё действовал на момент выгрузки данных)\n",
    "- `city` — город проживания пользователя\n",
    "- `tarif` — название тарифного плана\n",
    "\n",
    "\n",
    "Таблица `calls` (информация о звонках):\n",
    "- `id` — уникальный номер звонка\n",
    "- `message_date` — дата звонка\n",
    "- `duration` — длительность звонка в минутах\n",
    "- `user_id` — идентификатор пользователя, сделавшего звонок\n",
    "\n",
    "\n",
    "Таблица `messages` (информация о сообщениях):\n",
    "- `id` — уникальный номер сообщения\n",
    "- `message_date` — дата сообщения\n",
    "- `user_id` — идентификатор пользователя, отправившего сообщение\n",
    "\n",
    "\n",
    "Таблица `internet` (информация об интернет-сессиях):\n",
    "- `id` — уникальный номер сессии\n",
    "- `mb_used` — объём потраченного за сессию интернет-трафика (в мегабайтах)\n",
    "- `session_date` — дата интернет-сессии\n",
    "- `user_id` — идентификатор пользователя\n",
    "\n",
    "\n",
    "Таблица `tariffs` (информация о тарифах):\n",
    "- `tariff_name` — название тарифа\n",
    "- `rub_monthly_fee` — ежемесячная абонентская плата в рублях\n",
    "- `minutes_included` — количество минут разговора в месяц, включённых в абонентскую плату\n",
    "- `messages_included` — количество сообщений в месяц, включённых в абонентскую плату\n",
    "- `mb_per_month_included` — объём интернет-трафика, включённого в абонентскую плату (в мегабайтах)\n",
    "- `rub_per_minute` — стоимость минуты разговора сверх тарифного пакета (например, если в тарифе 100 минут разговора в месяц, то со 101 минуты будет взиматься плата)\n",
    "- `rub_per_message` — стоимость отправки сообщения сверх тарифного пакета\n",
    "- `rub_per_gb` — стоимость дополнительного гигабайта интернет-трафика сверх тарифного пакета (1 гигабайт = 1024 мегабайта)"
   ]
  },
  {
   "cell_type": "markdown",
   "id": "838a0cda",
   "metadata": {},
   "source": [
    "Приступим к обзору данных в таблицах"
   ]
  },
  {
   "cell_type": "markdown",
   "id": "4414072e",
   "metadata": {},
   "source": [
    "## Обзор таблицы `users`"
   ]
  },
  {
   "cell_type": "code",
   "execution_count": 3,
   "id": "510a7a28",
   "metadata": {},
   "outputs": [
    {
     "name": "stdout",
     "output_type": "stream",
     "text": [
      "\n",
      " \u001b[1mОбщая информация по таблице:\u001b[0m\n",
      "<class 'pandas.core.frame.DataFrame'>\n",
      "RangeIndex: 500 entries, 0 to 499\n",
      "Data columns (total 8 columns):\n",
      " #   Column      Dtype \n",
      "---  ------      ----- \n",
      " 0   user_id     int64 \n",
      " 1   age         int64 \n",
      " 2   churn_date  object\n",
      " 3   city        object\n",
      " 4   first_name  object\n",
      " 5   last_name   object\n",
      " 6   reg_date    object\n",
      " 7   tariff      object\n",
      "dtypes: int64(2), object(6)\n",
      "memory usage: 31.4+ KB\n",
      "\n",
      " Слуйчайные строки из таблицы:\n"
     ]
    },
    {
     "data": {
      "text/html": [
       "<div>\n",
       "<style scoped>\n",
       "    .dataframe tbody tr th:only-of-type {\n",
       "        vertical-align: middle;\n",
       "    }\n",
       "\n",
       "    .dataframe tbody tr th {\n",
       "        vertical-align: top;\n",
       "    }\n",
       "\n",
       "    .dataframe thead th {\n",
       "        text-align: right;\n",
       "    }\n",
       "</style>\n",
       "<table border=\"1\" class=\"dataframe\">\n",
       "  <thead>\n",
       "    <tr style=\"text-align: right;\">\n",
       "      <th></th>\n",
       "      <th>user_id</th>\n",
       "      <th>age</th>\n",
       "      <th>churn_date</th>\n",
       "      <th>city</th>\n",
       "      <th>first_name</th>\n",
       "      <th>last_name</th>\n",
       "      <th>reg_date</th>\n",
       "      <th>tariff</th>\n",
       "    </tr>\n",
       "  </thead>\n",
       "  <tbody>\n",
       "    <tr>\n",
       "      <th>362</th>\n",
       "      <td>1362</td>\n",
       "      <td>47</td>\n",
       "      <td>NaN</td>\n",
       "      <td>Владимир</td>\n",
       "      <td>Нина</td>\n",
       "      <td>Колесова</td>\n",
       "      <td>2018-08-02</td>\n",
       "      <td>smart</td>\n",
       "    </tr>\n",
       "    <tr>\n",
       "      <th>177</th>\n",
       "      <td>1177</td>\n",
       "      <td>75</td>\n",
       "      <td>NaN</td>\n",
       "      <td>Новосибирск</td>\n",
       "      <td>Лолита</td>\n",
       "      <td>Аничкина</td>\n",
       "      <td>2018-06-19</td>\n",
       "      <td>smart</td>\n",
       "    </tr>\n",
       "    <tr>\n",
       "      <th>270</th>\n",
       "      <td>1270</td>\n",
       "      <td>18</td>\n",
       "      <td>NaN</td>\n",
       "      <td>Нижневартовск</td>\n",
       "      <td>Мальвина</td>\n",
       "      <td>Вешнякова</td>\n",
       "      <td>2018-07-01</td>\n",
       "      <td>ultra</td>\n",
       "    </tr>\n",
       "    <tr>\n",
       "      <th>234</th>\n",
       "      <td>1234</td>\n",
       "      <td>54</td>\n",
       "      <td>NaN</td>\n",
       "      <td>Магнитогорск</td>\n",
       "      <td>Роксана</td>\n",
       "      <td>Алексеева</td>\n",
       "      <td>2018-12-19</td>\n",
       "      <td>ultra</td>\n",
       "    </tr>\n",
       "    <tr>\n",
       "      <th>199</th>\n",
       "      <td>1199</td>\n",
       "      <td>27</td>\n",
       "      <td>NaN</td>\n",
       "      <td>Чебоксары</td>\n",
       "      <td>Агата</td>\n",
       "      <td>Демьянова</td>\n",
       "      <td>2018-09-10</td>\n",
       "      <td>smart</td>\n",
       "    </tr>\n",
       "  </tbody>\n",
       "</table>\n",
       "</div>"
      ],
      "text/plain": [
       "     user_id  age churn_date           city first_name  last_name    reg_date  \\\n",
       "362     1362   47        NaN       Владимир       Нина   Колесова  2018-08-02   \n",
       "177     1177   75        NaN    Новосибирск     Лолита   Аничкина  2018-06-19   \n",
       "270     1270   18        NaN  Нижневартовск   Мальвина  Вешнякова  2018-07-01   \n",
       "234     1234   54        NaN   Магнитогорск    Роксана  Алексеева  2018-12-19   \n",
       "199     1199   27        NaN      Чебоксары      Агата  Демьянова  2018-09-10   \n",
       "\n",
       "    tariff  \n",
       "362  smart  \n",
       "177  smart  \n",
       "270  ultra  \n",
       "234  ultra  \n",
       "199  smart  "
      ]
     },
     "metadata": {},
     "output_type": "display_data"
    },
    {
     "name": "stdout",
     "output_type": "stream",
     "text": [
      "\n",
      " Статистика числовых параметров:\n"
     ]
    },
    {
     "data": {
      "text/html": [
       "<div>\n",
       "<style scoped>\n",
       "    .dataframe tbody tr th:only-of-type {\n",
       "        vertical-align: middle;\n",
       "    }\n",
       "\n",
       "    .dataframe tbody tr th {\n",
       "        vertical-align: top;\n",
       "    }\n",
       "\n",
       "    .dataframe thead th {\n",
       "        text-align: right;\n",
       "    }\n",
       "</style>\n",
       "<table border=\"1\" class=\"dataframe\">\n",
       "  <thead>\n",
       "    <tr style=\"text-align: right;\">\n",
       "      <th></th>\n",
       "      <th>count</th>\n",
       "      <th>mean</th>\n",
       "      <th>std</th>\n",
       "      <th>min</th>\n",
       "      <th>25%</th>\n",
       "      <th>50%</th>\n",
       "      <th>75%</th>\n",
       "      <th>max</th>\n",
       "    </tr>\n",
       "  </thead>\n",
       "  <tbody>\n",
       "    <tr>\n",
       "      <th>user_id</th>\n",
       "      <td>500.00</td>\n",
       "      <td>1249.50</td>\n",
       "      <td>144.48</td>\n",
       "      <td>1000.00</td>\n",
       "      <td>1124.75</td>\n",
       "      <td>1249.50</td>\n",
       "      <td>1374.25</td>\n",
       "      <td>1499.00</td>\n",
       "    </tr>\n",
       "    <tr>\n",
       "      <th>age</th>\n",
       "      <td>500.00</td>\n",
       "      <td>46.59</td>\n",
       "      <td>16.67</td>\n",
       "      <td>18.00</td>\n",
       "      <td>32.00</td>\n",
       "      <td>46.00</td>\n",
       "      <td>62.00</td>\n",
       "      <td>75.00</td>\n",
       "    </tr>\n",
       "  </tbody>\n",
       "</table>\n",
       "</div>"
      ],
      "text/plain": [
       "         count    mean    std     min     25%     50%     75%     max\n",
       "user_id 500.00 1249.50 144.48 1000.00 1124.75 1249.50 1374.25 1499.00\n",
       "age     500.00   46.59  16.67   18.00   32.00   46.00   62.00   75.00"
      ]
     },
     "metadata": {},
     "output_type": "display_data"
    },
    {
     "name": "stdout",
     "output_type": "stream",
     "text": [
      "\n",
      " Статистика строковых параметров:\n"
     ]
    },
    {
     "data": {
      "text/html": [
       "<div>\n",
       "<style scoped>\n",
       "    .dataframe tbody tr th:only-of-type {\n",
       "        vertical-align: middle;\n",
       "    }\n",
       "\n",
       "    .dataframe tbody tr th {\n",
       "        vertical-align: top;\n",
       "    }\n",
       "\n",
       "    .dataframe thead th {\n",
       "        text-align: right;\n",
       "    }\n",
       "</style>\n",
       "<table border=\"1\" class=\"dataframe\">\n",
       "  <thead>\n",
       "    <tr style=\"text-align: right;\">\n",
       "      <th></th>\n",
       "      <th>count</th>\n",
       "      <th>unique</th>\n",
       "      <th>top</th>\n",
       "      <th>freq</th>\n",
       "    </tr>\n",
       "  </thead>\n",
       "  <tbody>\n",
       "    <tr>\n",
       "      <th>churn_date</th>\n",
       "      <td>38</td>\n",
       "      <td>33</td>\n",
       "      <td>2018-12-03</td>\n",
       "      <td>2</td>\n",
       "    </tr>\n",
       "    <tr>\n",
       "      <th>city</th>\n",
       "      <td>500</td>\n",
       "      <td>76</td>\n",
       "      <td>Москва</td>\n",
       "      <td>99</td>\n",
       "    </tr>\n",
       "    <tr>\n",
       "      <th>first_name</th>\n",
       "      <td>500</td>\n",
       "      <td>246</td>\n",
       "      <td>Радим</td>\n",
       "      <td>6</td>\n",
       "    </tr>\n",
       "    <tr>\n",
       "      <th>last_name</th>\n",
       "      <td>500</td>\n",
       "      <td>419</td>\n",
       "      <td>Андреенко</td>\n",
       "      <td>5</td>\n",
       "    </tr>\n",
       "    <tr>\n",
       "      <th>reg_date</th>\n",
       "      <td>500</td>\n",
       "      <td>270</td>\n",
       "      <td>2018-05-28</td>\n",
       "      <td>8</td>\n",
       "    </tr>\n",
       "    <tr>\n",
       "      <th>tariff</th>\n",
       "      <td>500</td>\n",
       "      <td>2</td>\n",
       "      <td>smart</td>\n",
       "      <td>351</td>\n",
       "    </tr>\n",
       "  </tbody>\n",
       "</table>\n",
       "</div>"
      ],
      "text/plain": [
       "           count unique         top freq\n",
       "churn_date    38     33  2018-12-03    2\n",
       "city         500     76      Москва   99\n",
       "first_name   500    246       Радим    6\n",
       "last_name    500    419   Андреенко    5\n",
       "reg_date     500    270  2018-05-28    8\n",
       "tariff       500      2       smart  351"
      ]
     },
     "metadata": {},
     "output_type": "display_data"
    },
    {
     "data": {
      "text/html": [
       "<style type=\"text/css\">\n",
       "</style>\n",
       "<table id=\"T_ab8cd\">\n",
       "  <thead>\n",
       "    <tr>\n",
       "      <th class=\"blank level0\" >&nbsp;</th>\n",
       "      <th id=\"T_ab8cd_level0_col0\" class=\"col_heading level0 col0\" >Кол-во пропусков</th>\n",
       "      <th id=\"T_ab8cd_level0_col1\" class=\"col_heading level0 col1\" >% пропусков</th>\n",
       "    </tr>\n",
       "  </thead>\n",
       "  <tbody>\n",
       "    <tr>\n",
       "      <th id=\"T_ab8cd_level0_row0\" class=\"row_heading level0 row0\" >churn_date</th>\n",
       "      <td id=\"T_ab8cd_row0_col0\" class=\"data row0 col0\" >462</td>\n",
       "      <td id=\"T_ab8cd_row0_col1\" class=\"data row0 col1\" >92.4%</td>\n",
       "    </tr>\n",
       "    <tr>\n",
       "      <th id=\"T_ab8cd_level0_row1\" class=\"row_heading level0 row1\" >user_id</th>\n",
       "      <td id=\"T_ab8cd_row1_col0\" class=\"data row1 col0\" >0</td>\n",
       "      <td id=\"T_ab8cd_row1_col1\" class=\"data row1 col1\" >0.0%</td>\n",
       "    </tr>\n",
       "    <tr>\n",
       "      <th id=\"T_ab8cd_level0_row2\" class=\"row_heading level0 row2\" >age</th>\n",
       "      <td id=\"T_ab8cd_row2_col0\" class=\"data row2 col0\" >0</td>\n",
       "      <td id=\"T_ab8cd_row2_col1\" class=\"data row2 col1\" >0.0%</td>\n",
       "    </tr>\n",
       "    <tr>\n",
       "      <th id=\"T_ab8cd_level0_row3\" class=\"row_heading level0 row3\" >city</th>\n",
       "      <td id=\"T_ab8cd_row3_col0\" class=\"data row3 col0\" >0</td>\n",
       "      <td id=\"T_ab8cd_row3_col1\" class=\"data row3 col1\" >0.0%</td>\n",
       "    </tr>\n",
       "    <tr>\n",
       "      <th id=\"T_ab8cd_level0_row4\" class=\"row_heading level0 row4\" >first_name</th>\n",
       "      <td id=\"T_ab8cd_row4_col0\" class=\"data row4 col0\" >0</td>\n",
       "      <td id=\"T_ab8cd_row4_col1\" class=\"data row4 col1\" >0.0%</td>\n",
       "    </tr>\n",
       "    <tr>\n",
       "      <th id=\"T_ab8cd_level0_row5\" class=\"row_heading level0 row5\" >last_name</th>\n",
       "      <td id=\"T_ab8cd_row5_col0\" class=\"data row5 col0\" >0</td>\n",
       "      <td id=\"T_ab8cd_row5_col1\" class=\"data row5 col1\" >0.0%</td>\n",
       "    </tr>\n",
       "    <tr>\n",
       "      <th id=\"T_ab8cd_level0_row6\" class=\"row_heading level0 row6\" >reg_date</th>\n",
       "      <td id=\"T_ab8cd_row6_col0\" class=\"data row6 col0\" >0</td>\n",
       "      <td id=\"T_ab8cd_row6_col1\" class=\"data row6 col1\" >0.0%</td>\n",
       "    </tr>\n",
       "    <tr>\n",
       "      <th id=\"T_ab8cd_level0_row7\" class=\"row_heading level0 row7\" >tariff</th>\n",
       "      <td id=\"T_ab8cd_row7_col0\" class=\"data row7 col0\" >0</td>\n",
       "      <td id=\"T_ab8cd_row7_col1\" class=\"data row7 col1\" >0.0%</td>\n",
       "    </tr>\n",
       "  </tbody>\n",
       "</table>\n"
      ],
      "text/plain": [
       "<pandas.io.formats.style.Styler at 0x22ba59b5b40>"
      ]
     },
     "metadata": {},
     "output_type": "display_data"
    },
    {
     "name": "stdout",
     "output_type": "stream",
     "text": [
      "\n",
      " Количество явных дубликатов: 0\n"
     ]
    }
   ],
   "source": [
    "try:\n",
    "    df_users = pd.read_csv('users.csv')\n",
    "except:\n",
    "    df_users = pd.read_csv('/datasets/users.csv')\n",
    "info_data(df_users)"
   ]
  },
  {
   "cell_type": "markdown",
   "id": "ad7d487a",
   "metadata": {},
   "source": [
    "В первую очередь можно отметить что колонки с именем и фамилией нам для анализа не нужны, поэтому от них можно избавиться на начальном этапе.  \n",
    "Среди пользователй есть 38 человек которые не использую предоставленные нам тарифы и их доля почти 8 % постараемся максимально сохранить предоставленные данные.\n",
    "Нигде в задании не фигурировало использование возраста клиентов, но для дополнительного анализа по возрастным группам, он может нам пригодится.  \n",
    "В таблице представлены пользователи из 76 городов России с самым популярным городом Москва (что не удивительно). Нужно будет посмотреть распределение пользователей по городам, если московских пользователей будет видное преемущество, то отделить их в отдельную группу.  \n",
    "Дата регистрации возможно понадовится для вычислений выручки по месяцам, но нужно дополнительно рассмотреть данную колонку, для определения ее пригодности в анализе. \n",
    "Неоходима работа по изменению типов данных: Дату регистрации к датам, город и тариф к типу категорий. id и возраст возможно изменить на менее затратный формат (в плане занимаемой памяти)."
   ]
  },
  {
   "cell_type": "markdown",
   "id": "1c73dd84",
   "metadata": {},
   "source": [
    "## Обзор таблицы `calls`"
   ]
  },
  {
   "cell_type": "code",
   "execution_count": 4,
   "id": "7a6d059f",
   "metadata": {},
   "outputs": [
    {
     "name": "stdout",
     "output_type": "stream",
     "text": [
      "\n",
      " \u001b[1mОбщая информация по таблице:\u001b[0m\n",
      "<class 'pandas.core.frame.DataFrame'>\n",
      "RangeIndex: 202607 entries, 0 to 202606\n",
      "Data columns (total 4 columns):\n",
      " #   Column     Dtype  \n",
      "---  ------     -----  \n",
      " 0   id         object \n",
      " 1   call_date  object \n",
      " 2   duration   float64\n",
      " 3   user_id    int64  \n",
      "dtypes: float64(1), int64(1), object(2)\n",
      "memory usage: 6.2+ MB\n",
      "\n",
      " Слуйчайные строки из таблицы:\n"
     ]
    },
    {
     "data": {
      "text/html": [
       "<div>\n",
       "<style scoped>\n",
       "    .dataframe tbody tr th:only-of-type {\n",
       "        vertical-align: middle;\n",
       "    }\n",
       "\n",
       "    .dataframe tbody tr th {\n",
       "        vertical-align: top;\n",
       "    }\n",
       "\n",
       "    .dataframe thead th {\n",
       "        text-align: right;\n",
       "    }\n",
       "</style>\n",
       "<table border=\"1\" class=\"dataframe\">\n",
       "  <thead>\n",
       "    <tr style=\"text-align: right;\">\n",
       "      <th></th>\n",
       "      <th>id</th>\n",
       "      <th>call_date</th>\n",
       "      <th>duration</th>\n",
       "      <th>user_id</th>\n",
       "    </tr>\n",
       "  </thead>\n",
       "  <tbody>\n",
       "    <tr>\n",
       "      <th>35947</th>\n",
       "      <td>1089_420</td>\n",
       "      <td>2018-11-12</td>\n",
       "      <td>14.07</td>\n",
       "      <td>1089</td>\n",
       "    </tr>\n",
       "    <tr>\n",
       "      <th>48906</th>\n",
       "      <td>1122_51</td>\n",
       "      <td>2018-12-02</td>\n",
       "      <td>5.37</td>\n",
       "      <td>1122</td>\n",
       "    </tr>\n",
       "    <tr>\n",
       "      <th>158277</th>\n",
       "      <td>1391_758</td>\n",
       "      <td>2018-05-29</td>\n",
       "      <td>1.19</td>\n",
       "      <td>1391</td>\n",
       "    </tr>\n",
       "    <tr>\n",
       "      <th>177573</th>\n",
       "      <td>1439_120</td>\n",
       "      <td>2018-09-20</td>\n",
       "      <td>4.91</td>\n",
       "      <td>1439</td>\n",
       "    </tr>\n",
       "    <tr>\n",
       "      <th>82645</th>\n",
       "      <td>1204_528</td>\n",
       "      <td>2018-09-21</td>\n",
       "      <td>4.81</td>\n",
       "      <td>1204</td>\n",
       "    </tr>\n",
       "  </tbody>\n",
       "</table>\n",
       "</div>"
      ],
      "text/plain": [
       "              id   call_date  duration  user_id\n",
       "35947   1089_420  2018-11-12     14.07     1089\n",
       "48906    1122_51  2018-12-02      5.37     1122\n",
       "158277  1391_758  2018-05-29      1.19     1391\n",
       "177573  1439_120  2018-09-20      4.91     1439\n",
       "82645   1204_528  2018-09-21      4.81     1204"
      ]
     },
     "metadata": {},
     "output_type": "display_data"
    },
    {
     "name": "stdout",
     "output_type": "stream",
     "text": [
      "\n",
      " Статистика числовых параметров:\n"
     ]
    },
    {
     "data": {
      "text/html": [
       "<div>\n",
       "<style scoped>\n",
       "    .dataframe tbody tr th:only-of-type {\n",
       "        vertical-align: middle;\n",
       "    }\n",
       "\n",
       "    .dataframe tbody tr th {\n",
       "        vertical-align: top;\n",
       "    }\n",
       "\n",
       "    .dataframe thead th {\n",
       "        text-align: right;\n",
       "    }\n",
       "</style>\n",
       "<table border=\"1\" class=\"dataframe\">\n",
       "  <thead>\n",
       "    <tr style=\"text-align: right;\">\n",
       "      <th></th>\n",
       "      <th>count</th>\n",
       "      <th>mean</th>\n",
       "      <th>std</th>\n",
       "      <th>min</th>\n",
       "      <th>25%</th>\n",
       "      <th>50%</th>\n",
       "      <th>75%</th>\n",
       "      <th>max</th>\n",
       "    </tr>\n",
       "  </thead>\n",
       "  <tbody>\n",
       "    <tr>\n",
       "      <th>duration</th>\n",
       "      <td>202607.00</td>\n",
       "      <td>6.76</td>\n",
       "      <td>5.84</td>\n",
       "      <td>0.00</td>\n",
       "      <td>1.30</td>\n",
       "      <td>6.00</td>\n",
       "      <td>10.70</td>\n",
       "      <td>38.00</td>\n",
       "    </tr>\n",
       "    <tr>\n",
       "      <th>user_id</th>\n",
       "      <td>202607.00</td>\n",
       "      <td>1253.94</td>\n",
       "      <td>144.72</td>\n",
       "      <td>1000.00</td>\n",
       "      <td>1126.00</td>\n",
       "      <td>1260.00</td>\n",
       "      <td>1379.00</td>\n",
       "      <td>1499.00</td>\n",
       "    </tr>\n",
       "  </tbody>\n",
       "</table>\n",
       "</div>"
      ],
      "text/plain": [
       "             count    mean    std     min     25%     50%     75%     max\n",
       "duration 202607.00    6.76   5.84    0.00    1.30    6.00   10.70   38.00\n",
       "user_id  202607.00 1253.94 144.72 1000.00 1126.00 1260.00 1379.00 1499.00"
      ]
     },
     "metadata": {},
     "output_type": "display_data"
    },
    {
     "name": "stdout",
     "output_type": "stream",
     "text": [
      "\n",
      " Статистика строковых параметров:\n"
     ]
    },
    {
     "data": {
      "text/html": [
       "<div>\n",
       "<style scoped>\n",
       "    .dataframe tbody tr th:only-of-type {\n",
       "        vertical-align: middle;\n",
       "    }\n",
       "\n",
       "    .dataframe tbody tr th {\n",
       "        vertical-align: top;\n",
       "    }\n",
       "\n",
       "    .dataframe thead th {\n",
       "        text-align: right;\n",
       "    }\n",
       "</style>\n",
       "<table border=\"1\" class=\"dataframe\">\n",
       "  <thead>\n",
       "    <tr style=\"text-align: right;\">\n",
       "      <th></th>\n",
       "      <th>count</th>\n",
       "      <th>unique</th>\n",
       "      <th>top</th>\n",
       "      <th>freq</th>\n",
       "    </tr>\n",
       "  </thead>\n",
       "  <tbody>\n",
       "    <tr>\n",
       "      <th>id</th>\n",
       "      <td>202607</td>\n",
       "      <td>202607</td>\n",
       "      <td>1000_0</td>\n",
       "      <td>1</td>\n",
       "    </tr>\n",
       "    <tr>\n",
       "      <th>call_date</th>\n",
       "      <td>202607</td>\n",
       "      <td>365</td>\n",
       "      <td>2018-12-31</td>\n",
       "      <td>1435</td>\n",
       "    </tr>\n",
       "  </tbody>\n",
       "</table>\n",
       "</div>"
      ],
      "text/plain": [
       "            count  unique         top  freq\n",
       "id         202607  202607      1000_0     1\n",
       "call_date  202607     365  2018-12-31  1435"
      ]
     },
     "metadata": {},
     "output_type": "display_data"
    },
    {
     "data": {
      "text/html": [
       "<style type=\"text/css\">\n",
       "</style>\n",
       "<table id=\"T_522f8\">\n",
       "  <thead>\n",
       "    <tr>\n",
       "      <th class=\"blank level0\" >&nbsp;</th>\n",
       "      <th id=\"T_522f8_level0_col0\" class=\"col_heading level0 col0\" >Кол-во пропусков</th>\n",
       "      <th id=\"T_522f8_level0_col1\" class=\"col_heading level0 col1\" >% пропусков</th>\n",
       "    </tr>\n",
       "  </thead>\n",
       "  <tbody>\n",
       "    <tr>\n",
       "      <th id=\"T_522f8_level0_row0\" class=\"row_heading level0 row0\" >id</th>\n",
       "      <td id=\"T_522f8_row0_col0\" class=\"data row0 col0\" >0</td>\n",
       "      <td id=\"T_522f8_row0_col1\" class=\"data row0 col1\" >0.0%</td>\n",
       "    </tr>\n",
       "    <tr>\n",
       "      <th id=\"T_522f8_level0_row1\" class=\"row_heading level0 row1\" >call_date</th>\n",
       "      <td id=\"T_522f8_row1_col0\" class=\"data row1 col0\" >0</td>\n",
       "      <td id=\"T_522f8_row1_col1\" class=\"data row1 col1\" >0.0%</td>\n",
       "    </tr>\n",
       "    <tr>\n",
       "      <th id=\"T_522f8_level0_row2\" class=\"row_heading level0 row2\" >duration</th>\n",
       "      <td id=\"T_522f8_row2_col0\" class=\"data row2 col0\" >0</td>\n",
       "      <td id=\"T_522f8_row2_col1\" class=\"data row2 col1\" >0.0%</td>\n",
       "    </tr>\n",
       "    <tr>\n",
       "      <th id=\"T_522f8_level0_row3\" class=\"row_heading level0 row3\" >user_id</th>\n",
       "      <td id=\"T_522f8_row3_col0\" class=\"data row3 col0\" >0</td>\n",
       "      <td id=\"T_522f8_row3_col1\" class=\"data row3 col1\" >0.0%</td>\n",
       "    </tr>\n",
       "  </tbody>\n",
       "</table>\n"
      ],
      "text/plain": [
       "<pandas.io.formats.style.Styler at 0x22ba5b176d0>"
      ]
     },
     "metadata": {},
     "output_type": "display_data"
    },
    {
     "name": "stdout",
     "output_type": "stream",
     "text": [
      "\n",
      " Количество явных дубликатов: 0\n"
     ]
    }
   ],
   "source": [
    "try:\n",
    "    df_calls = pd.read_csv('calls.csv')\n",
    "except:\n",
    "    df_calls = pd.read_csv('/datasets/calls.csv')\n",
    "info_data(df_calls)"
   ]
  },
  {
   "cell_type": "markdown",
   "id": "4c98fb61",
   "metadata": {},
   "source": [
    "Возможно нам удастся избежать соежинения нескольких больших таблиц (это усложнит анализ), если мы всю необходимые расчеты и преобразования сделаем до того как соединим таблицы. Данных достаточно много и смешивать их с другими возможно не самое правильное решение.  \n",
    "Так же нужно учитывать из описания задания, что нулями в колонке продолжительности звонка обозначены пропущенные звонки, поэтому их не нужно удалять.  \n",
    "Возможно для лучшего представления данных поможет группировка по пользователям с количеством звонком, суммой продолительности звонка. Для анализа по месяцам соответственно поможет группировка по дате.  \n",
    "Так как каждая строчка в таблице имеет уникальный id звонка, для оптимизации работы можно переименовать столбец в целочисленный формат равный номеру строки. В плане анализа ничего не измениться, а памяти удасться сэкономить прилично. id пользователей как и в первой таблице можно переформатитьровать в более эффективный формат"
   ]
  },
  {
   "cell_type": "markdown",
   "id": "2a66e05a",
   "metadata": {},
   "source": [
    "## Обзор таблицы `messages`"
   ]
  },
  {
   "cell_type": "code",
   "execution_count": 5,
   "id": "bd786721",
   "metadata": {},
   "outputs": [
    {
     "name": "stdout",
     "output_type": "stream",
     "text": [
      "\n",
      " \u001b[1mОбщая информация по таблице:\u001b[0m\n",
      "<class 'pandas.core.frame.DataFrame'>\n",
      "RangeIndex: 123036 entries, 0 to 123035\n",
      "Data columns (total 3 columns):\n",
      " #   Column        Dtype \n",
      "---  ------        ----- \n",
      " 0   id            object\n",
      " 1   message_date  object\n",
      " 2   user_id       int64 \n",
      "dtypes: int64(1), object(2)\n",
      "memory usage: 2.8+ MB\n",
      "\n",
      " Слуйчайные строки из таблицы:\n"
     ]
    },
    {
     "data": {
      "text/html": [
       "<div>\n",
       "<style scoped>\n",
       "    .dataframe tbody tr th:only-of-type {\n",
       "        vertical-align: middle;\n",
       "    }\n",
       "\n",
       "    .dataframe tbody tr th {\n",
       "        vertical-align: top;\n",
       "    }\n",
       "\n",
       "    .dataframe thead th {\n",
       "        text-align: right;\n",
       "    }\n",
       "</style>\n",
       "<table border=\"1\" class=\"dataframe\">\n",
       "  <thead>\n",
       "    <tr style=\"text-align: right;\">\n",
       "      <th></th>\n",
       "      <th>id</th>\n",
       "      <th>message_date</th>\n",
       "      <th>user_id</th>\n",
       "    </tr>\n",
       "  </thead>\n",
       "  <tbody>\n",
       "    <tr>\n",
       "      <th>85381</th>\n",
       "      <td>1356_398</td>\n",
       "      <td>2018-04-22</td>\n",
       "      <td>1356</td>\n",
       "    </tr>\n",
       "    <tr>\n",
       "      <th>52051</th>\n",
       "      <td>1231_672</td>\n",
       "      <td>2018-12-14</td>\n",
       "      <td>1231</td>\n",
       "    </tr>\n",
       "    <tr>\n",
       "      <th>92968</th>\n",
       "      <td>1382_429</td>\n",
       "      <td>2018-06-18</td>\n",
       "      <td>1382</td>\n",
       "    </tr>\n",
       "    <tr>\n",
       "      <th>104583</th>\n",
       "      <td>1424_436</td>\n",
       "      <td>2018-08-01</td>\n",
       "      <td>1424</td>\n",
       "    </tr>\n",
       "    <tr>\n",
       "      <th>114880</th>\n",
       "      <td>1471_108</td>\n",
       "      <td>2018-04-11</td>\n",
       "      <td>1471</td>\n",
       "    </tr>\n",
       "  </tbody>\n",
       "</table>\n",
       "</div>"
      ],
      "text/plain": [
       "              id message_date  user_id\n",
       "85381   1356_398   2018-04-22     1356\n",
       "52051   1231_672   2018-12-14     1231\n",
       "92968   1382_429   2018-06-18     1382\n",
       "104583  1424_436   2018-08-01     1424\n",
       "114880  1471_108   2018-04-11     1471"
      ]
     },
     "metadata": {},
     "output_type": "display_data"
    },
    {
     "name": "stdout",
     "output_type": "stream",
     "text": [
      "\n",
      " Статистика числовых параметров:\n"
     ]
    },
    {
     "data": {
      "text/html": [
       "<div>\n",
       "<style scoped>\n",
       "    .dataframe tbody tr th:only-of-type {\n",
       "        vertical-align: middle;\n",
       "    }\n",
       "\n",
       "    .dataframe tbody tr th {\n",
       "        vertical-align: top;\n",
       "    }\n",
       "\n",
       "    .dataframe thead th {\n",
       "        text-align: right;\n",
       "    }\n",
       "</style>\n",
       "<table border=\"1\" class=\"dataframe\">\n",
       "  <thead>\n",
       "    <tr style=\"text-align: right;\">\n",
       "      <th></th>\n",
       "      <th>count</th>\n",
       "      <th>mean</th>\n",
       "      <th>std</th>\n",
       "      <th>min</th>\n",
       "      <th>25%</th>\n",
       "      <th>50%</th>\n",
       "      <th>75%</th>\n",
       "      <th>max</th>\n",
       "    </tr>\n",
       "  </thead>\n",
       "  <tbody>\n",
       "    <tr>\n",
       "      <th>user_id</th>\n",
       "      <td>123036.00</td>\n",
       "      <td>1256.99</td>\n",
       "      <td>143.52</td>\n",
       "      <td>1000.00</td>\n",
       "      <td>1134.00</td>\n",
       "      <td>1271.00</td>\n",
       "      <td>1381.00</td>\n",
       "      <td>1499.00</td>\n",
       "    </tr>\n",
       "  </tbody>\n",
       "</table>\n",
       "</div>"
      ],
      "text/plain": [
       "            count    mean    std     min     25%     50%     75%     max\n",
       "user_id 123036.00 1256.99 143.52 1000.00 1134.00 1271.00 1381.00 1499.00"
      ]
     },
     "metadata": {},
     "output_type": "display_data"
    },
    {
     "name": "stdout",
     "output_type": "stream",
     "text": [
      "\n",
      " Статистика строковых параметров:\n"
     ]
    },
    {
     "data": {
      "text/html": [
       "<div>\n",
       "<style scoped>\n",
       "    .dataframe tbody tr th:only-of-type {\n",
       "        vertical-align: middle;\n",
       "    }\n",
       "\n",
       "    .dataframe tbody tr th {\n",
       "        vertical-align: top;\n",
       "    }\n",
       "\n",
       "    .dataframe thead th {\n",
       "        text-align: right;\n",
       "    }\n",
       "</style>\n",
       "<table border=\"1\" class=\"dataframe\">\n",
       "  <thead>\n",
       "    <tr style=\"text-align: right;\">\n",
       "      <th></th>\n",
       "      <th>count</th>\n",
       "      <th>unique</th>\n",
       "      <th>top</th>\n",
       "      <th>freq</th>\n",
       "    </tr>\n",
       "  </thead>\n",
       "  <tbody>\n",
       "    <tr>\n",
       "      <th>id</th>\n",
       "      <td>123036</td>\n",
       "      <td>123036</td>\n",
       "      <td>1000_0</td>\n",
       "      <td>1</td>\n",
       "    </tr>\n",
       "    <tr>\n",
       "      <th>message_date</th>\n",
       "      <td>123036</td>\n",
       "      <td>364</td>\n",
       "      <td>2018-12-31</td>\n",
       "      <td>859</td>\n",
       "    </tr>\n",
       "  </tbody>\n",
       "</table>\n",
       "</div>"
      ],
      "text/plain": [
       "               count  unique         top freq\n",
       "id            123036  123036      1000_0    1\n",
       "message_date  123036     364  2018-12-31  859"
      ]
     },
     "metadata": {},
     "output_type": "display_data"
    },
    {
     "data": {
      "text/html": [
       "<style type=\"text/css\">\n",
       "</style>\n",
       "<table id=\"T_b94a7\">\n",
       "  <thead>\n",
       "    <tr>\n",
       "      <th class=\"blank level0\" >&nbsp;</th>\n",
       "      <th id=\"T_b94a7_level0_col0\" class=\"col_heading level0 col0\" >Кол-во пропусков</th>\n",
       "      <th id=\"T_b94a7_level0_col1\" class=\"col_heading level0 col1\" >% пропусков</th>\n",
       "    </tr>\n",
       "  </thead>\n",
       "  <tbody>\n",
       "    <tr>\n",
       "      <th id=\"T_b94a7_level0_row0\" class=\"row_heading level0 row0\" >id</th>\n",
       "      <td id=\"T_b94a7_row0_col0\" class=\"data row0 col0\" >0</td>\n",
       "      <td id=\"T_b94a7_row0_col1\" class=\"data row0 col1\" >0.0%</td>\n",
       "    </tr>\n",
       "    <tr>\n",
       "      <th id=\"T_b94a7_level0_row1\" class=\"row_heading level0 row1\" >message_date</th>\n",
       "      <td id=\"T_b94a7_row1_col0\" class=\"data row1 col0\" >0</td>\n",
       "      <td id=\"T_b94a7_row1_col1\" class=\"data row1 col1\" >0.0%</td>\n",
       "    </tr>\n",
       "    <tr>\n",
       "      <th id=\"T_b94a7_level0_row2\" class=\"row_heading level0 row2\" >user_id</th>\n",
       "      <td id=\"T_b94a7_row2_col0\" class=\"data row2 col0\" >0</td>\n",
       "      <td id=\"T_b94a7_row2_col1\" class=\"data row2 col1\" >0.0%</td>\n",
       "    </tr>\n",
       "  </tbody>\n",
       "</table>\n"
      ],
      "text/plain": [
       "<pandas.io.formats.style.Styler at 0x22ba5b16290>"
      ]
     },
     "metadata": {},
     "output_type": "display_data"
    },
    {
     "name": "stdout",
     "output_type": "stream",
     "text": [
      "\n",
      " Количество явных дубликатов: 0\n"
     ]
    }
   ],
   "source": [
    "try:\n",
    "    df_messages = pd.read_csv('messages.csv')\n",
    "except:\n",
    "    df_messages = pd.read_csv('/datasets/messages.csv')\n",
    "info_data(df_messages)"
   ]
  },
  {
   "cell_type": "markdown",
   "id": "0790996f",
   "metadata": {},
   "source": [
    "По аналогии в таблицей звонков, id сообщей можно изменить в более подходящий формат.  \n",
    "Так нужно постараться не группировать всю таблицу с остальной информацией, а вынести от сюда количество сообщений в каждый месяц по каждому пользователю.  \n",
    "Как и в предыдущих таблицах нужно исправить id пользователей."
   ]
  },
  {
   "cell_type": "markdown",
   "id": "051d3ebc",
   "metadata": {},
   "source": [
    "## Обзор таблицы `internet`"
   ]
  },
  {
   "cell_type": "code",
   "execution_count": 6,
   "id": "f33e20d9",
   "metadata": {},
   "outputs": [
    {
     "name": "stdout",
     "output_type": "stream",
     "text": [
      "\n",
      " \u001b[1mОбщая информация по таблице:\u001b[0m\n",
      "<class 'pandas.core.frame.DataFrame'>\n",
      "Int64Index: 149396 entries, 0 to 149395\n",
      "Data columns (total 4 columns):\n",
      " #   Column        Dtype  \n",
      "---  ------        -----  \n",
      " 0   id            object \n",
      " 1   mb_used       float64\n",
      " 2   session_date  object \n",
      " 3   user_id       int64  \n",
      "dtypes: float64(1), int64(1), object(2)\n",
      "memory usage: 5.7+ MB\n",
      "\n",
      " Слуйчайные строки из таблицы:\n"
     ]
    },
    {
     "data": {
      "text/html": [
       "<div>\n",
       "<style scoped>\n",
       "    .dataframe tbody tr th:only-of-type {\n",
       "        vertical-align: middle;\n",
       "    }\n",
       "\n",
       "    .dataframe tbody tr th {\n",
       "        vertical-align: top;\n",
       "    }\n",
       "\n",
       "    .dataframe thead th {\n",
       "        text-align: right;\n",
       "    }\n",
       "</style>\n",
       "<table border=\"1\" class=\"dataframe\">\n",
       "  <thead>\n",
       "    <tr style=\"text-align: right;\">\n",
       "      <th></th>\n",
       "      <th>id</th>\n",
       "      <th>mb_used</th>\n",
       "      <th>session_date</th>\n",
       "      <th>user_id</th>\n",
       "    </tr>\n",
       "  </thead>\n",
       "  <tbody>\n",
       "    <tr>\n",
       "      <th>8622</th>\n",
       "      <td>1030_91</td>\n",
       "      <td>442.57</td>\n",
       "      <td>2018-06-25</td>\n",
       "      <td>1030</td>\n",
       "    </tr>\n",
       "    <tr>\n",
       "      <th>83472</th>\n",
       "      <td>1283_63</td>\n",
       "      <td>759.97</td>\n",
       "      <td>2018-11-18</td>\n",
       "      <td>1283</td>\n",
       "    </tr>\n",
       "    <tr>\n",
       "      <th>34304</th>\n",
       "      <td>1119_458</td>\n",
       "      <td>0.00</td>\n",
       "      <td>2018-10-12</td>\n",
       "      <td>1119</td>\n",
       "    </tr>\n",
       "    <tr>\n",
       "      <th>133052</th>\n",
       "      <td>1443_163</td>\n",
       "      <td>225.96</td>\n",
       "      <td>2018-12-20</td>\n",
       "      <td>1443</td>\n",
       "    </tr>\n",
       "    <tr>\n",
       "      <th>5738</th>\n",
       "      <td>1017_178</td>\n",
       "      <td>188.06</td>\n",
       "      <td>2018-11-04</td>\n",
       "      <td>1017</td>\n",
       "    </tr>\n",
       "  </tbody>\n",
       "</table>\n",
       "</div>"
      ],
      "text/plain": [
       "              id  mb_used session_date  user_id\n",
       "8622     1030_91   442.57   2018-06-25     1030\n",
       "83472    1283_63   759.97   2018-11-18     1283\n",
       "34304   1119_458     0.00   2018-10-12     1119\n",
       "133052  1443_163   225.96   2018-12-20     1443\n",
       "5738    1017_178   188.06   2018-11-04     1017"
      ]
     },
     "metadata": {},
     "output_type": "display_data"
    },
    {
     "name": "stdout",
     "output_type": "stream",
     "text": [
      "\n",
      " Статистика числовых параметров:\n"
     ]
    },
    {
     "data": {
      "text/html": [
       "<div>\n",
       "<style scoped>\n",
       "    .dataframe tbody tr th:only-of-type {\n",
       "        vertical-align: middle;\n",
       "    }\n",
       "\n",
       "    .dataframe tbody tr th {\n",
       "        vertical-align: top;\n",
       "    }\n",
       "\n",
       "    .dataframe thead th {\n",
       "        text-align: right;\n",
       "    }\n",
       "</style>\n",
       "<table border=\"1\" class=\"dataframe\">\n",
       "  <thead>\n",
       "    <tr style=\"text-align: right;\">\n",
       "      <th></th>\n",
       "      <th>count</th>\n",
       "      <th>mean</th>\n",
       "      <th>std</th>\n",
       "      <th>min</th>\n",
       "      <th>25%</th>\n",
       "      <th>50%</th>\n",
       "      <th>75%</th>\n",
       "      <th>max</th>\n",
       "    </tr>\n",
       "  </thead>\n",
       "  <tbody>\n",
       "    <tr>\n",
       "      <th>mb_used</th>\n",
       "      <td>149396.00</td>\n",
       "      <td>370.19</td>\n",
       "      <td>278.30</td>\n",
       "      <td>0.00</td>\n",
       "      <td>138.19</td>\n",
       "      <td>348.01</td>\n",
       "      <td>559.55</td>\n",
       "      <td>1724.83</td>\n",
       "    </tr>\n",
       "    <tr>\n",
       "      <th>user_id</th>\n",
       "      <td>149396.00</td>\n",
       "      <td>1252.10</td>\n",
       "      <td>144.05</td>\n",
       "      <td>1000.00</td>\n",
       "      <td>1130.00</td>\n",
       "      <td>1251.00</td>\n",
       "      <td>1380.00</td>\n",
       "      <td>1499.00</td>\n",
       "    </tr>\n",
       "  </tbody>\n",
       "</table>\n",
       "</div>"
      ],
      "text/plain": [
       "            count    mean    std     min     25%     50%     75%     max\n",
       "mb_used 149396.00  370.19 278.30    0.00  138.19  348.01  559.55 1724.83\n",
       "user_id 149396.00 1252.10 144.05 1000.00 1130.00 1251.00 1380.00 1499.00"
      ]
     },
     "metadata": {},
     "output_type": "display_data"
    },
    {
     "name": "stdout",
     "output_type": "stream",
     "text": [
      "\n",
      " Статистика строковых параметров:\n"
     ]
    },
    {
     "data": {
      "text/html": [
       "<div>\n",
       "<style scoped>\n",
       "    .dataframe tbody tr th:only-of-type {\n",
       "        vertical-align: middle;\n",
       "    }\n",
       "\n",
       "    .dataframe tbody tr th {\n",
       "        vertical-align: top;\n",
       "    }\n",
       "\n",
       "    .dataframe thead th {\n",
       "        text-align: right;\n",
       "    }\n",
       "</style>\n",
       "<table border=\"1\" class=\"dataframe\">\n",
       "  <thead>\n",
       "    <tr style=\"text-align: right;\">\n",
       "      <th></th>\n",
       "      <th>count</th>\n",
       "      <th>unique</th>\n",
       "      <th>top</th>\n",
       "      <th>freq</th>\n",
       "    </tr>\n",
       "  </thead>\n",
       "  <tbody>\n",
       "    <tr>\n",
       "      <th>id</th>\n",
       "      <td>149396</td>\n",
       "      <td>149396</td>\n",
       "      <td>1000_0</td>\n",
       "      <td>1</td>\n",
       "    </tr>\n",
       "    <tr>\n",
       "      <th>session_date</th>\n",
       "      <td>149396</td>\n",
       "      <td>365</td>\n",
       "      <td>2018-12-31</td>\n",
       "      <td>1057</td>\n",
       "    </tr>\n",
       "  </tbody>\n",
       "</table>\n",
       "</div>"
      ],
      "text/plain": [
       "               count  unique         top  freq\n",
       "id            149396  149396      1000_0     1\n",
       "session_date  149396     365  2018-12-31  1057"
      ]
     },
     "metadata": {},
     "output_type": "display_data"
    },
    {
     "data": {
      "text/html": [
       "<style type=\"text/css\">\n",
       "</style>\n",
       "<table id=\"T_1b22f\">\n",
       "  <thead>\n",
       "    <tr>\n",
       "      <th class=\"blank level0\" >&nbsp;</th>\n",
       "      <th id=\"T_1b22f_level0_col0\" class=\"col_heading level0 col0\" >Кол-во пропусков</th>\n",
       "      <th id=\"T_1b22f_level0_col1\" class=\"col_heading level0 col1\" >% пропусков</th>\n",
       "    </tr>\n",
       "  </thead>\n",
       "  <tbody>\n",
       "    <tr>\n",
       "      <th id=\"T_1b22f_level0_row0\" class=\"row_heading level0 row0\" >id</th>\n",
       "      <td id=\"T_1b22f_row0_col0\" class=\"data row0 col0\" >0</td>\n",
       "      <td id=\"T_1b22f_row0_col1\" class=\"data row0 col1\" >0.0%</td>\n",
       "    </tr>\n",
       "    <tr>\n",
       "      <th id=\"T_1b22f_level0_row1\" class=\"row_heading level0 row1\" >mb_used</th>\n",
       "      <td id=\"T_1b22f_row1_col0\" class=\"data row1 col0\" >0</td>\n",
       "      <td id=\"T_1b22f_row1_col1\" class=\"data row1 col1\" >0.0%</td>\n",
       "    </tr>\n",
       "    <tr>\n",
       "      <th id=\"T_1b22f_level0_row2\" class=\"row_heading level0 row2\" >session_date</th>\n",
       "      <td id=\"T_1b22f_row2_col0\" class=\"data row2 col0\" >0</td>\n",
       "      <td id=\"T_1b22f_row2_col1\" class=\"data row2 col1\" >0.0%</td>\n",
       "    </tr>\n",
       "    <tr>\n",
       "      <th id=\"T_1b22f_level0_row3\" class=\"row_heading level0 row3\" >user_id</th>\n",
       "      <td id=\"T_1b22f_row3_col0\" class=\"data row3 col0\" >0</td>\n",
       "      <td id=\"T_1b22f_row3_col1\" class=\"data row3 col1\" >0.0%</td>\n",
       "    </tr>\n",
       "  </tbody>\n",
       "</table>\n"
      ],
      "text/plain": [
       "<pandas.io.formats.style.Styler at 0x22ba5b161d0>"
      ]
     },
     "metadata": {},
     "output_type": "display_data"
    },
    {
     "name": "stdout",
     "output_type": "stream",
     "text": [
      "\n",
      " Количество явных дубликатов: 0\n"
     ]
    }
   ],
   "source": [
    "try:\n",
    "    df_internet = pd.read_csv('internet.csv', index_col=0)\n",
    "except:\n",
    "    df_internet = pd.read_csv('/datasets/internet.csv', index_col=0)\n",
    "info_data(df_internet)"
   ]
  },
  {
   "cell_type": "markdown",
   "id": "913f201f",
   "metadata": {},
   "source": [
    "Тут так же необходимо провести предобработку данных по аналогии с предыдущими таблицами."
   ]
  },
  {
   "cell_type": "markdown",
   "id": "be21d7e8",
   "metadata": {},
   "source": [
    "## Обзор таблицы `tariffs`"
   ]
  },
  {
   "cell_type": "code",
   "execution_count": 7,
   "id": "069bb5ba",
   "metadata": {},
   "outputs": [
    {
     "name": "stdout",
     "output_type": "stream",
     "text": [
      "<class 'pandas.core.frame.DataFrame'>\n",
      "RangeIndex: 2 entries, 0 to 1\n",
      "Data columns (total 8 columns):\n",
      " #   Column                 Non-Null Count  Dtype \n",
      "---  ------                 --------------  ----- \n",
      " 0   messages_included      2 non-null      int64 \n",
      " 1   mb_per_month_included  2 non-null      int64 \n",
      " 2   minutes_included       2 non-null      int64 \n",
      " 3   rub_monthly_fee        2 non-null      int64 \n",
      " 4   rub_per_gb             2 non-null      int64 \n",
      " 5   rub_per_message        2 non-null      int64 \n",
      " 6   rub_per_minute         2 non-null      int64 \n",
      " 7   tariff_name            2 non-null      object\n",
      "dtypes: int64(7), object(1)\n",
      "memory usage: 256.0+ bytes\n"
     ]
    }
   ],
   "source": [
    "try:\n",
    "    df_tariffs = pd.read_csv('tariffs.csv')\n",
    "except:\n",
    "    df_tariffs = pd.read_csv('/datasets/tariffs.csv')\n",
    "df_tariffs.info()"
   ]
  },
  {
   "cell_type": "markdown",
   "id": "fbc21c8d",
   "metadata": {},
   "source": [
    "|    |   messages_included |   mb_per_month_included |   minutes_included |   rub_monthly_fee |   rub_per_gb |   rub_per_message |   rub_per_minute | tariff_name   |\n",
    "|---:|--------------------:|------------------------:|-------------------:|------------------:|-------------:|------------------:|-----------------:|:--------------|\n",
    "|  0 |                  50 |                   15360 |                500 |               550 |          200 |                 3 |                3 | smart         |\n",
    "|  1 |                1000 |                   30720 |               3000 |              1950 |          150 |                 1 |                1 | ultra         |"
   ]
  },
  {
   "cell_type": "markdown",
   "id": "f3599b28",
   "metadata": {},
   "source": [
    "Все форматы можно привести к менее ресурсо затратным. Встает только впорос заполнять ли этими данным всю итоговую таблицу или обращаться к ней как к справочнику во время расчетов."
   ]
  },
  {
   "cell_type": "markdown",
   "id": "6b5cf03a",
   "metadata": {},
   "source": [
    "## Вывод"
   ]
  },
  {
   "cell_type": "markdown",
   "id": "baecefb1",
   "metadata": {},
   "source": [
    "- Предоставлено достаточно большое количество данных, но для работы необходима их обработка.  \n",
    "- Для анализа необходима итоговая форма таблицы, где будут сгрупирована необходимая информация для анализа по 2 уровням, по пользователям и по каждому месяцу использования тарифа.\n",
    "- Необходима проработка формата данных в более эффективный\n",
    "- Из данных следует удалить колонки, которые не понадобятся в анализе, например такие как имя и фамилия пользователя\n",
    "- Явные дубликаты в таблицах отсутствуют\n",
    "- Формат даты необходимо сократить до месяца"
   ]
  },
  {
   "cell_type": "markdown",
   "id": "2979e90c",
   "metadata": {},
   "source": [
    "# Подготовка данных"
   ]
  },
  {
   "cell_type": "markdown",
   "id": "a28fcbf5",
   "metadata": {},
   "source": [
    "Для дальнейшего анализа выгруженный таблицы нужно сделать 1 итоговую таблицу для анализа, но перед тем как их объединить, обработаетм каждую таблицу отдельно, уберем ненужную информацию, обработаем данные, а потом уже займем вопросом совмещения таблиц."
   ]
  },
  {
   "cell_type": "markdown",
   "id": "5af6c2b3",
   "metadata": {},
   "source": [
    "## Подготовка `users`"
   ]
  },
  {
   "cell_type": "markdown",
   "id": "425b1e03",
   "metadata": {
    "tags": []
   },
   "source": [
    "### Очистка"
   ]
  },
  {
   "cell_type": "markdown",
   "id": "582f1a9a",
   "metadata": {},
   "source": [
    "Избавимся (из данных, а то как-то неправильно звучит...) от клиентов которые не пользуеются тарифом"
   ]
  },
  {
   "cell_type": "raw",
   "id": "3627bbc3",
   "metadata": {},
   "source": [
    "df_users = df_users[df_users['churn_date'].isna()]\n",
    "df_users.info()"
   ]
  },
  {
   "cell_type": "markdown",
   "id": "4c9bff66",
   "metadata": {},
   "source": [
    "Теперь уберем колонки, которые нам не понадобятся"
   ]
  },
  {
   "cell_type": "code",
   "execution_count": 8,
   "id": "6f98aa10",
   "metadata": {},
   "outputs": [
    {
     "name": "stdout",
     "output_type": "stream",
     "text": [
      "<class 'pandas.core.frame.DataFrame'>\n",
      "RangeIndex: 500 entries, 0 to 499\n",
      "Data columns (total 6 columns):\n",
      " #   Column      Non-Null Count  Dtype \n",
      "---  ------      --------------  ----- \n",
      " 0   user_id     500 non-null    int64 \n",
      " 1   age         500 non-null    int64 \n",
      " 2   churn_date  38 non-null     object\n",
      " 3   city        500 non-null    object\n",
      " 4   reg_date    500 non-null    object\n",
      " 5   tariff      500 non-null    object\n",
      "dtypes: int64(2), object(4)\n",
      "memory usage: 23.6+ KB\n"
     ]
    }
   ],
   "source": [
    "df_users.drop(['first_name', 'last_name'], axis = 1, inplace = True)\n",
    "df_users.info()"
   ]
  },
  {
   "cell_type": "markdown",
   "id": "56e8281a",
   "metadata": {},
   "source": [
    "Отсальные данные могут нам пригодится для дальнейшего анализа"
   ]
  },
  {
   "cell_type": "markdown",
   "id": "6014dfb3",
   "metadata": {
    "tags": []
   },
   "source": [
    "### Поиск аномалий"
   ]
  },
  {
   "cell_type": "markdown",
   "id": "2e31f842",
   "metadata": {},
   "source": [
    "Посмотри как располагаются чисолвые значения. В нашем слуаи только колонка возраста"
   ]
  },
  {
   "cell_type": "code",
   "execution_count": 9,
   "id": "4de40b50",
   "metadata": {},
   "outputs": [
    {
     "data": {
      "image/png": "[encoded data removed]",
      "text/plain": [
       "<Figure size 576x288 with 1 Axes>"
      ]
     },
     "metadata": {},
     "output_type": "display_data"
    }
   ],
   "source": [
    "df_users['age'].hist(bins=20)\n",
    "plt.title('Распределение возраста клиентов')\n",
    "plt.xlabel('Возраст')\n",
    "plt.ylabel('Количество клиентов')\n",
    "plt.show()"
   ]
  },
  {
   "cell_type": "markdown",
   "id": "316e7840",
   "metadata": {},
   "source": [
    "По графикам каких-либо отклонений или выбросов не видно, все в пределах нормы."
   ]
  },
  {
   "cell_type": "code",
   "execution_count": 10,
   "id": "06ea4220",
   "metadata": {},
   "outputs": [
    {
     "data": {
      "text/plain": [
       "city\n",
       "Москва              99\n",
       "Санкт-Петербург     39\n",
       "Новосибирск         16\n",
       "Казань              14\n",
       "Омск                14\n",
       "Уфа                 12\n",
       "Набережные Челны    11\n",
       "Краснодар           11\n",
       "Екатеринбург        11\n",
       "Ульяновск           11\n",
       "Самара               9\n",
       "Челябинск            9\n",
       "Пермь                8\n",
       "Нижний Новгород      8\n",
       "Волгоград            8\n",
       "Name: user_id, dtype: int64"
      ]
     },
     "execution_count": 10,
     "metadata": {},
     "output_type": "execute_result"
    }
   ],
   "source": [
    "df_users.groupby('city').count()['user_id'].sort_values(ascending = False).head(15)"
   ]
  },
  {
   "cell_type": "markdown",
   "id": "f489d8be",
   "metadata": {},
   "source": [
    "Как и предполагалось московских клиентов оказалась большая часть предоставленных данных. Хотя это возможно из-за разного количество населения в городах, тогда выборка представляется приблизительно равномерно населению города."
   ]
  },
  {
   "cell_type": "markdown",
   "id": "03f4c8ef",
   "metadata": {},
   "source": [
    "### Изменение типов данных"
   ]
  },
  {
   "cell_type": "markdown",
   "id": "15a724ed",
   "metadata": {},
   "source": [
    "Преобразуем формат данных в более подхрдящий и ресурсоэффективный формат. Начнем с даты"
   ]
  },
  {
   "cell_type": "code",
   "execution_count": 11,
   "id": "ea2224e5",
   "metadata": {},
   "outputs": [
    {
     "data": {
      "text/plain": [
       "user_id        int64\n",
       "age            int64\n",
       "churn_date    object\n",
       "city          object\n",
       "reg_date      object\n",
       "tariff        object\n",
       "dtype: object"
      ]
     },
     "execution_count": 11,
     "metadata": {},
     "output_type": "execute_result"
    }
   ],
   "source": [
    "df_users.dtypes"
   ]
  },
  {
   "cell_type": "code",
   "execution_count": 12,
   "id": "a3fd926d",
   "metadata": {},
   "outputs": [
    {
     "name": "stdout",
     "output_type": "stream",
     "text": [
      "<class 'pandas.core.frame.DataFrame'>\n",
      "RangeIndex: 500 entries, 0 to 499\n",
      "Data columns (total 6 columns):\n",
      " #   Column      Dtype         \n",
      "---  ------      -----         \n",
      " 0   user_id     uint16        \n",
      " 1   age         uint8         \n",
      " 2   churn_date  datetime64[ns]\n",
      " 3   city        category      \n",
      " 4   reg_date    datetime64[ns]\n",
      " 5   tariff      category      \n",
      "dtypes: category(2), datetime64[ns](2), uint16(1), uint8(1)\n",
      "memory usage: 13.1 KB\n"
     ]
    }
   ],
   "source": [
    "df_users['churn_date']      = pd.to_datetime(df_users['churn_date'], format='%Y-%m-%d')\n",
    "df_users['reg_date']        = pd.to_datetime(df_users['reg_date'], format='%Y-%m-%d')\n",
    "df_users['user_id']         = df_users['user_id'].astype('uint16')\n",
    "df_users['age']             = df_users['age'].astype('uint8')\n",
    "df_users[['city','tariff']] = df_users[['city','tariff']].astype('category')\n",
    "df_users.info(show_counts=False)"
   ]
  },
  {
   "cell_type": "markdown",
   "id": "aebc8077",
   "metadata": {},
   "source": [
    "Отлично. Нам удалось сократить занимаемую память с 31.4 Kб до 13.1 Кб"
   ]
  },
  {
   "cell_type": "code",
   "execution_count": 13,
   "id": "916121a2",
   "metadata": {},
   "outputs": [
    {
     "data": {
      "image/png": "[encoded data removed]",
      "text/plain": [
       "<Figure size 576x288 with 1 Axes>"
      ]
     },
     "metadata": {},
     "output_type": "display_data"
    },
    {
     "data": {
      "image/png": "[encoded data removed]",
      "text/plain": [
       "<Figure size 576x288 with 1 Axes>"
      ]
     },
     "metadata": {},
     "output_type": "display_data"
    }
   ],
   "source": [
    "df_users['reg_date'].hist(bins=20)\n",
    "plt.title('Распределение даты регистрации')\n",
    "plt.xlabel('Дата регистрации')\n",
    "plt.ylabel('Количество клиентов')\n",
    "plt.show()\n",
    "\n",
    "df_users['churn_date'].hist(bins=20)\n",
    "plt.title('Распределение даты регистрации')\n",
    "plt.xlabel('Дата регистрации')\n",
    "plt.ylabel('Количество клиентов')\n",
    "plt.show()"
   ]
  },
  {
   "cell_type": "markdown",
   "id": "bc77c9ed",
   "metadata": {},
   "source": [
    "Распределение дат зарегистрированных показывает нам что на протяжении всего 2018 года количество клиентов увеличивалось. Отток клиентов был незначительный, и увеличение отток можно объяснить увеличением общего числа клиентов в компании."
   ]
  },
  {
   "cell_type": "markdown",
   "id": "1992fb08",
   "metadata": {},
   "source": [
    "## Подготовка `calls`"
   ]
  },
  {
   "cell_type": "markdown",
   "id": "288116c6",
   "metadata": {},
   "source": [
    "### Очистка"
   ]
  },
  {
   "cell_type": "code",
   "execution_count": 14,
   "id": "72dddce5",
   "metadata": {},
   "outputs": [
    {
     "name": "stdout",
     "output_type": "stream",
     "text": [
      "<class 'pandas.core.frame.DataFrame'>\n",
      "RangeIndex: 202607 entries, 0 to 202606\n",
      "Data columns (total 4 columns):\n",
      " #   Column     Non-Null Count   Dtype  \n",
      "---  ------     --------------   -----  \n",
      " 0   id         202607 non-null  object \n",
      " 1   call_date  202607 non-null  object \n",
      " 2   duration   202607 non-null  float64\n",
      " 3   user_id    202607 non-null  int64  \n",
      "dtypes: float64(1), int64(1), object(2)\n",
      "memory usage: 6.2+ MB\n"
     ]
    }
   ],
   "source": [
    "df_calls.info()"
   ]
  },
  {
   "cell_type": "markdown",
   "id": "7f109b35",
   "metadata": {},
   "source": [
    "Для начала избавимся от колонки id, так как она нам не нужна для анализа"
   ]
  },
  {
   "cell_type": "code",
   "execution_count": 15,
   "id": "90271949",
   "metadata": {},
   "outputs": [],
   "source": [
    "df_calls.drop('id', axis=1, inplace = True)"
   ]
  },
  {
   "cell_type": "markdown",
   "id": "7a30a237",
   "metadata": {},
   "source": [
    "### Изменение типа данных"
   ]
  },
  {
   "cell_type": "markdown",
   "id": "11c0baf9",
   "metadata": {},
   "source": [
    "Теперь изменим тип данных в таблице."
   ]
  },
  {
   "cell_type": "code",
   "execution_count": 16,
   "id": "19849c2c",
   "metadata": {},
   "outputs": [],
   "source": [
    "df_calls['user_id'] = df_calls['user_id'].astype('uint16')"
   ]
  },
  {
   "cell_type": "markdown",
   "id": "56765ca2",
   "metadata": {},
   "source": [
    "И так как весь анализ у нас будет происходить по месяц, то в колонку с датой сразу поставим номер месяца и преобразуем формат. Это позволительно так как данные у нас имеются ровно за 2018 год."
   ]
  },
  {
   "cell_type": "code",
   "execution_count": 17,
   "id": "f4955179",
   "metadata": {},
   "outputs": [],
   "source": [
    "df_calls['call_date'] = pd.to_datetime(df_calls['call_date'], format='%Y-%m-%d')\n",
    "df_calls['call_date'] = pd.DatetimeIndex(df_calls['call_date']).month\n",
    "df_calls['call_date'] = df_calls['call_date'].astype('uint8')"
   ]
  },
  {
   "cell_type": "markdown",
   "id": "886a6a82",
   "metadata": {},
   "source": [
    "Так как минуты нас интересуют с точки зрения оплаты, приведем данные с целочисленным значениям с округлением в большую сторону (по логике платы за время звонков)"
   ]
  },
  {
   "cell_type": "code",
   "execution_count": 18,
   "id": "2131bbfb",
   "metadata": {},
   "outputs": [
    {
     "data": {
      "text/plain": [
       "0    0.00\n",
       "1    0.00\n",
       "2    2.85\n",
       "3   13.80\n",
       "4    5.18\n",
       "Name: duration, dtype: float64"
      ]
     },
     "execution_count": 18,
     "metadata": {},
     "output_type": "execute_result"
    }
   ],
   "source": [
    "df_calls['duration'].head()"
   ]
  },
  {
   "cell_type": "code",
   "execution_count": 19,
   "id": "fd7ca1ee",
   "metadata": {},
   "outputs": [
    {
     "data": {
      "text/plain": [
       "0    0.00\n",
       "1    0.00\n",
       "2    3.00\n",
       "3   14.00\n",
       "4    6.00\n",
       "Name: duration, dtype: float64"
      ]
     },
     "execution_count": 19,
     "metadata": {},
     "output_type": "execute_result"
    }
   ],
   "source": [
    "df_calls['duration'] = df_calls['duration'].apply(np.ceil)\n",
    "df_calls['duration'].head()"
   ]
  },
  {
   "cell_type": "code",
   "execution_count": 20,
   "id": "741d7a41",
   "metadata": {},
   "outputs": [
    {
     "name": "stdout",
     "output_type": "stream",
     "text": [
      "<class 'pandas.core.frame.DataFrame'>\n",
      "RangeIndex: 202607 entries, 0 to 202606\n",
      "Data columns (total 3 columns):\n",
      " #   Column     Non-Null Count   Dtype  \n",
      "---  ------     --------------   -----  \n",
      " 0   call_date  202607 non-null  uint8  \n",
      " 1   duration   202607 non-null  float64\n",
      " 2   user_id    202607 non-null  uint16 \n",
      "dtypes: float64(1), uint16(1), uint8(1)\n",
      "memory usage: 2.1 MB\n"
     ]
    }
   ],
   "source": [
    "df_calls.info()"
   ]
  },
  {
   "cell_type": "markdown",
   "id": "211d2d3e",
   "metadata": {},
   "source": [
    "Отлично. Нам удалось сократить занимаемую память с 6.2 Mб до 791.6 Кб"
   ]
  },
  {
   "cell_type": "markdown",
   "id": "84d9379a",
   "metadata": {},
   "source": [
    "### Поиск аномалий"
   ]
  },
  {
   "cell_type": "code",
   "execution_count": 21,
   "id": "9fb07f55",
   "metadata": {},
   "outputs": [
    {
     "data": {
      "image/png": "[encoded data removed]",
      "text/plain": [
       "<Figure size 504x144 with 1 Axes>"
      ]
     },
     "metadata": {},
     "output_type": "display_data"
    }
   ],
   "source": [
    "plt.figure(figsize=(7,2))\n",
    "\n",
    "ax = sns.boxplot(x=df_calls['duration'])\n",
    "\n",
    "plt.title('Ящик с распределением длительности звонков')\n",
    "plt.xlabel('Продолжительность звонка, мин')\n",
    "plt.show()"
   ]
  },
  {
   "cell_type": "code",
   "execution_count": 22,
   "id": "6f38318a",
   "metadata": {},
   "outputs": [
    {
     "data": {
      "text/plain": [
       "call_date    678\n",
       "duration     678\n",
       "user_id      678\n",
       "dtype: int64"
      ]
     },
     "execution_count": 22,
     "metadata": {},
     "output_type": "execute_result"
    }
   ],
   "source": [
    "df_calls.query('duration > 25').count()"
   ]
  },
  {
   "cell_type": "markdown",
   "id": "0ee37fda",
   "metadata": {},
   "source": [
    "Не смотря на то, что в данных есть выбросы относительно квартилей, удалять их было бы неправильно, поэтому оставим без изменения."
   ]
  },
  {
   "cell_type": "markdown",
   "id": "e5d89823",
   "metadata": {},
   "source": [
    "## Подготовка `messages`"
   ]
  },
  {
   "cell_type": "markdown",
   "id": "d5a74a2d",
   "metadata": {},
   "source": [
    "Проведем предобработку аналогично предыдущей таблице"
   ]
  },
  {
   "cell_type": "code",
   "execution_count": 23,
   "id": "f19e74b2",
   "metadata": {},
   "outputs": [
    {
     "name": "stdout",
     "output_type": "stream",
     "text": [
      "<class 'pandas.core.frame.DataFrame'>\n",
      "RangeIndex: 123036 entries, 0 to 123035\n",
      "Data columns (total 3 columns):\n",
      " #   Column        Non-Null Count   Dtype \n",
      "---  ------        --------------   ----- \n",
      " 0   id            123036 non-null  object\n",
      " 1   message_date  123036 non-null  object\n",
      " 2   user_id       123036 non-null  int64 \n",
      "dtypes: int64(1), object(2)\n",
      "memory usage: 2.8+ MB\n"
     ]
    }
   ],
   "source": [
    "df_messages.info()"
   ]
  },
  {
   "cell_type": "code",
   "execution_count": 24,
   "id": "7578bfbe",
   "metadata": {},
   "outputs": [
    {
     "name": "stdout",
     "output_type": "stream",
     "text": [
      "<class 'pandas.core.frame.DataFrame'>\n",
      "RangeIndex: 123036 entries, 0 to 123035\n",
      "Data columns (total 2 columns):\n",
      " #   Column        Non-Null Count   Dtype \n",
      "---  ------        --------------   ----- \n",
      " 0   message_date  123036 non-null  uint8 \n",
      " 1   user_id       123036 non-null  uint16\n",
      "dtypes: uint16(1), uint8(1)\n",
      "memory usage: 360.6 KB\n"
     ]
    }
   ],
   "source": [
    "df_messages.drop('id', axis = 1, inplace = True)\n",
    "\n",
    "df_messages['user_id'] = df_messages['user_id'].astype('uint16')\n",
    "\n",
    "df_messages['message_date'] = pd.to_datetime(df_messages['message_date'], format='%Y-%m-%d')\n",
    "df_messages['message_date'] = pd.DatetimeIndex(df_messages['message_date']).month\n",
    "df_messages['message_date'] = df_messages['message_date'].astype('uint8')\n",
    "\n",
    "df_messages.info()"
   ]
  },
  {
   "cell_type": "markdown",
   "id": "1d708e4a",
   "metadata": {},
   "source": [
    "Отлично. Лишнее удалено, дата изменена, а потребление памяти удалось сократить с 2.8 Mб до 360.6 Кб"
   ]
  },
  {
   "cell_type": "markdown",
   "id": "efc71328",
   "metadata": {},
   "source": [
    "## Подготовка `internet`"
   ]
  },
  {
   "cell_type": "markdown",
   "id": "e28ad44e",
   "metadata": {},
   "source": [
    "Так же предобработаем и трафик интернета"
   ]
  },
  {
   "cell_type": "code",
   "execution_count": 25,
   "id": "cb1f7508",
   "metadata": {
    "scrolled": true
   },
   "outputs": [
    {
     "name": "stdout",
     "output_type": "stream",
     "text": [
      "<class 'pandas.core.frame.DataFrame'>\n",
      "Int64Index: 149396 entries, 0 to 149395\n",
      "Data columns (total 4 columns):\n",
      " #   Column        Non-Null Count   Dtype  \n",
      "---  ------        --------------   -----  \n",
      " 0   id            149396 non-null  object \n",
      " 1   mb_used       149396 non-null  float64\n",
      " 2   session_date  149396 non-null  object \n",
      " 3   user_id       149396 non-null  int64  \n",
      "dtypes: float64(1), int64(1), object(2)\n",
      "memory usage: 5.7+ MB\n"
     ]
    }
   ],
   "source": [
    "df_internet.info()"
   ]
  },
  {
   "cell_type": "code",
   "execution_count": 26,
   "id": "819481c8",
   "metadata": {},
   "outputs": [
    {
     "name": "stdout",
     "output_type": "stream",
     "text": [
      "<class 'pandas.core.frame.DataFrame'>\n",
      "Int64Index: 149396 entries, 0 to 149395\n",
      "Data columns (total 3 columns):\n",
      " #   Column        Non-Null Count   Dtype  \n",
      "---  ------        --------------   -----  \n",
      " 0   mb_used       149396 non-null  float16\n",
      " 1   session_date  149396 non-null  uint8  \n",
      " 2   user_id       149396 non-null  uint16 \n",
      "dtypes: float16(1), uint16(1), uint8(1)\n",
      "memory usage: 1.9 MB\n"
     ]
    }
   ],
   "source": [
    "df_internet.drop('id', axis = 1, inplace = True)\n",
    "\n",
    "df_internet['user_id'] = df_internet['user_id'].astype('uint16')\n",
    "df_internet['mb_used'] = df_internet['mb_used'].astype('float16')\n",
    "df_internet['session_date'] = pd.to_datetime(df_internet['session_date'], format='%Y-%m-%d')\n",
    "df_internet['session_date'] = pd.DatetimeIndex(df_internet['session_date']).month\n",
    "df_internet['session_date'] = df_internet['session_date'].astype('uint8')\n",
    "\n",
    "df_internet.info()"
   ]
  },
  {
   "cell_type": "markdown",
   "id": "48add44f",
   "metadata": {},
   "source": [
    "Потребление памяти удалось сократить с 5.7 Mб до 1.9 Мб\n",
    "\n",
    "Посмотрим на распределение затраченного интернета"
   ]
  },
  {
   "cell_type": "code",
   "execution_count": 27,
   "id": "33f37cf4",
   "metadata": {},
   "outputs": [
    {
     "data": {
      "image/png": "[encoded data removed]",
      "text/plain": [
       "<Figure size 504x144 with 1 Axes>"
      ]
     },
     "metadata": {},
     "output_type": "display_data"
    }
   ],
   "source": [
    "plt.figure(figsize=(7,2))\n",
    "\n",
    "sns.boxplot(x=df_internet['mb_used'])\n",
    "plt.title('Ящик с распределением затраченного интернета')\n",
    "plt.xlabel('Затрачено трафика, мин')\n",
    "plt.show()"
   ]
  },
  {
   "cell_type": "markdown",
   "id": "113e49e8",
   "metadata": {},
   "source": [
    "Значения выросов незначительно, поэтому не требуют обработки"
   ]
  },
  {
   "cell_type": "markdown",
   "id": "c01ba80b",
   "metadata": {},
   "source": [
    "## Подготовка `tariffs`"
   ]
  },
  {
   "cell_type": "markdown",
   "id": "c7543755",
   "metadata": {},
   "source": [
    "Табрифа с описание таблицы как-либо обработки не трбует кроме разве что изменения типа данных"
   ]
  },
  {
   "cell_type": "code",
   "execution_count": 28,
   "id": "94997bfa",
   "metadata": {},
   "outputs": [
    {
     "data": {
      "text/html": [
       "<div>\n",
       "<style scoped>\n",
       "    .dataframe tbody tr th:only-of-type {\n",
       "        vertical-align: middle;\n",
       "    }\n",
       "\n",
       "    .dataframe tbody tr th {\n",
       "        vertical-align: top;\n",
       "    }\n",
       "\n",
       "    .dataframe thead th {\n",
       "        text-align: right;\n",
       "    }\n",
       "</style>\n",
       "<table border=\"1\" class=\"dataframe\">\n",
       "  <thead>\n",
       "    <tr style=\"text-align: right;\">\n",
       "      <th></th>\n",
       "      <th>messages_included</th>\n",
       "      <th>mb_per_month_included</th>\n",
       "      <th>minutes_included</th>\n",
       "      <th>rub_monthly_fee</th>\n",
       "      <th>rub_per_gb</th>\n",
       "      <th>rub_per_message</th>\n",
       "      <th>rub_per_minute</th>\n",
       "      <th>tariff_name</th>\n",
       "    </tr>\n",
       "  </thead>\n",
       "  <tbody>\n",
       "    <tr>\n",
       "      <th>0</th>\n",
       "      <td>50</td>\n",
       "      <td>15360</td>\n",
       "      <td>500</td>\n",
       "      <td>550</td>\n",
       "      <td>200</td>\n",
       "      <td>3</td>\n",
       "      <td>3</td>\n",
       "      <td>smart</td>\n",
       "    </tr>\n",
       "    <tr>\n",
       "      <th>1</th>\n",
       "      <td>1000</td>\n",
       "      <td>30720</td>\n",
       "      <td>3000</td>\n",
       "      <td>1950</td>\n",
       "      <td>150</td>\n",
       "      <td>1</td>\n",
       "      <td>1</td>\n",
       "      <td>ultra</td>\n",
       "    </tr>\n",
       "  </tbody>\n",
       "</table>\n",
       "</div>"
      ],
      "text/plain": [
       "   messages_included  mb_per_month_included  minutes_included  \\\n",
       "0                 50                  15360               500   \n",
       "1               1000                  30720              3000   \n",
       "\n",
       "   rub_monthly_fee  rub_per_gb  rub_per_message  rub_per_minute tariff_name  \n",
       "0              550         200                3               3       smart  \n",
       "1             1950         150                1               1       ultra  "
      ]
     },
     "execution_count": 28,
     "metadata": {},
     "output_type": "execute_result"
    }
   ],
   "source": [
    "df_tariffs"
   ]
  },
  {
   "cell_type": "code",
   "execution_count": 29,
   "id": "1dde96f5",
   "metadata": {},
   "outputs": [
    {
     "data": {
      "text/plain": [
       "messages_included         int64\n",
       "mb_per_month_included     int64\n",
       "minutes_included          int64\n",
       "rub_monthly_fee           int64\n",
       "rub_per_gb                int64\n",
       "rub_per_message           int64\n",
       "rub_per_minute            int64\n",
       "tariff_name              object\n",
       "dtype: object"
      ]
     },
     "execution_count": 29,
     "metadata": {},
     "output_type": "execute_result"
    }
   ],
   "source": [
    "df_tariffs.dtypes"
   ]
  },
  {
   "cell_type": "code",
   "execution_count": 30,
   "id": "b91605bd",
   "metadata": {},
   "outputs": [
    {
     "name": "stdout",
     "output_type": "stream",
     "text": [
      "<class 'pandas.core.frame.DataFrame'>\n",
      "RangeIndex: 2 entries, 0 to 1\n",
      "Data columns (total 8 columns):\n",
      " #   Column                 Non-Null Count  Dtype   \n",
      "---  ------                 --------------  -----   \n",
      " 0   messages_included      2 non-null      uint16  \n",
      " 1   mb_per_month_included  2 non-null      uint16  \n",
      " 2   minutes_included       2 non-null      uint16  \n",
      " 3   rub_monthly_fee        2 non-null      uint16  \n",
      " 4   rub_per_gb             2 non-null      uint8   \n",
      " 5   rub_per_message        2 non-null      uint8   \n",
      " 6   rub_per_minute         2 non-null      uint8   \n",
      " 7   tariff_name            2 non-null      category\n",
      "dtypes: category(1), uint16(4), uint8(3)\n",
      "memory usage: 276.0 bytes\n"
     ]
    }
   ],
   "source": [
    "list_col = ['messages_included','mb_per_month_included', 'minutes_included', 'rub_monthly_fee']\n",
    "df_tariffs[list_col] = df_tariffs[list_col].astype('uint16')\n",
    "\n",
    "list_col = ['rub_per_gb', 'rub_per_message', 'rub_per_minute']\n",
    "df_tariffs[list_col] = df_tariffs[list_col].astype('uint8')\n",
    "\n",
    "df_tariffs['tariff_name'] = df_tariffs['tariff_name'].astype('category')\n",
    "\n",
    "df_tariffs.info()"
   ]
  },
  {
   "cell_type": "markdown",
   "id": "b77d362c",
   "metadata": {},
   "source": [
    "## Расчеты"
   ]
  },
  {
   "cell_type": "markdown",
   "id": "cc9b4daf",
   "metadata": {},
   "source": [
    "Так как все расчеты будут производится на основе месячной активности сгруппируем данные по клиентам и месяцам. И начнем расчеты с таблицы вызовов."
   ]
  },
  {
   "cell_type": "markdown",
   "id": "6ed4e82a",
   "metadata": {},
   "source": [
    "### Подсчеты `calls`"
   ]
  },
  {
   "cell_type": "code",
   "execution_count": 31,
   "id": "8e49e04b",
   "metadata": {},
   "outputs": [
    {
     "name": "stdout",
     "output_type": "stream",
     "text": [
      "<class 'pandas.core.frame.DataFrame'>\n",
      "RangeIndex: 3174 entries, 0 to 3173\n",
      "Data columns (total 4 columns):\n",
      " #   Column          Non-Null Count  Dtype \n",
      "---  ------          --------------  ----- \n",
      " 0   user_id         3174 non-null   uint16\n",
      " 1   month           3174 non-null   uint8 \n",
      " 2   duration_count  3174 non-null   uint8 \n",
      " 3   duration_sum    3174 non-null   uint16\n",
      "dtypes: uint16(2), uint8(2)\n",
      "memory usage: 18.7 KB\n"
     ]
    },
    {
     "data": {
      "text/html": [
       "<div>\n",
       "<style scoped>\n",
       "    .dataframe tbody tr th:only-of-type {\n",
       "        vertical-align: middle;\n",
       "    }\n",
       "\n",
       "    .dataframe tbody tr th {\n",
       "        vertical-align: top;\n",
       "    }\n",
       "\n",
       "    .dataframe thead th {\n",
       "        text-align: right;\n",
       "    }\n",
       "</style>\n",
       "<table border=\"1\" class=\"dataframe\">\n",
       "  <thead>\n",
       "    <tr style=\"text-align: right;\">\n",
       "      <th></th>\n",
       "      <th>user_id</th>\n",
       "      <th>month</th>\n",
       "      <th>duration_count</th>\n",
       "      <th>duration_sum</th>\n",
       "    </tr>\n",
       "  </thead>\n",
       "  <tbody>\n",
       "    <tr>\n",
       "      <th>0</th>\n",
       "      <td>1000</td>\n",
       "      <td>5</td>\n",
       "      <td>22</td>\n",
       "      <td>159</td>\n",
       "    </tr>\n",
       "    <tr>\n",
       "      <th>1</th>\n",
       "      <td>1000</td>\n",
       "      <td>6</td>\n",
       "      <td>43</td>\n",
       "      <td>172</td>\n",
       "    </tr>\n",
       "    <tr>\n",
       "      <th>2</th>\n",
       "      <td>1000</td>\n",
       "      <td>7</td>\n",
       "      <td>47</td>\n",
       "      <td>340</td>\n",
       "    </tr>\n",
       "    <tr>\n",
       "      <th>3</th>\n",
       "      <td>1000</td>\n",
       "      <td>8</td>\n",
       "      <td>52</td>\n",
       "      <td>408</td>\n",
       "    </tr>\n",
       "    <tr>\n",
       "      <th>4</th>\n",
       "      <td>1000</td>\n",
       "      <td>9</td>\n",
       "      <td>58</td>\n",
       "      <td>466</td>\n",
       "    </tr>\n",
       "    <tr>\n",
       "      <th>5</th>\n",
       "      <td>1000</td>\n",
       "      <td>10</td>\n",
       "      <td>57</td>\n",
       "      <td>350</td>\n",
       "    </tr>\n",
       "    <tr>\n",
       "      <th>6</th>\n",
       "      <td>1000</td>\n",
       "      <td>11</td>\n",
       "      <td>43</td>\n",
       "      <td>338</td>\n",
       "    </tr>\n",
       "    <tr>\n",
       "      <th>7</th>\n",
       "      <td>1000</td>\n",
       "      <td>12</td>\n",
       "      <td>46</td>\n",
       "      <td>333</td>\n",
       "    </tr>\n",
       "    <tr>\n",
       "      <th>8</th>\n",
       "      <td>1001</td>\n",
       "      <td>11</td>\n",
       "      <td>59</td>\n",
       "      <td>430</td>\n",
       "    </tr>\n",
       "    <tr>\n",
       "      <th>9</th>\n",
       "      <td>1001</td>\n",
       "      <td>12</td>\n",
       "      <td>63</td>\n",
       "      <td>414</td>\n",
       "    </tr>\n",
       "    <tr>\n",
       "      <th>10</th>\n",
       "      <td>1002</td>\n",
       "      <td>6</td>\n",
       "      <td>15</td>\n",
       "      <td>117</td>\n",
       "    </tr>\n",
       "    <tr>\n",
       "      <th>11</th>\n",
       "      <td>1002</td>\n",
       "      <td>7</td>\n",
       "      <td>26</td>\n",
       "      <td>214</td>\n",
       "    </tr>\n",
       "    <tr>\n",
       "      <th>12</th>\n",
       "      <td>1002</td>\n",
       "      <td>8</td>\n",
       "      <td>42</td>\n",
       "      <td>289</td>\n",
       "    </tr>\n",
       "    <tr>\n",
       "      <th>13</th>\n",
       "      <td>1002</td>\n",
       "      <td>9</td>\n",
       "      <td>36</td>\n",
       "      <td>206</td>\n",
       "    </tr>\n",
       "    <tr>\n",
       "      <th>14</th>\n",
       "      <td>1002</td>\n",
       "      <td>10</td>\n",
       "      <td>33</td>\n",
       "      <td>212</td>\n",
       "    </tr>\n",
       "  </tbody>\n",
       "</table>\n",
       "</div>"
      ],
      "text/plain": [
       "    user_id  month  duration_count  duration_sum\n",
       "0      1000      5              22           159\n",
       "1      1000      6              43           172\n",
       "2      1000      7              47           340\n",
       "3      1000      8              52           408\n",
       "4      1000      9              58           466\n",
       "5      1000     10              57           350\n",
       "6      1000     11              43           338\n",
       "7      1000     12              46           333\n",
       "8      1001     11              59           430\n",
       "9      1001     12              63           414\n",
       "10     1002      6              15           117\n",
       "11     1002      7              26           214\n",
       "12     1002      8              42           289\n",
       "13     1002      9              36           206\n",
       "14     1002     10              33           212"
      ]
     },
     "execution_count": 31,
     "metadata": {},
     "output_type": "execute_result"
    }
   ],
   "source": [
    "calls_grouped = df_calls.groupby(['user_id', 'call_date'])   \\\n",
    "                        .agg({'duration': ['count', 'sum']}) \\\n",
    "                        .reset_index()                       \\\n",
    "                        .set_axis(['user_id',\n",
    "                                   'month',\n",
    "                                   'duration_count',\n",
    "                                   'duration_sum'],\n",
    "                                  axis='columns')\n",
    "list_col = ['month', 'duration_count']\n",
    "calls_grouped[list_col] = calls_grouped[list_col].astype('uint8')\n",
    "list_col = ['user_id', 'duration_sum']\n",
    "calls_grouped[list_col] = calls_grouped[list_col].astype('uint16')\n",
    "\n",
    "calls_grouped.info()\n",
    "calls_grouped.head(15)"
   ]
  },
  {
   "cell_type": "code",
   "execution_count": 32,
   "id": "24e94a26",
   "metadata": {},
   "outputs": [
    {
     "data": {
      "image/png": "[encoded data removed]",
      "text/plain": [
       "<Figure size 576x288 with 1 Axes>"
      ]
     },
     "metadata": {},
     "output_type": "display_data"
    }
   ],
   "source": [
    "calls_grouped.groupby('month')['duration_count'].sum().plot()\n",
    "plt.title('График общего использования минут по мясяцам')\n",
    "plt.xlabel('Номер месяца')\n",
    "plt.ylabel('Количество использованных минут')\n",
    "plt.show()"
   ]
  },
  {
   "cell_type": "markdown",
   "id": "cdb99fb7",
   "metadata": {},
   "source": [
    "Такой графки закономерен, когда идет постоянное увеличение клиентов."
   ]
  },
  {
   "cell_type": "markdown",
   "id": "f6f0a832",
   "metadata": {},
   "source": [
    "Сделаем подобый график с таблицей  сообщейни и интернета"
   ]
  },
  {
   "cell_type": "markdown",
   "id": "1d7cab3c",
   "metadata": {},
   "source": [
    "### Подсчеты `messages`"
   ]
  },
  {
   "cell_type": "code",
   "execution_count": 33,
   "id": "87b973b8",
   "metadata": {},
   "outputs": [
    {
     "name": "stdout",
     "output_type": "stream",
     "text": [
      "<class 'pandas.core.frame.DataFrame'>\n",
      "RangeIndex: 2717 entries, 0 to 2716\n",
      "Data columns (total 3 columns):\n",
      " #   Column         Non-Null Count  Dtype \n",
      "---  ------         --------------  ----- \n",
      " 0   user_id        2717 non-null   uint16\n",
      " 1   month          2717 non-null   uint8 \n",
      " 2   message_count  2717 non-null   uint8 \n",
      "dtypes: uint16(1), uint8(2)\n",
      "memory usage: 10.7 KB\n"
     ]
    },
    {
     "data": {
      "text/html": [
       "<div>\n",
       "<style scoped>\n",
       "    .dataframe tbody tr th:only-of-type {\n",
       "        vertical-align: middle;\n",
       "    }\n",
       "\n",
       "    .dataframe tbody tr th {\n",
       "        vertical-align: top;\n",
       "    }\n",
       "\n",
       "    .dataframe thead th {\n",
       "        text-align: right;\n",
       "    }\n",
       "</style>\n",
       "<table border=\"1\" class=\"dataframe\">\n",
       "  <thead>\n",
       "    <tr style=\"text-align: right;\">\n",
       "      <th></th>\n",
       "      <th>user_id</th>\n",
       "      <th>month</th>\n",
       "      <th>message_count</th>\n",
       "    </tr>\n",
       "  </thead>\n",
       "  <tbody>\n",
       "    <tr>\n",
       "      <th>0</th>\n",
       "      <td>1000</td>\n",
       "      <td>5</td>\n",
       "      <td>22</td>\n",
       "    </tr>\n",
       "    <tr>\n",
       "      <th>1</th>\n",
       "      <td>1000</td>\n",
       "      <td>6</td>\n",
       "      <td>60</td>\n",
       "    </tr>\n",
       "    <tr>\n",
       "      <th>2</th>\n",
       "      <td>1000</td>\n",
       "      <td>7</td>\n",
       "      <td>75</td>\n",
       "    </tr>\n",
       "    <tr>\n",
       "      <th>3</th>\n",
       "      <td>1000</td>\n",
       "      <td>8</td>\n",
       "      <td>81</td>\n",
       "    </tr>\n",
       "    <tr>\n",
       "      <th>4</th>\n",
       "      <td>1000</td>\n",
       "      <td>9</td>\n",
       "      <td>57</td>\n",
       "    </tr>\n",
       "    <tr>\n",
       "      <th>5</th>\n",
       "      <td>1000</td>\n",
       "      <td>10</td>\n",
       "      <td>73</td>\n",
       "    </tr>\n",
       "    <tr>\n",
       "      <th>6</th>\n",
       "      <td>1000</td>\n",
       "      <td>11</td>\n",
       "      <td>58</td>\n",
       "    </tr>\n",
       "    <tr>\n",
       "      <th>7</th>\n",
       "      <td>1000</td>\n",
       "      <td>12</td>\n",
       "      <td>70</td>\n",
       "    </tr>\n",
       "    <tr>\n",
       "      <th>8</th>\n",
       "      <td>1002</td>\n",
       "      <td>6</td>\n",
       "      <td>4</td>\n",
       "    </tr>\n",
       "    <tr>\n",
       "      <th>9</th>\n",
       "      <td>1002</td>\n",
       "      <td>7</td>\n",
       "      <td>11</td>\n",
       "    </tr>\n",
       "    <tr>\n",
       "      <th>10</th>\n",
       "      <td>1002</td>\n",
       "      <td>8</td>\n",
       "      <td>13</td>\n",
       "    </tr>\n",
       "    <tr>\n",
       "      <th>11</th>\n",
       "      <td>1002</td>\n",
       "      <td>9</td>\n",
       "      <td>4</td>\n",
       "    </tr>\n",
       "    <tr>\n",
       "      <th>12</th>\n",
       "      <td>1002</td>\n",
       "      <td>10</td>\n",
       "      <td>10</td>\n",
       "    </tr>\n",
       "    <tr>\n",
       "      <th>13</th>\n",
       "      <td>1002</td>\n",
       "      <td>11</td>\n",
       "      <td>16</td>\n",
       "    </tr>\n",
       "    <tr>\n",
       "      <th>14</th>\n",
       "      <td>1002</td>\n",
       "      <td>12</td>\n",
       "      <td>12</td>\n",
       "    </tr>\n",
       "  </tbody>\n",
       "</table>\n",
       "</div>"
      ],
      "text/plain": [
       "    user_id  month  message_count\n",
       "0      1000      5             22\n",
       "1      1000      6             60\n",
       "2      1000      7             75\n",
       "3      1000      8             81\n",
       "4      1000      9             57\n",
       "5      1000     10             73\n",
       "6      1000     11             58\n",
       "7      1000     12             70\n",
       "8      1002      6              4\n",
       "9      1002      7             11\n",
       "10     1002      8             13\n",
       "11     1002      9              4\n",
       "12     1002     10             10\n",
       "13     1002     11             16\n",
       "14     1002     12             12"
      ]
     },
     "execution_count": 33,
     "metadata": {},
     "output_type": "execute_result"
    }
   ],
   "source": [
    "messages_grouped = df_messages.groupby(['user_id','message_date'])  \\\n",
    "                               ['message_date'].count()             \\\n",
    "                              .rename(\"message_count\")              \\\n",
    "                              .reset_index()                        \\\n",
    "                              .rename(columns={'message_date':'month'})\n",
    "\n",
    "list_col = ['month', 'message_count']\n",
    "messages_grouped[list_col] = messages_grouped[list_col].astype('uint8')\n",
    "messages_grouped['user_id'] = messages_grouped['user_id'].astype('uint16')\n",
    "\n",
    "messages_grouped.info()\n",
    "messages_grouped.head(15)"
   ]
  },
  {
   "cell_type": "code",
   "execution_count": 34,
   "id": "613c5b26",
   "metadata": {},
   "outputs": [
    {
     "data": {
      "text/plain": [
       "426"
      ]
     },
     "execution_count": 34,
     "metadata": {},
     "output_type": "execute_result"
    }
   ],
   "source": [
    "messages_grouped['user_id'].nunique()"
   ]
  },
  {
   "cell_type": "markdown",
   "id": "d633c2db",
   "metadata": {},
   "source": [
    "Только 426 из 500 клиентов используют смс"
   ]
  },
  {
   "cell_type": "markdown",
   "id": "2f91db14",
   "metadata": {},
   "source": [
    "### Подсчеты `internet`"
   ]
  },
  {
   "cell_type": "code",
   "execution_count": 35,
   "id": "91723c54",
   "metadata": {},
   "outputs": [
    {
     "name": "stdout",
     "output_type": "stream",
     "text": [
      "<class 'pandas.core.frame.DataFrame'>\n",
      "RangeIndex: 3203 entries, 0 to 3202\n",
      "Data columns (total 4 columns):\n",
      " #   Column          Non-Null Count  Dtype  \n",
      "---  ------          --------------  -----  \n",
      " 0   user_id         3203 non-null   uint16 \n",
      " 1   month           3203 non-null   uint8  \n",
      " 2   internet_count  3203 non-null   uint8  \n",
      " 3   internet_sum    3203 non-null   float16\n",
      "dtypes: float16(1), uint16(1), uint8(2)\n",
      "memory usage: 18.9 KB\n"
     ]
    },
    {
     "data": {
      "text/html": [
       "<div>\n",
       "<style scoped>\n",
       "    .dataframe tbody tr th:only-of-type {\n",
       "        vertical-align: middle;\n",
       "    }\n",
       "\n",
       "    .dataframe tbody tr th {\n",
       "        vertical-align: top;\n",
       "    }\n",
       "\n",
       "    .dataframe thead th {\n",
       "        text-align: right;\n",
       "    }\n",
       "</style>\n",
       "<table border=\"1\" class=\"dataframe\">\n",
       "  <thead>\n",
       "    <tr style=\"text-align: right;\">\n",
       "      <th></th>\n",
       "      <th>user_id</th>\n",
       "      <th>month</th>\n",
       "      <th>internet_count</th>\n",
       "      <th>internet_sum</th>\n",
       "    </tr>\n",
       "  </thead>\n",
       "  <tbody>\n",
       "    <tr>\n",
       "      <th>0</th>\n",
       "      <td>1000</td>\n",
       "      <td>5</td>\n",
       "      <td>5</td>\n",
       "      <td>2254.00</td>\n",
       "    </tr>\n",
       "    <tr>\n",
       "      <th>1</th>\n",
       "      <td>1000</td>\n",
       "      <td>6</td>\n",
       "      <td>49</td>\n",
       "      <td>23232.00</td>\n",
       "    </tr>\n",
       "    <tr>\n",
       "      <th>2</th>\n",
       "      <td>1000</td>\n",
       "      <td>7</td>\n",
       "      <td>29</td>\n",
       "      <td>14008.00</td>\n",
       "    </tr>\n",
       "    <tr>\n",
       "      <th>3</th>\n",
       "      <td>1000</td>\n",
       "      <td>8</td>\n",
       "      <td>29</td>\n",
       "      <td>14056.00</td>\n",
       "    </tr>\n",
       "    <tr>\n",
       "      <th>4</th>\n",
       "      <td>1000</td>\n",
       "      <td>9</td>\n",
       "      <td>27</td>\n",
       "      <td>14568.00</td>\n",
       "    </tr>\n",
       "    <tr>\n",
       "      <th>5</th>\n",
       "      <td>1000</td>\n",
       "      <td>10</td>\n",
       "      <td>27</td>\n",
       "      <td>14704.00</td>\n",
       "    </tr>\n",
       "    <tr>\n",
       "      <th>6</th>\n",
       "      <td>1000</td>\n",
       "      <td>11</td>\n",
       "      <td>24</td>\n",
       "      <td>14760.00</td>\n",
       "    </tr>\n",
       "    <tr>\n",
       "      <th>7</th>\n",
       "      <td>1000</td>\n",
       "      <td>12</td>\n",
       "      <td>21</td>\n",
       "      <td>9816.00</td>\n",
       "    </tr>\n",
       "    <tr>\n",
       "      <th>8</th>\n",
       "      <td>1001</td>\n",
       "      <td>11</td>\n",
       "      <td>55</td>\n",
       "      <td>18432.00</td>\n",
       "    </tr>\n",
       "    <tr>\n",
       "      <th>9</th>\n",
       "      <td>1001</td>\n",
       "      <td>12</td>\n",
       "      <td>41</td>\n",
       "      <td>14040.00</td>\n",
       "    </tr>\n",
       "    <tr>\n",
       "      <th>10</th>\n",
       "      <td>1002</td>\n",
       "      <td>6</td>\n",
       "      <td>34</td>\n",
       "      <td>10856.00</td>\n",
       "    </tr>\n",
       "    <tr>\n",
       "      <th>11</th>\n",
       "      <td>1002</td>\n",
       "      <td>7</td>\n",
       "      <td>58</td>\n",
       "      <td>17584.00</td>\n",
       "    </tr>\n",
       "    <tr>\n",
       "      <th>12</th>\n",
       "      <td>1002</td>\n",
       "      <td>8</td>\n",
       "      <td>60</td>\n",
       "      <td>20320.00</td>\n",
       "    </tr>\n",
       "    <tr>\n",
       "      <th>13</th>\n",
       "      <td>1002</td>\n",
       "      <td>9</td>\n",
       "      <td>56</td>\n",
       "      <td>16688.00</td>\n",
       "    </tr>\n",
       "    <tr>\n",
       "      <th>14</th>\n",
       "      <td>1002</td>\n",
       "      <td>10</td>\n",
       "      <td>44</td>\n",
       "      <td>13888.00</td>\n",
       "    </tr>\n",
       "  </tbody>\n",
       "</table>\n",
       "</div>"
      ],
      "text/plain": [
       "    user_id  month  internet_count  internet_sum\n",
       "0      1000      5               5       2254.00\n",
       "1      1000      6              49      23232.00\n",
       "2      1000      7              29      14008.00\n",
       "3      1000      8              29      14056.00\n",
       "4      1000      9              27      14568.00\n",
       "5      1000     10              27      14704.00\n",
       "6      1000     11              24      14760.00\n",
       "7      1000     12              21       9816.00\n",
       "8      1001     11              55      18432.00\n",
       "9      1001     12              41      14040.00\n",
       "10     1002      6              34      10856.00\n",
       "11     1002      7              58      17584.00\n",
       "12     1002      8              60      20320.00\n",
       "13     1002      9              56      16688.00\n",
       "14     1002     10              44      13888.00"
      ]
     },
     "execution_count": 35,
     "metadata": {},
     "output_type": "execute_result"
    }
   ],
   "source": [
    "internet_grouped = df_internet.groupby(['user_id', 'session_date'])\\\n",
    "                              .agg({'mb_used': ['count', 'sum']})  \\\n",
    "                              .reset_index()                       \\\n",
    "                              .set_axis(['user_id',\n",
    "                                         'month',\n",
    "                                         'internet_count',\n",
    "                                         'internet_sum'],\n",
    "                                        axis = 'columns')\n",
    "\n",
    "list_col = ['month', 'internet_count']\n",
    "internet_grouped[list_col] = internet_grouped[list_col].astype('uint8')\n",
    "internet_grouped['user_id'] = internet_grouped['user_id'].astype('uint16')\n",
    "internet_grouped['internet_sum'] = internet_grouped['internet_sum'].astype('float16')\n",
    "\n",
    "internet_grouped.info()\n",
    "internet_grouped.head(15)"
   ]
  },
  {
   "cell_type": "markdown",
   "id": "035541c6",
   "metadata": {},
   "source": [
    "## Объединение таблиц"
   ]
  },
  {
   "cell_type": "markdown",
   "id": "b874bfba",
   "metadata": {},
   "source": [
    "Теперь когда основные расчеты сделаны, можно все данные соединить в 1 таблицу. Во время объединения будем следить за тем сколько уникальных пользователей были в обеих таблицах, чтобы быть увереным, что никого при соединении мы не потеряли"
   ]
  },
  {
   "cell_type": "code",
   "execution_count": 36,
   "id": "81a0ee86",
   "metadata": {},
   "outputs": [
    {
     "name": "stdout",
     "output_type": "stream",
     "text": [
      "492\n",
      "426\n"
     ]
    },
    {
     "data": {
      "text/plain": [
       "497"
      ]
     },
     "execution_count": 36,
     "metadata": {},
     "output_type": "execute_result"
    }
   ],
   "source": [
    "print(calls_grouped['user_id'].nunique())\n",
    "print(messages_grouped['user_id'].nunique())\n",
    "internet_grouped['user_id'].nunique()"
   ]
  },
  {
   "cell_type": "code",
   "execution_count": 37,
   "id": "02a0283f",
   "metadata": {},
   "outputs": [
    {
     "data": {
      "text/plain": [
       "498"
      ]
     },
     "execution_count": 37,
     "metadata": {},
     "output_type": "execute_result"
    }
   ],
   "source": [
    "df = calls_grouped.merge(messages_grouped, on=['user_id', 'month'], how='outer')\n",
    "df['user_id'].nunique()"
   ]
  },
  {
   "cell_type": "code",
   "execution_count": 38,
   "id": "a2392eff",
   "metadata": {},
   "outputs": [
    {
     "data": {
      "text/plain": [
       "498"
      ]
     },
     "execution_count": 38,
     "metadata": {},
     "output_type": "execute_result"
    }
   ],
   "source": [
    "df = df.merge(internet_grouped, on=['user_id', 'month'], how='outer')\n",
    "df['user_id'].nunique()"
   ]
  },
  {
   "cell_type": "code",
   "execution_count": 39,
   "id": "87322f60",
   "metadata": {},
   "outputs": [
    {
     "name": "stdout",
     "output_type": "stream",
     "text": [
      "<class 'pandas.core.frame.DataFrame'>\n",
      "Int64Index: 3214 entries, 0 to 3213\n",
      "Data columns (total 7 columns):\n",
      " #   Column          Non-Null Count  Dtype  \n",
      "---  ------          --------------  -----  \n",
      " 0   user_id         3214 non-null   uint16 \n",
      " 1   month           3214 non-null   uint8  \n",
      " 2   duration_count  3174 non-null   float64\n",
      " 3   duration_sum    3174 non-null   float64\n",
      " 4   message_count   2717 non-null   float64\n",
      " 5   internet_count  3203 non-null   float64\n",
      " 6   internet_sum    3203 non-null   float16\n",
      "dtypes: float16(1), float64(4), uint16(1), uint8(1)\n",
      "memory usage: 141.2 KB\n"
     ]
    }
   ],
   "source": [
    "df.info()"
   ]
  },
  {
   "cell_type": "markdown",
   "id": "88e4b119",
   "metadata": {},
   "source": [
    "Так как в таблице есть пропущенные значения их логичней всего заполнить нулями.  \n",
    "И так же изменим тип данных на менее ресурсозатратный"
   ]
  },
  {
   "cell_type": "code",
   "execution_count": 40,
   "id": "f6b74b12",
   "metadata": {},
   "outputs": [
    {
     "data": {
      "text/html": [
       "<div>\n",
       "<style scoped>\n",
       "    .dataframe tbody tr th:only-of-type {\n",
       "        vertical-align: middle;\n",
       "    }\n",
       "\n",
       "    .dataframe tbody tr th {\n",
       "        vertical-align: top;\n",
       "    }\n",
       "\n",
       "    .dataframe thead th {\n",
       "        text-align: right;\n",
       "    }\n",
       "</style>\n",
       "<table border=\"1\" class=\"dataframe\">\n",
       "  <thead>\n",
       "    <tr style=\"text-align: right;\">\n",
       "      <th></th>\n",
       "      <th>user_id</th>\n",
       "      <th>month</th>\n",
       "      <th>duration_count</th>\n",
       "      <th>duration_sum</th>\n",
       "      <th>message_count</th>\n",
       "      <th>internet_count</th>\n",
       "      <th>internet_sum</th>\n",
       "    </tr>\n",
       "  </thead>\n",
       "  <tbody>\n",
       "    <tr>\n",
       "      <th>count</th>\n",
       "      <td>3214.00</td>\n",
       "      <td>3214.00</td>\n",
       "      <td>3174.00</td>\n",
       "      <td>3174.00</td>\n",
       "      <td>2717.00</td>\n",
       "      <td>3203.00</td>\n",
       "      <td>3203.00</td>\n",
       "    </tr>\n",
       "    <tr>\n",
       "      <th>mean</th>\n",
       "      <td>1251.59</td>\n",
       "      <td>8.32</td>\n",
       "      <td>63.83</td>\n",
       "      <td>456.93</td>\n",
       "      <td>45.28</td>\n",
       "      <td>46.64</td>\n",
       "      <td>inf</td>\n",
       "    </tr>\n",
       "    <tr>\n",
       "      <th>std</th>\n",
       "      <td>144.66</td>\n",
       "      <td>2.91</td>\n",
       "      <td>32.68</td>\n",
       "      <td>238.03</td>\n",
       "      <td>35.05</td>\n",
       "      <td>18.70</td>\n",
       "      <td>inf</td>\n",
       "    </tr>\n",
       "    <tr>\n",
       "      <th>min</th>\n",
       "      <td>1000.00</td>\n",
       "      <td>1.00</td>\n",
       "      <td>1.00</td>\n",
       "      <td>0.00</td>\n",
       "      <td>1.00</td>\n",
       "      <td>1.00</td>\n",
       "      <td>0.00</td>\n",
       "    </tr>\n",
       "    <tr>\n",
       "      <th>25%</th>\n",
       "      <td>1125.00</td>\n",
       "      <td>6.00</td>\n",
       "      <td>41.00</td>\n",
       "      <td>290.00</td>\n",
       "      <td>19.00</td>\n",
       "      <td>35.00</td>\n",
       "      <td>12528.00</td>\n",
       "    </tr>\n",
       "    <tr>\n",
       "      <th>50%</th>\n",
       "      <td>1253.00</td>\n",
       "      <td>9.00</td>\n",
       "      <td>63.00</td>\n",
       "      <td>447.00</td>\n",
       "      <td>38.00</td>\n",
       "      <td>48.00</td>\n",
       "      <td>16960.00</td>\n",
       "    </tr>\n",
       "    <tr>\n",
       "      <th>75%</th>\n",
       "      <td>1378.75</td>\n",
       "      <td>11.00</td>\n",
       "      <td>83.00</td>\n",
       "      <td>592.00</td>\n",
       "      <td>63.00</td>\n",
       "      <td>59.00</td>\n",
       "      <td>21440.00</td>\n",
       "    </tr>\n",
       "    <tr>\n",
       "      <th>max</th>\n",
       "      <td>1499.00</td>\n",
       "      <td>12.00</td>\n",
       "      <td>244.00</td>\n",
       "      <td>1673.00</td>\n",
       "      <td>224.00</td>\n",
       "      <td>118.00</td>\n",
       "      <td>49760.00</td>\n",
       "    </tr>\n",
       "  </tbody>\n",
       "</table>\n",
       "</div>"
      ],
      "text/plain": [
       "       user_id   month  duration_count  duration_sum  message_count  \\\n",
       "count  3214.00 3214.00         3174.00       3174.00        2717.00   \n",
       "mean   1251.59    8.32           63.83        456.93          45.28   \n",
       "std     144.66    2.91           32.68        238.03          35.05   \n",
       "min    1000.00    1.00            1.00          0.00           1.00   \n",
       "25%    1125.00    6.00           41.00        290.00          19.00   \n",
       "50%    1253.00    9.00           63.00        447.00          38.00   \n",
       "75%    1378.75   11.00           83.00        592.00          63.00   \n",
       "max    1499.00   12.00          244.00       1673.00         224.00   \n",
       "\n",
       "       internet_count  internet_sum  \n",
       "count         3203.00       3203.00  \n",
       "mean            46.64           inf  \n",
       "std             18.70           inf  \n",
       "min              1.00          0.00  \n",
       "25%             35.00      12528.00  \n",
       "50%             48.00      16960.00  \n",
       "75%             59.00      21440.00  \n",
       "max            118.00      49760.00  "
      ]
     },
     "execution_count": 40,
     "metadata": {},
     "output_type": "execute_result"
    }
   ],
   "source": [
    "df.describe()"
   ]
  },
  {
   "cell_type": "code",
   "execution_count": 41,
   "id": "090ebc44",
   "metadata": {},
   "outputs": [
    {
     "name": "stdout",
     "output_type": "stream",
     "text": [
      "<class 'pandas.core.frame.DataFrame'>\n",
      "Int64Index: 3214 entries, 0 to 3213\n",
      "Data columns (total 7 columns):\n",
      " #   Column          Non-Null Count  Dtype  \n",
      "---  ------          --------------  -----  \n",
      " 0   user_id         3214 non-null   uint16 \n",
      " 1   month           3214 non-null   uint8  \n",
      " 2   duration_count  3214 non-null   uint8  \n",
      " 3   duration_sum    3214 non-null   uint16 \n",
      " 4   message_count   3214 non-null   uint8  \n",
      " 5   internet_count  3214 non-null   uint8  \n",
      " 6   internet_sum    3214 non-null   float16\n",
      "dtypes: float16(1), uint16(2), uint8(4)\n",
      "memory usage: 56.5 KB\n"
     ]
    }
   ],
   "source": [
    "df = df.fillna(0)\n",
    "\n",
    "list_col = ['duration_count', 'message_count', 'internet_count']\n",
    "df[list_col] = df[list_col].astype('uint8')\n",
    "df['duration_sum'] = df['duration_sum'].astype('uint16')\n",
    "df['internet_sum'] = df['internet_sum'].astype('float16')\n",
    "\n",
    "df.info()"
   ]
  },
  {
   "cell_type": "markdown",
   "id": "a2486531",
   "metadata": {},
   "source": [
    "Теперь добавим информацию из таблицы `users`"
   ]
  },
  {
   "cell_type": "code",
   "execution_count": 42,
   "id": "54a2d581",
   "metadata": {},
   "outputs": [
    {
     "name": "stdout",
     "output_type": "stream",
     "text": [
      "<class 'pandas.core.frame.DataFrame'>\n",
      "Int64Index: 3216 entries, 0 to 3215\n",
      "Data columns (total 11 columns):\n",
      " #   Column          Non-Null Count  Dtype         \n",
      "---  ------          --------------  -----         \n",
      " 0   user_id         3216 non-null   uint16        \n",
      " 1   month           3214 non-null   float64       \n",
      " 2   duration_count  3214 non-null   float64       \n",
      " 3   duration_sum    3214 non-null   float64       \n",
      " 4   message_count   3214 non-null   float64       \n",
      " 5   internet_count  3214 non-null   float64       \n",
      " 6   internet_sum    3214 non-null   float16       \n",
      " 7   age             3216 non-null   uint8         \n",
      " 8   city            3216 non-null   category      \n",
      " 9   reg_date        3216 non-null   datetime64[ns]\n",
      " 10  tariff          3216 non-null   category      \n",
      "dtypes: category(2), datetime64[ns](1), float16(1), float64(5), uint16(1), uint8(1)\n",
      "memory usage: 200.6 KB\n"
     ]
    }
   ],
   "source": [
    "df = df.merge(df_users, on='user_id', how='right')\n",
    "df.drop('churn_date', axis = 1, inplace = True)\n",
    "df.info()"
   ]
  },
  {
   "cell_type": "markdown",
   "id": "576b46ef",
   "metadata": {},
   "source": [
    "Похоже что 2 из числа клиентов не пользовались никакими видами услуг, поэтому у них появились пропуски при соединении таблицы"
   ]
  },
  {
   "cell_type": "code",
   "execution_count": 43,
   "id": "9fd7a11d",
   "metadata": {},
   "outputs": [
    {
     "data": {
      "text/plain": [
       "user_id           0\n",
       "month             2\n",
       "duration_count    2\n",
       "duration_sum      2\n",
       "message_count     2\n",
       "internet_count    2\n",
       "internet_sum      2\n",
       "age               0\n",
       "city              0\n",
       "reg_date          0\n",
       "tariff            0\n",
       "dtype: int64"
      ]
     },
     "execution_count": 43,
     "metadata": {},
     "output_type": "execute_result"
    }
   ],
   "source": [
    "df.isna().sum()"
   ]
  },
  {
   "cell_type": "code",
   "execution_count": 44,
   "id": "a5998a09",
   "metadata": {},
   "outputs": [],
   "source": [
    "df.iloc[:,1:7] = df.iloc[:,1:7].fillna(0)"
   ]
  },
  {
   "cell_type": "markdown",
   "id": "3eeacfeb",
   "metadata": {},
   "source": [
    "При объединени использовался способ right тем самым мы отсеили пользователей которые перестали пользоваться тарифом и при этом не упустим пользователей которые вообще не пользовались какими-либо услугами"
   ]
  },
  {
   "cell_type": "code",
   "execution_count": 45,
   "id": "d726c401",
   "metadata": {},
   "outputs": [
    {
     "data": {
      "text/plain": [
       "500"
      ]
     },
     "execution_count": 45,
     "metadata": {},
     "output_type": "execute_result"
    }
   ],
   "source": [
    "df['user_id'].nunique()"
   ]
  },
  {
   "cell_type": "markdown",
   "id": "20bba2fb",
   "metadata": {},
   "source": [
    "Теперь добавим информацию по тарифу"
   ]
  },
  {
   "cell_type": "code",
   "execution_count": 46,
   "id": "d6dcb83e",
   "metadata": {},
   "outputs": [
    {
     "name": "stdout",
     "output_type": "stream",
     "text": [
      "<class 'pandas.core.frame.DataFrame'>\n",
      "Int64Index: 3216 entries, 0 to 3215\n",
      "Data columns (total 18 columns):\n",
      " #   Column                 Non-Null Count  Dtype         \n",
      "---  ------                 --------------  -----         \n",
      " 0   user_id                3216 non-null   uint16        \n",
      " 1   month                  3216 non-null   float64       \n",
      " 2   duration_count         3216 non-null   float64       \n",
      " 3   duration_sum           3216 non-null   float64       \n",
      " 4   message_count          3216 non-null   float64       \n",
      " 5   internet_count         3216 non-null   float64       \n",
      " 6   internet_sum           3216 non-null   float16       \n",
      " 7   age                    3216 non-null   uint8         \n",
      " 8   city                   3216 non-null   category      \n",
      " 9   reg_date               3216 non-null   datetime64[ns]\n",
      " 10  tariff                 3216 non-null   category      \n",
      " 11  messages_included      3216 non-null   uint16        \n",
      " 12  mb_per_month_included  3216 non-null   uint16        \n",
      " 13  minutes_included       3216 non-null   uint16        \n",
      " 14  rub_monthly_fee        3216 non-null   uint16        \n",
      " 15  rub_per_gb             3216 non-null   uint8         \n",
      " 16  rub_per_message        3216 non-null   uint8         \n",
      " 17  rub_per_minute         3216 non-null   uint8         \n",
      "dtypes: category(2), datetime64[ns](1), float16(1), float64(5), uint16(5), uint8(4)\n",
      "memory usage: 235.2 KB\n"
     ]
    }
   ],
   "source": [
    "df = df.merge(df_tariffs, left_on='tariff', right_on='tariff_name').drop('tariff_name', axis = 1)\n",
    "df.info()"
   ]
  },
  {
   "cell_type": "code",
   "execution_count": 47,
   "id": "3c31bbef",
   "metadata": {},
   "outputs": [
    {
     "data": {
      "text/html": [
       "<div>\n",
       "<style scoped>\n",
       "    .dataframe tbody tr th:only-of-type {\n",
       "        vertical-align: middle;\n",
       "    }\n",
       "\n",
       "    .dataframe tbody tr th {\n",
       "        vertical-align: top;\n",
       "    }\n",
       "\n",
       "    .dataframe thead th {\n",
       "        text-align: right;\n",
       "    }\n",
       "</style>\n",
       "<table border=\"1\" class=\"dataframe\">\n",
       "  <thead>\n",
       "    <tr style=\"text-align: right;\">\n",
       "      <th></th>\n",
       "      <th>user_id</th>\n",
       "      <th>month</th>\n",
       "      <th>duration_count</th>\n",
       "      <th>duration_sum</th>\n",
       "      <th>message_count</th>\n",
       "      <th>internet_count</th>\n",
       "      <th>internet_sum</th>\n",
       "      <th>age</th>\n",
       "      <th>city</th>\n",
       "      <th>reg_date</th>\n",
       "      <th>tariff</th>\n",
       "      <th>messages_included</th>\n",
       "      <th>mb_per_month_included</th>\n",
       "      <th>minutes_included</th>\n",
       "      <th>rub_monthly_fee</th>\n",
       "      <th>rub_per_gb</th>\n",
       "      <th>rub_per_message</th>\n",
       "      <th>rub_per_minute</th>\n",
       "    </tr>\n",
       "  </thead>\n",
       "  <tbody>\n",
       "    <tr>\n",
       "      <th>2523</th>\n",
       "      <td>1338</td>\n",
       "      <td>10.00</td>\n",
       "      <td>30.00</td>\n",
       "      <td>186.00</td>\n",
       "      <td>34.00</td>\n",
       "      <td>60.00</td>\n",
       "      <td>17168.00</td>\n",
       "      <td>64</td>\n",
       "      <td>Москва</td>\n",
       "      <td>2018-05-11</td>\n",
       "      <td>smart</td>\n",
       "      <td>50</td>\n",
       "      <td>15360</td>\n",
       "      <td>500</td>\n",
       "      <td>550</td>\n",
       "      <td>200</td>\n",
       "      <td>3</td>\n",
       "      <td>3</td>\n",
       "    </tr>\n",
       "    <tr>\n",
       "      <th>2282</th>\n",
       "      <td>1284</td>\n",
       "      <td>8.00</td>\n",
       "      <td>74.00</td>\n",
       "      <td>474.00</td>\n",
       "      <td>44.00</td>\n",
       "      <td>44.00</td>\n",
       "      <td>14040.00</td>\n",
       "      <td>62</td>\n",
       "      <td>Волгоград</td>\n",
       "      <td>2018-03-16</td>\n",
       "      <td>smart</td>\n",
       "      <td>50</td>\n",
       "      <td>15360</td>\n",
       "      <td>500</td>\n",
       "      <td>550</td>\n",
       "      <td>200</td>\n",
       "      <td>3</td>\n",
       "      <td>3</td>\n",
       "    </tr>\n",
       "    <tr>\n",
       "      <th>2556</th>\n",
       "      <td>1353</td>\n",
       "      <td>5.00</td>\n",
       "      <td>51.00</td>\n",
       "      <td>374.00</td>\n",
       "      <td>53.00</td>\n",
       "      <td>62.00</td>\n",
       "      <td>19680.00</td>\n",
       "      <td>57</td>\n",
       "      <td>Санкт-Петербург</td>\n",
       "      <td>2018-04-22</td>\n",
       "      <td>smart</td>\n",
       "      <td>50</td>\n",
       "      <td>15360</td>\n",
       "      <td>500</td>\n",
       "      <td>550</td>\n",
       "      <td>200</td>\n",
       "      <td>3</td>\n",
       "      <td>3</td>\n",
       "    </tr>\n",
       "    <tr>\n",
       "      <th>2705</th>\n",
       "      <td>1390</td>\n",
       "      <td>10.00</td>\n",
       "      <td>31.00</td>\n",
       "      <td>183.00</td>\n",
       "      <td>31.00</td>\n",
       "      <td>58.00</td>\n",
       "      <td>16672.00</td>\n",
       "      <td>56</td>\n",
       "      <td>Санкт-Петербург</td>\n",
       "      <td>2018-07-30</td>\n",
       "      <td>smart</td>\n",
       "      <td>50</td>\n",
       "      <td>15360</td>\n",
       "      <td>500</td>\n",
       "      <td>550</td>\n",
       "      <td>200</td>\n",
       "      <td>3</td>\n",
       "      <td>3</td>\n",
       "    </tr>\n",
       "    <tr>\n",
       "      <th>2224</th>\n",
       "      <td>1268</td>\n",
       "      <td>11.00</td>\n",
       "      <td>41.00</td>\n",
       "      <td>269.00</td>\n",
       "      <td>49.00</td>\n",
       "      <td>58.00</td>\n",
       "      <td>16512.00</td>\n",
       "      <td>18</td>\n",
       "      <td>Москва</td>\n",
       "      <td>2018-05-28</td>\n",
       "      <td>smart</td>\n",
       "      <td>50</td>\n",
       "      <td>15360</td>\n",
       "      <td>500</td>\n",
       "      <td>550</td>\n",
       "      <td>200</td>\n",
       "      <td>3</td>\n",
       "      <td>3</td>\n",
       "    </tr>\n",
       "  </tbody>\n",
       "</table>\n",
       "</div>"
      ],
      "text/plain": [
       "      user_id  month  duration_count  duration_sum  message_count  \\\n",
       "2523     1338  10.00           30.00        186.00          34.00   \n",
       "2282     1284   8.00           74.00        474.00          44.00   \n",
       "2556     1353   5.00           51.00        374.00          53.00   \n",
       "2705     1390  10.00           31.00        183.00          31.00   \n",
       "2224     1268  11.00           41.00        269.00          49.00   \n",
       "\n",
       "      internet_count  internet_sum  age             city   reg_date tariff  \\\n",
       "2523           60.00      17168.00   64           Москва 2018-05-11  smart   \n",
       "2282           44.00      14040.00   62        Волгоград 2018-03-16  smart   \n",
       "2556           62.00      19680.00   57  Санкт-Петербург 2018-04-22  smart   \n",
       "2705           58.00      16672.00   56  Санкт-Петербург 2018-07-30  smart   \n",
       "2224           58.00      16512.00   18           Москва 2018-05-28  smart   \n",
       "\n",
       "      messages_included  mb_per_month_included  minutes_included  \\\n",
       "2523                 50                  15360               500   \n",
       "2282                 50                  15360               500   \n",
       "2556                 50                  15360               500   \n",
       "2705                 50                  15360               500   \n",
       "2224                 50                  15360               500   \n",
       "\n",
       "      rub_monthly_fee  rub_per_gb  rub_per_message  rub_per_minute  \n",
       "2523              550         200                3               3  \n",
       "2282              550         200                3               3  \n",
       "2556              550         200                3               3  \n",
       "2705              550         200                3               3  \n",
       "2224              550         200                3               3  "
      ]
     },
     "execution_count": 47,
     "metadata": {},
     "output_type": "execute_result"
    }
   ],
   "source": [
    "df.sample(5)"
   ]
  },
  {
   "cell_type": "markdown",
   "id": "65e09952",
   "metadata": {},
   "source": [
    "## Расчет выручки"
   ]
  },
  {
   "cell_type": "markdown",
   "id": "ccfcba1c",
   "metadata": {},
   "source": [
    "Посчитаем помесячную выручку с каждого пользователя (вычтем бесплатный лимит из суммарного количества звонков, сообщений и интернет-трафика; остаток умножим на значение из тарифного плана; прибавим абонентскую плату, соответствующую тарифному плану)."
   ]
  },
  {
   "cell_type": "code",
   "execution_count": 48,
   "id": "684215b3",
   "metadata": {},
   "outputs": [],
   "source": [
    "def fill_profit (row):\n",
    "    mes_con, mes_inc, mes_rub = row['message_count'], row['messages_included'], row['rub_per_message']\n",
    "    add_fee_mes = ((mes_con - mes_inc) * mes_rub) * (mes_con > mes_inc)\n",
    "    \n",
    "    min_sum, min_inc, min_rub = row['duration_sum'], row['minutes_included'], row['rub_per_minute']\n",
    "    add_fee_call = ((min_sum - min_inc) * min_rub) * (min_sum > min_inc)\n",
    "    \n",
    "    mb_sum, mb_inc, gb_rub = row['internet_sum'], row['mb_per_month_included'], row['rub_per_gb']\n",
    "    gb_excess = np.ceil((mb_sum - mb_inc)/1024)\n",
    "    add_fee_internet = (gb_excess * gb_rub) * (mb_sum > mb_inc)\n",
    "    \n",
    "    add_fee = add_fee_mes + add_fee_call + add_fee_internet\n",
    "    result = row['rub_monthly_fee'] + add_fee\n",
    "    return result"
   ]
  },
  {
   "cell_type": "code",
   "execution_count": 49,
   "id": "02d152d8",
   "metadata": {},
   "outputs": [
    {
     "data": {
      "text/html": [
       "<div>\n",
       "<style scoped>\n",
       "    .dataframe tbody tr th:only-of-type {\n",
       "        vertical-align: middle;\n",
       "    }\n",
       "\n",
       "    .dataframe tbody tr th {\n",
       "        vertical-align: top;\n",
       "    }\n",
       "\n",
       "    .dataframe thead th {\n",
       "        text-align: right;\n",
       "    }\n",
       "</style>\n",
       "<table border=\"1\" class=\"dataframe\">\n",
       "  <thead>\n",
       "    <tr style=\"text-align: right;\">\n",
       "      <th></th>\n",
       "      <th>message_count</th>\n",
       "      <th>internet_sum</th>\n",
       "      <th>duration_sum</th>\n",
       "      <th>messages_included</th>\n",
       "      <th>mb_per_month_included</th>\n",
       "      <th>minutes_included</th>\n",
       "      <th>rub_per_gb</th>\n",
       "      <th>rub_per_message</th>\n",
       "      <th>rub_per_minute</th>\n",
       "      <th>rub_monthly_fee</th>\n",
       "      <th>monthly_income</th>\n",
       "    </tr>\n",
       "  </thead>\n",
       "  <tbody>\n",
       "    <tr>\n",
       "      <th>105</th>\n",
       "      <td>0.00</td>\n",
       "      <td>14784.00</td>\n",
       "      <td>896.00</td>\n",
       "      <td>1000</td>\n",
       "      <td>30720</td>\n",
       "      <td>3000</td>\n",
       "      <td>150</td>\n",
       "      <td>1</td>\n",
       "      <td>1</td>\n",
       "      <td>1950</td>\n",
       "      <td>1950</td>\n",
       "    </tr>\n",
       "    <tr>\n",
       "      <th>1003</th>\n",
       "      <td>52.00</td>\n",
       "      <td>7016.00</td>\n",
       "      <td>479.00</td>\n",
       "      <td>50</td>\n",
       "      <td>15360</td>\n",
       "      <td>500</td>\n",
       "      <td>200</td>\n",
       "      <td>3</td>\n",
       "      <td>3</td>\n",
       "      <td>550</td>\n",
       "      <td>556</td>\n",
       "    </tr>\n",
       "    <tr>\n",
       "      <th>1492</th>\n",
       "      <td>44.00</td>\n",
       "      <td>15328.00</td>\n",
       "      <td>692.00</td>\n",
       "      <td>50</td>\n",
       "      <td>15360</td>\n",
       "      <td>500</td>\n",
       "      <td>200</td>\n",
       "      <td>3</td>\n",
       "      <td>3</td>\n",
       "      <td>550</td>\n",
       "      <td>1126</td>\n",
       "    </tr>\n",
       "    <tr>\n",
       "      <th>1583</th>\n",
       "      <td>0.00</td>\n",
       "      <td>16080.00</td>\n",
       "      <td>544.00</td>\n",
       "      <td>50</td>\n",
       "      <td>15360</td>\n",
       "      <td>500</td>\n",
       "      <td>200</td>\n",
       "      <td>3</td>\n",
       "      <td>3</td>\n",
       "      <td>550</td>\n",
       "      <td>882</td>\n",
       "    </tr>\n",
       "  </tbody>\n",
       "</table>\n",
       "</div>"
      ],
      "text/plain": [
       "      message_count  internet_sum  duration_sum  messages_included  \\\n",
       "105            0.00      14784.00        896.00               1000   \n",
       "1003          52.00       7016.00        479.00                 50   \n",
       "1492          44.00      15328.00        692.00                 50   \n",
       "1583           0.00      16080.00        544.00                 50   \n",
       "\n",
       "      mb_per_month_included  minutes_included  rub_per_gb  rub_per_message  \\\n",
       "105                   30720              3000         150                1   \n",
       "1003                  15360               500         200                3   \n",
       "1492                  15360               500         200                3   \n",
       "1583                  15360               500         200                3   \n",
       "\n",
       "      rub_per_minute  rub_monthly_fee  monthly_income  \n",
       "105                1             1950            1950  \n",
       "1003               3              550             556  \n",
       "1492               3              550            1126  \n",
       "1583               3              550             882  "
      ]
     },
     "execution_count": 49,
     "metadata": {},
     "output_type": "execute_result"
    }
   ],
   "source": [
    "df['monthly_income'] = df.apply(fill_profit, axis=1).astype('uint64')\n",
    "df[['message_count',\n",
    "    'internet_sum',\n",
    "    'duration_sum',\n",
    "    'messages_included',\n",
    "    'mb_per_month_included',\n",
    "    'minutes_included',\n",
    "    'rub_per_gb',\n",
    "    'rub_per_message',\n",
    "    'rub_per_minute',\n",
    "    'rub_monthly_fee',\n",
    "    'monthly_income']\n",
    "  ].sample(4)"
   ]
  },
  {
   "cell_type": "markdown",
   "id": "3742a865",
   "metadata": {},
   "source": [
    "Судя по выборочной проверке, наши расчеты оказались верными. Проверял с помощью калькулятора, вроде все сошлось. Для удобство анализа переведем значение использованных мегабайт в гигабайты."
   ]
  },
  {
   "cell_type": "markdown",
   "id": "648929ea",
   "metadata": {},
   "source": [
    "Не вопрос"
   ]
  },
  {
   "cell_type": "code",
   "execution_count": 50,
   "id": "2d9f2238",
   "metadata": {},
   "outputs": [],
   "source": [
    "df['overpay'] = df['monthly_income'] - df['rub_monthly_fee']"
   ]
  },
  {
   "cell_type": "markdown",
   "id": "d73d80de",
   "metadata": {},
   "source": [
    "Переведем трафик интернета в Gb для дальнейшего анализа"
   ]
  },
  {
   "cell_type": "code",
   "execution_count": 51,
   "id": "56ebcfe9",
   "metadata": {},
   "outputs": [],
   "source": [
    "df['internet_sum'] = df['internet_sum'] / 1024"
   ]
  },
  {
   "cell_type": "markdown",
   "id": "95023211",
   "metadata": {},
   "source": [
    "## Вывод"
   ]
  },
  {
   "cell_type": "markdown",
   "id": "13e45729",
   "metadata": {},
   "source": [
    "- Каких-либо отклонений в данных не было замечено\n",
    "- Проделана основная работа по изменению типа данных и исключение ненужной информации. \n",
    "- Расчитаны основные показатели ежемесячной активности пользователей (количестов затраченых минут, смс и интернета)\n",
    "- Сделана 1 итоговая таблица по которой будет производиться анализ и проверка гипотиз"
   ]
  },
  {
   "cell_type": "markdown",
   "id": "707aebff",
   "metadata": {},
   "source": [
    "# Анализ данных"
   ]
  },
  {
   "cell_type": "markdown",
   "id": "cb877d93",
   "metadata": {},
   "source": [
    "Проанализируем поведение пользователей в каждом тарифе"
   ]
  },
  {
   "cell_type": "code",
   "execution_count": 52,
   "id": "099a5e25",
   "metadata": {
    "tags": []
   },
   "outputs": [],
   "source": [
    "df_smart = df[df['tariff'] == 'smart']\n",
    "df_ultra = df[df['tariff'] == 'ultra']"
   ]
  },
  {
   "cell_type": "markdown",
   "id": "dcb4d5a8",
   "metadata": {},
   "source": [
    "## `smart`"
   ]
  },
  {
   "cell_type": "code",
   "execution_count": 53,
   "id": "f6749feb",
   "metadata": {},
   "outputs": [
    {
     "name": "stdout",
     "output_type": "stream",
     "text": [
      "Всего тарифом smart пользуются 2230 клиентов, что составляет 69.34% % от всех клиентов\n"
     ]
    }
   ],
   "source": [
    "print(f'''Всего тарифом smart пользуются {df_smart.shape[0]} клиентов, что составляет {df_smart.shape[0]/df.shape[0]:.2%} % от всех клиентов''')"
   ]
  },
  {
   "cell_type": "code",
   "execution_count": 54,
   "id": "1ebd3b04",
   "metadata": {},
   "outputs": [
    {
     "data": {
      "text/html": [
       "<div>\n",
       "<style scoped>\n",
       "    .dataframe tbody tr th:only-of-type {\n",
       "        vertical-align: middle;\n",
       "    }\n",
       "\n",
       "    .dataframe tbody tr th {\n",
       "        vertical-align: top;\n",
       "    }\n",
       "\n",
       "    .dataframe thead th {\n",
       "        text-align: right;\n",
       "    }\n",
       "</style>\n",
       "<table border=\"1\" class=\"dataframe\">\n",
       "  <thead>\n",
       "    <tr style=\"text-align: right;\">\n",
       "      <th></th>\n",
       "      <th>mean</th>\n",
       "      <th>var</th>\n",
       "      <th>std</th>\n",
       "    </tr>\n",
       "  </thead>\n",
       "  <tbody>\n",
       "    <tr>\n",
       "      <th>duration_sum</th>\n",
       "      <td>417.75</td>\n",
       "      <td>36281.39</td>\n",
       "      <td>190.48</td>\n",
       "    </tr>\n",
       "    <tr>\n",
       "      <th>message_count</th>\n",
       "      <td>33.37</td>\n",
       "      <td>796.96</td>\n",
       "      <td>28.23</td>\n",
       "    </tr>\n",
       "    <tr>\n",
       "      <th>internet_sum</th>\n",
       "      <td>15.82</td>\n",
       "      <td>32.96</td>\n",
       "      <td>5.74</td>\n",
       "    </tr>\n",
       "  </tbody>\n",
       "</table>\n",
       "</div>"
      ],
      "text/plain": [
       "                mean      var    std\n",
       "duration_sum  417.75 36281.39 190.48\n",
       "message_count  33.37   796.96  28.23\n",
       "internet_sum   15.82    32.96   5.74"
      ]
     },
     "execution_count": 54,
     "metadata": {},
     "output_type": "execute_result"
    }
   ],
   "source": [
    "df_smart.agg({'duration_sum':['mean', np.var, np.std],\n",
    "                              'message_count':['mean', np.var, np.std],\n",
    "                              'internet_sum':['mean', np.var, np.std]}).T"
   ]
  },
  {
   "cell_type": "markdown",
   "id": "6a199b47",
   "metadata": {},
   "source": [
    "Клиентам тарифа смарт:\n",
    " - В среднем необходимо 421 минут на телефонные звонки с среднем отклонением в 190 минут.\n",
    " - В среднем необходимо 34 сообщения в месяц с ср. отклонением в 28 сообщения.\n",
    " - В среднем 15,89 Gb интернета с среднем отклонением в 5,7 Gb \n",
    "И по этим данным уже можно сказать, что основной части пользователей не хватает количество интернета в тарифе и им приходится доплачивать. Посмотрим на распределение величин\n"
   ]
  },
  {
   "cell_type": "code",
   "execution_count": 55,
   "id": "3d34d8b4",
   "metadata": {},
   "outputs": [
    {
     "data": {
      "image/png": "[encoded data removed]",
      "text/plain": [
       "<Figure size 576x288 with 1 Axes>"
      ]
     },
     "metadata": {},
     "output_type": "display_data"
    },
    {
     "data": {
      "image/png": "[encoded data removed]",
      "text/plain": [
       "<Figure size 576x288 with 1 Axes>"
      ]
     },
     "metadata": {},
     "output_type": "display_data"
    },
    {
     "data": {
      "image/png": "[encoded data removed]",
      "text/plain": [
       "<Figure size 576x288 with 1 Axes>"
      ]
     },
     "metadata": {},
     "output_type": "display_data"
    }
   ],
   "source": [
    "name_col={'duration_sum':'Количество использованных Gb',\n",
    "          'message_count':'Количество использованных смс',\n",
    "          'internet_sum':'Количество использованных минут'}\n",
    "\n",
    "for name in name_col:\n",
    "    df_smart[name].hist(bins=20)\n",
    "    plt.title(name)\n",
    "    plt.xlabel(name_col[name])\n",
    "    plt.ylabel('Количество клиентов')\n",
    "    plt.show()"
   ]
  },
  {
   "cell_type": "markdown",
   "id": "a2a382a1",
   "metadata": {},
   "source": [
    "Симетричное распределение расходованных минут скошено влево, так же можем заметить выброс более 1000 минут."
   ]
  },
  {
   "cell_type": "code",
   "execution_count": 56,
   "id": "07382d56",
   "metadata": {},
   "outputs": [
    {
     "data": {
      "image/png": "[encoded data removed]",
      "text/plain": [
       "<Figure size 576x288 with 1 Axes>"
      ]
     },
     "metadata": {},
     "output_type": "display_data"
    }
   ],
   "source": [
    "df_smart['duration_sum'].hist(bins=[0, 225,550, 775, 1000])\n",
    "plt.title('Гистраграмма продолжительности звонков')\n",
    "plt.xlabel('Продолжительность звонка')\n",
    "plt.ylabel('Количество звонков')\n",
    "plt.show()"
   ]
  },
  {
   "cell_type": "code",
   "execution_count": 57,
   "id": "bbf88385",
   "metadata": {},
   "outputs": [
    {
     "data": {
      "text/plain": [
       "532"
      ]
     },
     "execution_count": 57,
     "metadata": {},
     "output_type": "execute_result"
    }
   ],
   "source": [
    "df_smart[df_smart['duration_sum'] > 550].shape[0]"
   ]
  },
  {
   "cell_type": "code",
   "execution_count": 58,
   "id": "b9a2420e",
   "metadata": {},
   "outputs": [
    {
     "data": {
      "text/plain": [
       "175"
      ]
     },
     "execution_count": 58,
     "metadata": {},
     "output_type": "execute_result"
    }
   ],
   "source": [
    "df_smart[df_smart['duration_sum'] > 550]['user_id'].nunique()"
   ]
  },
  {
   "cell_type": "markdown",
   "id": "350aa07f",
   "metadata": {},
   "source": [
    "532 раз клиентам пришлось воспользоваться дополнительныиим минутами разговора сверх ежемесячного лимита. Что составляет 17 % от общего числа всех предоставленых услуг (за угслугу считается 1 месяц пользование тарифом у 1 клиента).\n",
    "\n",
    "175 (37%) клиент хоть раз воспользовался дополнительными минутами."
   ]
  },
  {
   "cell_type": "markdown",
   "id": "cf91bdfe",
   "metadata": {},
   "source": [
    "Распределение минут не семетрично с положительной скошенностью. По графику видно, что смс как правило пользуются редко, что и понятно, когда есть интернет."
   ]
  },
  {
   "cell_type": "code",
   "execution_count": 59,
   "id": "0048df3e",
   "metadata": {},
   "outputs": [
    {
     "data": {
      "text/plain": [
       "308"
      ]
     },
     "execution_count": 59,
     "metadata": {},
     "output_type": "execute_result"
    }
   ],
   "source": [
    "df_smart[df_smart['message_count'] == 0].shape[0]"
   ]
  },
  {
   "cell_type": "markdown",
   "id": "84cb5563",
   "metadata": {},
   "source": [
    "При предоставлении 294 услуг смс не были использованы в принципе."
   ]
  },
  {
   "cell_type": "code",
   "execution_count": 60,
   "id": "855aef99",
   "metadata": {},
   "outputs": [
    {
     "data": {
      "text/plain": [
       "125"
      ]
     },
     "execution_count": 60,
     "metadata": {},
     "output_type": "execute_result"
    }
   ],
   "source": [
    "df_smart[df_smart['message_count'] > 50]['user_id'].nunique()"
   ]
  },
  {
   "cell_type": "markdown",
   "id": "854c83ec",
   "metadata": {},
   "source": [
    "120 клиентов (26%) хоть раз воспользовались дополнительными смс сверх тарифа smart"
   ]
  },
  {
   "cell_type": "markdown",
   "id": "17eb9d7a",
   "metadata": {},
   "source": [
    "Распределние использование интернета является нормальным и симетричным. Но среднее значение лежит правее значения в 15 Gb, что наглядно свидетельствует о том что среднему клиенту использования тарифа `smart` приходится доплачивать за использование интернета"
   ]
  },
  {
   "cell_type": "code",
   "execution_count": 61,
   "id": "a0010395",
   "metadata": {},
   "outputs": [
    {
     "data": {
      "text/plain": [
       "310"
      ]
     },
     "execution_count": 61,
     "metadata": {},
     "output_type": "execute_result"
    }
   ],
   "source": [
    "df_smart[df_smart['internet_sum'] > 15]['user_id'].nunique()"
   ]
  },
  {
   "cell_type": "markdown",
   "id": "1f080c70",
   "metadata": {},
   "source": [
    "А если быть точнее, то 310 клиентам (62%) приходилось хоть раз доплачивать за интернет"
   ]
  },
  {
   "cell_type": "markdown",
   "id": "ffbf9355",
   "metadata": {},
   "source": [
    "## `ultra`"
   ]
  },
  {
   "cell_type": "code",
   "execution_count": 62,
   "id": "f5c87193",
   "metadata": {},
   "outputs": [
    {
     "name": "stdout",
     "output_type": "stream",
     "text": [
      "Всего тарифом ultra пользуются 149 клиентов, что составляет 30% от всех клиентов\n"
     ]
    }
   ],
   "source": [
    "print(f'''Всего тарифом ultra пользуются {df_ultra['user_id'].nunique()} клиентов, что составляет {df_ultra['user_id'].nunique() / df['user_id'].nunique():.0%} от всех клиентов''')"
   ]
  },
  {
   "cell_type": "code",
   "execution_count": 63,
   "id": "8c25d4c3",
   "metadata": {},
   "outputs": [
    {
     "data": {
      "text/html": [
       "<div>\n",
       "<style scoped>\n",
       "    .dataframe tbody tr th:only-of-type {\n",
       "        vertical-align: middle;\n",
       "    }\n",
       "\n",
       "    .dataframe tbody tr th {\n",
       "        vertical-align: top;\n",
       "    }\n",
       "\n",
       "    .dataframe thead th {\n",
       "        text-align: right;\n",
       "    }\n",
       "</style>\n",
       "<table border=\"1\" class=\"dataframe\">\n",
       "  <thead>\n",
       "    <tr style=\"text-align: right;\">\n",
       "      <th></th>\n",
       "      <th>mean</th>\n",
       "      <th>var</th>\n",
       "      <th>std</th>\n",
       "    </tr>\n",
       "  </thead>\n",
       "  <tbody>\n",
       "    <tr>\n",
       "      <th>duration_sum</th>\n",
       "      <td>526.09</td>\n",
       "      <td>101052.49</td>\n",
       "      <td>317.89</td>\n",
       "    </tr>\n",
       "    <tr>\n",
       "      <th>message_count</th>\n",
       "      <td>49.31</td>\n",
       "      <td>2285.42</td>\n",
       "      <td>47.81</td>\n",
       "    </tr>\n",
       "    <tr>\n",
       "      <th>internet_sum</th>\n",
       "      <td>18.99</td>\n",
       "      <td>97.30</td>\n",
       "      <td>9.86</td>\n",
       "    </tr>\n",
       "  </tbody>\n",
       "</table>\n",
       "</div>"
      ],
      "text/plain": [
       "                mean       var    std\n",
       "duration_sum  526.09 101052.49 317.89\n",
       "message_count  49.31   2285.42  47.81\n",
       "internet_sum   18.99     97.30   9.86"
      ]
     },
     "execution_count": 63,
     "metadata": {},
     "output_type": "execute_result"
    }
   ],
   "source": [
    "df_ultra.agg({'duration_sum':['mean', np.var, np.std],\n",
    "                              'message_count':['mean', np.var, np.std],\n",
    "                              'internet_sum':['mean', np.var, np.std]}).T"
   ]
  },
  {
   "cell_type": "markdown",
   "id": "48dc902d",
   "metadata": {
    "tags": []
   },
   "source": [
    "Клиентам тарифа ultra:\n",
    " - В среднем необходимо 529 минут на телефонные звонки со среднем отклонением в 318 минут.\n",
    " - В среднем необходимо 51 сообщение в месяц со ср. отклонением в 48 сообщений.\n",
    " - В среднем 19,13 Gb интернета со ср. отклонением в 9,8 Gb \n",
    " \n",
    "По данным можно сказать, что основной части пользователей хватает количество интернета минут и смс, причем только небольшое количество расходует полностью лимит"
   ]
  },
  {
   "cell_type": "code",
   "execution_count": 64,
   "id": "dcc9ad62",
   "metadata": {},
   "outputs": [
    {
     "data": {
      "image/png": "[encoded data removed]",
      "text/plain": [
       "<Figure size 576x288 with 1 Axes>"
      ]
     },
     "metadata": {},
     "output_type": "display_data"
    },
    {
     "data": {
      "image/png": "[encoded data removed]",
      "text/plain": [
       "<Figure size 576x288 with 1 Axes>"
      ]
     },
     "metadata": {},
     "output_type": "display_data"
    },
    {
     "data": {
      "image/png": "[encoded data removed]",
      "text/plain": [
       "<Figure size 576x288 with 1 Axes>"
      ]
     },
     "metadata": {},
     "output_type": "display_data"
    }
   ],
   "source": [
    "name_col={'duration_sum':'Количество использованных Gb',\n",
    "          'message_count':'Количество использованных смс',\n",
    "          'internet_sum':'Количество использованных минут'}\n",
    "\n",
    "for name in name_col:\n",
    "    df_ultra[name].hist(bins=20)\n",
    "    plt.title(name)\n",
    "    plt.xlabel(name_col[name])\n",
    "    plt.ylabel('Количество клиентов')\n",
    "    plt.show()"
   ]
  },
  {
   "cell_type": "markdown",
   "id": "f5a039b6",
   "metadata": {},
   "source": [
    "Симетричное распределение расходованных минут скошено влево, так же можем заметить выброс более 1000 минут."
   ]
  },
  {
   "cell_type": "code",
   "execution_count": 65,
   "id": "554a8209",
   "metadata": {},
   "outputs": [
    {
     "data": {
      "image/png": "[encoded data removed]",
      "text/plain": [
       "<Figure size 576x288 with 1 Axes>"
      ]
     },
     "metadata": {},
     "output_type": "display_data"
    }
   ],
   "source": [
    "df_ultra['duration_sum'].hist(bins=[0, 200,400, 600, 800, 1000, 1200, 1400, 1600])\n",
    "plt.title('Гистраграмма продолжительности звонков')\n",
    "plt.xlabel('Продолжительность звонка')\n",
    "plt.ylabel('Количество звонков')\n",
    "plt.show()"
   ]
  },
  {
   "cell_type": "code",
   "execution_count": 66,
   "id": "8a6d0532",
   "metadata": {},
   "outputs": [
    {
     "data": {
      "text/plain": [
       "0"
      ]
     },
     "execution_count": 66,
     "metadata": {},
     "output_type": "execute_result"
    }
   ],
   "source": [
    "df_ultra[df_ultra['duration_sum'] > 1700].shape[0]"
   ]
  },
  {
   "cell_type": "markdown",
   "id": "7c63c609",
   "metadata": {},
   "source": [
    "Ни один клиент не израсходовал лимит минут разговора по тарифу (лимит 3000). Распределение на графике имеет положительную скошенность"
   ]
  },
  {
   "cell_type": "markdown",
   "id": "8e4231fc",
   "metadata": {},
   "source": [
    "Распределение минут не семетрично с положительной скошенностью. По графику видно, что смс как и с тарифом smart пользуются редко."
   ]
  },
  {
   "cell_type": "code",
   "execution_count": 67,
   "id": "0a20530d",
   "metadata": {},
   "outputs": [
    {
     "data": {
      "text/plain": [
       "191"
      ]
     },
     "execution_count": 67,
     "metadata": {},
     "output_type": "execute_result"
    }
   ],
   "source": [
    "df_ultra[df_ultra['message_count'] == 0].shape[0]"
   ]
  },
  {
   "cell_type": "code",
   "execution_count": 68,
   "id": "4c477a09",
   "metadata": {
    "tags": []
   },
   "outputs": [
    {
     "data": {
      "text/plain": [
       "29"
      ]
     },
     "execution_count": 68,
     "metadata": {},
     "output_type": "execute_result"
    }
   ],
   "source": [
    "df_ultra[df_ultra['message_count'] == 0]['user_id'].nunique()"
   ]
  },
  {
   "cell_type": "markdown",
   "id": "bb5fb552",
   "metadata": {},
   "source": [
    "При предоставлении 156 услуг 22 клиента не использовали смс в принципе."
   ]
  },
  {
   "cell_type": "code",
   "execution_count": 69,
   "id": "ba517974",
   "metadata": {},
   "outputs": [
    {
     "data": {
      "text/plain": [
       "0"
      ]
     },
     "execution_count": 69,
     "metadata": {},
     "output_type": "execute_result"
    }
   ],
   "source": [
    "df_ultra[df_ultra['message_count'] > 1000]['user_id'].nunique()"
   ]
  },
  {
   "cell_type": "markdown",
   "id": "32eeb9be",
   "metadata": {},
   "source": [
    "Ни один клиент не израсходовал лимит смс по тарифу"
   ]
  },
  {
   "cell_type": "markdown",
   "id": "337e61cc",
   "metadata": {},
   "source": [
    "Распределние использование интернета является нормальным и симетричным со средним значени в 19 Gb и по графику видно что часть клиентов выходила на порог в лимит 30 Gb."
   ]
  },
  {
   "cell_type": "code",
   "execution_count": 70,
   "id": "778ad660",
   "metadata": {},
   "outputs": [
    {
     "data": {
      "text/plain": [
       "43"
      ]
     },
     "execution_count": 70,
     "metadata": {},
     "output_type": "execute_result"
    }
   ],
   "source": [
    "df_ultra[df_ultra['internet_sum'] > 30]['user_id'].nunique()"
   ]
  },
  {
   "cell_type": "markdown",
   "id": "f96989a4",
   "metadata": {},
   "source": [
    "А если быть точнее, то 40 клиентам (9%) приходилось хоть раз доплачивать за интернет"
   ]
  },
  {
   "cell_type": "markdown",
   "id": "4b239fe9",
   "metadata": {},
   "source": [
    "## Переплата"
   ]
  },
  {
   "cell_type": "code",
   "execution_count": 71,
   "id": "40e2b6a8",
   "metadata": {},
   "outputs": [],
   "source": [
    "df_overpay = df.query('overpay > 0')"
   ]
  },
  {
   "cell_type": "code",
   "execution_count": 72,
   "id": "30582986",
   "metadata": {},
   "outputs": [
    {
     "name": "stdout",
     "output_type": "stream",
     "text": [
      "Количество клиентов, которые пользовались дополнительными услугами: 376\n"
     ]
    }
   ],
   "source": [
    "print('Количество клиентов, которые пользовались дополнительными услугами:', df_overpay['user_id'].nunique())"
   ]
  },
  {
   "cell_type": "code",
   "execution_count": 73,
   "id": "a2769ea4",
   "metadata": {},
   "outputs": [
    {
     "data": {
      "image/png": "[encoded data removed]",
      "text/plain": [
       "<Figure size 576x288 with 1 Axes>"
      ]
     },
     "metadata": {},
     "output_type": "display_data"
    }
   ],
   "source": [
    "df_overpay['overpay'].hist(bins=30)\n",
    "plt.title('Распределение суммы переплаты за услуги')\n",
    "plt.xlabel('Сумма, руб.')\n",
    "plt.ylabel('Количество клиентов')\n",
    "plt.show()"
   ]
  },
  {
   "cell_type": "code",
   "execution_count": 74,
   "id": "e214309f",
   "metadata": {},
   "outputs": [
    {
     "data": {
      "text/plain": [
       "count   1795.00\n",
       "mean     983.40\n",
       "std      791.99\n",
       "min        3.00\n",
       "25%      400.00\n",
       "50%      800.00\n",
       "75%     1400.00\n",
       "max     6220.00\n",
       "Name: overpay, dtype: float64"
      ]
     },
     "execution_count": 74,
     "metadata": {},
     "output_type": "execute_result"
    }
   ],
   "source": [
    "df_overpay['overpay'].describe()"
   ]
  },
  {
   "cell_type": "markdown",
   "id": "9417ff8b",
   "metadata": {},
   "source": [
    "Средняя переплата за услуги составляет 983 рубля, медиана 800 рублей. Распределение переплат не семетрично, что в принципе и логично, переплаты никто не любит их стараются избежать."
   ]
  },
  {
   "cell_type": "code",
   "execution_count": 75,
   "id": "0d9201bc",
   "metadata": {},
   "outputs": [
    {
     "data": {
      "text/plain": [
       "3159    6220\n",
       "1184    5159\n",
       "3158    5130\n",
       "2178    5122\n",
       "2299    4771\n",
       "1720    4702\n",
       "1426    4464\n",
       "2177    4114\n",
       "2380    4000\n",
       "1765    3923\n",
       "Name: overpay, dtype: uint64"
      ]
     },
     "execution_count": 75,
     "metadata": {},
     "output_type": "execute_result"
    }
   ],
   "source": [
    "df['overpay'].sort_values(ascending=False).head(10)"
   ]
  },
  {
   "cell_type": "markdown",
   "id": "157da9fe",
   "metadata": {},
   "source": [
    "Из 500 пользователй 376 (75,2%) клиентов приходилось хоть раз оплачивать дополнительные услгуи, самая большая переплата составила 6220 не всключая плату за тариф."
   ]
  },
  {
   "cell_type": "markdown",
   "id": "750bf5c4",
   "metadata": {},
   "source": [
    "## Вывод"
   ]
  },
  {
   "cell_type": "markdown",
   "id": "16bf6a3a",
   "metadata": {},
   "source": [
    "- Основной части пользователей тарифва 'smart' не хватает количество интернета в тарифе и им приходится доплачивать за его использование. Три четверти клиентов хоть раз доплачивали за интернет\n",
    "- Четверть клиентов хоть раз пользовались дополнительными смс-сообщениями сверх тарифного плана 'smart'\n",
    "- Треть клиентов хоть раз пользовались дополнительными минутами сверх тарифа 'smsrt\n",
    "\n",
    "- Пользователи тарифом 'ultra' ни разу не приходилось доплачивать на минуты и смс\n",
    "- Только 9% пользователей тарифом 'ultra' приходилось хоть раз доплачивать за интернет\n",
    "- Средняя переплата за услуги составляет 983 рубля\n"
   ]
  },
  {
   "cell_type": "markdown",
   "id": "ab13af9a",
   "metadata": {},
   "source": [
    "# Проверка гипотиз"
   ]
  },
  {
   "cell_type": "markdown",
   "id": "8d2059fb",
   "metadata": {},
   "source": [
    "Проверим отличается ли выручка пользователей тарифов «Ультра» и «Смарт». Уровень альфа возьмем стандартно 5%. За нулевую гипотезу возьмем гиопезу о том, что выручка по двум тарифам равны, а за альтернативную, что вырочка разная"
   ]
  },
  {
   "cell_type": "code",
   "execution_count": 76,
   "id": "efa39a58",
   "metadata": {},
   "outputs": [
    {
     "name": "stdout",
     "output_type": "stream",
     "text": [
      "p-значение: 0.000%\n",
      "Отвергаем нулевую гипотезу\n"
     ]
    }
   ],
   "source": [
    "alpha = .05\n",
    "\n",
    "sample_smart = df_smart['monthly_income']\n",
    "sample_ultra = df_ultra['monthly_income']\n",
    "\n",
    "results = st.ttest_ind(\n",
    "    sample_smart, \n",
    "    sample_ultra)\n",
    "\n",
    "print(f'p-значение: {results.pvalue:.3%}')\n",
    "\n",
    "if results.pvalue < alpha:\n",
    "    print(\"Отвергаем нулевую гипотезу\")\n",
    "else:\n",
    "    print(\"Не получилось отвергнуть нулевую гипотезу\") "
   ]
  },
  {
   "cell_type": "markdown",
   "id": "97605fc8",
   "metadata": {},
   "source": [
    "Как мы видим по тестам, выручка совершенно точно отличается по тарифам. Посмотри на среднее чтобы определить по какому тарифу выручка больше"
   ]
  },
  {
   "cell_type": "code",
   "execution_count": 77,
   "id": "b8085508",
   "metadata": {},
   "outputs": [
    {
     "name": "stdout",
     "output_type": "stream",
     "text": [
      "Средняя выручка по тарифу \"Смарт\": 1288.57\n",
      "Средняя выручка по тарифу \"Ультра\": 2069.88\n"
     ]
    }
   ],
   "source": [
    "print(f'Средняя выручка по тарифу \"Смарт\": {sample_smart.mean():.2f}')\n",
    "print(f'Средняя выручка по тарифу \"Ультра\": {sample_ultra.mean():.2f}')"
   ]
  },
  {
   "cell_type": "markdown",
   "id": "c11d2952",
   "metadata": {},
   "source": [
    "На основе p-value  и значение среднего можем сказать, что выручка по тарифу \"Ультра\" больше.\n",
    "\n",
    "Теперь проверим гипотезу о том, что выручка в Москве больше чем в других городах. За нулевую гипотезу пример, что во всех городах выручка одинаковая."
   ]
  },
  {
   "cell_type": "code",
   "execution_count": 78,
   "id": "73bd9932",
   "metadata": {},
   "outputs": [
    {
     "name": "stdout",
     "output_type": "stream",
     "text": [
      "p-значение: 54.247%\n",
      "Не получилось отвергнуть нулевую гипотезу\n",
      "Средняя выручка в Москве: 1545.81\n",
      "Средняя выручка в других городах: 1523.96\n"
     ]
    }
   ],
   "source": [
    "alpha = .05\n",
    "\n",
    "sample_smart = df.query('city == \"Москва\"')['monthly_income']\n",
    "sample_ultra = df.query('city != \"Москва\"')['monthly_income']\n",
    "\n",
    "results = st.ttest_ind(\n",
    "    sample_smart, \n",
    "    sample_ultra)\n",
    "\n",
    "print(f'p-значение: {results.pvalue:.3%}')\n",
    "\n",
    "if results.pvalue < alpha:\n",
    "    print(\"Отвергаем нулевую гипотезу\")\n",
    "else:\n",
    "    print(\"Не получилось отвергнуть нулевую гипотезу\") \n",
    "\n",
    "print(f'Средняя выручка в Москве: {sample_smart.mean():.2f}')\n",
    "print(f'Средняя выручка в других городах: {sample_ultra.mean():.2f}')"
   ]
  },
  {
   "cell_type": "markdown",
   "id": "6027287a",
   "metadata": {},
   "source": [
    "На основе расчетов можно сказать что выручка с высокой долей вероятности не отличается по городам России"
   ]
  },
  {
   "cell_type": "markdown",
   "id": "cd163169",
   "metadata": {},
   "source": [
    "## Вывод"
   ]
  },
  {
   "cell_type": "markdown",
   "id": "0bb7011a",
   "metadata": {},
   "source": [
    "- На основании тестов можно утверждать что вероятней всего выручка по тарифу \"Утра\" выше чем по тарифу \"Смарт\"\n",
    "- На основании тестов можно утверждать что вероятней всего выручка не зависит от города в котором находится клиент"
   ]
  },
  {
   "cell_type": "markdown",
   "id": "c2a8fe08",
   "metadata": {},
   "source": [
    "# Общий вывод"
   ]
  },
  {
   "cell_type": "markdown",
   "id": "2bba3654",
   "metadata": {},
   "source": [
    "В ходе работы было обработано досточно большое количество данных, на основе первичной информации и звонкам, смс и интернета была сформирована итоговая таблица с разбивкой по уникальным пользователям и месяца использование услуг. Тщательная обработки в данных не требовалась, поскольку они были хорошего качетсва. Благодаря изменению типов данных удалось значительно сократить потребляемую память компьютера.\n",
    "\n",
    "В ходе анализа можно сделать основной вывод, что тариф \"Ультра\" более выгоден для компании чем тариф \"Смарт\", но при этом нужно учитывать, что пользователи \"Ультра\" не расходуют полностью лимит по минутам и количеству смс, а значит не используют его в полной мере, что может послужить основанием к отказу от использования данного тарифа. При этом нужно так же учитывать что по тарифу \"Смарт\" большая доля клиентов доплачивает за дополнительные минуты и смс, а количество предоставеного объема интернет большенству не хватает. Данную теорию подтверждает тот факт, что тарифом \"Смарт\" пользуется большее количество клиентов, предпочитая при этом доплачивать за дополнительные услуги и при этом затрачивая меньше чем на тарифе \"Ультра\".\n",
    "\n",
    "В связи с вышеизложенным не рекомендуется проводить агресивную рекламу для продвижения тарифа \"Ультра\", так как это может повлечь за собой репутационные издержки, клиенты попросту могут подумать, что им пытаются продать ненужное. Вместо этого, я бы рекомендовал разработать новый тариф (либо изменить тариф \"Смарт\"), который смог бы удовлетворить среднестатистического пользователя по предоставленным минутам, смс и интернета. Цену тарифа рекомендую поставить в районе 1300-1400 руб. для того чтобы прибыль от тарифа превышала прибыть от тарифа \"Смарт\". Объемы предоставленыз лимитов, рекомендую сделать приблизительно 420 минут на звонки, количество сообщений оставить на уровне 50 бесплатных сообщений, а количество предоставленыйх гигабайт установить в районе 15 Gb. Для более точных рекомендаций требуется анализ затрат компании на предоставление услуг по звонкам, смс и интернета.\n",
    "\n",
    "Исходя из предоставленных данные большая часть клиентов находится в Москве, возможно это важно будет учесть при планировании бюджета на рекламу. Различия в выручке между Москвой и другоими городами отсутствуют."
   ]
  }
 ],
 "metadata": {
  "ExecuteTimeLog": [
   {
    "duration": 1163,
    "start_time": "2022-02-28T14:39:29.332Z"
   },
   {
    "duration": 5,
    "start_time": "2022-02-28T14:39:31.662Z"
   },
   {
    "duration": 6543,
    "start_time": "2022-02-28T14:40:00.576Z"
   },
   {
    "duration": 1664,
    "start_time": "2022-02-28T14:40:15.247Z"
   },
   {
    "duration": 1401,
    "start_time": "2022-02-28T14:41:03.092Z"
   },
   {
    "duration": 419,
    "start_time": "2022-02-28T14:41:12.462Z"
   },
   {
    "duration": 21,
    "start_time": "2022-02-28T14:41:31.990Z"
   },
   {
    "duration": 5,
    "start_time": "2022-02-28T14:42:36.941Z"
   },
   {
    "duration": 19,
    "start_time": "2022-02-28T14:42:43.161Z"
   },
   {
    "duration": 73,
    "start_time": "2022-02-28T14:42:49.041Z"
   },
   {
    "duration": 5,
    "start_time": "2022-02-28T14:43:26.541Z"
   },
   {
    "duration": 404,
    "start_time": "2022-02-28T14:43:30.861Z"
   },
   {
    "duration": 735,
    "start_time": "2022-02-28T14:54:24.961Z"
   },
   {
    "duration": 862,
    "start_time": "2022-02-28T14:55:02.841Z"
   },
   {
    "duration": 1187,
    "start_time": "2022-02-28T14:57:50.053Z"
   },
   {
    "duration": 5,
    "start_time": "2022-02-28T14:57:51.242Z"
   },
   {
    "duration": 198,
    "start_time": "2022-02-28T14:57:51.249Z"
   },
   {
    "duration": 4,
    "start_time": "2022-02-28T14:57:51.450Z"
   },
   {
    "duration": 808,
    "start_time": "2022-02-28T14:57:51.455Z"
   },
   {
    "duration": 480,
    "start_time": "2022-02-28T14:57:52.264Z"
   },
   {
    "duration": 550,
    "start_time": "2022-02-28T14:57:52.746Z"
   },
   {
    "duration": 132,
    "start_time": "2022-02-28T14:57:53.299Z"
   },
   {
    "duration": 7,
    "start_time": "2022-02-28T14:57:53.434Z"
   },
   {
    "duration": 344,
    "start_time": "2022-02-28T14:57:53.443Z"
   },
   {
    "duration": 8,
    "start_time": "2022-02-28T14:57:53.789Z"
   },
   {
    "duration": 27,
    "start_time": "2022-02-28T14:57:53.799Z"
   },
   {
    "duration": 313,
    "start_time": "2022-02-28T14:57:53.828Z"
   },
   {
    "duration": -311,
    "start_time": "2022-02-28T14:57:54.456Z"
   },
   {
    "duration": -326,
    "start_time": "2022-02-28T14:57:54.472Z"
   },
   {
    "duration": -351,
    "start_time": "2022-02-28T14:57:54.497Z"
   },
   {
    "duration": -361,
    "start_time": "2022-02-28T14:57:54.508Z"
   },
   {
    "duration": -1010,
    "start_time": "2022-02-28T14:57:55.158Z"
   },
   {
    "duration": -1642,
    "start_time": "2022-02-28T14:57:55.791Z"
   },
   {
    "duration": -1658,
    "start_time": "2022-02-28T14:57:55.808Z"
   },
   {
    "duration": -1673,
    "start_time": "2022-02-28T14:57:55.824Z"
   },
   {
    "duration": -1688,
    "start_time": "2022-02-28T14:57:55.840Z"
   },
   {
    "duration": -1689,
    "start_time": "2022-02-28T14:57:55.842Z"
   },
   {
    "duration": -1705,
    "start_time": "2022-02-28T14:57:55.859Z"
   },
   {
    "duration": -1720,
    "start_time": "2022-02-28T14:57:55.874Z"
   },
   {
    "duration": -1735,
    "start_time": "2022-02-28T14:57:55.890Z"
   },
   {
    "duration": -1753,
    "start_time": "2022-02-28T14:57:55.909Z"
   },
   {
    "duration": -1769,
    "start_time": "2022-02-28T14:57:55.926Z"
   },
   {
    "duration": -1782,
    "start_time": "2022-02-28T14:57:55.940Z"
   },
   {
    "duration": -1783,
    "start_time": "2022-02-28T14:57:55.942Z"
   },
   {
    "duration": -1800,
    "start_time": "2022-02-28T14:57:55.960Z"
   },
   {
    "duration": -1815,
    "start_time": "2022-02-28T14:57:55.975Z"
   },
   {
    "duration": -1827,
    "start_time": "2022-02-28T14:57:55.988Z"
   },
   {
    "duration": -1830,
    "start_time": "2022-02-28T14:57:55.992Z"
   },
   {
    "duration": -1846,
    "start_time": "2022-02-28T14:57:56.009Z"
   },
   {
    "duration": -1859,
    "start_time": "2022-02-28T14:57:56.023Z"
   },
   {
    "duration": -1875,
    "start_time": "2022-02-28T14:57:56.039Z"
   },
   {
    "duration": -1891,
    "start_time": "2022-02-28T14:57:56.056Z"
   },
   {
    "duration": -1905,
    "start_time": "2022-02-28T14:57:56.071Z"
   },
   {
    "duration": -1904,
    "start_time": "2022-02-28T14:57:56.071Z"
   },
   {
    "duration": -1923,
    "start_time": "2022-02-28T14:57:56.091Z"
   },
   {
    "duration": -1939,
    "start_time": "2022-02-28T14:57:56.108Z"
   },
   {
    "duration": -1938,
    "start_time": "2022-02-28T14:57:56.108Z"
   },
   {
    "duration": -1955,
    "start_time": "2022-02-28T14:57:56.125Z"
   },
   {
    "duration": -1972,
    "start_time": "2022-02-28T14:57:56.143Z"
   },
   {
    "duration": -1987,
    "start_time": "2022-02-28T14:57:56.159Z"
   },
   {
    "duration": -2003,
    "start_time": "2022-02-28T14:57:56.176Z"
   },
   {
    "duration": -2019,
    "start_time": "2022-02-28T14:57:56.193Z"
   },
   {
    "duration": -2030,
    "start_time": "2022-02-28T14:57:56.205Z"
   },
   {
    "duration": -2034,
    "start_time": "2022-02-28T14:57:56.209Z"
   },
   {
    "duration": -2049,
    "start_time": "2022-02-28T14:57:56.225Z"
   },
   {
    "duration": -2064,
    "start_time": "2022-02-28T14:57:56.241Z"
   },
   {
    "duration": -2064,
    "start_time": "2022-02-28T14:57:56.242Z"
   },
   {
    "duration": -2080,
    "start_time": "2022-02-28T14:57:56.259Z"
   },
   {
    "duration": -2094,
    "start_time": "2022-02-28T14:57:56.274Z"
   },
   {
    "duration": -2109,
    "start_time": "2022-02-28T14:57:56.290Z"
   },
   {
    "duration": -2127,
    "start_time": "2022-02-28T14:57:56.309Z"
   },
   {
    "duration": -2144,
    "start_time": "2022-02-28T14:57:56.326Z"
   },
   {
    "duration": -2143,
    "start_time": "2022-02-28T14:57:56.326Z"
   },
   {
    "duration": -2157,
    "start_time": "2022-02-28T14:57:56.341Z"
   },
   {
    "duration": -2174,
    "start_time": "2022-02-28T14:57:56.359Z"
   },
   {
    "duration": -2187,
    "start_time": "2022-02-28T14:57:56.373Z"
   },
   {
    "duration": -2204,
    "start_time": "2022-02-28T14:57:56.390Z"
   },
   {
    "duration": -2223,
    "start_time": "2022-02-28T14:57:56.410Z"
   },
   {
    "duration": -2233,
    "start_time": "2022-02-28T14:57:56.421Z"
   },
   {
    "duration": -2236,
    "start_time": "2022-02-28T14:57:56.425Z"
   },
   {
    "duration": -2252,
    "start_time": "2022-02-28T14:57:56.441Z"
   },
   {
    "duration": -2267,
    "start_time": "2022-02-28T14:57:56.457Z"
   },
   {
    "duration": -2268,
    "start_time": "2022-02-28T14:57:56.459Z"
   },
   {
    "duration": -2282,
    "start_time": "2022-02-28T14:57:56.474Z"
   },
   {
    "duration": -2298,
    "start_time": "2022-02-28T14:57:56.491Z"
   },
   {
    "duration": -2314,
    "start_time": "2022-02-28T14:57:56.508Z"
   },
   {
    "duration": -2330,
    "start_time": "2022-02-28T14:57:56.525Z"
   },
   {
    "duration": -2347,
    "start_time": "2022-02-28T14:57:56.542Z"
   },
   {
    "duration": -2359,
    "start_time": "2022-02-28T14:57:56.555Z"
   },
   {
    "duration": -2362,
    "start_time": "2022-02-28T14:57:56.559Z"
   },
   {
    "duration": -2377,
    "start_time": "2022-02-28T14:57:56.574Z"
   },
   {
    "duration": -2393,
    "start_time": "2022-02-28T14:57:56.591Z"
   },
   {
    "duration": -2409,
    "start_time": "2022-02-28T14:57:56.608Z"
   },
   {
    "duration": 1270,
    "start_time": "2022-02-28T14:58:32.535Z"
   },
   {
    "duration": 7,
    "start_time": "2022-02-28T14:58:33.808Z"
   },
   {
    "duration": 211,
    "start_time": "2022-02-28T14:58:33.817Z"
   },
   {
    "duration": 30,
    "start_time": "2022-02-28T14:58:34.030Z"
   },
   {
    "duration": 798,
    "start_time": "2022-02-28T14:58:34.063Z"
   },
   {
    "duration": 450,
    "start_time": "2022-02-28T14:58:34.863Z"
   },
   {
    "duration": 562,
    "start_time": "2022-02-28T14:58:35.315Z"
   },
   {
    "duration": 144,
    "start_time": "2022-02-28T14:58:35.880Z"
   },
   {
    "duration": 7,
    "start_time": "2022-02-28T14:58:36.026Z"
   },
   {
    "duration": 353,
    "start_time": "2022-02-28T14:58:36.035Z"
   },
   {
    "duration": 9,
    "start_time": "2022-02-28T14:58:36.389Z"
   },
   {
    "duration": 5,
    "start_time": "2022-02-28T14:58:36.399Z"
   },
   {
    "duration": 16,
    "start_time": "2022-02-28T14:58:36.406Z"
   },
   {
    "duration": 837,
    "start_time": "2022-02-28T14:58:36.424Z"
   },
   {
    "duration": 22,
    "start_time": "2022-02-28T14:58:37.263Z"
   },
   {
    "duration": 11,
    "start_time": "2022-02-28T14:58:37.286Z"
   },
   {
    "duration": 7,
    "start_time": "2022-02-28T14:58:37.299Z"
   },
   {
    "duration": 70,
    "start_time": "2022-02-28T14:58:37.307Z"
   },
   {
    "duration": 5,
    "start_time": "2022-02-28T14:58:37.378Z"
   },
   {
    "duration": 8,
    "start_time": "2022-02-28T14:58:37.385Z"
   },
   {
    "duration": 7,
    "start_time": "2022-02-28T14:58:37.395Z"
   },
   {
    "duration": 308,
    "start_time": "2022-02-28T14:58:37.403Z"
   },
   {
    "duration": 9,
    "start_time": "2022-02-28T14:58:37.716Z"
   },
   {
    "duration": 32,
    "start_time": "2022-02-28T14:58:37.728Z"
   },
   {
    "duration": 40,
    "start_time": "2022-02-28T14:58:37.762Z"
   },
   {
    "duration": 17,
    "start_time": "2022-02-28T14:58:37.804Z"
   },
   {
    "duration": 75,
    "start_time": "2022-02-28T14:58:37.823Z"
   },
   {
    "duration": 289,
    "start_time": "2022-02-28T14:58:37.899Z"
   },
   {
    "duration": 8,
    "start_time": "2022-02-28T14:58:38.189Z"
   },
   {
    "duration": 6,
    "start_time": "2022-02-28T14:58:38.199Z"
   },
   {
    "duration": 13,
    "start_time": "2022-02-28T14:58:38.207Z"
   },
   {
    "duration": 395,
    "start_time": "2022-02-28T14:58:38.223Z"
   },
   {
    "duration": -906,
    "start_time": "2022-02-28T14:58:39.526Z"
   },
   {
    "duration": -919,
    "start_time": "2022-02-28T14:58:39.540Z"
   },
   {
    "duration": -971,
    "start_time": "2022-02-28T14:58:39.593Z"
   },
   {
    "duration": -986,
    "start_time": "2022-02-28T14:58:39.609Z"
   },
   {
    "duration": -1001,
    "start_time": "2022-02-28T14:58:39.625Z"
   },
   {
    "duration": -1001,
    "start_time": "2022-02-28T14:58:39.627Z"
   },
   {
    "duration": -1016,
    "start_time": "2022-02-28T14:58:39.643Z"
   },
   {
    "duration": -1031,
    "start_time": "2022-02-28T14:58:39.659Z"
   },
   {
    "duration": -1044,
    "start_time": "2022-02-28T14:58:39.673Z"
   },
   {
    "duration": -1046,
    "start_time": "2022-02-28T14:58:39.677Z"
   },
   {
    "duration": -1077,
    "start_time": "2022-02-28T14:58:39.709Z"
   },
   {
    "duration": -1093,
    "start_time": "2022-02-28T14:58:39.726Z"
   },
   {
    "duration": -1092,
    "start_time": "2022-02-28T14:58:39.726Z"
   },
   {
    "duration": -1108,
    "start_time": "2022-02-28T14:58:39.744Z"
   },
   {
    "duration": -1123,
    "start_time": "2022-02-28T14:58:39.760Z"
   },
   {
    "duration": -1138,
    "start_time": "2022-02-28T14:58:39.776Z"
   },
   {
    "duration": -1135,
    "start_time": "2022-02-28T14:58:39.776Z"
   },
   {
    "duration": -1150,
    "start_time": "2022-02-28T14:58:39.792Z"
   },
   {
    "duration": -1168,
    "start_time": "2022-02-28T14:58:39.811Z"
   },
   {
    "duration": -1197,
    "start_time": "2022-02-28T14:58:39.841Z"
   },
   {
    "duration": -1214,
    "start_time": "2022-02-28T14:58:39.859Z"
   },
   {
    "duration": -1213,
    "start_time": "2022-02-28T14:58:39.860Z"
   },
   {
    "duration": -1229,
    "start_time": "2022-02-28T14:58:39.877Z"
   },
   {
    "duration": -1243,
    "start_time": "2022-02-28T14:58:39.892Z"
   },
   {
    "duration": -1257,
    "start_time": "2022-02-28T14:58:39.908Z"
   },
   {
    "duration": -1259,
    "start_time": "2022-02-28T14:58:39.910Z"
   },
   {
    "duration": -1275,
    "start_time": "2022-02-28T14:58:39.927Z"
   },
   {
    "duration": -1306,
    "start_time": "2022-02-28T14:58:39.959Z"
   },
   {
    "duration": -1323,
    "start_time": "2022-02-28T14:58:39.977Z"
   },
   {
    "duration": -1339,
    "start_time": "2022-02-28T14:58:39.994Z"
   },
   {
    "duration": -1352,
    "start_time": "2022-02-28T14:58:40.008Z"
   },
   {
    "duration": -1352,
    "start_time": "2022-02-28T14:58:40.009Z"
   },
   {
    "duration": -1369,
    "start_time": "2022-02-28T14:58:40.027Z"
   },
   {
    "duration": -1384,
    "start_time": "2022-02-28T14:58:40.043Z"
   },
   {
    "duration": -1398,
    "start_time": "2022-02-28T14:58:40.058Z"
   },
   {
    "duration": -1415,
    "start_time": "2022-02-28T14:58:40.076Z"
   },
   {
    "duration": -1431,
    "start_time": "2022-02-28T14:58:40.093Z"
   },
   {
    "duration": -1447,
    "start_time": "2022-02-28T14:58:40.110Z"
   },
   {
    "duration": -1459,
    "start_time": "2022-02-28T14:58:40.123Z"
   },
   {
    "duration": -1463,
    "start_time": "2022-02-28T14:58:40.128Z"
   },
   {
    "duration": -1476,
    "start_time": "2022-02-28T14:58:40.143Z"
   },
   {
    "duration": -1490,
    "start_time": "2022-02-28T14:58:40.158Z"
   },
   {
    "duration": -1505,
    "start_time": "2022-02-28T14:58:40.174Z"
   },
   {
    "duration": -1520,
    "start_time": "2022-02-28T14:58:40.190Z"
   },
   {
    "duration": -1540,
    "start_time": "2022-02-28T14:58:40.211Z"
   },
   {
    "duration": -1551,
    "start_time": "2022-02-28T14:58:40.223Z"
   },
   {
    "duration": -1563,
    "start_time": "2022-02-28T14:58:40.236Z"
   },
   {
    "duration": 270,
    "start_time": "2022-02-28T15:01:34.086Z"
   },
   {
    "duration": 3,
    "start_time": "2022-02-28T15:01:39.925Z"
   },
   {
    "duration": 3,
    "start_time": "2022-02-28T15:01:49.107Z"
   },
   {
    "duration": 19,
    "start_time": "2022-02-28T15:02:17.379Z"
   },
   {
    "duration": 223,
    "start_time": "2022-02-28T15:02:40.500Z"
   },
   {
    "duration": 207,
    "start_time": "2022-02-28T15:02:59.325Z"
   },
   {
    "duration": 20,
    "start_time": "2022-02-28T15:03:08.195Z"
   },
   {
    "duration": 20,
    "start_time": "2022-02-28T15:04:02.568Z"
   },
   {
    "duration": 7,
    "start_time": "2022-02-28T15:06:27.777Z"
   },
   {
    "duration": 974,
    "start_time": "2022-02-28T15:06:37.172Z"
   },
   {
    "duration": 32795,
    "start_time": "2022-02-28T15:07:19.701Z"
   },
   {
    "duration": 8,
    "start_time": "2022-02-28T15:07:55.036Z"
   },
   {
    "duration": 7267,
    "start_time": "2022-02-28T15:07:55.747Z"
   },
   {
    "duration": 38,
    "start_time": "2022-02-28T15:11:53.011Z"
   },
   {
    "duration": 1156,
    "start_time": "2022-02-28T15:12:05.616Z"
   },
   {
    "duration": 6,
    "start_time": "2022-02-28T15:12:06.775Z"
   },
   {
    "duration": 232,
    "start_time": "2022-02-28T15:12:06.783Z"
   },
   {
    "duration": 4,
    "start_time": "2022-02-28T15:12:07.016Z"
   },
   {
    "duration": 838,
    "start_time": "2022-02-28T15:12:07.022Z"
   },
   {
    "duration": 437,
    "start_time": "2022-02-28T15:12:07.862Z"
   },
   {
    "duration": 542,
    "start_time": "2022-02-28T15:12:08.300Z"
   },
   {
    "duration": 158,
    "start_time": "2022-02-28T15:12:08.844Z"
   },
   {
    "duration": 8,
    "start_time": "2022-02-28T15:12:09.004Z"
   },
   {
    "duration": 391,
    "start_time": "2022-02-28T15:12:09.014Z"
   },
   {
    "duration": 8,
    "start_time": "2022-02-28T15:12:09.407Z"
   },
   {
    "duration": 25,
    "start_time": "2022-02-28T15:12:09.417Z"
   },
   {
    "duration": 26,
    "start_time": "2022-02-28T15:12:09.444Z"
   },
   {
    "duration": 778,
    "start_time": "2022-02-28T15:12:09.472Z"
   },
   {
    "duration": 26,
    "start_time": "2022-02-28T15:12:10.251Z"
   },
   {
    "duration": 11,
    "start_time": "2022-02-28T15:12:10.279Z"
   },
   {
    "duration": 25,
    "start_time": "2022-02-28T15:12:10.291Z"
   },
   {
    "duration": 64,
    "start_time": "2022-02-28T15:12:10.319Z"
   },
   {
    "duration": 5,
    "start_time": "2022-02-28T15:12:10.384Z"
   },
   {
    "duration": 29,
    "start_time": "2022-02-28T15:12:10.391Z"
   },
   {
    "duration": 33,
    "start_time": "2022-02-28T15:12:10.422Z"
   },
   {
    "duration": 262,
    "start_time": "2022-02-28T15:12:10.457Z"
   },
   {
    "duration": 9,
    "start_time": "2022-02-28T15:12:10.723Z"
   },
   {
    "duration": 24,
    "start_time": "2022-02-28T15:12:10.735Z"
   },
   {
    "duration": 43,
    "start_time": "2022-02-28T15:12:10.761Z"
   },
   {
    "duration": 18,
    "start_time": "2022-02-28T15:12:10.805Z"
   },
   {
    "duration": 74,
    "start_time": "2022-02-28T15:12:10.824Z"
   },
   {
    "duration": 282,
    "start_time": "2022-02-28T15:12:10.899Z"
   },
   {
    "duration": 9,
    "start_time": "2022-02-28T15:12:11.183Z"
   },
   {
    "duration": 14,
    "start_time": "2022-02-28T15:12:11.193Z"
   },
   {
    "duration": 29,
    "start_time": "2022-02-28T15:12:11.209Z"
   },
   {
    "duration": 111,
    "start_time": "2022-02-28T15:12:11.240Z"
   },
   {
    "duration": 319,
    "start_time": "2022-02-28T15:12:11.352Z"
   },
   {
    "duration": 25,
    "start_time": "2022-02-28T15:12:11.673Z"
   },
   {
    "duration": 5,
    "start_time": "2022-02-28T15:12:11.699Z"
   },
   {
    "duration": 305,
    "start_time": "2022-02-28T15:12:11.705Z"
   },
   {
    "duration": -1473,
    "start_time": "2022-02-28T15:12:13.485Z"
   },
   {
    "duration": -1487,
    "start_time": "2022-02-28T15:12:13.500Z"
   },
   {
    "duration": -1500,
    "start_time": "2022-02-28T15:12:13.514Z"
   },
   {
    "duration": -1503,
    "start_time": "2022-02-28T15:12:13.518Z"
   },
   {
    "duration": -1519,
    "start_time": "2022-02-28T15:12:13.534Z"
   },
   {
    "duration": -1535,
    "start_time": "2022-02-28T15:12:13.551Z"
   },
   {
    "duration": -1548,
    "start_time": "2022-02-28T15:12:13.565Z"
   },
   {
    "duration": -1583,
    "start_time": "2022-02-28T15:12:13.602Z"
   },
   {
    "duration": -1597,
    "start_time": "2022-02-28T15:12:13.617Z"
   },
   {
    "duration": -1615,
    "start_time": "2022-02-28T15:12:13.636Z"
   },
   {
    "duration": -1627,
    "start_time": "2022-02-28T15:12:13.649Z"
   },
   {
    "duration": -1641,
    "start_time": "2022-02-28T15:12:13.664Z"
   },
   {
    "duration": -2145,
    "start_time": "2022-02-28T15:12:14.169Z"
   },
   {
    "duration": -2174,
    "start_time": "2022-02-28T15:12:14.198Z"
   },
   {
    "duration": -2190,
    "start_time": "2022-02-28T15:12:14.216Z"
   },
   {
    "duration": -2189,
    "start_time": "2022-02-28T15:12:14.216Z"
   },
   {
    "duration": -2207,
    "start_time": "2022-02-28T15:12:14.235Z"
   },
   {
    "duration": -2221,
    "start_time": "2022-02-28T15:12:14.250Z"
   },
   {
    "duration": -2235,
    "start_time": "2022-02-28T15:12:14.265Z"
   },
   {
    "duration": -2237,
    "start_time": "2022-02-28T15:12:14.268Z"
   },
   {
    "duration": -2253,
    "start_time": "2022-02-28T15:12:14.285Z"
   },
   {
    "duration": -2283,
    "start_time": "2022-02-28T15:12:14.316Z"
   },
   {
    "duration": -2300,
    "start_time": "2022-02-28T15:12:14.334Z"
   },
   {
    "duration": -2300,
    "start_time": "2022-02-28T15:12:14.335Z"
   },
   {
    "duration": -2315,
    "start_time": "2022-02-28T15:12:14.351Z"
   },
   {
    "duration": -2330,
    "start_time": "2022-02-28T15:12:14.367Z"
   },
   {
    "duration": -2347,
    "start_time": "2022-02-28T15:12:14.385Z"
   },
   {
    "duration": -2362,
    "start_time": "2022-02-28T15:12:14.401Z"
   },
   {
    "duration": -2392,
    "start_time": "2022-02-28T15:12:14.432Z"
   },
   {
    "duration": -2407,
    "start_time": "2022-02-28T15:12:14.448Z"
   },
   {
    "duration": -2406,
    "start_time": "2022-02-28T15:12:14.448Z"
   },
   {
    "duration": -2421,
    "start_time": "2022-02-28T15:12:14.464Z"
   },
   {
    "duration": -2440,
    "start_time": "2022-02-28T15:12:14.484Z"
   },
   {
    "duration": -2455,
    "start_time": "2022-02-28T15:12:14.500Z"
   },
   {
    "duration": -2454,
    "start_time": "2022-02-28T15:12:14.500Z"
   },
   {
    "duration": -2473,
    "start_time": "2022-02-28T15:12:14.520Z"
   },
   {
    "duration": -2501,
    "start_time": "2022-02-28T15:12:14.549Z"
   },
   {
    "duration": -2507,
    "start_time": "2022-02-28T15:12:14.566Z"
   },
   {
    "duration": -2506,
    "start_time": "2022-02-28T15:12:14.566Z"
   },
   {
    "duration": -2523,
    "start_time": "2022-02-28T15:12:14.584Z"
   },
   {
    "duration": -2539,
    "start_time": "2022-02-28T15:12:14.601Z"
   },
   {
    "duration": -2552,
    "start_time": "2022-02-28T15:12:14.615Z"
   },
   {
    "duration": -2568,
    "start_time": "2022-02-28T15:12:14.632Z"
   },
   {
    "duration": 31,
    "start_time": "2022-02-28T15:12:48.796Z"
   },
   {
    "duration": 8,
    "start_time": "2022-02-28T15:12:51.496Z"
   },
   {
    "duration": 12,
    "start_time": "2022-02-28T15:12:51.915Z"
   },
   {
    "duration": 13,
    "start_time": "2022-02-28T15:12:52.305Z"
   },
   {
    "duration": 8,
    "start_time": "2022-02-28T15:12:52.726Z"
   },
   {
    "duration": 32,
    "start_time": "2022-02-28T15:12:53.872Z"
   },
   {
    "duration": 13,
    "start_time": "2022-02-28T15:12:54.693Z"
   },
   {
    "duration": 17,
    "start_time": "2022-02-28T15:12:56.356Z"
   },
   {
    "duration": 7,
    "start_time": "2022-02-28T15:12:57.016Z"
   },
   {
    "duration": 8,
    "start_time": "2022-02-28T15:12:57.366Z"
   },
   {
    "duration": 5,
    "start_time": "2022-02-28T15:12:58.216Z"
   },
   {
    "duration": 15,
    "start_time": "2022-02-28T15:12:58.713Z"
   },
   {
    "duration": 17,
    "start_time": "2022-02-28T15:12:58.985Z"
   },
   {
    "duration": 5,
    "start_time": "2022-02-28T15:12:59.866Z"
   },
   {
    "duration": 484,
    "start_time": "2022-02-28T15:13:00.436Z"
   },
   {
    "duration": 4,
    "start_time": "2022-02-28T15:13:01.416Z"
   },
   {
    "duration": 4,
    "start_time": "2022-02-28T15:13:01.805Z"
   },
   {
    "duration": 8,
    "start_time": "2022-02-28T15:13:02.956Z"
   },
   {
    "duration": 4,
    "start_time": "2022-02-28T15:13:03.526Z"
   },
   {
    "duration": 13,
    "start_time": "2022-02-28T15:13:04.055Z"
   },
   {
    "duration": 1044,
    "start_time": "2022-02-28T15:13:04.715Z"
   },
   {
    "duration": 343,
    "start_time": "2022-02-28T15:13:05.760Z"
   },
   {
    "duration": 7,
    "start_time": "2022-02-28T15:13:06.105Z"
   },
   {
    "duration": 6,
    "start_time": "2022-02-28T15:13:06.114Z"
   },
   {
    "duration": 7,
    "start_time": "2022-02-28T15:13:06.122Z"
   },
   {
    "duration": 8,
    "start_time": "2022-02-28T15:13:06.415Z"
   },
   {
    "duration": 7,
    "start_time": "2022-02-28T15:13:06.946Z"
   },
   {
    "duration": 5,
    "start_time": "2022-02-28T15:13:07.476Z"
   },
   {
    "duration": 15,
    "start_time": "2022-02-28T15:13:07.686Z"
   },
   {
    "duration": 1012,
    "start_time": "2022-02-28T15:13:08.035Z"
   },
   {
    "duration": 355,
    "start_time": "2022-02-28T15:13:09.050Z"
   },
   {
    "duration": 8,
    "start_time": "2022-02-28T15:13:09.408Z"
   },
   {
    "duration": 7,
    "start_time": "2022-02-28T15:13:09.418Z"
   },
   {
    "duration": 17,
    "start_time": "2022-02-28T15:13:09.445Z"
   },
   {
    "duration": 7,
    "start_time": "2022-02-28T15:13:09.805Z"
   },
   {
    "duration": 7,
    "start_time": "2022-02-28T15:13:10.356Z"
   },
   {
    "duration": 6,
    "start_time": "2022-02-28T15:13:10.926Z"
   },
   {
    "duration": 4,
    "start_time": "2022-02-28T15:13:11.096Z"
   },
   {
    "duration": 426,
    "start_time": "2022-02-28T15:13:11.326Z"
   },
   {
    "duration": 12,
    "start_time": "2022-02-28T15:13:11.754Z"
   },
   {
    "duration": 7,
    "start_time": "2022-02-28T15:13:11.936Z"
   },
   {
    "duration": 6,
    "start_time": "2022-02-28T15:13:13.176Z"
   },
   {
    "duration": 4,
    "start_time": "2022-02-28T15:13:13.592Z"
   },
   {
    "duration": 14,
    "start_time": "2022-02-28T15:13:14.016Z"
   },
   {
    "duration": 1227,
    "start_time": "2022-02-28T15:13:27.390Z"
   },
   {
    "duration": 6,
    "start_time": "2022-02-28T15:13:28.619Z"
   },
   {
    "duration": 253,
    "start_time": "2022-02-28T15:13:28.627Z"
   },
   {
    "duration": 4,
    "start_time": "2022-02-28T15:13:28.882Z"
   },
   {
    "duration": 842,
    "start_time": "2022-02-28T15:13:28.888Z"
   },
   {
    "duration": 466,
    "start_time": "2022-02-28T15:13:29.732Z"
   },
   {
    "duration": 545,
    "start_time": "2022-02-28T15:13:30.200Z"
   },
   {
    "duration": 139,
    "start_time": "2022-02-28T15:13:30.748Z"
   },
   {
    "duration": 8,
    "start_time": "2022-02-28T15:13:30.890Z"
   },
   {
    "duration": 375,
    "start_time": "2022-02-28T15:13:30.900Z"
   },
   {
    "duration": 9,
    "start_time": "2022-02-28T15:13:31.276Z"
   },
   {
    "duration": 5,
    "start_time": "2022-02-28T15:13:31.287Z"
   },
   {
    "duration": 17,
    "start_time": "2022-02-28T15:13:31.294Z"
   },
   {
    "duration": 810,
    "start_time": "2022-02-28T15:13:31.313Z"
   },
   {
    "duration": 21,
    "start_time": "2022-02-28T15:13:32.125Z"
   },
   {
    "duration": 10,
    "start_time": "2022-02-28T15:13:32.159Z"
   },
   {
    "duration": 6,
    "start_time": "2022-02-28T15:13:32.171Z"
   },
   {
    "duration": 49,
    "start_time": "2022-02-28T15:13:32.179Z"
   },
   {
    "duration": 5,
    "start_time": "2022-02-28T15:13:32.229Z"
   },
   {
    "duration": 6,
    "start_time": "2022-02-28T15:13:32.260Z"
   },
   {
    "duration": 7,
    "start_time": "2022-02-28T15:13:32.268Z"
   },
   {
    "duration": 275,
    "start_time": "2022-02-28T15:13:32.277Z"
   },
   {
    "duration": 10,
    "start_time": "2022-02-28T15:13:32.560Z"
   },
   {
    "duration": 25,
    "start_time": "2022-02-28T15:13:32.573Z"
   },
   {
    "duration": 41,
    "start_time": "2022-02-28T15:13:32.600Z"
   },
   {
    "duration": 32,
    "start_time": "2022-02-28T15:13:32.643Z"
   },
   {
    "duration": 52,
    "start_time": "2022-02-28T15:13:32.677Z"
   },
   {
    "duration": 296,
    "start_time": "2022-02-28T15:13:32.731Z"
   },
   {
    "duration": 8,
    "start_time": "2022-02-28T15:13:33.029Z"
   },
   {
    "duration": 22,
    "start_time": "2022-02-28T15:13:33.038Z"
   },
   {
    "duration": 29,
    "start_time": "2022-02-28T15:13:33.061Z"
   },
   {
    "duration": 97,
    "start_time": "2022-02-28T15:13:33.092Z"
   },
   {
    "duration": 331,
    "start_time": "2022-02-28T15:13:33.191Z"
   },
   {
    "duration": 39,
    "start_time": "2022-02-28T15:13:33.525Z"
   },
   {
    "duration": 5,
    "start_time": "2022-02-28T15:13:33.566Z"
   },
   {
    "duration": 35,
    "start_time": "2022-02-28T15:13:33.574Z"
   },
   {
    "duration": 6,
    "start_time": "2022-02-28T15:13:33.611Z"
   },
   {
    "duration": 47,
    "start_time": "2022-02-28T15:13:33.619Z"
   },
   {
    "duration": 13,
    "start_time": "2022-02-28T15:13:33.668Z"
   },
   {
    "duration": 8,
    "start_time": "2022-02-28T15:13:33.683Z"
   },
   {
    "duration": 34,
    "start_time": "2022-02-28T15:13:33.693Z"
   },
   {
    "duration": 38,
    "start_time": "2022-02-28T15:13:33.729Z"
   },
   {
    "duration": 16,
    "start_time": "2022-02-28T15:13:33.770Z"
   },
   {
    "duration": 6,
    "start_time": "2022-02-28T15:13:33.788Z"
   },
   {
    "duration": 13,
    "start_time": "2022-02-28T15:13:33.795Z"
   },
   {
    "duration": 7,
    "start_time": "2022-02-28T15:13:33.809Z"
   },
   {
    "duration": 48,
    "start_time": "2022-02-28T15:13:33.818Z"
   },
   {
    "duration": 22,
    "start_time": "2022-02-28T15:13:33.868Z"
   },
   {
    "duration": 6,
    "start_time": "2022-02-28T15:13:33.892Z"
   },
   {
    "duration": 524,
    "start_time": "2022-02-28T15:13:33.899Z"
   },
   {
    "duration": 4,
    "start_time": "2022-02-28T15:13:34.425Z"
   },
   {
    "duration": 5,
    "start_time": "2022-02-28T15:13:34.431Z"
   },
   {
    "duration": 22,
    "start_time": "2022-02-28T15:13:34.437Z"
   },
   {
    "duration": 4,
    "start_time": "2022-02-28T15:13:34.461Z"
   },
   {
    "duration": 13,
    "start_time": "2022-02-28T15:13:34.466Z"
   },
   {
    "duration": 1046,
    "start_time": "2022-02-28T15:13:34.480Z"
   },
   {
    "duration": 339,
    "start_time": "2022-02-28T15:13:35.528Z"
   },
   {
    "duration": 7,
    "start_time": "2022-02-28T15:13:35.868Z"
   },
   {
    "duration": 6,
    "start_time": "2022-02-28T15:13:35.877Z"
   },
   {
    "duration": 6,
    "start_time": "2022-02-28T15:13:35.885Z"
   },
   {
    "duration": 9,
    "start_time": "2022-02-28T15:13:35.892Z"
   },
   {
    "duration": 6,
    "start_time": "2022-02-28T15:13:35.903Z"
   },
   {
    "duration": 5,
    "start_time": "2022-02-28T15:13:35.911Z"
   },
   {
    "duration": 13,
    "start_time": "2022-02-28T15:13:35.959Z"
   },
   {
    "duration": 1014,
    "start_time": "2022-02-28T15:13:35.974Z"
   },
   {
    "duration": 363,
    "start_time": "2022-02-28T15:13:36.990Z"
   },
   {
    "duration": 6,
    "start_time": "2022-02-28T15:13:37.359Z"
   },
   {
    "duration": 7,
    "start_time": "2022-02-28T15:13:37.370Z"
   },
   {
    "duration": 7,
    "start_time": "2022-02-28T15:13:37.378Z"
   },
   {
    "duration": 6,
    "start_time": "2022-02-28T15:13:37.387Z"
   },
   {
    "duration": 9,
    "start_time": "2022-02-28T15:13:37.394Z"
   },
   {
    "duration": 7,
    "start_time": "2022-02-28T15:13:37.405Z"
   },
   {
    "duration": 7,
    "start_time": "2022-02-28T15:13:37.413Z"
   },
   {
    "duration": 454,
    "start_time": "2022-02-28T15:13:37.460Z"
   },
   {
    "duration": 7,
    "start_time": "2022-02-28T15:13:37.916Z"
   },
   {
    "duration": 7,
    "start_time": "2022-02-28T15:13:37.925Z"
   },
   {
    "duration": 6,
    "start_time": "2022-02-28T15:13:37.933Z"
   },
   {
    "duration": 3,
    "start_time": "2022-02-28T15:13:37.960Z"
   },
   {
    "duration": 15,
    "start_time": "2022-02-28T15:13:37.965Z"
   },
   {
    "duration": 185,
    "start_time": "2022-02-28T15:29:09.278Z"
   },
   {
    "duration": 474,
    "start_time": "2022-02-28T15:29:51.429Z"
   },
   {
    "duration": 206,
    "start_time": "2022-02-28T15:30:06.909Z"
   },
   {
    "duration": 207,
    "start_time": "2022-02-28T15:30:31.679Z"
   },
   {
    "duration": 1208,
    "start_time": "2022-02-28T15:35:45.225Z"
   },
   {
    "duration": 5,
    "start_time": "2022-02-28T15:35:46.435Z"
   },
   {
    "duration": 199,
    "start_time": "2022-02-28T15:35:46.442Z"
   },
   {
    "duration": 4,
    "start_time": "2022-02-28T15:35:46.643Z"
   },
   {
    "duration": 832,
    "start_time": "2022-02-28T15:35:46.649Z"
   },
   {
    "duration": 446,
    "start_time": "2022-02-28T15:35:47.483Z"
   },
   {
    "duration": 566,
    "start_time": "2022-02-28T15:35:47.931Z"
   },
   {
    "duration": 143,
    "start_time": "2022-02-28T15:35:48.500Z"
   },
   {
    "duration": 7,
    "start_time": "2022-02-28T15:35:48.646Z"
   },
   {
    "duration": 356,
    "start_time": "2022-02-28T15:35:48.655Z"
   },
   {
    "duration": 11,
    "start_time": "2022-02-28T15:35:49.013Z"
   },
   {
    "duration": 6,
    "start_time": "2022-02-28T15:35:49.026Z"
   },
   {
    "duration": 39,
    "start_time": "2022-02-28T15:35:49.034Z"
   },
   {
    "duration": 777,
    "start_time": "2022-02-28T15:35:49.075Z"
   },
   {
    "duration": 25,
    "start_time": "2022-02-28T15:35:49.853Z"
   },
   {
    "duration": 10,
    "start_time": "2022-02-28T15:35:49.880Z"
   },
   {
    "duration": 8,
    "start_time": "2022-02-28T15:35:49.892Z"
   },
   {
    "duration": 66,
    "start_time": "2022-02-28T15:35:49.901Z"
   },
   {
    "duration": 5,
    "start_time": "2022-02-28T15:35:49.969Z"
   },
   {
    "duration": 7,
    "start_time": "2022-02-28T15:35:49.977Z"
   },
   {
    "duration": 8,
    "start_time": "2022-02-28T15:35:49.987Z"
   },
   {
    "duration": 302,
    "start_time": "2022-02-28T15:35:49.997Z"
   },
   {
    "duration": 10,
    "start_time": "2022-02-28T15:35:50.304Z"
   },
   {
    "duration": 15,
    "start_time": "2022-02-28T15:35:50.316Z"
   },
   {
    "duration": 63,
    "start_time": "2022-02-28T15:35:50.333Z"
   },
   {
    "duration": 18,
    "start_time": "2022-02-28T15:35:50.397Z"
   },
   {
    "duration": 69,
    "start_time": "2022-02-28T15:35:50.417Z"
   },
   {
    "duration": 289,
    "start_time": "2022-02-28T15:35:50.488Z"
   },
   {
    "duration": 8,
    "start_time": "2022-02-28T15:35:50.778Z"
   },
   {
    "duration": 9,
    "start_time": "2022-02-28T15:35:50.788Z"
   },
   {
    "duration": 13,
    "start_time": "2022-02-28T15:35:50.799Z"
   },
   {
    "duration": 124,
    "start_time": "2022-02-28T15:35:50.814Z"
   },
   {
    "duration": 321,
    "start_time": "2022-02-28T15:35:50.940Z"
   },
   {
    "duration": 25,
    "start_time": "2022-02-28T15:35:51.263Z"
   },
   {
    "duration": 4,
    "start_time": "2022-02-28T15:35:51.290Z"
   },
   {
    "duration": 36,
    "start_time": "2022-02-28T15:35:51.296Z"
   },
   {
    "duration": 6,
    "start_time": "2022-02-28T15:35:51.359Z"
   },
   {
    "duration": 13,
    "start_time": "2022-02-28T15:35:51.367Z"
   },
   {
    "duration": 12,
    "start_time": "2022-02-28T15:35:51.382Z"
   },
   {
    "duration": 8,
    "start_time": "2022-02-28T15:35:51.395Z"
   },
   {
    "duration": 66,
    "start_time": "2022-02-28T15:35:51.404Z"
   },
   {
    "duration": 11,
    "start_time": "2022-02-28T15:35:51.471Z"
   },
   {
    "duration": 15,
    "start_time": "2022-02-28T15:35:51.484Z"
   },
   {
    "duration": 6,
    "start_time": "2022-02-28T15:35:51.501Z"
   },
   {
    "duration": 7,
    "start_time": "2022-02-28T15:35:51.509Z"
   },
   {
    "duration": 4,
    "start_time": "2022-02-28T15:35:51.518Z"
   },
   {
    "duration": 16,
    "start_time": "2022-02-28T15:35:51.559Z"
   },
   {
    "duration": 16,
    "start_time": "2022-02-28T15:35:51.577Z"
   },
   {
    "duration": 5,
    "start_time": "2022-02-28T15:35:51.595Z"
   },
   {
    "duration": 529,
    "start_time": "2022-02-28T15:35:51.602Z"
   },
   {
    "duration": 4,
    "start_time": "2022-02-28T15:35:52.133Z"
   },
   {
    "duration": 6,
    "start_time": "2022-02-28T15:35:52.139Z"
   },
   {
    "duration": 15,
    "start_time": "2022-02-28T15:35:52.147Z"
   },
   {
    "duration": 4,
    "start_time": "2022-02-28T15:35:52.164Z"
   },
   {
    "duration": 11,
    "start_time": "2022-02-28T15:35:52.170Z"
   },
   {
    "duration": 1084,
    "start_time": "2022-02-28T15:35:52.183Z"
   },
   {
    "duration": 342,
    "start_time": "2022-02-28T15:35:53.268Z"
   },
   {
    "duration": 8,
    "start_time": "2022-02-28T15:35:53.611Z"
   },
   {
    "duration": 6,
    "start_time": "2022-02-28T15:35:53.621Z"
   },
   {
    "duration": 6,
    "start_time": "2022-02-28T15:35:53.629Z"
   },
   {
    "duration": 7,
    "start_time": "2022-02-28T15:35:53.660Z"
   },
   {
    "duration": 8,
    "start_time": "2022-02-28T15:35:53.668Z"
   },
   {
    "duration": 7,
    "start_time": "2022-02-28T15:35:53.678Z"
   },
   {
    "duration": 14,
    "start_time": "2022-02-28T15:35:53.687Z"
   },
   {
    "duration": 1025,
    "start_time": "2022-02-28T15:35:53.703Z"
   },
   {
    "duration": 372,
    "start_time": "2022-02-28T15:35:54.730Z"
   },
   {
    "duration": 6,
    "start_time": "2022-02-28T15:35:55.103Z"
   },
   {
    "duration": 6,
    "start_time": "2022-02-28T15:35:55.115Z"
   },
   {
    "duration": 6,
    "start_time": "2022-02-28T15:35:55.123Z"
   },
   {
    "duration": 31,
    "start_time": "2022-02-28T15:35:55.131Z"
   },
   {
    "duration": 12,
    "start_time": "2022-02-28T15:35:55.164Z"
   },
   {
    "duration": 12,
    "start_time": "2022-02-28T15:35:55.177Z"
   },
   {
    "duration": 6,
    "start_time": "2022-02-28T15:35:55.190Z"
   },
   {
    "duration": 463,
    "start_time": "2022-02-28T15:35:55.198Z"
   },
   {
    "duration": 8,
    "start_time": "2022-02-28T15:35:55.662Z"
   },
   {
    "duration": 17,
    "start_time": "2022-02-28T15:35:55.672Z"
   },
   {
    "duration": 6,
    "start_time": "2022-02-28T15:35:55.691Z"
   },
   {
    "duration": 17,
    "start_time": "2022-02-28T15:35:55.699Z"
   },
   {
    "duration": 16,
    "start_time": "2022-02-28T15:35:55.718Z"
   }
  ],
  "hide_input": false,
  "kernelspec": {
   "display_name": "Python 3 (ipykernel)",
   "language": "python",
   "name": "python3"
  },
  "language_info": {
   "codemirror_mode": {
    "name": "ipython",
    "version": 3
   },
   "file_extension": ".py",
   "mimetype": "text/x-python",
   "name": "python",
   "nbconvert_exporter": "python",
   "pygments_lexer": "ipython3",
   "version": "3.10.2"
  },
  "toc": {
   "base_numbering": 1,
   "nav_menu": {},
   "number_sections": false,
   "sideBar": true,
   "skip_h1_title": false,
   "title_cell": "Содержание",
   "title_sidebar": "Contents",
   "toc_cell": true,
   "toc_position": {
    "height": "calc(100% - 180px)",
    "left": "10px",
    "top": "150px",
    "width": "303.825px"
   },
   "toc_section_display": true,
   "toc_window_display": true
  }
 },
 "nbformat": 4,
 "nbformat_minor": 5
}
